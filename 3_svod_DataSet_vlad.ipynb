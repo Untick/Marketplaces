{
  "nbformat": 4,
  "nbformat_minor": 0,
  "metadata": {
    "colab": {
      "provenance": [],
      "authorship_tag": "ABX9TyPTkbLmlOx21vjmqO8Y8VzV",
      "include_colab_link": true
    },
    "kernelspec": {
      "name": "python3",
      "display_name": "Python 3"
    },
    "language_info": {
      "name": "python"
    }
  },
  "cells": [
    {
      "cell_type": "markdown",
      "metadata": {
        "id": "view-in-github",
        "colab_type": "text"
      },
      "source": [
        "<a href=\"https://colab.research.google.com/github/Untick/Marketplaces/blob/Kosmylev-Vladislav-branch/3_svod_DataSet_vlad.ipynb\" target=\"_parent\"><img src=\"https://colab.research.google.com/assets/colab-badge.svg\" alt=\"Open In Colab\"/></a>"
      ]
    },
    {
      "cell_type": "markdown",
      "source": [
        "# Подготовка"
      ],
      "metadata": {
        "id": "iiXhwaY3Uu1m"
      }
    },
    {
      "cell_type": "markdown",
      "source": [
        "#### Загрузка исходников"
      ],
      "metadata": {
        "id": "ChtOcyrAFcRA"
      }
    },
    {
      "cell_type": "markdown",
      "source": [
        "**Загрузка библиотек:**\n",
        "\n",
        "https://drive.google.com/file/d/1-_LKbDsiq0dDbks7_JnBJVV7v2iWjSkd/view?usp=sharing\n",
        "\n",
        "https://drive.google.com/file/d/1CzIZl5hxOpNsEiWkcJgjXRsAVJz4RbsX/view?usp=sharing  target_tab.zip"
      ],
      "metadata": {
        "id": "PnRzpv-VU2m1"
      }
    },
    {
      "cell_type": "code",
      "execution_count": 2,
      "metadata": {
        "id": "2vvoLdJNASRC"
      },
      "outputs": [],
      "source": [
        "import numpy as np                        # Импорт библиотеки numpy\n",
        "import pandas as pd                       # для анализа табличных массивов данных\n",
        "from pandas.core.groupby import NamedAgg\n",
        "import gdown, os, re, random                  # Стандартные библиотеки"
      ]
    },
    {
      "cell_type": "code",
      "source": [
        "!gdown --id '1-_LKbDsiq0dDbks7_JnBJVV7v2iWjSkd'\n",
        "#!gdown --id '1CzIZl5hxOpNsEiWkcJgjXRsAVJz4RbsX'\n",
        "!rm -r sample_data\n",
        "#!rm base_for_analiz.zip"
      ],
      "metadata": {
        "id": "3tPYNJjXVAIg",
        "colab": {
          "base_uri": "https://localhost:8080/"
        },
        "outputId": "21d0ae9c-f276-4ff5-c03d-4e92965595aa"
      },
      "execution_count": 3,
      "outputs": [
        {
          "output_type": "stream",
          "name": "stdout",
          "text": [
            "/usr/local/lib/python3.10/dist-packages/gdown/cli.py:121: FutureWarning: Option `--id` was deprecated in version 4.3.1 and will be removed in 5.0. You don't need to pass it anymore to use a file ID.\n",
            "  warnings.warn(\n",
            "Downloading...\n",
            "From: https://drive.google.com/uc?id=1-_LKbDsiq0dDbks7_JnBJVV7v2iWjSkd\n",
            "To: /content/base_for_analiz.zip\n",
            "100% 88.5M/88.5M [00:00<00:00, 93.8MB/s]\n"
          ]
        }
      ]
    },
    {
      "cell_type": "code",
      "source": [
        "!unzip -o /content/base_for_analiz.zip\n",
        "# !unzip -o /content/target_tab.zip\n",
        "# !rm target_tab.zip\n",
        "!rm base_for_analiz.zip"
      ],
      "metadata": {
        "id": "7FThkShsVAFy"
      },
      "execution_count": null,
      "outputs": []
    },
    {
      "cell_type": "markdown",
      "source": [
        "#### Формируем ДатаФреймы"
      ],
      "metadata": {
        "id": "GzwdBs06FlBR"
      }
    },
    {
      "cell_type": "code",
      "source": [
        "def travel_dir(folder_path, subdir=True):\n",
        "    file_dict = {}\n",
        "    for root, dirs, files in os.walk(folder_path):\n",
        "        for file in files:\n",
        "            file_path = os.path.join(root, file)\n",
        "            file_name = os.path.splitext(file)[0]\n",
        "            file_dict[file_name] = file_path\n",
        "        if not subdir:\n",
        "          return file_dict\n",
        "    return file_dict\n"
      ],
      "metadata": {
        "id": "xHH5ZqAfzaiA"
      },
      "execution_count": 46,
      "outputs": []
    },
    {
      "cell_type": "markdown",
      "source": [
        "##### Пути по сегментам"
      ],
      "metadata": {
        "id": "HBj_oxOM9281"
      }
    },
    {
      "cell_type": "code",
      "source": [
        "fdir = '/content/base_for_analiz/Ozon/Товары по категориям'\n",
        "cat_paths = travel_dir(fdir)\n",
        "\n",
        "fdir = '/content/base_for_analiz/Ozon/Performance/Трафареты'\n",
        "traf_paths = travel_dir(fdir)\n",
        "\n",
        "fdir = '/content/base_for_analiz/Ozon/Performance/ПВП'\n",
        "pvp_paths = travel_dir(fdir)\n",
        "\n",
        "fdir = '/content/base_for_analiz/Ozon'\n",
        "ozon_paths = travel_dir(fdir, False)\n",
        "\n",
        "fdir = '/content/base_for_analiz/MPSTATS/Категория/MPSTATS Категория по дням'\n",
        "mpcat_day_paths = travel_dir(fdir)\n",
        "\n",
        "fdir = '/content/base_for_analiz/MPSTATS/Категория/MPSTATS по категории (по всем продавцам)'\n",
        "mpcat_sel_paths = travel_dir(fdir)\n",
        "\n",
        "fdir = '/content/base_for_analiz/MPSTATS/Магазин/MPSTATS 01062022-31052023 Выручка по дням'\n",
        "mpmag_gros_paths = travel_dir(fdir)\n",
        "\n",
        "fdir = '/content/base_for_analiz/MPSTATS/Магазин/MPSTATS 01062022-31052023 Товары'\n",
        "mpmag_tov_paths = travel_dir(fdir)\n"
      ],
      "metadata": {
        "id": "jLu-UhK-0PtH"
      },
      "execution_count": null,
      "outputs": []
    },
    {
      "cell_type": "markdown",
      "source": [
        "##### Загрузка исходников в ДатаФреймы"
      ],
      "metadata": {
        "id": "yNCcY3kX-SHb"
      }
    },
    {
      "cell_type": "code",
      "source": [
        "all_df = {}"
      ],
      "metadata": {
        "id": "RHlEKVgODHgC"
      },
      "execution_count": null,
      "outputs": []
    },
    {
      "cell_type": "code",
      "source": [
        "# Нормализуем заголовки столбцов\n",
        "remove_list = [\"(при наличии)\",                 # список кусков текста для удаления из названий столбцов\n",
        "               \"(кроме Твери)\",\n",
        "               \"руб.\",\n",
        "               \"(перечеркнутая цена)\",\n",
        "               \",\",\n",
        "               \"%\",\n",
        "               \"с учетом скидки\",\n",
        "               \"на рыночную цену\"]\n",
        "def clean_header(header):\n",
        "\n",
        "    cleaned_header = header\n",
        "    cleaned_header = cleaned_header.replace('-', \"_\")\n",
        "    cleaned_header = cleaned_header.replace('\" ', '\"')\n",
        "    cleaned_header = cleaned_header.replace(' \"', '\"')\n",
        "\n",
        "    for item in remove_list:\n",
        "        cleaned_header = cleaned_header.replace(item, \"\")\n",
        "\n",
        "    cleaned_header = cleaned_header.replace('  ', '')\n",
        "    cleaned_header = cleaned_header.replace('_\"', '\"')\n",
        "    cleaned_header = cleaned_header.strip()  # удаление ведущих и концевых пробелов\n",
        "    cleaned_header = cleaned_header.replace(\" \", \"_\")  # замена оставшихся пробелов символом \"_\"\n",
        "    cleaned_header = cleaned_header.replace('_\"', '\"')\n",
        "\n",
        "    list_heads = cleaned_header.replace(';', ',')\n",
        "    list_heads = list_heads.replace('\"', '')\n",
        "    list_heads = list_heads.replace('_\"', '\"')\n",
        "    # print(header, \" --->  \", list_heads)\n",
        "\n",
        "    return cleaned_header\n",
        "\n",
        "def clean_csv(file_path):\n",
        "    with open(file_path, 'r', newline='') as file:\n",
        "        lines = file.readlines()\n",
        "        cleaned_headers = clean_header(lines[0]);  # применяем функцию clean_header к каждому заголовку\n",
        "        lines[0] = cleaned_headers + '\\n'\n",
        "        print(cleaned_headers)\n",
        "\n",
        "    with open(file_path, 'w', newline='') as file:\n",
        "        file.writelines(lines)\n",
        "\n",
        "    return cleaned_headers\n"
      ],
      "metadata": {
        "id": "A0dP14kQXQZ1"
      },
      "execution_count": 13,
      "outputs": []
    },
    {
      "cell_type": "markdown",
      "source": [
        "###### Ozon"
      ],
      "metadata": {
        "id": "06MdRhWXFFTq"
      }
    },
    {
      "cell_type": "code",
      "source": [
        "os.getcwd()\n",
        "os.chdir('/content/base_for_analiz/Ozon/')"
      ],
      "metadata": {
        "colab": {
          "base_uri": "https://localhost:8080/",
          "height": 36
        },
        "id": "qclUBbXtDppL",
        "outputId": "4c7d4ccb-226d-420f-8c95-a4ad3b5e566b"
      },
      "execution_count": 60,
      "outputs": [
        {
          "output_type": "execute_result",
          "data": {
            "text/plain": [
              "'/content/base_for_analiz/Ozon'"
            ],
            "application/vnd.google.colaboratory.intrinsic+json": {
              "type": "string"
            }
          },
          "metadata": {},
          "execution_count": 60
        }
      ]
    },
    {
      "cell_type": "code",
      "source": [
        "columns = ['Артикул','Ozon_Product_ID','FBO_OZON_SKU_ID','FBS_OZON_SKU_ID','Контент_рейтинг','Текущая_цена']\n",
        "xls = 'База.csv'\n",
        "list_heads = clean_csv(xls)\n"
      ],
      "metadata": {
        "id": "UEQBs7qxU_5C",
        "colab": {
          "base_uri": "https://localhost:8080/"
        },
        "outputId": "9d5d5676-97ea-448d-b126-50e91a73a851"
      },
      "execution_count": 67,
      "outputs": [
        {
          "output_type": "stream",
          "name": "stdout",
          "text": [
            "﻿\"Артикул\";\"Ozon_Product_ID\";\"FBO_OZON_SKU_ID\";\"FBS_OZON_SKU_ID\";\"Barcode\";\"Наименование_товара\";\"Контент_рейтинг\";\"Бренд\";\"Статус_товара\";\"Видимость_FBO\";\"Причины_скрытия_FBO\";\"Видимость_FBS\";\"Причины_скрытия_FBS\";\"Дата_создания\";\"Коммерческая_категория\";\"Объем_товара_л\";\"Объемный_вес_кг\";\"Доступно_на_складе_Ozon_шт\";\"Вывезти_и_нанести_КИЗшт\";\"Зарезервировано_шт\";\"Доступно_на_моих_складах_шт\";\"Зарезервировано_на_моих_складах_шт\";\"Текущая_цена\";\"Цена_до_скидки\";\"Цена_Premium\";\"Рыночная_цена\";\"Актуальная_ссылка\";\"Размер_НДС\"\n"
          ]
        }
      ]
    },
    {
      "cell_type": "code",
      "source": [
        "df = pd.read_csv(xls, sep=';', encoding='utf-8', usecols=columns) #"
      ],
      "metadata": {
        "id": "F-y_ErMrFTAp"
      },
      "execution_count": 70,
      "outputs": []
    },
    {
      "cell_type": "code",
      "source": [
        "df.head(3)"
      ],
      "metadata": {
        "colab": {
          "base_uri": "https://localhost:8080/",
          "height": 143
        },
        "id": "mcKG1gcMD7Ar",
        "outputId": "5720b4d4-97ca-49bf-ab99-1c7bbaf0a4fe"
      },
      "execution_count": 73,
      "outputs": [
        {
          "output_type": "execute_result",
          "data": {
            "text/plain": [
              "  Артикул  Ozon_Product_ID  FBO_OZON_SKU_ID  FBS_OZON_SKU_ID Контент_рейтинг  \\\n",
              "0  '30273        105606938        298131117        298131122             '15   \n",
              "1  '30383        105742204        298264198        298264234           '37.5   \n",
              "2  '31284        112525698        303785665        303785701             '30   \n",
              "\n",
              "   Текущая_цена  \n",
              "0        1200.0  \n",
              "1        1990.0  \n",
              "2        7900.0  "
            ],
            "text/html": [
              "\n",
              "  <div id=\"df-b2faf5e2-32e2-4067-b55e-12707eaa2a6a\" class=\"colab-df-container\">\n",
              "    <div>\n",
              "<style scoped>\n",
              "    .dataframe tbody tr th:only-of-type {\n",
              "        vertical-align: middle;\n",
              "    }\n",
              "\n",
              "    .dataframe tbody tr th {\n",
              "        vertical-align: top;\n",
              "    }\n",
              "\n",
              "    .dataframe thead th {\n",
              "        text-align: right;\n",
              "    }\n",
              "</style>\n",
              "<table border=\"1\" class=\"dataframe\">\n",
              "  <thead>\n",
              "    <tr style=\"text-align: right;\">\n",
              "      <th></th>\n",
              "      <th>Артикул</th>\n",
              "      <th>Ozon_Product_ID</th>\n",
              "      <th>FBO_OZON_SKU_ID</th>\n",
              "      <th>FBS_OZON_SKU_ID</th>\n",
              "      <th>Контент_рейтинг</th>\n",
              "      <th>Текущая_цена</th>\n",
              "    </tr>\n",
              "  </thead>\n",
              "  <tbody>\n",
              "    <tr>\n",
              "      <th>0</th>\n",
              "      <td>'30273</td>\n",
              "      <td>105606938</td>\n",
              "      <td>298131117</td>\n",
              "      <td>298131122</td>\n",
              "      <td>'15</td>\n",
              "      <td>1200.0</td>\n",
              "    </tr>\n",
              "    <tr>\n",
              "      <th>1</th>\n",
              "      <td>'30383</td>\n",
              "      <td>105742204</td>\n",
              "      <td>298264198</td>\n",
              "      <td>298264234</td>\n",
              "      <td>'37.5</td>\n",
              "      <td>1990.0</td>\n",
              "    </tr>\n",
              "    <tr>\n",
              "      <th>2</th>\n",
              "      <td>'31284</td>\n",
              "      <td>112525698</td>\n",
              "      <td>303785665</td>\n",
              "      <td>303785701</td>\n",
              "      <td>'30</td>\n",
              "      <td>7900.0</td>\n",
              "    </tr>\n",
              "  </tbody>\n",
              "</table>\n",
              "</div>\n",
              "    <div class=\"colab-df-buttons\">\n",
              "\n",
              "  <div class=\"colab-df-container\">\n",
              "    <button class=\"colab-df-convert\" onclick=\"convertToInteractive('df-b2faf5e2-32e2-4067-b55e-12707eaa2a6a')\"\n",
              "            title=\"Convert this dataframe to an interactive table.\"\n",
              "            style=\"display:none;\">\n",
              "\n",
              "  <svg xmlns=\"http://www.w3.org/2000/svg\" height=\"24px\" viewBox=\"0 -960 960 960\">\n",
              "    <path d=\"M120-120v-720h720v720H120Zm60-500h600v-160H180v160Zm220 220h160v-160H400v160Zm0 220h160v-160H400v160ZM180-400h160v-160H180v160Zm440 0h160v-160H620v160ZM180-180h160v-160H180v160Zm440 0h160v-160H620v160Z\"/>\n",
              "  </svg>\n",
              "    </button>\n",
              "\n",
              "  <style>\n",
              "    .colab-df-container {\n",
              "      display:flex;\n",
              "      gap: 12px;\n",
              "    }\n",
              "\n",
              "    .colab-df-convert {\n",
              "      background-color: #E8F0FE;\n",
              "      border: none;\n",
              "      border-radius: 50%;\n",
              "      cursor: pointer;\n",
              "      display: none;\n",
              "      fill: #1967D2;\n",
              "      height: 32px;\n",
              "      padding: 0 0 0 0;\n",
              "      width: 32px;\n",
              "    }\n",
              "\n",
              "    .colab-df-convert:hover {\n",
              "      background-color: #E2EBFA;\n",
              "      box-shadow: 0px 1px 2px rgba(60, 64, 67, 0.3), 0px 1px 3px 1px rgba(60, 64, 67, 0.15);\n",
              "      fill: #174EA6;\n",
              "    }\n",
              "\n",
              "    .colab-df-buttons div {\n",
              "      margin-bottom: 4px;\n",
              "    }\n",
              "\n",
              "    [theme=dark] .colab-df-convert {\n",
              "      background-color: #3B4455;\n",
              "      fill: #D2E3FC;\n",
              "    }\n",
              "\n",
              "    [theme=dark] .colab-df-convert:hover {\n",
              "      background-color: #434B5C;\n",
              "      box-shadow: 0px 1px 3px 1px rgba(0, 0, 0, 0.15);\n",
              "      filter: drop-shadow(0px 1px 2px rgba(0, 0, 0, 0.3));\n",
              "      fill: #FFFFFF;\n",
              "    }\n",
              "  </style>\n",
              "\n",
              "    <script>\n",
              "      const buttonEl =\n",
              "        document.querySelector('#df-b2faf5e2-32e2-4067-b55e-12707eaa2a6a button.colab-df-convert');\n",
              "      buttonEl.style.display =\n",
              "        google.colab.kernel.accessAllowed ? 'block' : 'none';\n",
              "\n",
              "      async function convertToInteractive(key) {\n",
              "        const element = document.querySelector('#df-b2faf5e2-32e2-4067-b55e-12707eaa2a6a');\n",
              "        const dataTable =\n",
              "          await google.colab.kernel.invokeFunction('convertToInteractive',\n",
              "                                                    [key], {});\n",
              "        if (!dataTable) return;\n",
              "\n",
              "        const docLinkHtml = 'Like what you see? Visit the ' +\n",
              "          '<a target=\"_blank\" href=https://colab.research.google.com/notebooks/data_table.ipynb>data table notebook</a>'\n",
              "          + ' to learn more about interactive tables.';\n",
              "        element.innerHTML = '';\n",
              "        dataTable['output_type'] = 'display_data';\n",
              "        await google.colab.output.renderOutput(dataTable, element);\n",
              "        const docLink = document.createElement('div');\n",
              "        docLink.innerHTML = docLinkHtml;\n",
              "        element.appendChild(docLink);\n",
              "      }\n",
              "    </script>\n",
              "  </div>\n",
              "\n",
              "\n",
              "<div id=\"df-37f9d656-36f8-4e04-8489-dbd106cbd413\">\n",
              "  <button class=\"colab-df-quickchart\" onclick=\"quickchart('df-37f9d656-36f8-4e04-8489-dbd106cbd413')\"\n",
              "            title=\"Suggest charts.\"\n",
              "            style=\"display:none;\">\n",
              "\n",
              "<svg xmlns=\"http://www.w3.org/2000/svg\" height=\"24px\"viewBox=\"0 0 24 24\"\n",
              "     width=\"24px\">\n",
              "    <g>\n",
              "        <path d=\"M19 3H5c-1.1 0-2 .9-2 2v14c0 1.1.9 2 2 2h14c1.1 0 2-.9 2-2V5c0-1.1-.9-2-2-2zM9 17H7v-7h2v7zm4 0h-2V7h2v10zm4 0h-2v-4h2v4z\"/>\n",
              "    </g>\n",
              "</svg>\n",
              "  </button>\n",
              "\n",
              "<style>\n",
              "  .colab-df-quickchart {\n",
              "    background-color: #E8F0FE;\n",
              "    border: none;\n",
              "    border-radius: 50%;\n",
              "    cursor: pointer;\n",
              "    display: none;\n",
              "    fill: #1967D2;\n",
              "    height: 32px;\n",
              "    padding: 0 0 0 0;\n",
              "    width: 32px;\n",
              "  }\n",
              "\n",
              "  .colab-df-quickchart:hover {\n",
              "    background-color: #E2EBFA;\n",
              "    box-shadow: 0px 1px 2px rgba(60, 64, 67, 0.3), 0px 1px 3px 1px rgba(60, 64, 67, 0.15);\n",
              "    fill: #174EA6;\n",
              "  }\n",
              "\n",
              "  [theme=dark] .colab-df-quickchart {\n",
              "    background-color: #3B4455;\n",
              "    fill: #D2E3FC;\n",
              "  }\n",
              "\n",
              "  [theme=dark] .colab-df-quickchart:hover {\n",
              "    background-color: #434B5C;\n",
              "    box-shadow: 0px 1px 3px 1px rgba(0, 0, 0, 0.15);\n",
              "    filter: drop-shadow(0px 1px 2px rgba(0, 0, 0, 0.3));\n",
              "    fill: #FFFFFF;\n",
              "  }\n",
              "</style>\n",
              "\n",
              "  <script>\n",
              "    async function quickchart(key) {\n",
              "      const charts = await google.colab.kernel.invokeFunction(\n",
              "          'suggestCharts', [key], {});\n",
              "    }\n",
              "    (() => {\n",
              "      let quickchartButtonEl =\n",
              "        document.querySelector('#df-37f9d656-36f8-4e04-8489-dbd106cbd413 button');\n",
              "      quickchartButtonEl.style.display =\n",
              "        google.colab.kernel.accessAllowed ? 'block' : 'none';\n",
              "    })();\n",
              "  </script>\n",
              "</div>\n",
              "    </div>\n",
              "  </div>\n"
            ]
          },
          "metadata": {},
          "execution_count": 73
        }
      ]
    },
    {
      "cell_type": "code",
      "source": [
        "xls = '/content/base_for_analiz/Ozon/Аналитика Акции 01.06.2022-31.05.2023.xlsx'\n",
        "act = pd.read_excel(xls)   #, encoding='cp1251' если выдаёт ошибку"
      ],
      "metadata": {
        "id": "iJObPvB3VABP"
      },
      "execution_count": 21,
      "outputs": []
    },
    {
      "cell_type": "code",
      "source": [
        "xls = '/content/base_for_analiz/Ozon/Аналитика Графики 01.06.2022-31.05.2023.xlsx'\n",
        "graf = pd.read_excel(xls)"
      ],
      "metadata": {
        "id": "R5ta8-zf9_6j"
      },
      "execution_count": 22,
      "outputs": []
    },
    {
      "cell_type": "code",
      "source": [
        "\n",
        "xls = '/content/base_for_analiz/Ozon/Товары по категориям/2023-06-05 Автомобильные лампы ксенон комплектующие.xlsx'\n",
        "pr_kat = pd.read_excel(xls, sheet_name='Шаблон для поставщика', skiprows=[0,2],index_col=[])"
      ],
      "metadata": {
        "id": "RoQCeB5zU_0T"
      },
      "execution_count": 26,
      "outputs": []
    },
    {
      "cell_type": "code",
      "source": [
        "xls = '/content/trafaret/1223100_22.06.2022-22.08.2022.csv'\n",
        "traf = pd.read_csv(xls, skiprows=[0]) #, skiprows=[0,2], usecols=['column1', 'column2']"
      ],
      "metadata": {
        "id": "HfzCL0LeU_wt"
      },
      "execution_count": null,
      "outputs": []
    },
    {
      "cell_type": "code",
      "source": [
        "xls = '/content/pvp/1415722_08.08.2022-08.10.2022.csv'\n",
        "traf = pd.read_csv(xls, skiprows=[0])"
      ],
      "metadata": {
        "id": "-Iar2gnDKqh1"
      },
      "execution_count": null,
      "outputs": []
    }
  ]
}