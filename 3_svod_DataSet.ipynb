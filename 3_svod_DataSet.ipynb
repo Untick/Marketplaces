{
  "nbformat": 4,
  "nbformat_minor": 0,
  "metadata": {
    "colab": {
      "provenance": [],
      "collapsed_sections": [
        "PnRzpv-VU2m1",
        "HBj_oxOM9281",
        "yNCcY3kX-SHb",
        "JKzGgmohwh7Y",
        "LUVDuP6Hkwi6"
      ],
      "authorship_tag": "ABX9TyPJy0iVGVX/gbrhnYmL21Go",
      "include_colab_link": true
    },
    "kernelspec": {
      "name": "python3",
      "display_name": "Python 3"
    },
    "language_info": {
      "name": "python"
    }
  },
  "cells": [
    {
      "cell_type": "markdown",
      "metadata": {
        "id": "view-in-github",
        "colab_type": "text"
      },
      "source": [
        "<a href=\"https://colab.research.google.com/github/Untick/Marketplaces/blob/Kosmylev-Vladislav-branch/3_svod_DataSet.ipynb\" target=\"_parent\"><img src=\"https://colab.research.google.com/assets/colab-badge.svg\" alt=\"Open In Colab\"/></a>"
      ]
    },
    {
      "cell_type": "markdown",
      "source": [
        "# Подготовка"
      ],
      "metadata": {
        "id": "iiXhwaY3Uu1m"
      }
    },
    {
      "cell_type": "markdown",
      "source": [
        "## Загрузка исходников"
      ],
      "metadata": {
        "id": "ChtOcyrAFcRA"
      }
    },
    {
      "cell_type": "markdown",
      "source": [
        "####**Загрузка библиотек:**\n",
        "\n",
        "https://drive.google.com/file/d/1-_LKbDsiq0dDbks7_JnBJVV7v2iWjSkd/view?usp=sharing\n",
        "\n",
        "https://drive.google.com/file/d/1CzIZl5hxOpNsEiWkcJgjXRsAVJz4RbsX/view?usp=sharing  target_tab.zip"
      ],
      "metadata": {
        "id": "PnRzpv-VU2m1"
      }
    },
    {
      "cell_type": "code",
      "execution_count": 3,
      "metadata": {
        "id": "2vvoLdJNASRC"
      },
      "outputs": [],
      "source": [
        "import numpy as np                        # Импорт библиотеки numpy\n",
        "import pandas as pd                       # для анализа табличных массивов данных\n",
        "from pandas.core.groupby import NamedAgg\n",
        "import gdown, os, re, random                  # Стандартные библиотеки"
      ]
    },
    {
      "cell_type": "code",
      "source": [
        "!gdown --id '1-_LKbDsiq0dDbks7_JnBJVV7v2iWjSkd'\n",
        "#!gdown --id '1CzIZl5hxOpNsEiWkcJgjXRsAVJz4RbsX'\n",
        "!rm -r sample_data\n",
        "#!rm base_for_analiz.zip"
      ],
      "metadata": {
        "id": "3tPYNJjXVAIg",
        "colab": {
          "base_uri": "https://localhost:8080/"
        },
        "outputId": "4d176e9c-04f7-4c3d-ca59-fa6befee1c46"
      },
      "execution_count": 4,
      "outputs": [
        {
          "output_type": "stream",
          "name": "stdout",
          "text": [
            "/usr/local/lib/python3.10/dist-packages/gdown/cli.py:121: FutureWarning: Option `--id` was deprecated in version 4.3.1 and will be removed in 5.0. You don't need to pass it anymore to use a file ID.\n",
            "  warnings.warn(\n",
            "Downloading...\n",
            "From: https://drive.google.com/uc?id=1-_LKbDsiq0dDbks7_JnBJVV7v2iWjSkd\n",
            "To: /content/base_for_analiz.zip\n",
            "100% 88.5M/88.5M [00:01<00:00, 63.5MB/s]\n",
            "rm: cannot remove 'sample_data': No such file or directory\n"
          ]
        }
      ]
    },
    {
      "cell_type": "code",
      "source": [
        "!unzip -o /content/base_for_analiz.zip\n",
        "# !unzip -o /content/target_tab.zip\n",
        "# !rm target_tab.zip\n",
        "!rm base_for_analiz.zip"
      ],
      "metadata": {
        "id": "7FThkShsVAFy",
        "colab": {
          "base_uri": "https://localhost:8080/"
        },
        "outputId": "e717d233-0805-4c06-c948-b1c08d86e539"
      },
      "execution_count": 5,
      "outputs": [
        {
          "output_type": "stream",
          "name": "stdout",
          "text": [
            "Archive:  /content/base_for_analiz.zip\n",
            "  inflating: base_for_analiz/MPSTATS/Категория/MPSTATS Категория по дням/OZON - Автотовары_Автозапчасти_Автосвет - По дням - 01.03.2023-31.05.2023. (06.06.2023).csv  \n",
            "  inflating: base_for_analiz/MPSTATS/Категория/MPSTATS Категория по дням/OZON - Автотовары_Автозапчасти_Автосвет - По дням - 01.06.2022-31.08.2022. (06.06.2023).csv  \n",
            "  inflating: base_for_analiz/MPSTATS/Категория/MPSTATS Категория по дням/OZON - Автотовары_Автозапчасти_Автосвет - По дням - 01.09.2022-30.11.2022. (06.06.2023).csv  \n",
            "  inflating: base_for_analiz/MPSTATS/Категория/MPSTATS Категория по дням/OZON - Автотовары_Автозапчасти_Автосвет - По дням - 01.12.2022-28.02.2023. (06.06.2023).csv  \n",
            " extracting: base_for_analiz/MPSTATS/Категория/MPSTATS по категории (по всем продавцам)/OZON - Автотовары_Автозапчасти_Автосвет - Товары - 01032023-31052023 06062023.csv.zip  \n",
            " extracting: base_for_analiz/MPSTATS/Категория/MPSTATS по категории (по всем продавцам)/OZON - Автотовары_Автозапчасти_Автосвет - Товары - 01062022-31082022 06062023.csv.zip  \n",
            " extracting: base_for_analiz/MPSTATS/Категория/MPSTATS по категории (по всем продавцам)/OZON - Автотовары_Автозапчасти_Автосвет - Товары - 01092022-30112022 06062023.csv.zip  \n",
            " extracting: base_for_analiz/MPSTATS/Категория/MPSTATS по категории (по всем продавцам)/OZON - Автотовары_Автозапчасти_Автосвет - Товары - 01122022-28022023 06062023.csv.zip  \n",
            "  inflating: base_for_analiz/MPSTATS/Магазин/MPSTATS 01062022-31052023 Выручка по дням/OZON - ГАЛОГЕНУ NET - По дням -  01.03.2023-31.05.2023. (06.06.2023).csv  \n",
            "  inflating: base_for_analiz/MPSTATS/Магазин/MPSTATS 01062022-31052023 Выручка по дням/OZON - ГАЛОГЕНУ NET - По дням -  01.06.2022-31.08.2022. (06.06.2023).csv  \n",
            "  inflating: base_for_analiz/MPSTATS/Магазин/MPSTATS 01062022-31052023 Выручка по дням/OZON - ГАЛОГЕНУ NET - По дням -  01.09.2022-30.11.2022. (06.06.2023).csv  \n",
            "  inflating: base_for_analiz/MPSTATS/Магазин/MPSTATS 01062022-31052023 Выручка по дням/OZON - ГАЛОГЕНУ NET - По дням -  01.12.2022-28.02.2023. (06.06.2023).csv  \n",
            "  inflating: base_for_analiz/MPSTATS/Магазин/MPSTATS 01062022-31052023 Товары/OZON - ГАЛОГЕНУ NET - Товары - 01032023-31052023 06062023.csv  \n",
            "  inflating: base_for_analiz/MPSTATS/Магазин/MPSTATS 01062022-31052023 Товары/OZON - ГАЛОГЕНУ NET - Товары - 01062022-31082022 06062023.csv  \n",
            "  inflating: base_for_analiz/MPSTATS/Магазин/MPSTATS 01062022-31052023 Товары/OZON - ГАЛОГЕНУ NET - Товары - 01092022-30112022 06062023.csv  \n",
            "  inflating: base_for_analiz/MPSTATS/Магазин/MPSTATS 01062022-31052023 Товары/OZON - ГАЛОГЕНУ NET - Товары - 01122022-28022023 06062023.csv  \n",
            "  inflating: base_for_analiz/Ozon/Performance/ПВП/1415722/1415722_08.08.2022-08.10.2022.csv  \n",
            "  inflating: base_for_analiz/Ozon/Performance/ПВП/1415722/1415722_09.10.2022-09.12.2022.csv  \n",
            "  inflating: base_for_analiz/Ozon/Performance/ПВП/1415722/1415722_11.02.2023-11.04.2023.csv  \n",
            "  inflating: base_for_analiz/Ozon/Performance/ПВП/1415722/1415722_12.04.2023-31.05.2023.csv  \n",
            "  inflating: base_for_analiz/Ozon/Performance/ПВП/1606841/1606841_21.09.2022-21.11.2022.csv  \n",
            "  inflating: base_for_analiz/Ozon/Performance/ПВП/1606841/1606841_22.11.2022-22.01.2023.csv  \n",
            "  inflating: base_for_analiz/Ozon/Performance/ПВП/1606841/1606841_23.01.2023-23.03.2023.csv  \n",
            "  inflating: base_for_analiz/Ozon/Performance/ПВП/1606841/1606841_24.03.2023-24.05.2023.csv  \n",
            "  inflating: base_for_analiz/Ozon/Performance/ПВП/1606841/1606841_25.05.2023-31.05.2023.csv  \n",
            "  inflating: base_for_analiz/Ozon/Performance/ПВП/1612196/1612196_22.09.2022-22.11.2022.csv  \n",
            "  inflating: base_for_analiz/Ozon/Performance/ПВП/1612196/1612196_23.11.2022-23.01.2023.csv  \n",
            "  inflating: base_for_analiz/Ozon/Performance/ПВП/1612196/1612196_24.01.2023-24.03.2023.csv  \n",
            "  inflating: base_for_analiz/Ozon/Performance/ПВП/1612196/1612196_25.03.2023-25.05.2023.csv  \n",
            "  inflating: base_for_analiz/Ozon/Performance/ПВП/1612196/1612196_26.05.2023-31.05.2023.csv  \n",
            "  inflating: base_for_analiz/Ozon/Performance/ПВП/1613046/1613046_22.09.2022-22.11.2022.csv  \n",
            "  inflating: base_for_analiz/Ozon/Performance/ПВП/1613046/1613046_23.11.2022-23.01.2023.csv  \n",
            "  inflating: base_for_analiz/Ozon/Performance/ПВП/1613046/1613046_24.01.2023-24.03.2023.csv  \n",
            "  inflating: base_for_analiz/Ozon/Performance/ПВП/1613046/1613046_25.03.2023-25.05.2023.csv  \n",
            "  inflating: base_for_analiz/Ozon/Performance/ПВП/1613046/1613046_26.05.2023-31.05.2023.csv  \n",
            "  inflating: base_for_analiz/Ozon/Performance/ПВП/1613158/1613158_22.09.2022-22.11.2022.csv  \n",
            "  inflating: base_for_analiz/Ozon/Performance/ПВП/1613158/1613158_23.11.2022-23.01.2023.csv  \n",
            "  inflating: base_for_analiz/Ozon/Performance/ПВП/1613158/1613158_24.01.2023-24.03.2023.csv  \n",
            "  inflating: base_for_analiz/Ozon/Performance/ПВП/1613158/1613158_25.03.2023-25.05.2023.csv  \n",
            "  inflating: base_for_analiz/Ozon/Performance/ПВП/1613158/1613158_26.05.2023-31.05.2023.csv  \n",
            "  inflating: base_for_analiz/Ozon/Performance/ПВП/3040816.csv  \n",
            "  inflating: base_for_analiz/Ozon/Performance/Трафареты/1223100/1223100_22.06.2022-22.08.2022.csv  \n",
            "  inflating: base_for_analiz/Ozon/Performance/Трафареты/1223100/1223100_23.08.2022-23.10.2022.csv  \n",
            "  inflating: base_for_analiz/Ozon/Performance/Трафареты/1223100/1223100_24.10.2022-24.12.2022.csv  \n",
            "  inflating: base_for_analiz/Ozon/Performance/Трафареты/1223100/1223100_26.02.2023-26.04.2023.csv  \n",
            "  inflating: base_for_analiz/Ozon/Performance/Трафареты/1223100/1223100_27.04.2023-31.05.2023.csv  \n",
            "  inflating: base_for_analiz/Ozon/Performance/Трафареты/1615846/1615846_23.09.2022-23.11.2022.csv  \n",
            "  inflating: base_for_analiz/Ozon/Performance/Трафареты/1615846/1615846_24.11.2022-24.01.2023.csv  \n",
            "  inflating: base_for_analiz/Ozon/Performance/Трафареты/1615846/1615846_25.01.2023-25.03.2023.csv  \n",
            "  inflating: base_for_analiz/Ozon/Performance/Трафареты/1615846/1615846_26.03.2023-26.05.2023.csv  \n",
            "  inflating: base_for_analiz/Ozon/Performance/Трафареты/1615846/1615846_27.05.2023-31.05.2023.csv  \n",
            "  inflating: base_for_analiz/Ozon/Performance/Трафареты/1616775/1616775_23.09.2022-23.11.2022.csv  \n",
            "  inflating: base_for_analiz/Ozon/Performance/Трафареты/1616775/1616775_24.11.2022-24.01.2023.csv  \n",
            "  inflating: base_for_analiz/Ozon/Performance/Трафареты/1616775/1616775_25.01.2023-25.03.2023.csv  \n",
            "  inflating: base_for_analiz/Ozon/Performance/Трафареты/1616775/1616775_26.03.2023-26.05.2023.csv  \n",
            "  inflating: base_for_analiz/Ozon/Performance/Трафареты/1616775/1616775_27.05.2023-31.05.2023.csv  \n",
            "  inflating: base_for_analiz/Ozon/Performance/Трафареты/2651630/2651630_01.05.2023-31.05.2023.csv  \n",
            "  inflating: base_for_analiz/Ozon/Performance/Трафареты/2651630/2651630_07.03.2023-07.03.2023.csv  \n",
            "  inflating: base_for_analiz/Ozon/Performance/Трафареты/2651789/2651789_01.05.2023-31.05.2023.csv  \n",
            "  inflating: base_for_analiz/Ozon/Performance/Трафареты/2651789/2651789_07.03.2023-30.04.2023.csv  \n",
            "  inflating: base_for_analiz/Ozon/Performance/Трафареты/2983852.csv  \n",
            "  inflating: base_for_analiz/Ozon/Performance/Трафареты/3040774.csv  \n",
            "  inflating: base_for_analiz/Ozon/Performance/Трафареты/3225021.csv  \n",
            "  inflating: base_for_analiz/Ozon/Performance/Трафареты/3225062.csv  \n",
            "  inflating: base_for_analiz/Ozon/Performance/Трафареты/3263861.csv  \n",
            "  inflating: base_for_analiz/Ozon/Performance/Трафареты/3264126.csv  \n",
            "  inflating: base_for_analiz/Ozon/Performance/Трафареты/3264916.csv  \n",
            "  inflating: base_for_analiz/Ozon/Performance/Трафареты/3265272.csv  \n",
            "  inflating: base_for_analiz/Ozon/Аналитика Акции 01.06.2022-31.05.2023.xlsx  \n",
            "  inflating: base_for_analiz/Ozon/Аналитика Графики 01.06.2022-31.05.2023.xlsx  \n",
            "  inflating: base_for_analiz/Ozon/База.csv  \n",
            "  inflating: base_for_analiz/Ozon/Отзывы.xlsx  \n",
            "  inflating: base_for_analiz/Ozon/Товары по категориям/2023-06-05 Автоаксессуар.xlsx  \n",
            "  inflating: base_for_analiz/Ozon/Товары по категориям/2023-06-05 Автомобильные лампы ксенон комплектующие.xlsx  \n",
            "  inflating: base_for_analiz/Ozon/Товары по категориям/2023-06-05 Автомобильные лампы.xlsx  \n",
            "  inflating: base_for_analiz/Ozon/Товары по категориям/2023-06-05 Автомобильные фары.xlsx  \n",
            "  inflating: base_for_analiz/Ozon/Товары по категориям/2023-06-05 Герметик.xlsx  \n"
          ]
        }
      ]
    },
    {
      "cell_type": "code",
      "source": [
        "def travel_dir(folder_path, subdir=True):\n",
        "    file_dict = {}\n",
        "    for root, dirs, files in os.walk(folder_path):\n",
        "        for file in files:\n",
        "            file_path = os.path.join(root, file)\n",
        "            file_name = os.path.splitext(file)[0]\n",
        "            file_dict[file_name] = file_path\n",
        "        if not subdir:\n",
        "          return file_dict\n",
        "    return file_dict\n"
      ],
      "metadata": {
        "id": "xHH5ZqAfzaiA"
      },
      "execution_count": 6,
      "outputs": []
    },
    {
      "cell_type": "code",
      "source": [
        "import re\n",
        "\n",
        "def clean_column_names(df):\n",
        "    cleaned_columns = []\n",
        "\n",
        "    for column in df.columns:\n",
        "        cleaned_column = re.sub(r\"[^\\w\\s%]\", \"\", column)  # Оставляем только буквы, цифры и пробелы\n",
        "        cleaned_column = cleaned_column.replace(\" \", \"_\")  # Заменяем пробелы на \"_\"\n",
        "        if cleaned_column[-1] == '_':\n",
        "            cleaned_column = cleaned_column[:-1]\n",
        "        cleaned_columns.append(cleaned_column)\n",
        "    return cleaned_columns\n",
        "    # df.columns = cleaned_columns\n",
        "    # return df\n",
        "\n",
        "def normal_col(df):\n",
        "  cols = clean_column_names(df)\n",
        "  print(cols)\n",
        "  df.set_axis(cols, axis=1, inplace=True)"
      ],
      "metadata": {
        "id": "Gu5J0-6Hx41x"
      },
      "execution_count": 7,
      "outputs": []
    },
    {
      "cell_type": "code",
      "source": [
        "def float2int(df):\n",
        "  col_float = list(df.select_dtypes(include=['float64']).columns)\n",
        "  df.fillna(0, inplace=True)\n",
        "  for col in col_float:\n",
        "    df[col]=df[col].round(0).astype('int64')"
      ],
      "metadata": {
        "id": "R64O1lWgZySY"
      },
      "execution_count": 8,
      "outputs": []
    },
    {
      "cell_type": "code",
      "source": [
        "# Нормализуем заголовки столбцов\n",
        "remove_list = [\"(при наличии)\",                 # список кусков текста для удаления из названий столбцов\n",
        "               \"(кроме Твери)\",\n",
        "               \"руб.\",\n",
        "               \"(перечеркнутая цена)\",\n",
        "               \",\",\n",
        "               \"%\",\n",
        "               \"с учетом скидки\",\n",
        "               \"на рыночную цену\"]\n",
        "def clean_header(header):\n",
        "\n",
        "    cleaned_header = header\n",
        "    cleaned_header = cleaned_header.replace('-', \"_\")\n",
        "    cleaned_header = cleaned_header.replace('\" ', '\"')\n",
        "    cleaned_header = cleaned_header.replace(' \"', '\"')\n",
        "\n",
        "    for item in remove_list:\n",
        "        cleaned_header = cleaned_header.replace(item, \"\")\n",
        "\n",
        "    cleaned_header = cleaned_header.replace('  ', '')\n",
        "    cleaned_header = cleaned_header.replace('_\"', '\"')\n",
        "    cleaned_header = cleaned_header.strip()  # удаление ведущих и концевых пробелов\n",
        "    cleaned_header = cleaned_header.replace(\" \", \"_\")  # замена оставшихся пробелов символом \"_\"\n",
        "    cleaned_header = cleaned_header.replace('_\"', '\"')\n",
        "\n",
        "    list_heads = cleaned_header.replace(';', ',')\n",
        "    list_heads = list_heads.replace('\"', '')\n",
        "    list_heads = list_heads.replace('_\"', '\"')\n",
        "    # print(header, \" --->  \", list_heads)\n",
        "\n",
        "    return cleaned_header\n",
        "\n",
        "def clean_csv(file_path):\n",
        "    with open(file_path, 'r', newline='') as file:\n",
        "        lines = file.readlines()\n",
        "        cleaned_headers = clean_header(lines[0]);  # применяем функцию clean_header к каждому заголовку\n",
        "        lines[0] = cleaned_headers + '\\n'\n",
        "        print(cleaned_headers)\n",
        "\n",
        "    with open(file_path, 'w', newline='') as file:\n",
        "        file.writelines(lines)\n",
        "\n",
        "    return cleaned_headers\n"
      ],
      "metadata": {
        "id": "A0dP14kQXQZ1"
      },
      "execution_count": 9,
      "outputs": []
    },
    {
      "cell_type": "markdown",
      "source": [
        "#### Формируем ДатаФреймы"
      ],
      "metadata": {
        "id": "GzwdBs06FlBR"
      }
    },
    {
      "cell_type": "markdown",
      "source": [
        "##### Пути по сегментам"
      ],
      "metadata": {
        "id": "HBj_oxOM9281"
      }
    },
    {
      "cell_type": "code",
      "source": [
        "fdir = '/content/base_for_analiz/Ozon/Товары по категориям'\n",
        "cat_paths = travel_dir(fdir)\n",
        "\n",
        "fdir = '/content/base_for_analiz/Ozon/Performance/Трафареты'\n",
        "traf_paths = travel_dir(fdir)\n",
        "\n",
        "fdir = '/content/base_for_analiz/Ozon/Performance/ПВП'\n",
        "pvp_paths = travel_dir(fdir)\n",
        "\n",
        "fdir = '/content/base_for_analiz/Ozon'\n",
        "ozon_paths = travel_dir(fdir, False)\n",
        "\n",
        "fdir = '/content/base_for_analiz/MPSTATS/Категория/MPSTATS Категория по дням'\n",
        "mpcat_day_paths = travel_dir(fdir)\n",
        "\n",
        "fdir = '/content/base_for_analiz/MPSTATS/Категория/MPSTATS по категории (по всем продавцам)'\n",
        "mpcat_sel_paths = travel_dir(fdir)\n",
        "\n",
        "fdir = '/content/base_for_analiz/MPSTATS/Магазин/MPSTATS 01062022-31052023 Выручка по дням'\n",
        "mpmag_gros_paths = travel_dir(fdir)\n",
        "\n",
        "fdir = '/content/base_for_analiz/MPSTATS/Магазин/MPSTATS 01062022-31052023 Товары'\n",
        "mpmag_tov_paths = travel_dir(fdir)\n"
      ],
      "metadata": {
        "id": "jLu-UhK-0PtH"
      },
      "execution_count": 10,
      "outputs": []
    },
    {
      "cell_type": "markdown",
      "source": [
        "##### Загрузка исходников в ДатаФреймы"
      ],
      "metadata": {
        "id": "yNCcY3kX-SHb"
      }
    },
    {
      "cell_type": "code",
      "source": [
        "all_df = {}"
      ],
      "metadata": {
        "id": "RHlEKVgODHgC"
      },
      "execution_count": 11,
      "outputs": []
    },
    {
      "cell_type": "markdown",
      "source": [
        "#### Ozon -> DF"
      ],
      "metadata": {
        "id": "06MdRhWXFFTq"
      }
    },
    {
      "cell_type": "markdown",
      "source": [
        "загружаем индивидуально из-за особенностей данных"
      ],
      "metadata": {
        "id": "F5bAU2NzJG8S"
      }
    },
    {
      "cell_type": "markdown",
      "source": [
        "###### База"
      ],
      "metadata": {
        "id": "-OXQJedBQANz"
      }
    },
    {
      "cell_type": "code",
      "source": [
        "os.getcwd()\n",
        "os.chdir('/content/base_for_analiz/Ozon/')"
      ],
      "metadata": {
        "id": "qclUBbXtDppL"
      },
      "execution_count": 12,
      "outputs": []
    },
    {
      "cell_type": "code",
      "source": [
        "os.getcwd()"
      ],
      "metadata": {
        "id": "8ZkFJItmqj2v",
        "colab": {
          "base_uri": "https://localhost:8080/",
          "height": 36
        },
        "outputId": "57e81087-c797-41eb-a17f-1327e24c9814"
      },
      "execution_count": 13,
      "outputs": [
        {
          "output_type": "execute_result",
          "data": {
            "text/plain": [
              "'/content/base_for_analiz/Ozon'"
            ],
            "application/vnd.google.colaboratory.intrinsic+json": {
              "type": "string"
            }
          },
          "metadata": {},
          "execution_count": 13
        }
      ]
    },
    {
      "cell_type": "code",
      "source": [
        "columns = ['Артикул','Ozon_Product_ID','FBO_OZON_SKU_ID','FBS_OZON_SKU_ID','Контент_рейтинг','Текущая_цена']\n",
        "xls = 'База.csv'\n",
        "list_heads = clean_csv(xls)\n",
        "df = pd.read_csv(xls, sep=';', encoding='utf-8', usecols=columns) #\n"
      ],
      "metadata": {
        "id": "UEQBs7qxU_5C",
        "colab": {
          "base_uri": "https://localhost:8080/"
        },
        "outputId": "cba2571a-516c-4f00-a1c1-a46d6965b849"
      },
      "execution_count": 14,
      "outputs": [
        {
          "output_type": "stream",
          "name": "stdout",
          "text": [
            "﻿\"Артикул\";\"Ozon_Product_ID\";\"FBO_OZON_SKU_ID\";\"FBS_OZON_SKU_ID\";\"Barcode\";\"Наименование_товара\";\"Контент_рейтинг\";\"Бренд\";\"Статус_товара\";\"Видимость_FBO\";\"Причины_скрытия_FBO\";\"Видимость_FBS\";\"Причины_скрытия_FBS\";\"Дата_создания\";\"Коммерческая_категория\";\"Объем_товара_л\";\"Объемный_вес_кг\";\"Доступно_на_складе_Ozon_шт\";\"Вывезти_и_нанести_КИЗшт\";\"Зарезервировано_шт\";\"Доступно_на_моих_складах_шт\";\"Зарезервировано_на_моих_складах_шт\";\"Текущая_цена\";\"Цена_до_скидки\";\"Цена_Premium\";\"Рыночная_цена\";\"Актуальная_ссылка\";\"Размер_НДС\"\n"
          ]
        }
      ]
    },
    {
      "cell_type": "code",
      "source": [
        "df = df[df['Контент_рейтинг'] != \"'Не рассчитываем контент-рейтинг для уценки FBS\"].copy()"
      ],
      "metadata": {
        "id": "G6647m_HNGSW"
      },
      "execution_count": 15,
      "outputs": []
    },
    {
      "cell_type": "code",
      "source": [
        "df['Контент_рейтинг'] = df['Контент_рейтинг'].replace('Рассчитываем',\"'0.0\", regex=True)\n",
        "df['Контент_рейтинг'] = df['Контент_рейтинг'].replace(\"'\",\"\", regex=True)\n",
        "df['Контент_рейтинг'] = df['Контент_рейтинг'].astype(float)\n",
        "df['Артикул'] = df['Артикул'].replace(\"'\",\"\", regex=True).astype(str)\n",
        "df['Ozon_Product_ID'] = df['Ozon_Product_ID'].astype(str)\n",
        "df['FBO_OZON_SKU_ID'] = df['FBO_OZON_SKU_ID'].astype(str)\n",
        "df['FBS_OZON_SKU_ID'] = df['FBS_OZON_SKU_ID'].astype(str)\n",
        "df.rename(columns={\"Ozon_Product_ID\": \"Ozon_ID\",\n",
        "                   \"FBO_OZON_SKU_ID\":\"FBO_ID\",\n",
        "                   \"FBS_OZON_SKU_ID\":\"FBS_ID\"}, inplace=True)\n",
        "float2int(df)"
      ],
      "metadata": {
        "id": "WSBGJCtHJtcK"
      },
      "execution_count": 16,
      "outputs": []
    },
    {
      "cell_type": "code",
      "source": [
        "df.dtypes"
      ],
      "metadata": {
        "id": "q3YesFPBONDZ",
        "colab": {
          "base_uri": "https://localhost:8080/"
        },
        "outputId": "e1a0f333-c23a-46f9-9e1b-8596d5e4c94d"
      },
      "execution_count": 17,
      "outputs": [
        {
          "output_type": "execute_result",
          "data": {
            "text/plain": [
              "Артикул            object\n",
              "Ozon_ID            object\n",
              "FBO_ID             object\n",
              "FBS_ID             object\n",
              "Контент_рейтинг     int64\n",
              "Текущая_цена        int64\n",
              "dtype: object"
            ]
          },
          "metadata": {},
          "execution_count": 17
        }
      ]
    },
    {
      "cell_type": "code",
      "source": [
        "df.head(3)"
      ],
      "metadata": {
        "id": "2j1vUR25JX0Y",
        "colab": {
          "base_uri": "https://localhost:8080/",
          "height": 143
        },
        "outputId": "c4b54dc5-9104-4827-88cc-63282b4fd8dd"
      },
      "execution_count": 18,
      "outputs": [
        {
          "output_type": "execute_result",
          "data": {
            "text/plain": [
              "  Артикул    Ozon_ID     FBO_ID     FBS_ID  Контент_рейтинг  Текущая_цена\n",
              "0   30273  105606938  298131117  298131122               15          1200\n",
              "1   30383  105742204  298264198  298264234               38          1990\n",
              "2   31284  112525698  303785665  303785701               30          7900"
            ],
            "text/html": [
              "\n",
              "  <div id=\"df-2e06e08d-d809-47d3-ba50-b4db6e78af09\" class=\"colab-df-container\">\n",
              "    <div>\n",
              "<style scoped>\n",
              "    .dataframe tbody tr th:only-of-type {\n",
              "        vertical-align: middle;\n",
              "    }\n",
              "\n",
              "    .dataframe tbody tr th {\n",
              "        vertical-align: top;\n",
              "    }\n",
              "\n",
              "    .dataframe thead th {\n",
              "        text-align: right;\n",
              "    }\n",
              "</style>\n",
              "<table border=\"1\" class=\"dataframe\">\n",
              "  <thead>\n",
              "    <tr style=\"text-align: right;\">\n",
              "      <th></th>\n",
              "      <th>Артикул</th>\n",
              "      <th>Ozon_ID</th>\n",
              "      <th>FBO_ID</th>\n",
              "      <th>FBS_ID</th>\n",
              "      <th>Контент_рейтинг</th>\n",
              "      <th>Текущая_цена</th>\n",
              "    </tr>\n",
              "  </thead>\n",
              "  <tbody>\n",
              "    <tr>\n",
              "      <th>0</th>\n",
              "      <td>30273</td>\n",
              "      <td>105606938</td>\n",
              "      <td>298131117</td>\n",
              "      <td>298131122</td>\n",
              "      <td>15</td>\n",
              "      <td>1200</td>\n",
              "    </tr>\n",
              "    <tr>\n",
              "      <th>1</th>\n",
              "      <td>30383</td>\n",
              "      <td>105742204</td>\n",
              "      <td>298264198</td>\n",
              "      <td>298264234</td>\n",
              "      <td>38</td>\n",
              "      <td>1990</td>\n",
              "    </tr>\n",
              "    <tr>\n",
              "      <th>2</th>\n",
              "      <td>31284</td>\n",
              "      <td>112525698</td>\n",
              "      <td>303785665</td>\n",
              "      <td>303785701</td>\n",
              "      <td>30</td>\n",
              "      <td>7900</td>\n",
              "    </tr>\n",
              "  </tbody>\n",
              "</table>\n",
              "</div>\n",
              "    <div class=\"colab-df-buttons\">\n",
              "\n",
              "  <div class=\"colab-df-container\">\n",
              "    <button class=\"colab-df-convert\" onclick=\"convertToInteractive('df-2e06e08d-d809-47d3-ba50-b4db6e78af09')\"\n",
              "            title=\"Convert this dataframe to an interactive table.\"\n",
              "            style=\"display:none;\">\n",
              "\n",
              "  <svg xmlns=\"http://www.w3.org/2000/svg\" height=\"24px\" viewBox=\"0 -960 960 960\">\n",
              "    <path d=\"M120-120v-720h720v720H120Zm60-500h600v-160H180v160Zm220 220h160v-160H400v160Zm0 220h160v-160H400v160ZM180-400h160v-160H180v160Zm440 0h160v-160H620v160ZM180-180h160v-160H180v160Zm440 0h160v-160H620v160Z\"/>\n",
              "  </svg>\n",
              "    </button>\n",
              "\n",
              "  <style>\n",
              "    .colab-df-container {\n",
              "      display:flex;\n",
              "      gap: 12px;\n",
              "    }\n",
              "\n",
              "    .colab-df-convert {\n",
              "      background-color: #E8F0FE;\n",
              "      border: none;\n",
              "      border-radius: 50%;\n",
              "      cursor: pointer;\n",
              "      display: none;\n",
              "      fill: #1967D2;\n",
              "      height: 32px;\n",
              "      padding: 0 0 0 0;\n",
              "      width: 32px;\n",
              "    }\n",
              "\n",
              "    .colab-df-convert:hover {\n",
              "      background-color: #E2EBFA;\n",
              "      box-shadow: 0px 1px 2px rgba(60, 64, 67, 0.3), 0px 1px 3px 1px rgba(60, 64, 67, 0.15);\n",
              "      fill: #174EA6;\n",
              "    }\n",
              "\n",
              "    .colab-df-buttons div {\n",
              "      margin-bottom: 4px;\n",
              "    }\n",
              "\n",
              "    [theme=dark] .colab-df-convert {\n",
              "      background-color: #3B4455;\n",
              "      fill: #D2E3FC;\n",
              "    }\n",
              "\n",
              "    [theme=dark] .colab-df-convert:hover {\n",
              "      background-color: #434B5C;\n",
              "      box-shadow: 0px 1px 3px 1px rgba(0, 0, 0, 0.15);\n",
              "      filter: drop-shadow(0px 1px 2px rgba(0, 0, 0, 0.3));\n",
              "      fill: #FFFFFF;\n",
              "    }\n",
              "  </style>\n",
              "\n",
              "    <script>\n",
              "      const buttonEl =\n",
              "        document.querySelector('#df-2e06e08d-d809-47d3-ba50-b4db6e78af09 button.colab-df-convert');\n",
              "      buttonEl.style.display =\n",
              "        google.colab.kernel.accessAllowed ? 'block' : 'none';\n",
              "\n",
              "      async function convertToInteractive(key) {\n",
              "        const element = document.querySelector('#df-2e06e08d-d809-47d3-ba50-b4db6e78af09');\n",
              "        const dataTable =\n",
              "          await google.colab.kernel.invokeFunction('convertToInteractive',\n",
              "                                                    [key], {});\n",
              "        if (!dataTable) return;\n",
              "\n",
              "        const docLinkHtml = 'Like what you see? Visit the ' +\n",
              "          '<a target=\"_blank\" href=https://colab.research.google.com/notebooks/data_table.ipynb>data table notebook</a>'\n",
              "          + ' to learn more about interactive tables.';\n",
              "        element.innerHTML = '';\n",
              "        dataTable['output_type'] = 'display_data';\n",
              "        await google.colab.output.renderOutput(dataTable, element);\n",
              "        const docLink = document.createElement('div');\n",
              "        docLink.innerHTML = docLinkHtml;\n",
              "        element.appendChild(docLink);\n",
              "      }\n",
              "    </script>\n",
              "  </div>\n",
              "\n",
              "\n",
              "<div id=\"df-75dc3195-58b1-4d16-9a26-78e4e74b02be\">\n",
              "  <button class=\"colab-df-quickchart\" onclick=\"quickchart('df-75dc3195-58b1-4d16-9a26-78e4e74b02be')\"\n",
              "            title=\"Suggest charts.\"\n",
              "            style=\"display:none;\">\n",
              "\n",
              "<svg xmlns=\"http://www.w3.org/2000/svg\" height=\"24px\"viewBox=\"0 0 24 24\"\n",
              "     width=\"24px\">\n",
              "    <g>\n",
              "        <path d=\"M19 3H5c-1.1 0-2 .9-2 2v14c0 1.1.9 2 2 2h14c1.1 0 2-.9 2-2V5c0-1.1-.9-2-2-2zM9 17H7v-7h2v7zm4 0h-2V7h2v10zm4 0h-2v-4h2v4z\"/>\n",
              "    </g>\n",
              "</svg>\n",
              "  </button>\n",
              "\n",
              "<style>\n",
              "  .colab-df-quickchart {\n",
              "    background-color: #E8F0FE;\n",
              "    border: none;\n",
              "    border-radius: 50%;\n",
              "    cursor: pointer;\n",
              "    display: none;\n",
              "    fill: #1967D2;\n",
              "    height: 32px;\n",
              "    padding: 0 0 0 0;\n",
              "    width: 32px;\n",
              "  }\n",
              "\n",
              "  .colab-df-quickchart:hover {\n",
              "    background-color: #E2EBFA;\n",
              "    box-shadow: 0px 1px 2px rgba(60, 64, 67, 0.3), 0px 1px 3px 1px rgba(60, 64, 67, 0.15);\n",
              "    fill: #174EA6;\n",
              "  }\n",
              "\n",
              "  [theme=dark] .colab-df-quickchart {\n",
              "    background-color: #3B4455;\n",
              "    fill: #D2E3FC;\n",
              "  }\n",
              "\n",
              "  [theme=dark] .colab-df-quickchart:hover {\n",
              "    background-color: #434B5C;\n",
              "    box-shadow: 0px 1px 3px 1px rgba(0, 0, 0, 0.15);\n",
              "    filter: drop-shadow(0px 1px 2px rgba(0, 0, 0, 0.3));\n",
              "    fill: #FFFFFF;\n",
              "  }\n",
              "</style>\n",
              "\n",
              "  <script>\n",
              "    async function quickchart(key) {\n",
              "      const charts = await google.colab.kernel.invokeFunction(\n",
              "          'suggestCharts', [key], {});\n",
              "    }\n",
              "    (() => {\n",
              "      let quickchartButtonEl =\n",
              "        document.querySelector('#df-75dc3195-58b1-4d16-9a26-78e4e74b02be button');\n",
              "      quickchartButtonEl.style.display =\n",
              "        google.colab.kernel.accessAllowed ? 'block' : 'none';\n",
              "    })();\n",
              "  </script>\n",
              "</div>\n",
              "    </div>\n",
              "  </div>\n"
            ]
          },
          "metadata": {},
          "execution_count": 18
        }
      ]
    },
    {
      "cell_type": "code",
      "source": [
        "all_df['База'] = df"
      ],
      "metadata": {
        "id": "PLxSG2GFtDu0"
      },
      "execution_count": 19,
      "outputs": []
    },
    {
      "cell_type": "markdown",
      "source": [
        "###### Графики"
      ],
      "metadata": {
        "id": "yp-Zwsvgv--e"
      }
    },
    {
      "cell_type": "code",
      "source": [
        "xls = '/content/base_for_analiz/Ozon/Аналитика Графики 01.06.2022-31.05.2023.xlsx'\n",
        "graf = pd.read_excel(xls)"
      ],
      "metadata": {
        "id": "R5ta8-zf9_6j"
      },
      "execution_count": 20,
      "outputs": []
    },
    {
      "cell_type": "code",
      "source": [
        "df = graf.copy()"
      ],
      "metadata": {
        "id": "u8L9acNfrMj5"
      },
      "execution_count": 78,
      "outputs": []
    },
    {
      "cell_type": "code",
      "source": [
        "normal_col(df)\n"
      ],
      "metadata": {
        "id": "9sysiD1d1U_P",
        "colab": {
          "base_uri": "https://localhost:8080/"
        },
        "outputId": "978b3f2d-b948-42e2-84b6-a433edaf32f5"
      },
      "execution_count": 79,
      "outputs": [
        {
          "output_type": "stream",
          "name": "stdout",
          "text": [
            "['Категория_3го_уровня', 'Товары', 'Модель', 'Ozon_ID', 'Артикул', 'День', 'Уникальные_посетители_всего', 'Уникальные_посетители_с_просмотром_карточки_товара', 'Показы_всего', 'Показы_на_карточке_товара', 'Показы_в_поиске_и_каталоге', 'Позиция_в_поиске_и_каталоге', 'В_корзину_всего', 'Заказано_товаров', 'Отменено_товаров', 'Доставлено_за_выбранный_период', 'Возвращено_товаров', 'Заказано_на_сумму', 'Отправления_с_премиумподпиской_принятые_в_обработку']\n"
          ]
        },
        {
          "output_type": "stream",
          "name": "stderr",
          "text": [
            "<ipython-input-7-06ccb71f2ffc>:19: FutureWarning: DataFrame.set_axis 'inplace' keyword is deprecated and will be removed in a future version. Use `obj = obj.set_axis(..., copy=False)` instead\n",
            "  df.set_axis(cols, axis=1, inplace=True)\n"
          ]
        }
      ]
    },
    {
      "cell_type": "code",
      "source": [
        "def get_index(df):\n",
        "  df['s_index'] = df['Ozon_ID'].astype(str) + df['День'].astype(str)"
      ],
      "metadata": {
        "id": "ZgqTEhDkgXd4"
      },
      "execution_count": 80,
      "outputs": []
    },
    {
      "cell_type": "code",
      "source": [
        "get_index(df)"
      ],
      "metadata": {
        "id": "YAafKkeghclj"
      },
      "execution_count": 81,
      "outputs": []
    },
    {
      "cell_type": "code",
      "source": [
        "df['Ozon_ID'] = df['Ozon_ID'].astype(str)\n",
        "# graf['s_index'] = (graf['Ozon_ID']+graf['День']).replace('-','', regex=True).astype(str)\n",
        "# Сборный индекс - для удобной группировки\n",
        "#graf['s_index'] = ''.join(f'{graf['Ozon_ID']}_{graf['День']}').replace('-','', regex=True).astype(str)\n",
        "\n",
        "df['День'] = pd.to_datetime(df['День'])\n",
        "df['Позиция_в_поиске_и_каталоге'] = df['Позиция_в_поиске_и_каталоге'].replace(',','.', regex=True)\n",
        "df['Позиция_в_поиске_и_каталоге'] = df['Позиция_в_поиске_и_каталоге'].astype(float)\n"
      ],
      "metadata": {
        "id": "HgAE84qt7Ibx"
      },
      "execution_count": 82,
      "outputs": []
    },
    {
      "cell_type": "code",
      "source": [
        "float2int(df)"
      ],
      "metadata": {
        "id": "7ekWZPAbeRxY"
      },
      "execution_count": 83,
      "outputs": []
    },
    {
      "cell_type": "code",
      "source": [
        "df.columns"
      ],
      "metadata": {
        "colab": {
          "base_uri": "https://localhost:8080/"
        },
        "id": "1abAHti-jNLU",
        "outputId": "e789e734-8b34-4367-ede0-cc79711e7adc"
      },
      "execution_count": 85,
      "outputs": [
        {
          "output_type": "execute_result",
          "data": {
            "text/plain": [
              "Index(['Категория_3го_уровня', 'Товары', 'Модель', 'Ozon_ID', 'Артикул',\n",
              "       'День', 'Уникальные_посетители_всего',\n",
              "       'Уникальные_посетители_с_просмотром_карточки_товара', 'Показы_всего',\n",
              "       'Показы_на_карточке_товара', 'Показы_в_поиске_и_каталоге',\n",
              "       'Позиция_в_поиске_и_каталоге', 'В_корзину_всего', 'Заказано_товаров',\n",
              "       'Отменено_товаров', 'Доставлено_за_выбранный_период',\n",
              "       'Возвращено_товаров', 'Заказано_на_сумму',\n",
              "       'Отправления_с_премиумподпиской_принятые_в_обработку', 's_index'],\n",
              "      dtype='object')"
            ]
          },
          "metadata": {},
          "execution_count": 85
        }
      ]
    },
    {
      "cell_type": "code",
      "source": [
        "df.drop(['Товары', 'Модель',\n",
        "       'Показы_на_карточке_товара', 'Показы_в_поиске_и_каталоге',\n",
        "       'Отправления_с_премиумподпиской_принятые_в_обработку'], axis=1, inplace=True)"
      ],
      "metadata": {
        "id": "ZRHU703bkGaQ"
      },
      "execution_count": 86,
      "outputs": []
    },
    {
      "cell_type": "code",
      "source": [
        "df.dtypes"
      ],
      "metadata": {
        "colab": {
          "base_uri": "https://localhost:8080/"
        },
        "id": "MpttT1-elLcb",
        "outputId": "bfd287e8-ec4c-496a-f102-28f9810e5ea3"
      },
      "execution_count": 87,
      "outputs": [
        {
          "output_type": "execute_result",
          "data": {
            "text/plain": [
              "Категория_3го_уровня                                          object\n",
              "Ozon_ID                                                       object\n",
              "Артикул                                                       object\n",
              "День                                                  datetime64[ns]\n",
              "Уникальные_посетители_всего                                    int64\n",
              "Уникальные_посетители_с_просмотром_карточки_товара             int64\n",
              "Показы_всего                                                   int64\n",
              "Позиция_в_поиске_и_каталоге                                    int64\n",
              "В_корзину_всего                                                int64\n",
              "Заказано_товаров                                               int64\n",
              "Отменено_товаров                                               int64\n",
              "Доставлено_за_выбранный_период                                 int64\n",
              "Возвращено_товаров                                             int64\n",
              "Заказано_на_сумму                                              int64\n",
              "s_index                                                       object\n",
              "dtype: object"
            ]
          },
          "metadata": {},
          "execution_count": 87
        }
      ]
    },
    {
      "cell_type": "code",
      "source": [
        "all_df['Графики'] = df\n"
      ],
      "metadata": {
        "id": "lSrGa4kK220Q"
      },
      "execution_count": 88,
      "outputs": []
    },
    {
      "cell_type": "code",
      "source": [
        "ddf = all_df['Графики']"
      ],
      "metadata": {
        "id": "pOYhMq37nR3k"
      },
      "execution_count": 89,
      "outputs": []
    },
    {
      "cell_type": "code",
      "source": [
        "ddf.shape"
      ],
      "metadata": {
        "colab": {
          "base_uri": "https://localhost:8080/"
        },
        "id": "v6lKf7yWoA9q",
        "outputId": "bad23a76-a443-4e5c-c6f5-f47589c20a8c"
      },
      "execution_count": 90,
      "outputs": [
        {
          "output_type": "execute_result",
          "data": {
            "text/plain": [
              "(254748, 15)"
            ]
          },
          "metadata": {},
          "execution_count": 90
        }
      ]
    },
    {
      "cell_type": "code",
      "source": [
        "len(ddf['s_index'].unique())"
      ],
      "metadata": {
        "colab": {
          "base_uri": "https://localhost:8080/"
        },
        "id": "9lu5i1pYnYb-",
        "outputId": "d5f9a439-0c62-4d4e-e623-be80ea2de05e"
      },
      "execution_count": 91,
      "outputs": [
        {
          "output_type": "execute_result",
          "data": {
            "text/plain": [
              "254052"
            ]
          },
          "metadata": {},
          "execution_count": 91
        }
      ]
    },
    {
      "cell_type": "code",
      "source": [
        "ddf.shape[0] - len(ddf['s_index'].unique())"
      ],
      "metadata": {
        "colab": {
          "base_uri": "https://localhost:8080/"
        },
        "id": "1qyIiPDyoJVp",
        "outputId": "5b9982fd-5523-4e52-f26e-163ec2a1a740"
      },
      "execution_count": 92,
      "outputs": [
        {
          "output_type": "execute_result",
          "data": {
            "text/plain": [
              "696"
            ]
          },
          "metadata": {},
          "execution_count": 92
        }
      ]
    },
    {
      "cell_type": "code",
      "source": [
        "ddf.columns"
      ],
      "metadata": {
        "colab": {
          "base_uri": "https://localhost:8080/"
        },
        "id": "vbRWyzZ15t9O",
        "outputId": "7975fe16-f956-4478-d776-19811648152a"
      },
      "execution_count": 96,
      "outputs": [
        {
          "output_type": "execute_result",
          "data": {
            "text/plain": [
              "Index(['Категория_3го_уровня', 'Ozon_ID', 'Артикул', 'День',\n",
              "       'Уникальные_посетители_всего',\n",
              "       'Уникальные_посетители_с_просмотром_карточки_товара', 'Показы_всего',\n",
              "       'Позиция_в_поиске_и_каталоге', 'В_корзину_всего', 'Заказано_товаров',\n",
              "       'Отменено_товаров', 'Доставлено_за_выбранный_период',\n",
              "       'Возвращено_товаров', 'Заказано_на_сумму', 's_index'],\n",
              "      dtype='object')"
            ]
          },
          "metadata": {},
          "execution_count": 96
        }
      ]
    },
    {
      "cell_type": "markdown",
      "source": [
        "Вывод: В базе есть не уникальные сочетания Ozon_ID и День"
      ],
      "metadata": {
        "id": "CzsKjErI5APj"
      }
    },
    {
      "cell_type": "code",
      "source": [
        "#ddf.groupby(['День','Ozon_ID']).agg({'Уникальные_посетители_всего':'sum',\n",
        "t = ddf.groupby(['s_index','Категория_3го_уровня', 'Ozon_ID', 'Артикул', 'День']).agg({'Уникальные_посетители_всего':'sum',\n",
        "                                     'Уникальные_посетители_с_просмотром_карточки_товара':'sum',\n",
        "                                     'Показы_всего':'sum',\n",
        "                                     'Позиция_в_поиске_и_каталоге':'min',\n",
        "                                     'В_корзину_всего':'sum',\n",
        "                                     'Заказано_товаров':'sum',\n",
        "                                     'Отменено_товаров':'sum',\n",
        "                                     'Доставлено_за_выбранный_период':'sum',\n",
        "                                     'Возвращено_товаров':'sum',\n",
        "                                     'Заказано_на_сумму':'sum'}).reset_index()"
      ],
      "metadata": {
        "id": "PLqpuade47qQ"
      },
      "execution_count": 97,
      "outputs": []
    },
    {
      "cell_type": "code",
      "source": [
        "t.columns"
      ],
      "metadata": {
        "colab": {
          "base_uri": "https://localhost:8080/"
        },
        "id": "MVD94E8QoaCx",
        "outputId": "f67aacc0-d97f-44e7-c139-cfddecd674f5"
      },
      "execution_count": 98,
      "outputs": [
        {
          "output_type": "execute_result",
          "data": {
            "text/plain": [
              "Index(['s_index', 'Категория_3го_уровня', 'Ozon_ID', 'Артикул', 'День',\n",
              "       'Уникальные_посетители_всего',\n",
              "       'Уникальные_посетители_с_просмотром_карточки_товара', 'Показы_всего',\n",
              "       'Позиция_в_поиске_и_каталоге', 'В_корзину_всего', 'Заказано_товаров',\n",
              "       'Отменено_товаров', 'Доставлено_за_выбранный_период',\n",
              "       'Возвращено_товаров', 'Заказано_на_сумму'],\n",
              "      dtype='object')"
            ]
          },
          "metadata": {},
          "execution_count": 98
        }
      ]
    },
    {
      "cell_type": "code",
      "source": [
        "re_col = {'Показы_всего': 'Показы',\n",
        "          'Уникальные_посетители_всего': 'Посетители',\n",
        "          'Уникальные_посетители_с_просмотром_карточки_товара':'Посетители_на_карточке_товара',\n",
        "          'В_корзину_всего': 'В_корзину',\n",
        "          'Заказано_товаров':'Заказано',\n",
        "          'Заказано_на_сумму':'Оборот_в_месяц_целевой',\n",
        "          'Доставлено_за_выбранный_период':'Доставлено',\n",
        "          'Возвращено_товаров':'Возвращено',\n",
        "          'Отменено_товаров':'Отменено'\n",
        "          }\n",
        "t.rename(columns=re_col, inplace=True)"
      ],
      "metadata": {
        "id": "yVghlfEBvgad"
      },
      "execution_count": 106,
      "outputs": []
    },
    {
      "cell_type": "code",
      "source": [
        "t"
      ],
      "metadata": {
        "id": "CYetG2ckxF7O"
      },
      "execution_count": null,
      "outputs": []
    },
    {
      "cell_type": "code",
      "source": [
        "all_df['Графики'] = t"
      ],
      "metadata": {
        "id": "gNkhfopVBQOh"
      },
      "execution_count": 108,
      "outputs": []
    },
    {
      "cell_type": "markdown",
      "source": [
        "###### Акции  "
      ],
      "metadata": {
        "id": "uHm4sXrd9eZE"
      }
    },
    {
      "cell_type": "code",
      "source": [
        "xls = '/content/base_for_analiz/Ozon/Аналитика Акции 01.06.2022-31.05.2023.xlsx'\n",
        "act = pd.read_excel(xls)   #, encoding='cp1251' если выдаёт ошибку"
      ],
      "metadata": {
        "id": "iJObPvB3VABP"
      },
      "execution_count": 109,
      "outputs": []
    },
    {
      "cell_type": "code",
      "source": [
        "df = act.copy()\n",
        "df.columns"
      ],
      "metadata": {
        "colab": {
          "base_uri": "https://localhost:8080/"
        },
        "id": "ID16fgMG-HX6",
        "outputId": "401e9a3f-2b88-447c-e73f-5e4509088243"
      },
      "execution_count": 128,
      "outputs": [
        {
          "output_type": "execute_result",
          "data": {
            "text/plain": [
              "Index(['Категория 3-го уровня', 'Товары', 'Модель', 'Ozon ID', 'Артикул',\n",
              "       'Акции', 'День', 'Уникальные посетители, всего',\n",
              "       'Уникальные посетители с просмотром карточки товара', 'Показы, всего',\n",
              "       'Показы на карточке товара', 'Показы в поиске и каталоге',\n",
              "       'Позиция в поиске и каталоге', 'В корзину, всего', 'Заказано товаров',\n",
              "       'Доставлено (за выбранный период)', 'Заказано на сумму',\n",
              "       'Заказано товаров по акции', 'Заказано на сумму по акции',\n",
              "       'Отправления с премиум-подпиской, принятые в обработку'],\n",
              "      dtype='object')"
            ]
          },
          "metadata": {},
          "execution_count": 128
        }
      ]
    },
    {
      "cell_type": "code",
      "source": [
        "col = normal_col(df)\n",
        "df.columns"
      ],
      "metadata": {
        "colab": {
          "base_uri": "https://localhost:8080/"
        },
        "id": "nUT2lUao-Uau",
        "outputId": "a9adadce-7d54-47bc-c424-4dbbe0e16818"
      },
      "execution_count": 129,
      "outputs": [
        {
          "output_type": "stream",
          "name": "stdout",
          "text": [
            "['Категория_3го_уровня', 'Товары', 'Модель', 'Ozon_ID', 'Артикул', 'Акции', 'День', 'Уникальные_посетители_всего', 'Уникальные_посетители_с_просмотром_карточки_товара', 'Показы_всего', 'Показы_на_карточке_товара', 'Показы_в_поиске_и_каталоге', 'Позиция_в_поиске_и_каталоге', 'В_корзину_всего', 'Заказано_товаров', 'Доставлено_за_выбранный_период', 'Заказано_на_сумму', 'Заказано_товаров_по_акции', 'Заказано_на_сумму_по_акции', 'Отправления_с_премиумподпиской_принятые_в_обработку']\n"
          ]
        },
        {
          "output_type": "stream",
          "name": "stderr",
          "text": [
            "<ipython-input-7-06ccb71f2ffc>:19: FutureWarning: DataFrame.set_axis 'inplace' keyword is deprecated and will be removed in a future version. Use `obj = obj.set_axis(..., copy=False)` instead\n",
            "  df.set_axis(cols, axis=1, inplace=True)\n"
          ]
        },
        {
          "output_type": "execute_result",
          "data": {
            "text/plain": [
              "Index(['Категория_3го_уровня', 'Товары', 'Модель', 'Ozon_ID', 'Артикул',\n",
              "       'Акции', 'День', 'Уникальные_посетители_всего',\n",
              "       'Уникальные_посетители_с_просмотром_карточки_товара', 'Показы_всего',\n",
              "       'Показы_на_карточке_товара', 'Показы_в_поиске_и_каталоге',\n",
              "       'Позиция_в_поиске_и_каталоге', 'В_корзину_всего', 'Заказано_товаров',\n",
              "       'Доставлено_за_выбранный_период', 'Заказано_на_сумму',\n",
              "       'Заказано_товаров_по_акции', 'Заказано_на_сумму_по_акции',\n",
              "       'Отправления_с_премиумподпиской_принятые_в_обработку'],\n",
              "      dtype='object')"
            ]
          },
          "metadata": {},
          "execution_count": 129
        }
      ]
    },
    {
      "cell_type": "code",
      "source": [
        "cols = ['Категория_3го_уровня','Товары', 'Модель', 'Артикул', 'Уникальные_посетители_всего',\n",
        "       'Уникальные_посетители_с_просмотром_карточки_товара', 'Показы_всего',\n",
        "       'Показы_на_карточке_товара', 'Показы_в_поиске_и_каталоге',\n",
        "       'Позиция_в_поиске_и_каталоге', 'В_корзину_всего','Заказано_товаров_по_акции',\n",
        "       'Доставлено_за_выбранный_период','Заказано_на_сумму_по_акции',\n",
        "       'Отправления_с_премиумподпиской_принятые_в_обработку']\n",
        "df.drop(cols, axis=1, inplace=True)\n",
        "df.head(3)"
      ],
      "metadata": {
        "colab": {
          "base_uri": "https://localhost:8080/",
          "height": 143
        },
        "id": "axqjRKaT-UXF",
        "outputId": "25f41b40-60a0-4509-ff1c-ed0e1d7e5818"
      },
      "execution_count": 130,
      "outputs": [
        {
          "output_type": "execute_result",
          "data": {
            "text/plain": [
              "     Ozon_ID Акции        День  Заказано_товаров  Заказано_на_сумму\n",
              "0  882353427   NaN  2023-03-05                 0                  0\n",
              "1  882353427   NaN  2023-03-06                 0                  0\n",
              "2  882353427   NaN  2023-03-07                 0                  0"
            ],
            "text/html": [
              "\n",
              "  <div id=\"df-f4ee49c6-2cec-4c90-a895-2a7a8c2c41da\" class=\"colab-df-container\">\n",
              "    <div>\n",
              "<style scoped>\n",
              "    .dataframe tbody tr th:only-of-type {\n",
              "        vertical-align: middle;\n",
              "    }\n",
              "\n",
              "    .dataframe tbody tr th {\n",
              "        vertical-align: top;\n",
              "    }\n",
              "\n",
              "    .dataframe thead th {\n",
              "        text-align: right;\n",
              "    }\n",
              "</style>\n",
              "<table border=\"1\" class=\"dataframe\">\n",
              "  <thead>\n",
              "    <tr style=\"text-align: right;\">\n",
              "      <th></th>\n",
              "      <th>Ozon_ID</th>\n",
              "      <th>Акции</th>\n",
              "      <th>День</th>\n",
              "      <th>Заказано_товаров</th>\n",
              "      <th>Заказано_на_сумму</th>\n",
              "    </tr>\n",
              "  </thead>\n",
              "  <tbody>\n",
              "    <tr>\n",
              "      <th>0</th>\n",
              "      <td>882353427</td>\n",
              "      <td>NaN</td>\n",
              "      <td>2023-03-05</td>\n",
              "      <td>0</td>\n",
              "      <td>0</td>\n",
              "    </tr>\n",
              "    <tr>\n",
              "      <th>1</th>\n",
              "      <td>882353427</td>\n",
              "      <td>NaN</td>\n",
              "      <td>2023-03-06</td>\n",
              "      <td>0</td>\n",
              "      <td>0</td>\n",
              "    </tr>\n",
              "    <tr>\n",
              "      <th>2</th>\n",
              "      <td>882353427</td>\n",
              "      <td>NaN</td>\n",
              "      <td>2023-03-07</td>\n",
              "      <td>0</td>\n",
              "      <td>0</td>\n",
              "    </tr>\n",
              "  </tbody>\n",
              "</table>\n",
              "</div>\n",
              "    <div class=\"colab-df-buttons\">\n",
              "\n",
              "  <div class=\"colab-df-container\">\n",
              "    <button class=\"colab-df-convert\" onclick=\"convertToInteractive('df-f4ee49c6-2cec-4c90-a895-2a7a8c2c41da')\"\n",
              "            title=\"Convert this dataframe to an interactive table.\"\n",
              "            style=\"display:none;\">\n",
              "\n",
              "  <svg xmlns=\"http://www.w3.org/2000/svg\" height=\"24px\" viewBox=\"0 -960 960 960\">\n",
              "    <path d=\"M120-120v-720h720v720H120Zm60-500h600v-160H180v160Zm220 220h160v-160H400v160Zm0 220h160v-160H400v160ZM180-400h160v-160H180v160Zm440 0h160v-160H620v160ZM180-180h160v-160H180v160Zm440 0h160v-160H620v160Z\"/>\n",
              "  </svg>\n",
              "    </button>\n",
              "\n",
              "  <style>\n",
              "    .colab-df-container {\n",
              "      display:flex;\n",
              "      gap: 12px;\n",
              "    }\n",
              "\n",
              "    .colab-df-convert {\n",
              "      background-color: #E8F0FE;\n",
              "      border: none;\n",
              "      border-radius: 50%;\n",
              "      cursor: pointer;\n",
              "      display: none;\n",
              "      fill: #1967D2;\n",
              "      height: 32px;\n",
              "      padding: 0 0 0 0;\n",
              "      width: 32px;\n",
              "    }\n",
              "\n",
              "    .colab-df-convert:hover {\n",
              "      background-color: #E2EBFA;\n",
              "      box-shadow: 0px 1px 2px rgba(60, 64, 67, 0.3), 0px 1px 3px 1px rgba(60, 64, 67, 0.15);\n",
              "      fill: #174EA6;\n",
              "    }\n",
              "\n",
              "    .colab-df-buttons div {\n",
              "      margin-bottom: 4px;\n",
              "    }\n",
              "\n",
              "    [theme=dark] .colab-df-convert {\n",
              "      background-color: #3B4455;\n",
              "      fill: #D2E3FC;\n",
              "    }\n",
              "\n",
              "    [theme=dark] .colab-df-convert:hover {\n",
              "      background-color: #434B5C;\n",
              "      box-shadow: 0px 1px 3px 1px rgba(0, 0, 0, 0.15);\n",
              "      filter: drop-shadow(0px 1px 2px rgba(0, 0, 0, 0.3));\n",
              "      fill: #FFFFFF;\n",
              "    }\n",
              "  </style>\n",
              "\n",
              "    <script>\n",
              "      const buttonEl =\n",
              "        document.querySelector('#df-f4ee49c6-2cec-4c90-a895-2a7a8c2c41da button.colab-df-convert');\n",
              "      buttonEl.style.display =\n",
              "        google.colab.kernel.accessAllowed ? 'block' : 'none';\n",
              "\n",
              "      async function convertToInteractive(key) {\n",
              "        const element = document.querySelector('#df-f4ee49c6-2cec-4c90-a895-2a7a8c2c41da');\n",
              "        const dataTable =\n",
              "          await google.colab.kernel.invokeFunction('convertToInteractive',\n",
              "                                                    [key], {});\n",
              "        if (!dataTable) return;\n",
              "\n",
              "        const docLinkHtml = 'Like what you see? Visit the ' +\n",
              "          '<a target=\"_blank\" href=https://colab.research.google.com/notebooks/data_table.ipynb>data table notebook</a>'\n",
              "          + ' to learn more about interactive tables.';\n",
              "        element.innerHTML = '';\n",
              "        dataTable['output_type'] = 'display_data';\n",
              "        await google.colab.output.renderOutput(dataTable, element);\n",
              "        const docLink = document.createElement('div');\n",
              "        docLink.innerHTML = docLinkHtml;\n",
              "        element.appendChild(docLink);\n",
              "      }\n",
              "    </script>\n",
              "  </div>\n",
              "\n",
              "\n",
              "<div id=\"df-6b63c064-3658-43f8-9a2f-4be4783acf13\">\n",
              "  <button class=\"colab-df-quickchart\" onclick=\"quickchart('df-6b63c064-3658-43f8-9a2f-4be4783acf13')\"\n",
              "            title=\"Suggest charts.\"\n",
              "            style=\"display:none;\">\n",
              "\n",
              "<svg xmlns=\"http://www.w3.org/2000/svg\" height=\"24px\"viewBox=\"0 0 24 24\"\n",
              "     width=\"24px\">\n",
              "    <g>\n",
              "        <path d=\"M19 3H5c-1.1 0-2 .9-2 2v14c0 1.1.9 2 2 2h14c1.1 0 2-.9 2-2V5c0-1.1-.9-2-2-2zM9 17H7v-7h2v7zm4 0h-2V7h2v10zm4 0h-2v-4h2v4z\"/>\n",
              "    </g>\n",
              "</svg>\n",
              "  </button>\n",
              "\n",
              "<style>\n",
              "  .colab-df-quickchart {\n",
              "    background-color: #E8F0FE;\n",
              "    border: none;\n",
              "    border-radius: 50%;\n",
              "    cursor: pointer;\n",
              "    display: none;\n",
              "    fill: #1967D2;\n",
              "    height: 32px;\n",
              "    padding: 0 0 0 0;\n",
              "    width: 32px;\n",
              "  }\n",
              "\n",
              "  .colab-df-quickchart:hover {\n",
              "    background-color: #E2EBFA;\n",
              "    box-shadow: 0px 1px 2px rgba(60, 64, 67, 0.3), 0px 1px 3px 1px rgba(60, 64, 67, 0.15);\n",
              "    fill: #174EA6;\n",
              "  }\n",
              "\n",
              "  [theme=dark] .colab-df-quickchart {\n",
              "    background-color: #3B4455;\n",
              "    fill: #D2E3FC;\n",
              "  }\n",
              "\n",
              "  [theme=dark] .colab-df-quickchart:hover {\n",
              "    background-color: #434B5C;\n",
              "    box-shadow: 0px 1px 3px 1px rgba(0, 0, 0, 0.15);\n",
              "    filter: drop-shadow(0px 1px 2px rgba(0, 0, 0, 0.3));\n",
              "    fill: #FFFFFF;\n",
              "  }\n",
              "</style>\n",
              "\n",
              "  <script>\n",
              "    async function quickchart(key) {\n",
              "      const charts = await google.colab.kernel.invokeFunction(\n",
              "          'suggestCharts', [key], {});\n",
              "    }\n",
              "    (() => {\n",
              "      let quickchartButtonEl =\n",
              "        document.querySelector('#df-6b63c064-3658-43f8-9a2f-4be4783acf13 button');\n",
              "      quickchartButtonEl.style.display =\n",
              "        google.colab.kernel.accessAllowed ? 'block' : 'none';\n",
              "    })();\n",
              "  </script>\n",
              "</div>\n",
              "    </div>\n",
              "  </div>\n"
            ]
          },
          "metadata": {},
          "execution_count": 130
        }
      ]
    },
    {
      "cell_type": "code",
      "source": [
        "re_col = {'Заказано_товаров': 'Заказано_по_Акции','Заказано_на_сумму':'Заказано_на_сумму_по_акции'}\n",
        "df.rename(columns=re_col, inplace=True)"
      ],
      "metadata": {
        "id": "eFHI9gMIlp_E"
      },
      "execution_count": 134,
      "outputs": []
    },
    {
      "cell_type": "code",
      "source": [
        "# Сборный индекс - для удобной группировки\n",
        "get_index(df)\n",
        "float2int(df)"
      ],
      "metadata": {
        "id": "R2V2VbJvl6qS"
      },
      "execution_count": 135,
      "outputs": []
    },
    {
      "cell_type": "code",
      "source": [
        "df['Ozon_ID'] = df['Ozon_ID'].astype(str)\n",
        "# act['Артикул'] = act['Артикул'].astype(str)\n",
        "\n",
        "df['День'] = pd.to_datetime(df['День'])\n",
        "df['Акции'] = np.where(df.notna()['Акции'],1,0)"
      ],
      "metadata": {
        "id": "zUGeNL3kB-3z"
      },
      "execution_count": 136,
      "outputs": []
    },
    {
      "cell_type": "code",
      "source": [
        "df.dtypes"
      ],
      "metadata": {
        "colab": {
          "base_uri": "https://localhost:8080/"
        },
        "id": "523-VxLBAxTX",
        "outputId": "37f9b68c-ab53-498f-e5a0-b399a06320bb"
      },
      "execution_count": 139,
      "outputs": [
        {
          "output_type": "execute_result",
          "data": {
            "text/plain": [
              "Ozon_ID                               object\n",
              "Акции                                  int64\n",
              "День                          datetime64[ns]\n",
              "Заказано_по_Акции                      int64\n",
              "Заказано_на_сумму_по_акции             int64\n",
              "s_index                               object\n",
              "dtype: object"
            ]
          },
          "metadata": {},
          "execution_count": 139
        }
      ]
    },
    {
      "cell_type": "code",
      "source": [
        "df.columns"
      ],
      "metadata": {
        "colab": {
          "base_uri": "https://localhost:8080/"
        },
        "id": "fyd0wwUOB0SB",
        "outputId": "c29db0aa-e6de-46ca-ba3e-d2345260c8ff"
      },
      "execution_count": 137,
      "outputs": [
        {
          "output_type": "execute_result",
          "data": {
            "text/plain": [
              "Index(['Ozon_ID', 'Акции', 'День', 'Заказано_по_Акции',\n",
              "       'Заказано_на_сумму_по_акции', 's_index'],\n",
              "      dtype='object')"
            ]
          },
          "metadata": {},
          "execution_count": 137
        }
      ]
    },
    {
      "cell_type": "code",
      "source": [
        "all_df['Акции'] = df.copy() # до группировки"
      ],
      "metadata": {
        "id": "py7X0WGRNPqP"
      },
      "execution_count": 141,
      "outputs": []
    },
    {
      "cell_type": "code",
      "source": [
        "#t = df.groupby(['s_index', 'День','Ozon_ID', 'Акции']).agg({'Заказано_товаров':'sum',\n",
        "t = df.groupby('s_index').agg({'Акции':'max','Заказано_по_Акции':'sum',\n",
        "                                'Заказано_на_сумму_по_акции':'sum'}).reset_index()"
      ],
      "metadata": {
        "id": "lntd31nQCJdk"
      },
      "execution_count": 143,
      "outputs": []
    },
    {
      "cell_type": "code",
      "source": [
        "t"
      ],
      "metadata": {
        "id": "rKKkuBLdCJXN"
      },
      "execution_count": null,
      "outputs": []
    },
    {
      "cell_type": "code",
      "source": [
        "t[t['Заказано_по_Акции']>0]"
      ],
      "metadata": {
        "colab": {
          "base_uri": "https://localhost:8080/",
          "height": 423
        },
        "id": "xfmGJuqgDTof",
        "outputId": "cfb51f17-095e-402d-fd02-cd66862a55f0"
      },
      "execution_count": 147,
      "outputs": [
        {
          "output_type": "execute_result",
          "data": {
            "text/plain": [
              "                    s_index  Акции  Заказано_по_Акции  \\\n",
              "16      2609120352022-11-02      1                  2   \n",
              "74      2609196922022-08-21      1                  2   \n",
              "77      2609196922022-08-24      1                  2   \n",
              "107     2609196922022-09-27      1                  2   \n",
              "115     2609196922022-10-05      1                  1   \n",
              "...                     ...    ...                ...   \n",
              "239098  9315290582023-05-16      1                  1   \n",
              "239108  9315290582023-05-26      1                  1   \n",
              "239155  9323847992023-05-22      1                  1   \n",
              "239273  9660180192023-05-10      1                  1   \n",
              "239293  9660180192023-05-30      1                  1   \n",
              "\n",
              "        Заказано_на_сумму_по_акции  \n",
              "16                            6080  \n",
              "74                            9880  \n",
              "77                            9880  \n",
              "107                           9880  \n",
              "115                           4940  \n",
              "...                            ...  \n",
              "239098                        1640  \n",
              "239108                        1640  \n",
              "239155                        4900  \n",
              "239273                        1640  \n",
              "239293                        1459  \n",
              "\n",
              "[6874 rows x 4 columns]"
            ],
            "text/html": [
              "\n",
              "  <div id=\"df-c60e4d02-ece1-42cb-bfb6-4a9b7cc6ebda\" class=\"colab-df-container\">\n",
              "    <div>\n",
              "<style scoped>\n",
              "    .dataframe tbody tr th:only-of-type {\n",
              "        vertical-align: middle;\n",
              "    }\n",
              "\n",
              "    .dataframe tbody tr th {\n",
              "        vertical-align: top;\n",
              "    }\n",
              "\n",
              "    .dataframe thead th {\n",
              "        text-align: right;\n",
              "    }\n",
              "</style>\n",
              "<table border=\"1\" class=\"dataframe\">\n",
              "  <thead>\n",
              "    <tr style=\"text-align: right;\">\n",
              "      <th></th>\n",
              "      <th>s_index</th>\n",
              "      <th>Акции</th>\n",
              "      <th>Заказано_по_Акции</th>\n",
              "      <th>Заказано_на_сумму_по_акции</th>\n",
              "    </tr>\n",
              "  </thead>\n",
              "  <tbody>\n",
              "    <tr>\n",
              "      <th>16</th>\n",
              "      <td>2609120352022-11-02</td>\n",
              "      <td>1</td>\n",
              "      <td>2</td>\n",
              "      <td>6080</td>\n",
              "    </tr>\n",
              "    <tr>\n",
              "      <th>74</th>\n",
              "      <td>2609196922022-08-21</td>\n",
              "      <td>1</td>\n",
              "      <td>2</td>\n",
              "      <td>9880</td>\n",
              "    </tr>\n",
              "    <tr>\n",
              "      <th>77</th>\n",
              "      <td>2609196922022-08-24</td>\n",
              "      <td>1</td>\n",
              "      <td>2</td>\n",
              "      <td>9880</td>\n",
              "    </tr>\n",
              "    <tr>\n",
              "      <th>107</th>\n",
              "      <td>2609196922022-09-27</td>\n",
              "      <td>1</td>\n",
              "      <td>2</td>\n",
              "      <td>9880</td>\n",
              "    </tr>\n",
              "    <tr>\n",
              "      <th>115</th>\n",
              "      <td>2609196922022-10-05</td>\n",
              "      <td>1</td>\n",
              "      <td>1</td>\n",
              "      <td>4940</td>\n",
              "    </tr>\n",
              "    <tr>\n",
              "      <th>...</th>\n",
              "      <td>...</td>\n",
              "      <td>...</td>\n",
              "      <td>...</td>\n",
              "      <td>...</td>\n",
              "    </tr>\n",
              "    <tr>\n",
              "      <th>239098</th>\n",
              "      <td>9315290582023-05-16</td>\n",
              "      <td>1</td>\n",
              "      <td>1</td>\n",
              "      <td>1640</td>\n",
              "    </tr>\n",
              "    <tr>\n",
              "      <th>239108</th>\n",
              "      <td>9315290582023-05-26</td>\n",
              "      <td>1</td>\n",
              "      <td>1</td>\n",
              "      <td>1640</td>\n",
              "    </tr>\n",
              "    <tr>\n",
              "      <th>239155</th>\n",
              "      <td>9323847992023-05-22</td>\n",
              "      <td>1</td>\n",
              "      <td>1</td>\n",
              "      <td>4900</td>\n",
              "    </tr>\n",
              "    <tr>\n",
              "      <th>239273</th>\n",
              "      <td>9660180192023-05-10</td>\n",
              "      <td>1</td>\n",
              "      <td>1</td>\n",
              "      <td>1640</td>\n",
              "    </tr>\n",
              "    <tr>\n",
              "      <th>239293</th>\n",
              "      <td>9660180192023-05-30</td>\n",
              "      <td>1</td>\n",
              "      <td>1</td>\n",
              "      <td>1459</td>\n",
              "    </tr>\n",
              "  </tbody>\n",
              "</table>\n",
              "<p>6874 rows × 4 columns</p>\n",
              "</div>\n",
              "    <div class=\"colab-df-buttons\">\n",
              "\n",
              "  <div class=\"colab-df-container\">\n",
              "    <button class=\"colab-df-convert\" onclick=\"convertToInteractive('df-c60e4d02-ece1-42cb-bfb6-4a9b7cc6ebda')\"\n",
              "            title=\"Convert this dataframe to an interactive table.\"\n",
              "            style=\"display:none;\">\n",
              "\n",
              "  <svg xmlns=\"http://www.w3.org/2000/svg\" height=\"24px\" viewBox=\"0 -960 960 960\">\n",
              "    <path d=\"M120-120v-720h720v720H120Zm60-500h600v-160H180v160Zm220 220h160v-160H400v160Zm0 220h160v-160H400v160ZM180-400h160v-160H180v160Zm440 0h160v-160H620v160ZM180-180h160v-160H180v160Zm440 0h160v-160H620v160Z\"/>\n",
              "  </svg>\n",
              "    </button>\n",
              "\n",
              "  <style>\n",
              "    .colab-df-container {\n",
              "      display:flex;\n",
              "      gap: 12px;\n",
              "    }\n",
              "\n",
              "    .colab-df-convert {\n",
              "      background-color: #E8F0FE;\n",
              "      border: none;\n",
              "      border-radius: 50%;\n",
              "      cursor: pointer;\n",
              "      display: none;\n",
              "      fill: #1967D2;\n",
              "      height: 32px;\n",
              "      padding: 0 0 0 0;\n",
              "      width: 32px;\n",
              "    }\n",
              "\n",
              "    .colab-df-convert:hover {\n",
              "      background-color: #E2EBFA;\n",
              "      box-shadow: 0px 1px 2px rgba(60, 64, 67, 0.3), 0px 1px 3px 1px rgba(60, 64, 67, 0.15);\n",
              "      fill: #174EA6;\n",
              "    }\n",
              "\n",
              "    .colab-df-buttons div {\n",
              "      margin-bottom: 4px;\n",
              "    }\n",
              "\n",
              "    [theme=dark] .colab-df-convert {\n",
              "      background-color: #3B4455;\n",
              "      fill: #D2E3FC;\n",
              "    }\n",
              "\n",
              "    [theme=dark] .colab-df-convert:hover {\n",
              "      background-color: #434B5C;\n",
              "      box-shadow: 0px 1px 3px 1px rgba(0, 0, 0, 0.15);\n",
              "      filter: drop-shadow(0px 1px 2px rgba(0, 0, 0, 0.3));\n",
              "      fill: #FFFFFF;\n",
              "    }\n",
              "  </style>\n",
              "\n",
              "    <script>\n",
              "      const buttonEl =\n",
              "        document.querySelector('#df-c60e4d02-ece1-42cb-bfb6-4a9b7cc6ebda button.colab-df-convert');\n",
              "      buttonEl.style.display =\n",
              "        google.colab.kernel.accessAllowed ? 'block' : 'none';\n",
              "\n",
              "      async function convertToInteractive(key) {\n",
              "        const element = document.querySelector('#df-c60e4d02-ece1-42cb-bfb6-4a9b7cc6ebda');\n",
              "        const dataTable =\n",
              "          await google.colab.kernel.invokeFunction('convertToInteractive',\n",
              "                                                    [key], {});\n",
              "        if (!dataTable) return;\n",
              "\n",
              "        const docLinkHtml = 'Like what you see? Visit the ' +\n",
              "          '<a target=\"_blank\" href=https://colab.research.google.com/notebooks/data_table.ipynb>data table notebook</a>'\n",
              "          + ' to learn more about interactive tables.';\n",
              "        element.innerHTML = '';\n",
              "        dataTable['output_type'] = 'display_data';\n",
              "        await google.colab.output.renderOutput(dataTable, element);\n",
              "        const docLink = document.createElement('div');\n",
              "        docLink.innerHTML = docLinkHtml;\n",
              "        element.appendChild(docLink);\n",
              "      }\n",
              "    </script>\n",
              "  </div>\n",
              "\n",
              "\n",
              "<div id=\"df-4ddca7cb-0942-4d7c-9873-a856fc55bd06\">\n",
              "  <button class=\"colab-df-quickchart\" onclick=\"quickchart('df-4ddca7cb-0942-4d7c-9873-a856fc55bd06')\"\n",
              "            title=\"Suggest charts.\"\n",
              "            style=\"display:none;\">\n",
              "\n",
              "<svg xmlns=\"http://www.w3.org/2000/svg\" height=\"24px\"viewBox=\"0 0 24 24\"\n",
              "     width=\"24px\">\n",
              "    <g>\n",
              "        <path d=\"M19 3H5c-1.1 0-2 .9-2 2v14c0 1.1.9 2 2 2h14c1.1 0 2-.9 2-2V5c0-1.1-.9-2-2-2zM9 17H7v-7h2v7zm4 0h-2V7h2v10zm4 0h-2v-4h2v4z\"/>\n",
              "    </g>\n",
              "</svg>\n",
              "  </button>\n",
              "\n",
              "<style>\n",
              "  .colab-df-quickchart {\n",
              "    background-color: #E8F0FE;\n",
              "    border: none;\n",
              "    border-radius: 50%;\n",
              "    cursor: pointer;\n",
              "    display: none;\n",
              "    fill: #1967D2;\n",
              "    height: 32px;\n",
              "    padding: 0 0 0 0;\n",
              "    width: 32px;\n",
              "  }\n",
              "\n",
              "  .colab-df-quickchart:hover {\n",
              "    background-color: #E2EBFA;\n",
              "    box-shadow: 0px 1px 2px rgba(60, 64, 67, 0.3), 0px 1px 3px 1px rgba(60, 64, 67, 0.15);\n",
              "    fill: #174EA6;\n",
              "  }\n",
              "\n",
              "  [theme=dark] .colab-df-quickchart {\n",
              "    background-color: #3B4455;\n",
              "    fill: #D2E3FC;\n",
              "  }\n",
              "\n",
              "  [theme=dark] .colab-df-quickchart:hover {\n",
              "    background-color: #434B5C;\n",
              "    box-shadow: 0px 1px 3px 1px rgba(0, 0, 0, 0.15);\n",
              "    filter: drop-shadow(0px 1px 2px rgba(0, 0, 0, 0.3));\n",
              "    fill: #FFFFFF;\n",
              "  }\n",
              "</style>\n",
              "\n",
              "  <script>\n",
              "    async function quickchart(key) {\n",
              "      const charts = await google.colab.kernel.invokeFunction(\n",
              "          'suggestCharts', [key], {});\n",
              "    }\n",
              "    (() => {\n",
              "      let quickchartButtonEl =\n",
              "        document.querySelector('#df-4ddca7cb-0942-4d7c-9873-a856fc55bd06 button');\n",
              "      quickchartButtonEl.style.display =\n",
              "        google.colab.kernel.accessAllowed ? 'block' : 'none';\n",
              "    })();\n",
              "  </script>\n",
              "</div>\n",
              "    </div>\n",
              "  </div>\n"
            ]
          },
          "metadata": {},
          "execution_count": 147
        }
      ]
    },
    {
      "cell_type": "code",
      "source": [
        "all_df['Акции_груп'] = t.copy() # с группировкой"
      ],
      "metadata": {
        "id": "bnsfe5QoA-gW"
      },
      "execution_count": 149,
      "outputs": []
    },
    {
      "cell_type": "markdown",
      "source": [
        "###### Объединяем основные таблицы"
      ],
      "metadata": {
        "id": "uEueqQaBz-W0"
      }
    },
    {
      "cell_type": "code",
      "source": [
        "df_svod = pd.DataFrame()"
      ],
      "metadata": {
        "id": "FgBvsV161az0"
      },
      "execution_count": 150,
      "outputs": []
    },
    {
      "cell_type": "code",
      "source": [
        "print(len(all_df['Графики']))\n",
        "all_df['Графики'].columns"
      ],
      "metadata": {
        "colab": {
          "base_uri": "https://localhost:8080/"
        },
        "id": "aIeJOAErO4_I",
        "outputId": "ae0fb392-5f9b-4910-b214-8857ec27a5e0"
      },
      "execution_count": 151,
      "outputs": [
        {
          "output_type": "stream",
          "name": "stdout",
          "text": [
            "254069\n"
          ]
        },
        {
          "output_type": "execute_result",
          "data": {
            "text/plain": [
              "Index(['s_index', 'Категория_3го_уровня', 'Ozon_ID', 'Артикул', 'День',\n",
              "       'Посетители', 'Посетители_на_карточке_товара', 'Показы',\n",
              "       'Позиция_в_поиске_и_каталоге', 'В_корзину', 'Заказано', 'Отменено',\n",
              "       'Доставлено', 'Возвращено', 'Оборот_в_месяц_целевой'],\n",
              "      dtype='object')"
            ]
          },
          "metadata": {},
          "execution_count": 151
        }
      ]
    },
    {
      "cell_type": "code",
      "source": [
        "print(len(all_df['Акции_груп']))\n",
        "all_df['Акции_груп'].columns"
      ],
      "metadata": {
        "colab": {
          "base_uri": "https://localhost:8080/"
        },
        "id": "9agle1UJO8iO",
        "outputId": "80331182-e0d2-4ab3-d8b8-680a177b9b66"
      },
      "execution_count": 152,
      "outputs": [
        {
          "output_type": "stream",
          "name": "stdout",
          "text": [
            "239295\n"
          ]
        },
        {
          "output_type": "execute_result",
          "data": {
            "text/plain": [
              "Index(['s_index', 'Акции', 'Заказано_по_Акции', 'Заказано_на_сумму_по_акции'], dtype='object')"
            ]
          },
          "metadata": {},
          "execution_count": 152
        }
      ]
    },
    {
      "cell_type": "code",
      "source": [
        "#df_svod = pd.merge(all_df['Графики'],all_df['Акции'], on=['День', 'Ozon_ID'], how='left')\n",
        "df_svod = pd.merge(all_df['Графики'],all_df['Акции_груп'], on='s_index', how='left')"
      ],
      "metadata": {
        "id": "rR4l7Ib61VNW"
      },
      "execution_count": 155,
      "outputs": []
    },
    {
      "cell_type": "code",
      "source": [
        "df_svod.columns"
      ],
      "metadata": {
        "colab": {
          "base_uri": "https://localhost:8080/"
        },
        "id": "x66mKPWX3e_O",
        "outputId": "925a9fdf-2783-4304-ea0a-e594658f1ac7"
      },
      "execution_count": 156,
      "outputs": [
        {
          "output_type": "execute_result",
          "data": {
            "text/plain": [
              "Index(['s_index', 'Категория_3го_уровня', 'Ozon_ID', 'Артикул', 'День',\n",
              "       'Посетители', 'Посетители_на_карточке_товара', 'Показы',\n",
              "       'Позиция_в_поиске_и_каталоге', 'В_корзину', 'Заказано', 'Отменено',\n",
              "       'Доставлено', 'Возвращено', 'Оборот_в_месяц_целевой', 'Акции',\n",
              "       'Заказано_по_Акции', 'Заказано_на_сумму_по_акции'],\n",
              "      dtype='object')"
            ]
          },
          "metadata": {},
          "execution_count": 156
        }
      ]
    },
    {
      "cell_type": "code",
      "source": [
        "df = df_svod.copy()"
      ],
      "metadata": {
        "id": "rgVqocxy340g"
      },
      "execution_count": 157,
      "outputs": []
    },
    {
      "cell_type": "code",
      "source": [
        "df.columns"
      ],
      "metadata": {
        "colab": {
          "base_uri": "https://localhost:8080/"
        },
        "id": "JJioBD3w5_u3",
        "outputId": "61cd873b-d9f7-49c3-d5c8-b7c7d3552e06"
      },
      "execution_count": 158,
      "outputs": [
        {
          "output_type": "execute_result",
          "data": {
            "text/plain": [
              "Index(['s_index', 'Категория_3го_уровня', 'Ozon_ID', 'Артикул', 'День',\n",
              "       'Посетители', 'Посетители_на_карточке_товара', 'Показы',\n",
              "       'Позиция_в_поиске_и_каталоге', 'В_корзину', 'Заказано', 'Отменено',\n",
              "       'Доставлено', 'Возвращено', 'Оборот_в_месяц_целевой', 'Акции',\n",
              "       'Заказано_по_Акции', 'Заказано_на_сумму_по_акции'],\n",
              "      dtype='object')"
            ]
          },
          "metadata": {},
          "execution_count": 158
        }
      ]
    },
    {
      "cell_type": "markdown",
      "source": [
        "Есть вопросы по колонкам из Акций:\n",
        "\n",
        "'Заказано_по_акции',\n",
        "\n",
        "'Заказано_на_сумму_y',\n",
        "\n",
        "'Заказано_товаров_по_акции',\n",
        "\n",
        "'Заказано_на_сумму_по_акции'"
      ],
      "metadata": {
        "id": "cv6HVolqF8KD"
      }
    },
    {
      "cell_type": "code",
      "source": [
        "df['Средний_чек'] = df['Оборот_в_месяц_целевой'] / df['Заказано']"
      ],
      "metadata": {
        "id": "Vja91CQz6FhJ"
      },
      "execution_count": 159,
      "outputs": []
    },
    {
      "cell_type": "code",
      "source": [
        "df.dtypes"
      ],
      "metadata": {
        "colab": {
          "base_uri": "https://localhost:8080/"
        },
        "id": "WyslDLvn8Xbz",
        "outputId": "6d77940d-52d4-4dd8-eddc-cbc01faa2322"
      },
      "execution_count": 160,
      "outputs": [
        {
          "output_type": "execute_result",
          "data": {
            "text/plain": [
              "s_index                                  object\n",
              "Категория_3го_уровня                     object\n",
              "Ozon_ID                                  object\n",
              "Артикул                                  object\n",
              "День                             datetime64[ns]\n",
              "Посетители                                int64\n",
              "Посетители_на_карточке_товара             int64\n",
              "Показы                                    int64\n",
              "Позиция_в_поиске_и_каталоге               int64\n",
              "В_корзину                                 int64\n",
              "Заказано                                  int64\n",
              "Отменено                                  int64\n",
              "Доставлено                                int64\n",
              "Возвращено                                int64\n",
              "Оборот_в_месяц_целевой                    int64\n",
              "Акции                                   float64\n",
              "Заказано_по_Акции                       float64\n",
              "Заказано_на_сумму_по_акции              float64\n",
              "Средний_чек                             float64\n",
              "dtype: object"
            ]
          },
          "metadata": {},
          "execution_count": 160
        }
      ]
    },
    {
      "cell_type": "code",
      "source": [
        "float2int(df)"
      ],
      "metadata": {
        "id": "BdXi3VMLRe8T"
      },
      "execution_count": 161,
      "outputs": []
    },
    {
      "cell_type": "code",
      "source": [
        "df.isna().mean().sort_values(ascending=False)"
      ],
      "metadata": {
        "id": "QbNZ6en2Q9jb"
      },
      "execution_count": null,
      "outputs": []
    },
    {
      "cell_type": "code",
      "source": [
        "df.head(3)"
      ],
      "metadata": {
        "colab": {
          "base_uri": "https://localhost:8080/",
          "height": 215
        },
        "id": "kw3kc9dp8Lt7",
        "outputId": "c49634b6-bce6-497b-9ecb-221c5612410f"
      },
      "execution_count": 165,
      "outputs": [
        {
          "output_type": "execute_result",
          "data": {
            "text/plain": [
              "               s_index Категория_3го_уровня    Ozon_ID Артикул       День  \\\n",
              "0  2609022712022-06-02  Лампа автомобильная  260902271   25541 2022-06-02   \n",
              "1  2609022712022-06-03  Лампа автомобильная  260902271   25541 2022-06-03   \n",
              "2  2609022712022-06-07  Лампа автомобильная  260902271   25541 2022-06-07   \n",
              "\n",
              "   Посетители  Посетители_на_карточке_товара  Показы  \\\n",
              "0           1                              0       1   \n",
              "1           1                              0       1   \n",
              "2           1                              1       1   \n",
              "\n",
              "   Позиция_в_поиске_и_каталоге  В_корзину  Заказано  Отменено  Доставлено  \\\n",
              "0                            0          0         0         0           0   \n",
              "1                            0          0         0         0           0   \n",
              "2                            0          0         0         0           0   \n",
              "\n",
              "   Возвращено  Оборот_в_месяц_целевой  Акции  Заказано_по_Акции  \\\n",
              "0           0                       0      0                  0   \n",
              "1           0                       0      0                  0   \n",
              "2           0                       0      0                  0   \n",
              "\n",
              "   Заказано_на_сумму_по_акции  Средний_чек  \n",
              "0                           0            0  \n",
              "1                           0            0  \n",
              "2                           0            0  "
            ],
            "text/html": [
              "\n",
              "  <div id=\"df-a13d72c1-869c-4f00-bb33-5cbf91812ea2\" class=\"colab-df-container\">\n",
              "    <div>\n",
              "<style scoped>\n",
              "    .dataframe tbody tr th:only-of-type {\n",
              "        vertical-align: middle;\n",
              "    }\n",
              "\n",
              "    .dataframe tbody tr th {\n",
              "        vertical-align: top;\n",
              "    }\n",
              "\n",
              "    .dataframe thead th {\n",
              "        text-align: right;\n",
              "    }\n",
              "</style>\n",
              "<table border=\"1\" class=\"dataframe\">\n",
              "  <thead>\n",
              "    <tr style=\"text-align: right;\">\n",
              "      <th></th>\n",
              "      <th>s_index</th>\n",
              "      <th>Категория_3го_уровня</th>\n",
              "      <th>Ozon_ID</th>\n",
              "      <th>Артикул</th>\n",
              "      <th>День</th>\n",
              "      <th>Посетители</th>\n",
              "      <th>Посетители_на_карточке_товара</th>\n",
              "      <th>Показы</th>\n",
              "      <th>Позиция_в_поиске_и_каталоге</th>\n",
              "      <th>В_корзину</th>\n",
              "      <th>Заказано</th>\n",
              "      <th>Отменено</th>\n",
              "      <th>Доставлено</th>\n",
              "      <th>Возвращено</th>\n",
              "      <th>Оборот_в_месяц_целевой</th>\n",
              "      <th>Акции</th>\n",
              "      <th>Заказано_по_Акции</th>\n",
              "      <th>Заказано_на_сумму_по_акции</th>\n",
              "      <th>Средний_чек</th>\n",
              "    </tr>\n",
              "  </thead>\n",
              "  <tbody>\n",
              "    <tr>\n",
              "      <th>0</th>\n",
              "      <td>2609022712022-06-02</td>\n",
              "      <td>Лампа автомобильная</td>\n",
              "      <td>260902271</td>\n",
              "      <td>25541</td>\n",
              "      <td>2022-06-02</td>\n",
              "      <td>1</td>\n",
              "      <td>0</td>\n",
              "      <td>1</td>\n",
              "      <td>0</td>\n",
              "      <td>0</td>\n",
              "      <td>0</td>\n",
              "      <td>0</td>\n",
              "      <td>0</td>\n",
              "      <td>0</td>\n",
              "      <td>0</td>\n",
              "      <td>0</td>\n",
              "      <td>0</td>\n",
              "      <td>0</td>\n",
              "      <td>0</td>\n",
              "    </tr>\n",
              "    <tr>\n",
              "      <th>1</th>\n",
              "      <td>2609022712022-06-03</td>\n",
              "      <td>Лампа автомобильная</td>\n",
              "      <td>260902271</td>\n",
              "      <td>25541</td>\n",
              "      <td>2022-06-03</td>\n",
              "      <td>1</td>\n",
              "      <td>0</td>\n",
              "      <td>1</td>\n",
              "      <td>0</td>\n",
              "      <td>0</td>\n",
              "      <td>0</td>\n",
              "      <td>0</td>\n",
              "      <td>0</td>\n",
              "      <td>0</td>\n",
              "      <td>0</td>\n",
              "      <td>0</td>\n",
              "      <td>0</td>\n",
              "      <td>0</td>\n",
              "      <td>0</td>\n",
              "    </tr>\n",
              "    <tr>\n",
              "      <th>2</th>\n",
              "      <td>2609022712022-06-07</td>\n",
              "      <td>Лампа автомобильная</td>\n",
              "      <td>260902271</td>\n",
              "      <td>25541</td>\n",
              "      <td>2022-06-07</td>\n",
              "      <td>1</td>\n",
              "      <td>1</td>\n",
              "      <td>1</td>\n",
              "      <td>0</td>\n",
              "      <td>0</td>\n",
              "      <td>0</td>\n",
              "      <td>0</td>\n",
              "      <td>0</td>\n",
              "      <td>0</td>\n",
              "      <td>0</td>\n",
              "      <td>0</td>\n",
              "      <td>0</td>\n",
              "      <td>0</td>\n",
              "      <td>0</td>\n",
              "    </tr>\n",
              "  </tbody>\n",
              "</table>\n",
              "</div>\n",
              "    <div class=\"colab-df-buttons\">\n",
              "\n",
              "  <div class=\"colab-df-container\">\n",
              "    <button class=\"colab-df-convert\" onclick=\"convertToInteractive('df-a13d72c1-869c-4f00-bb33-5cbf91812ea2')\"\n",
              "            title=\"Convert this dataframe to an interactive table.\"\n",
              "            style=\"display:none;\">\n",
              "\n",
              "  <svg xmlns=\"http://www.w3.org/2000/svg\" height=\"24px\" viewBox=\"0 -960 960 960\">\n",
              "    <path d=\"M120-120v-720h720v720H120Zm60-500h600v-160H180v160Zm220 220h160v-160H400v160Zm0 220h160v-160H400v160ZM180-400h160v-160H180v160Zm440 0h160v-160H620v160ZM180-180h160v-160H180v160Zm440 0h160v-160H620v160Z\"/>\n",
              "  </svg>\n",
              "    </button>\n",
              "\n",
              "  <style>\n",
              "    .colab-df-container {\n",
              "      display:flex;\n",
              "      gap: 12px;\n",
              "    }\n",
              "\n",
              "    .colab-df-convert {\n",
              "      background-color: #E8F0FE;\n",
              "      border: none;\n",
              "      border-radius: 50%;\n",
              "      cursor: pointer;\n",
              "      display: none;\n",
              "      fill: #1967D2;\n",
              "      height: 32px;\n",
              "      padding: 0 0 0 0;\n",
              "      width: 32px;\n",
              "    }\n",
              "\n",
              "    .colab-df-convert:hover {\n",
              "      background-color: #E2EBFA;\n",
              "      box-shadow: 0px 1px 2px rgba(60, 64, 67, 0.3), 0px 1px 3px 1px rgba(60, 64, 67, 0.15);\n",
              "      fill: #174EA6;\n",
              "    }\n",
              "\n",
              "    .colab-df-buttons div {\n",
              "      margin-bottom: 4px;\n",
              "    }\n",
              "\n",
              "    [theme=dark] .colab-df-convert {\n",
              "      background-color: #3B4455;\n",
              "      fill: #D2E3FC;\n",
              "    }\n",
              "\n",
              "    [theme=dark] .colab-df-convert:hover {\n",
              "      background-color: #434B5C;\n",
              "      box-shadow: 0px 1px 3px 1px rgba(0, 0, 0, 0.15);\n",
              "      filter: drop-shadow(0px 1px 2px rgba(0, 0, 0, 0.3));\n",
              "      fill: #FFFFFF;\n",
              "    }\n",
              "  </style>\n",
              "\n",
              "    <script>\n",
              "      const buttonEl =\n",
              "        document.querySelector('#df-a13d72c1-869c-4f00-bb33-5cbf91812ea2 button.colab-df-convert');\n",
              "      buttonEl.style.display =\n",
              "        google.colab.kernel.accessAllowed ? 'block' : 'none';\n",
              "\n",
              "      async function convertToInteractive(key) {\n",
              "        const element = document.querySelector('#df-a13d72c1-869c-4f00-bb33-5cbf91812ea2');\n",
              "        const dataTable =\n",
              "          await google.colab.kernel.invokeFunction('convertToInteractive',\n",
              "                                                    [key], {});\n",
              "        if (!dataTable) return;\n",
              "\n",
              "        const docLinkHtml = 'Like what you see? Visit the ' +\n",
              "          '<a target=\"_blank\" href=https://colab.research.google.com/notebooks/data_table.ipynb>data table notebook</a>'\n",
              "          + ' to learn more about interactive tables.';\n",
              "        element.innerHTML = '';\n",
              "        dataTable['output_type'] = 'display_data';\n",
              "        await google.colab.output.renderOutput(dataTable, element);\n",
              "        const docLink = document.createElement('div');\n",
              "        docLink.innerHTML = docLinkHtml;\n",
              "        element.appendChild(docLink);\n",
              "      }\n",
              "    </script>\n",
              "  </div>\n",
              "\n",
              "\n",
              "<div id=\"df-cbceb565-bd8a-44c1-b68e-f1470b096f47\">\n",
              "  <button class=\"colab-df-quickchart\" onclick=\"quickchart('df-cbceb565-bd8a-44c1-b68e-f1470b096f47')\"\n",
              "            title=\"Suggest charts.\"\n",
              "            style=\"display:none;\">\n",
              "\n",
              "<svg xmlns=\"http://www.w3.org/2000/svg\" height=\"24px\"viewBox=\"0 0 24 24\"\n",
              "     width=\"24px\">\n",
              "    <g>\n",
              "        <path d=\"M19 3H5c-1.1 0-2 .9-2 2v14c0 1.1.9 2 2 2h14c1.1 0 2-.9 2-2V5c0-1.1-.9-2-2-2zM9 17H7v-7h2v7zm4 0h-2V7h2v10zm4 0h-2v-4h2v4z\"/>\n",
              "    </g>\n",
              "</svg>\n",
              "  </button>\n",
              "\n",
              "<style>\n",
              "  .colab-df-quickchart {\n",
              "    background-color: #E8F0FE;\n",
              "    border: none;\n",
              "    border-radius: 50%;\n",
              "    cursor: pointer;\n",
              "    display: none;\n",
              "    fill: #1967D2;\n",
              "    height: 32px;\n",
              "    padding: 0 0 0 0;\n",
              "    width: 32px;\n",
              "  }\n",
              "\n",
              "  .colab-df-quickchart:hover {\n",
              "    background-color: #E2EBFA;\n",
              "    box-shadow: 0px 1px 2px rgba(60, 64, 67, 0.3), 0px 1px 3px 1px rgba(60, 64, 67, 0.15);\n",
              "    fill: #174EA6;\n",
              "  }\n",
              "\n",
              "  [theme=dark] .colab-df-quickchart {\n",
              "    background-color: #3B4455;\n",
              "    fill: #D2E3FC;\n",
              "  }\n",
              "\n",
              "  [theme=dark] .colab-df-quickchart:hover {\n",
              "    background-color: #434B5C;\n",
              "    box-shadow: 0px 1px 3px 1px rgba(0, 0, 0, 0.15);\n",
              "    filter: drop-shadow(0px 1px 2px rgba(0, 0, 0, 0.3));\n",
              "    fill: #FFFFFF;\n",
              "  }\n",
              "</style>\n",
              "\n",
              "  <script>\n",
              "    async function quickchart(key) {\n",
              "      const charts = await google.colab.kernel.invokeFunction(\n",
              "          'suggestCharts', [key], {});\n",
              "    }\n",
              "    (() => {\n",
              "      let quickchartButtonEl =\n",
              "        document.querySelector('#df-cbceb565-bd8a-44c1-b68e-f1470b096f47 button');\n",
              "      quickchartButtonEl.style.display =\n",
              "        google.colab.kernel.accessAllowed ? 'block' : 'none';\n",
              "    })();\n",
              "  </script>\n",
              "</div>\n",
              "    </div>\n",
              "  </div>\n"
            ]
          },
          "metadata": {},
          "execution_count": 165
        }
      ]
    },
    {
      "cell_type": "code",
      "source": [
        "df.columns"
      ],
      "metadata": {
        "colab": {
          "base_uri": "https://localhost:8080/"
        },
        "id": "HSQqUJeWQ9dZ",
        "outputId": "83b81ae4-9853-46e5-f7ad-62ad9b8e18a0"
      },
      "execution_count": 164,
      "outputs": [
        {
          "output_type": "execute_result",
          "data": {
            "text/plain": [
              "Index(['s_index', 'Категория_3го_уровня', 'Ozon_ID', 'Артикул', 'День',\n",
              "       'Посетители', 'Посетители_на_карточке_товара', 'Показы',\n",
              "       'Позиция_в_поиске_и_каталоге', 'В_корзину', 'Заказано', 'Отменено',\n",
              "       'Доставлено', 'Возвращено', 'Оборот_в_месяц_целевой', 'Акции',\n",
              "       'Заказано_по_Акции', 'Заказано_на_сумму_по_акции', 'Средний_чек'],\n",
              "      dtype='object')"
            ]
          },
          "metadata": {},
          "execution_count": 164
        }
      ]
    },
    {
      "cell_type": "code",
      "source": [
        "df.shape"
      ],
      "metadata": {
        "id": "Pf1P3u-s8r2m",
        "colab": {
          "base_uri": "https://localhost:8080/"
        },
        "outputId": "8730eb0c-6426-47de-e169-373a6331995e"
      },
      "execution_count": 166,
      "outputs": [
        {
          "output_type": "execute_result",
          "data": {
            "text/plain": [
              "(254069, 19)"
            ]
          },
          "metadata": {},
          "execution_count": 166
        }
      ]
    },
    {
      "cell_type": "code",
      "source": [
        "df.groupby(['s_index', 'Категория_3го_уровня', 'Ozon_ID', 'Артикул', 'День']).agg({'Посетители':'sum',\n",
        "                                    'Посетители_на_карточке_товара':'sum',\n",
        "                                    'Показы':'sum',\n",
        "                                    'Позиция_в_поиске_и_каталоге':'min',\n",
        "                                    'В_корзину':'sum', 'Заказано':'sum',\n",
        "                                    'Отменено':'sum',\n",
        "                                    'Доставлено':'sum',\n",
        "                                    'Возвращено':'sum',\n",
        "                                    'Оборот_в_месяц_целевой':'sum',\n",
        "                                    'Акции':'max',\n",
        "                                    'Заказано_по_Акции':'sum',\n",
        "                                    'Заказано_на_сумму_по_акции':'sum',\n",
        "                                    'Средний_чек':'mean'}).reset_index()"
      ],
      "metadata": {
        "id": "cl2y_iIe9pTV"
      },
      "execution_count": null,
      "outputs": []
    },
    {
      "cell_type": "code",
      "source": [
        "df.shape"
      ],
      "metadata": {
        "colab": {
          "base_uri": "https://localhost:8080/"
        },
        "id": "iH4e4BaqS00g",
        "outputId": "c1197fc0-9367-4674-bc70-47276c267d92"
      },
      "execution_count": 169,
      "outputs": [
        {
          "output_type": "execute_result",
          "data": {
            "text/plain": [
              "(254069, 19)"
            ]
          },
          "metadata": {},
          "execution_count": 169
        }
      ]
    },
    {
      "cell_type": "code",
      "source": [
        "mpoz = df['Позиция_в_поиске_и_каталоге'].max()\n",
        "mpoz"
      ],
      "metadata": {
        "id": "UTOvaaMcJmw2",
        "colab": {
          "base_uri": "https://localhost:8080/"
        },
        "outputId": "bab828db-72f3-41d9-f5c0-e3b390df9841"
      },
      "execution_count": 170,
      "outputs": [
        {
          "output_type": "execute_result",
          "data": {
            "text/plain": [
              "4584"
            ]
          },
          "metadata": {},
          "execution_count": 170
        }
      ]
    },
    {
      "cell_type": "code",
      "source": [
        "df['Позиция_в_поиске_и_каталоге'] = np.where((df['Позиция_в_поиске_и_каталоге']==0),\n",
        "                                             mpoz, df['Позиция_в_поиске_и_каталоге'])"
      ],
      "metadata": {
        "id": "3a9Ia8W0J6dp"
      },
      "execution_count": 171,
      "outputs": []
    },
    {
      "cell_type": "code",
      "source": [
        "df[df['Позиция_в_поиске_и_каталоге'] == 0] # Проверяем"
      ],
      "metadata": {
        "id": "6OhyO-tk9pOJ",
        "colab": {
          "base_uri": "https://localhost:8080/",
          "height": 109
        },
        "outputId": "5722da7e-c365-4813-a2c7-f8d6a581e6e9"
      },
      "execution_count": 172,
      "outputs": [
        {
          "output_type": "execute_result",
          "data": {
            "text/plain": [
              "Empty DataFrame\n",
              "Columns: [s_index, Категория_3го_уровня, Ozon_ID, Артикул, День, Посетители, Посетители_на_карточке_товара, Показы, Позиция_в_поиске_и_каталоге, В_корзину, Заказано, Отменено, Доставлено, Возвращено, Оборот_в_месяц_целевой, Акции, Заказано_по_Акции, Заказано_на_сумму_по_акции, Средний_чек]\n",
              "Index: []"
            ],
            "text/html": [
              "\n",
              "  <div id=\"df-80390b45-ffd1-448d-acaf-49521b0fe96e\" class=\"colab-df-container\">\n",
              "    <div>\n",
              "<style scoped>\n",
              "    .dataframe tbody tr th:only-of-type {\n",
              "        vertical-align: middle;\n",
              "    }\n",
              "\n",
              "    .dataframe tbody tr th {\n",
              "        vertical-align: top;\n",
              "    }\n",
              "\n",
              "    .dataframe thead th {\n",
              "        text-align: right;\n",
              "    }\n",
              "</style>\n",
              "<table border=\"1\" class=\"dataframe\">\n",
              "  <thead>\n",
              "    <tr style=\"text-align: right;\">\n",
              "      <th></th>\n",
              "      <th>s_index</th>\n",
              "      <th>Категория_3го_уровня</th>\n",
              "      <th>Ozon_ID</th>\n",
              "      <th>Артикул</th>\n",
              "      <th>День</th>\n",
              "      <th>Посетители</th>\n",
              "      <th>Посетители_на_карточке_товара</th>\n",
              "      <th>Показы</th>\n",
              "      <th>Позиция_в_поиске_и_каталоге</th>\n",
              "      <th>В_корзину</th>\n",
              "      <th>Заказано</th>\n",
              "      <th>Отменено</th>\n",
              "      <th>Доставлено</th>\n",
              "      <th>Возвращено</th>\n",
              "      <th>Оборот_в_месяц_целевой</th>\n",
              "      <th>Акции</th>\n",
              "      <th>Заказано_по_Акции</th>\n",
              "      <th>Заказано_на_сумму_по_акции</th>\n",
              "      <th>Средний_чек</th>\n",
              "    </tr>\n",
              "  </thead>\n",
              "  <tbody>\n",
              "  </tbody>\n",
              "</table>\n",
              "</div>\n",
              "    <div class=\"colab-df-buttons\">\n",
              "\n",
              "  <div class=\"colab-df-container\">\n",
              "    <button class=\"colab-df-convert\" onclick=\"convertToInteractive('df-80390b45-ffd1-448d-acaf-49521b0fe96e')\"\n",
              "            title=\"Convert this dataframe to an interactive table.\"\n",
              "            style=\"display:none;\">\n",
              "\n",
              "  <svg xmlns=\"http://www.w3.org/2000/svg\" height=\"24px\" viewBox=\"0 -960 960 960\">\n",
              "    <path d=\"M120-120v-720h720v720H120Zm60-500h600v-160H180v160Zm220 220h160v-160H400v160Zm0 220h160v-160H400v160ZM180-400h160v-160H180v160Zm440 0h160v-160H620v160ZM180-180h160v-160H180v160Zm440 0h160v-160H620v160Z\"/>\n",
              "  </svg>\n",
              "    </button>\n",
              "\n",
              "  <style>\n",
              "    .colab-df-container {\n",
              "      display:flex;\n",
              "      gap: 12px;\n",
              "    }\n",
              "\n",
              "    .colab-df-convert {\n",
              "      background-color: #E8F0FE;\n",
              "      border: none;\n",
              "      border-radius: 50%;\n",
              "      cursor: pointer;\n",
              "      display: none;\n",
              "      fill: #1967D2;\n",
              "      height: 32px;\n",
              "      padding: 0 0 0 0;\n",
              "      width: 32px;\n",
              "    }\n",
              "\n",
              "    .colab-df-convert:hover {\n",
              "      background-color: #E2EBFA;\n",
              "      box-shadow: 0px 1px 2px rgba(60, 64, 67, 0.3), 0px 1px 3px 1px rgba(60, 64, 67, 0.15);\n",
              "      fill: #174EA6;\n",
              "    }\n",
              "\n",
              "    .colab-df-buttons div {\n",
              "      margin-bottom: 4px;\n",
              "    }\n",
              "\n",
              "    [theme=dark] .colab-df-convert {\n",
              "      background-color: #3B4455;\n",
              "      fill: #D2E3FC;\n",
              "    }\n",
              "\n",
              "    [theme=dark] .colab-df-convert:hover {\n",
              "      background-color: #434B5C;\n",
              "      box-shadow: 0px 1px 3px 1px rgba(0, 0, 0, 0.15);\n",
              "      filter: drop-shadow(0px 1px 2px rgba(0, 0, 0, 0.3));\n",
              "      fill: #FFFFFF;\n",
              "    }\n",
              "  </style>\n",
              "\n",
              "    <script>\n",
              "      const buttonEl =\n",
              "        document.querySelector('#df-80390b45-ffd1-448d-acaf-49521b0fe96e button.colab-df-convert');\n",
              "      buttonEl.style.display =\n",
              "        google.colab.kernel.accessAllowed ? 'block' : 'none';\n",
              "\n",
              "      async function convertToInteractive(key) {\n",
              "        const element = document.querySelector('#df-80390b45-ffd1-448d-acaf-49521b0fe96e');\n",
              "        const dataTable =\n",
              "          await google.colab.kernel.invokeFunction('convertToInteractive',\n",
              "                                                    [key], {});\n",
              "        if (!dataTable) return;\n",
              "\n",
              "        const docLinkHtml = 'Like what you see? Visit the ' +\n",
              "          '<a target=\"_blank\" href=https://colab.research.google.com/notebooks/data_table.ipynb>data table notebook</a>'\n",
              "          + ' to learn more about interactive tables.';\n",
              "        element.innerHTML = '';\n",
              "        dataTable['output_type'] = 'display_data';\n",
              "        await google.colab.output.renderOutput(dataTable, element);\n",
              "        const docLink = document.createElement('div');\n",
              "        docLink.innerHTML = docLinkHtml;\n",
              "        element.appendChild(docLink);\n",
              "      }\n",
              "    </script>\n",
              "  </div>\n",
              "\n",
              "\n",
              "<div id=\"df-3ecca4a3-d5ba-43a3-ae49-9d4123c578ce\">\n",
              "  <button class=\"colab-df-quickchart\" onclick=\"quickchart('df-3ecca4a3-d5ba-43a3-ae49-9d4123c578ce')\"\n",
              "            title=\"Suggest charts.\"\n",
              "            style=\"display:none;\">\n",
              "\n",
              "<svg xmlns=\"http://www.w3.org/2000/svg\" height=\"24px\"viewBox=\"0 0 24 24\"\n",
              "     width=\"24px\">\n",
              "    <g>\n",
              "        <path d=\"M19 3H5c-1.1 0-2 .9-2 2v14c0 1.1.9 2 2 2h14c1.1 0 2-.9 2-2V5c0-1.1-.9-2-2-2zM9 17H7v-7h2v7zm4 0h-2V7h2v10zm4 0h-2v-4h2v4z\"/>\n",
              "    </g>\n",
              "</svg>\n",
              "  </button>\n",
              "\n",
              "<style>\n",
              "  .colab-df-quickchart {\n",
              "    background-color: #E8F0FE;\n",
              "    border: none;\n",
              "    border-radius: 50%;\n",
              "    cursor: pointer;\n",
              "    display: none;\n",
              "    fill: #1967D2;\n",
              "    height: 32px;\n",
              "    padding: 0 0 0 0;\n",
              "    width: 32px;\n",
              "  }\n",
              "\n",
              "  .colab-df-quickchart:hover {\n",
              "    background-color: #E2EBFA;\n",
              "    box-shadow: 0px 1px 2px rgba(60, 64, 67, 0.3), 0px 1px 3px 1px rgba(60, 64, 67, 0.15);\n",
              "    fill: #174EA6;\n",
              "  }\n",
              "\n",
              "  [theme=dark] .colab-df-quickchart {\n",
              "    background-color: #3B4455;\n",
              "    fill: #D2E3FC;\n",
              "  }\n",
              "\n",
              "  [theme=dark] .colab-df-quickchart:hover {\n",
              "    background-color: #434B5C;\n",
              "    box-shadow: 0px 1px 3px 1px rgba(0, 0, 0, 0.15);\n",
              "    filter: drop-shadow(0px 1px 2px rgba(0, 0, 0, 0.3));\n",
              "    fill: #FFFFFF;\n",
              "  }\n",
              "</style>\n",
              "\n",
              "  <script>\n",
              "    async function quickchart(key) {\n",
              "      const charts = await google.colab.kernel.invokeFunction(\n",
              "          'suggestCharts', [key], {});\n",
              "    }\n",
              "    (() => {\n",
              "      let quickchartButtonEl =\n",
              "        document.querySelector('#df-3ecca4a3-d5ba-43a3-ae49-9d4123c578ce button');\n",
              "      quickchartButtonEl.style.display =\n",
              "        google.colab.kernel.accessAllowed ? 'block' : 'none';\n",
              "    })();\n",
              "  </script>\n",
              "</div>\n",
              "    </div>\n",
              "  </div>\n"
            ]
          },
          "metadata": {},
          "execution_count": 172
        }
      ]
    },
    {
      "cell_type": "code",
      "source": [
        "df.columns"
      ],
      "metadata": {
        "colab": {
          "base_uri": "https://localhost:8080/"
        },
        "id": "mFE_Vx9XM0cQ",
        "outputId": "9e1ac4e6-f749-45da-daf8-2f8609ad9d7f"
      },
      "execution_count": 173,
      "outputs": [
        {
          "output_type": "execute_result",
          "data": {
            "text/plain": [
              "Index(['s_index', 'Категория_3го_уровня', 'Ozon_ID', 'Артикул', 'День',\n",
              "       'Посетители', 'Посетители_на_карточке_товара', 'Показы',\n",
              "       'Позиция_в_поиске_и_каталоге', 'В_корзину', 'Заказано', 'Отменено',\n",
              "       'Доставлено', 'Возвращено', 'Оборот_в_месяц_целевой', 'Акции',\n",
              "       'Заказано_по_Акции', 'Заказано_на_сумму_по_акции', 'Средний_чек'],\n",
              "      dtype='object')"
            ]
          },
          "metadata": {},
          "execution_count": 173
        }
      ]
    },
    {
      "cell_type": "code",
      "source": [
        "baza = all_df['База']\n",
        "baza.head(3)"
      ],
      "metadata": {
        "colab": {
          "base_uri": "https://localhost:8080/",
          "height": 143
        },
        "id": "1MbiJlXMTcEI",
        "outputId": "c5ff2bc6-dac0-4e39-812a-528d1e9cefb2"
      },
      "execution_count": 174,
      "outputs": [
        {
          "output_type": "execute_result",
          "data": {
            "text/plain": [
              "  Артикул    Ozon_ID     FBO_ID     FBS_ID  Контент_рейтинг  Текущая_цена\n",
              "0   30273  105606938  298131117  298131122               15          1200\n",
              "1   30383  105742204  298264198  298264234               38          1990\n",
              "2   31284  112525698  303785665  303785701               30          7900"
            ],
            "text/html": [
              "\n",
              "  <div id=\"df-8319d778-ddf9-4903-82f9-37092e62240d\" class=\"colab-df-container\">\n",
              "    <div>\n",
              "<style scoped>\n",
              "    .dataframe tbody tr th:only-of-type {\n",
              "        vertical-align: middle;\n",
              "    }\n",
              "\n",
              "    .dataframe tbody tr th {\n",
              "        vertical-align: top;\n",
              "    }\n",
              "\n",
              "    .dataframe thead th {\n",
              "        text-align: right;\n",
              "    }\n",
              "</style>\n",
              "<table border=\"1\" class=\"dataframe\">\n",
              "  <thead>\n",
              "    <tr style=\"text-align: right;\">\n",
              "      <th></th>\n",
              "      <th>Артикул</th>\n",
              "      <th>Ozon_ID</th>\n",
              "      <th>FBO_ID</th>\n",
              "      <th>FBS_ID</th>\n",
              "      <th>Контент_рейтинг</th>\n",
              "      <th>Текущая_цена</th>\n",
              "    </tr>\n",
              "  </thead>\n",
              "  <tbody>\n",
              "    <tr>\n",
              "      <th>0</th>\n",
              "      <td>30273</td>\n",
              "      <td>105606938</td>\n",
              "      <td>298131117</td>\n",
              "      <td>298131122</td>\n",
              "      <td>15</td>\n",
              "      <td>1200</td>\n",
              "    </tr>\n",
              "    <tr>\n",
              "      <th>1</th>\n",
              "      <td>30383</td>\n",
              "      <td>105742204</td>\n",
              "      <td>298264198</td>\n",
              "      <td>298264234</td>\n",
              "      <td>38</td>\n",
              "      <td>1990</td>\n",
              "    </tr>\n",
              "    <tr>\n",
              "      <th>2</th>\n",
              "      <td>31284</td>\n",
              "      <td>112525698</td>\n",
              "      <td>303785665</td>\n",
              "      <td>303785701</td>\n",
              "      <td>30</td>\n",
              "      <td>7900</td>\n",
              "    </tr>\n",
              "  </tbody>\n",
              "</table>\n",
              "</div>\n",
              "    <div class=\"colab-df-buttons\">\n",
              "\n",
              "  <div class=\"colab-df-container\">\n",
              "    <button class=\"colab-df-convert\" onclick=\"convertToInteractive('df-8319d778-ddf9-4903-82f9-37092e62240d')\"\n",
              "            title=\"Convert this dataframe to an interactive table.\"\n",
              "            style=\"display:none;\">\n",
              "\n",
              "  <svg xmlns=\"http://www.w3.org/2000/svg\" height=\"24px\" viewBox=\"0 -960 960 960\">\n",
              "    <path d=\"M120-120v-720h720v720H120Zm60-500h600v-160H180v160Zm220 220h160v-160H400v160Zm0 220h160v-160H400v160ZM180-400h160v-160H180v160Zm440 0h160v-160H620v160ZM180-180h160v-160H180v160Zm440 0h160v-160H620v160Z\"/>\n",
              "  </svg>\n",
              "    </button>\n",
              "\n",
              "  <style>\n",
              "    .colab-df-container {\n",
              "      display:flex;\n",
              "      gap: 12px;\n",
              "    }\n",
              "\n",
              "    .colab-df-convert {\n",
              "      background-color: #E8F0FE;\n",
              "      border: none;\n",
              "      border-radius: 50%;\n",
              "      cursor: pointer;\n",
              "      display: none;\n",
              "      fill: #1967D2;\n",
              "      height: 32px;\n",
              "      padding: 0 0 0 0;\n",
              "      width: 32px;\n",
              "    }\n",
              "\n",
              "    .colab-df-convert:hover {\n",
              "      background-color: #E2EBFA;\n",
              "      box-shadow: 0px 1px 2px rgba(60, 64, 67, 0.3), 0px 1px 3px 1px rgba(60, 64, 67, 0.15);\n",
              "      fill: #174EA6;\n",
              "    }\n",
              "\n",
              "    .colab-df-buttons div {\n",
              "      margin-bottom: 4px;\n",
              "    }\n",
              "\n",
              "    [theme=dark] .colab-df-convert {\n",
              "      background-color: #3B4455;\n",
              "      fill: #D2E3FC;\n",
              "    }\n",
              "\n",
              "    [theme=dark] .colab-df-convert:hover {\n",
              "      background-color: #434B5C;\n",
              "      box-shadow: 0px 1px 3px 1px rgba(0, 0, 0, 0.15);\n",
              "      filter: drop-shadow(0px 1px 2px rgba(0, 0, 0, 0.3));\n",
              "      fill: #FFFFFF;\n",
              "    }\n",
              "  </style>\n",
              "\n",
              "    <script>\n",
              "      const buttonEl =\n",
              "        document.querySelector('#df-8319d778-ddf9-4903-82f9-37092e62240d button.colab-df-convert');\n",
              "      buttonEl.style.display =\n",
              "        google.colab.kernel.accessAllowed ? 'block' : 'none';\n",
              "\n",
              "      async function convertToInteractive(key) {\n",
              "        const element = document.querySelector('#df-8319d778-ddf9-4903-82f9-37092e62240d');\n",
              "        const dataTable =\n",
              "          await google.colab.kernel.invokeFunction('convertToInteractive',\n",
              "                                                    [key], {});\n",
              "        if (!dataTable) return;\n",
              "\n",
              "        const docLinkHtml = 'Like what you see? Visit the ' +\n",
              "          '<a target=\"_blank\" href=https://colab.research.google.com/notebooks/data_table.ipynb>data table notebook</a>'\n",
              "          + ' to learn more about interactive tables.';\n",
              "        element.innerHTML = '';\n",
              "        dataTable['output_type'] = 'display_data';\n",
              "        await google.colab.output.renderOutput(dataTable, element);\n",
              "        const docLink = document.createElement('div');\n",
              "        docLink.innerHTML = docLinkHtml;\n",
              "        element.appendChild(docLink);\n",
              "      }\n",
              "    </script>\n",
              "  </div>\n",
              "\n",
              "\n",
              "<div id=\"df-ef7bfc20-e46e-4598-89d6-52f95eb33f5c\">\n",
              "  <button class=\"colab-df-quickchart\" onclick=\"quickchart('df-ef7bfc20-e46e-4598-89d6-52f95eb33f5c')\"\n",
              "            title=\"Suggest charts.\"\n",
              "            style=\"display:none;\">\n",
              "\n",
              "<svg xmlns=\"http://www.w3.org/2000/svg\" height=\"24px\"viewBox=\"0 0 24 24\"\n",
              "     width=\"24px\">\n",
              "    <g>\n",
              "        <path d=\"M19 3H5c-1.1 0-2 .9-2 2v14c0 1.1.9 2 2 2h14c1.1 0 2-.9 2-2V5c0-1.1-.9-2-2-2zM9 17H7v-7h2v7zm4 0h-2V7h2v10zm4 0h-2v-4h2v4z\"/>\n",
              "    </g>\n",
              "</svg>\n",
              "  </button>\n",
              "\n",
              "<style>\n",
              "  .colab-df-quickchart {\n",
              "    background-color: #E8F0FE;\n",
              "    border: none;\n",
              "    border-radius: 50%;\n",
              "    cursor: pointer;\n",
              "    display: none;\n",
              "    fill: #1967D2;\n",
              "    height: 32px;\n",
              "    padding: 0 0 0 0;\n",
              "    width: 32px;\n",
              "  }\n",
              "\n",
              "  .colab-df-quickchart:hover {\n",
              "    background-color: #E2EBFA;\n",
              "    box-shadow: 0px 1px 2px rgba(60, 64, 67, 0.3), 0px 1px 3px 1px rgba(60, 64, 67, 0.15);\n",
              "    fill: #174EA6;\n",
              "  }\n",
              "\n",
              "  [theme=dark] .colab-df-quickchart {\n",
              "    background-color: #3B4455;\n",
              "    fill: #D2E3FC;\n",
              "  }\n",
              "\n",
              "  [theme=dark] .colab-df-quickchart:hover {\n",
              "    background-color: #434B5C;\n",
              "    box-shadow: 0px 1px 3px 1px rgba(0, 0, 0, 0.15);\n",
              "    filter: drop-shadow(0px 1px 2px rgba(0, 0, 0, 0.3));\n",
              "    fill: #FFFFFF;\n",
              "  }\n",
              "</style>\n",
              "\n",
              "  <script>\n",
              "    async function quickchart(key) {\n",
              "      const charts = await google.colab.kernel.invokeFunction(\n",
              "          'suggestCharts', [key], {});\n",
              "    }\n",
              "    (() => {\n",
              "      let quickchartButtonEl =\n",
              "        document.querySelector('#df-ef7bfc20-e46e-4598-89d6-52f95eb33f5c button');\n",
              "      quickchartButtonEl.style.display =\n",
              "        google.colab.kernel.accessAllowed ? 'block' : 'none';\n",
              "    })();\n",
              "  </script>\n",
              "</div>\n",
              "    </div>\n",
              "  </div>\n"
            ]
          },
          "metadata": {},
          "execution_count": 174
        }
      ]
    },
    {
      "cell_type": "code",
      "source": [
        "len(baza['Артикул'].unique())"
      ],
      "metadata": {
        "colab": {
          "base_uri": "https://localhost:8080/"
        },
        "id": "BDF25Q81W9r5",
        "outputId": "39be90b3-ce9f-47c2-b08a-ee3032636d4a"
      },
      "execution_count": 175,
      "outputs": [
        {
          "output_type": "execute_result",
          "data": {
            "text/plain": [
              "1259"
            ]
          },
          "metadata": {},
          "execution_count": 175
        }
      ]
    },
    {
      "cell_type": "code",
      "source": [
        "len(baza['Ozon_ID'].unique())"
      ],
      "metadata": {
        "colab": {
          "base_uri": "https://localhost:8080/"
        },
        "id": "0oPZs8rbXLHR",
        "outputId": "1f258ee2-b0b4-4ac7-b032-976634f38143"
      },
      "execution_count": 176,
      "outputs": [
        {
          "output_type": "execute_result",
          "data": {
            "text/plain": [
              "1259"
            ]
          },
          "metadata": {},
          "execution_count": 176
        }
      ]
    },
    {
      "cell_type": "code",
      "source": [
        "len(df['Ozon_ID'].unique())"
      ],
      "metadata": {
        "colab": {
          "base_uri": "https://localhost:8080/"
        },
        "id": "rLN5aaCoXORM",
        "outputId": "0502a936-b632-44c4-aee8-f68cf2798516"
      },
      "execution_count": 177,
      "outputs": [
        {
          "output_type": "execute_result",
          "data": {
            "text/plain": [
              "1233"
            ]
          },
          "metadata": {},
          "execution_count": 177
        }
      ]
    },
    {
      "cell_type": "code",
      "source": [
        "len(df['Артикул'].unique())"
      ],
      "metadata": {
        "colab": {
          "base_uri": "https://localhost:8080/"
        },
        "id": "2W0kRsyzXFpK",
        "outputId": "ee138102-90eb-4053-fc5e-3745c882d1cf"
      },
      "execution_count": 178,
      "outputs": [
        {
          "output_type": "execute_result",
          "data": {
            "text/plain": [
              "994"
            ]
          },
          "metadata": {},
          "execution_count": 178
        }
      ]
    },
    {
      "cell_type": "code",
      "source": [
        "len(baza['FBS_ID'].unique())"
      ],
      "metadata": {
        "colab": {
          "base_uri": "https://localhost:8080/"
        },
        "id": "Olw1J5AnbHHQ",
        "outputId": "7d91ca5c-2d03-4d43-b297-75044f1cd5c6"
      },
      "execution_count": 179,
      "outputs": [
        {
          "output_type": "execute_result",
          "data": {
            "text/plain": [
              "1249"
            ]
          },
          "metadata": {},
          "execution_count": 179
        }
      ]
    },
    {
      "cell_type": "code",
      "source": [
        "baza.dtypes"
      ],
      "metadata": {
        "colab": {
          "base_uri": "https://localhost:8080/"
        },
        "id": "MjCJVU9LZVSf",
        "outputId": "dd846b53-19d8-4b1f-e528-e98786019e30"
      },
      "execution_count": 180,
      "outputs": [
        {
          "output_type": "execute_result",
          "data": {
            "text/plain": [
              "Артикул            object\n",
              "Ozon_ID            object\n",
              "FBO_ID             object\n",
              "FBS_ID             object\n",
              "Контент_рейтинг     int64\n",
              "Текущая_цена        int64\n",
              "dtype: object"
            ]
          },
          "metadata": {},
          "execution_count": 180
        }
      ]
    },
    {
      "cell_type": "code",
      "source": [
        "df.dtypes"
      ],
      "metadata": {
        "colab": {
          "base_uri": "https://localhost:8080/"
        },
        "id": "Ch6Ajp4MZaQd",
        "outputId": "e8ae8fea-5e50-4cc8-ee9e-0d9f8b4c68c5"
      },
      "execution_count": 181,
      "outputs": [
        {
          "output_type": "execute_result",
          "data": {
            "text/plain": [
              "s_index                                  object\n",
              "Категория_3го_уровня                     object\n",
              "Ozon_ID                                  object\n",
              "Артикул                                  object\n",
              "День                             datetime64[ns]\n",
              "Посетители                                int64\n",
              "Посетители_на_карточке_товара             int64\n",
              "Показы                                    int64\n",
              "Позиция_в_поиске_и_каталоге               int64\n",
              "В_корзину                                 int64\n",
              "Заказано                                  int64\n",
              "Отменено                                  int64\n",
              "Доставлено                                int64\n",
              "Возвращено                                int64\n",
              "Оборот_в_месяц_целевой                    int64\n",
              "Акции                                     int64\n",
              "Заказано_по_Акции                         int64\n",
              "Заказано_на_сумму_по_акции                int64\n",
              "Средний_чек                               int64\n",
              "dtype: object"
            ]
          },
          "metadata": {},
          "execution_count": 181
        }
      ]
    },
    {
      "cell_type": "code",
      "source": [
        "uniq_b = (baza['FBS_ID'].unique())\n",
        "uniq_s = (df['Ozon_ID'].unique())\n",
        "w = []\n",
        "for i in uniq_b:\n",
        "  for j in uniq_s:\n",
        "    if i == j:\n",
        "      w.append(j)\n",
        "\n",
        "print(f'Уникальных в Базе: {len(uniq_b)}')\n",
        "print(f'Уникальных в Своде: {len(uniq_s)}')\n",
        "print(f'Общих: {len(w)}')"
      ],
      "metadata": {
        "colab": {
          "base_uri": "https://localhost:8080/"
        },
        "id": "aPI1G6k8XULz",
        "outputId": "1a09065d-ad01-4c5f-9f63-9b5c35d7893f"
      },
      "execution_count": 182,
      "outputs": [
        {
          "output_type": "stream",
          "name": "stdout",
          "text": [
            "Уникальных в Базе: 1249\n",
            "Уникальных в Своде: 1233\n",
            "Общих: 923\n"
          ]
        }
      ]
    },
    {
      "cell_type": "code",
      "source": [
        "b = baza[['FBS_ID','Контент_рейтинг','Текущая_цена']].copy()"
      ],
      "metadata": {
        "id": "gu500v-jbclI"
      },
      "execution_count": 183,
      "outputs": []
    },
    {
      "cell_type": "code",
      "source": [
        "b.rename(columns={'FBS_ID':'Ozon_ID'}, inplace=True)"
      ],
      "metadata": {
        "id": "bLCwqCbyccVi"
      },
      "execution_count": 184,
      "outputs": []
    },
    {
      "cell_type": "code",
      "source": [
        "b.head(3)"
      ],
      "metadata": {
        "colab": {
          "base_uri": "https://localhost:8080/",
          "height": 143
        },
        "id": "8a9_AnLPb4pp",
        "outputId": "5e30ec19-161b-4b0d-b7d8-1c28d17bfcdc"
      },
      "execution_count": 186,
      "outputs": [
        {
          "output_type": "execute_result",
          "data": {
            "text/plain": [
              "     Ozon_ID  Контент_рейтинг  Текущая_цена\n",
              "0  298131122               15          1200\n",
              "1  298264234               38          1990\n",
              "2  303785701               30          7900"
            ],
            "text/html": [
              "\n",
              "  <div id=\"df-bef05052-90e2-48d6-857d-87566a605bfa\" class=\"colab-df-container\">\n",
              "    <div>\n",
              "<style scoped>\n",
              "    .dataframe tbody tr th:only-of-type {\n",
              "        vertical-align: middle;\n",
              "    }\n",
              "\n",
              "    .dataframe tbody tr th {\n",
              "        vertical-align: top;\n",
              "    }\n",
              "\n",
              "    .dataframe thead th {\n",
              "        text-align: right;\n",
              "    }\n",
              "</style>\n",
              "<table border=\"1\" class=\"dataframe\">\n",
              "  <thead>\n",
              "    <tr style=\"text-align: right;\">\n",
              "      <th></th>\n",
              "      <th>Ozon_ID</th>\n",
              "      <th>Контент_рейтинг</th>\n",
              "      <th>Текущая_цена</th>\n",
              "    </tr>\n",
              "  </thead>\n",
              "  <tbody>\n",
              "    <tr>\n",
              "      <th>0</th>\n",
              "      <td>298131122</td>\n",
              "      <td>15</td>\n",
              "      <td>1200</td>\n",
              "    </tr>\n",
              "    <tr>\n",
              "      <th>1</th>\n",
              "      <td>298264234</td>\n",
              "      <td>38</td>\n",
              "      <td>1990</td>\n",
              "    </tr>\n",
              "    <tr>\n",
              "      <th>2</th>\n",
              "      <td>303785701</td>\n",
              "      <td>30</td>\n",
              "      <td>7900</td>\n",
              "    </tr>\n",
              "  </tbody>\n",
              "</table>\n",
              "</div>\n",
              "    <div class=\"colab-df-buttons\">\n",
              "\n",
              "  <div class=\"colab-df-container\">\n",
              "    <button class=\"colab-df-convert\" onclick=\"convertToInteractive('df-bef05052-90e2-48d6-857d-87566a605bfa')\"\n",
              "            title=\"Convert this dataframe to an interactive table.\"\n",
              "            style=\"display:none;\">\n",
              "\n",
              "  <svg xmlns=\"http://www.w3.org/2000/svg\" height=\"24px\" viewBox=\"0 -960 960 960\">\n",
              "    <path d=\"M120-120v-720h720v720H120Zm60-500h600v-160H180v160Zm220 220h160v-160H400v160Zm0 220h160v-160H400v160ZM180-400h160v-160H180v160Zm440 0h160v-160H620v160ZM180-180h160v-160H180v160Zm440 0h160v-160H620v160Z\"/>\n",
              "  </svg>\n",
              "    </button>\n",
              "\n",
              "  <style>\n",
              "    .colab-df-container {\n",
              "      display:flex;\n",
              "      gap: 12px;\n",
              "    }\n",
              "\n",
              "    .colab-df-convert {\n",
              "      background-color: #E8F0FE;\n",
              "      border: none;\n",
              "      border-radius: 50%;\n",
              "      cursor: pointer;\n",
              "      display: none;\n",
              "      fill: #1967D2;\n",
              "      height: 32px;\n",
              "      padding: 0 0 0 0;\n",
              "      width: 32px;\n",
              "    }\n",
              "\n",
              "    .colab-df-convert:hover {\n",
              "      background-color: #E2EBFA;\n",
              "      box-shadow: 0px 1px 2px rgba(60, 64, 67, 0.3), 0px 1px 3px 1px rgba(60, 64, 67, 0.15);\n",
              "      fill: #174EA6;\n",
              "    }\n",
              "\n",
              "    .colab-df-buttons div {\n",
              "      margin-bottom: 4px;\n",
              "    }\n",
              "\n",
              "    [theme=dark] .colab-df-convert {\n",
              "      background-color: #3B4455;\n",
              "      fill: #D2E3FC;\n",
              "    }\n",
              "\n",
              "    [theme=dark] .colab-df-convert:hover {\n",
              "      background-color: #434B5C;\n",
              "      box-shadow: 0px 1px 3px 1px rgba(0, 0, 0, 0.15);\n",
              "      filter: drop-shadow(0px 1px 2px rgba(0, 0, 0, 0.3));\n",
              "      fill: #FFFFFF;\n",
              "    }\n",
              "  </style>\n",
              "\n",
              "    <script>\n",
              "      const buttonEl =\n",
              "        document.querySelector('#df-bef05052-90e2-48d6-857d-87566a605bfa button.colab-df-convert');\n",
              "      buttonEl.style.display =\n",
              "        google.colab.kernel.accessAllowed ? 'block' : 'none';\n",
              "\n",
              "      async function convertToInteractive(key) {\n",
              "        const element = document.querySelector('#df-bef05052-90e2-48d6-857d-87566a605bfa');\n",
              "        const dataTable =\n",
              "          await google.colab.kernel.invokeFunction('convertToInteractive',\n",
              "                                                    [key], {});\n",
              "        if (!dataTable) return;\n",
              "\n",
              "        const docLinkHtml = 'Like what you see? Visit the ' +\n",
              "          '<a target=\"_blank\" href=https://colab.research.google.com/notebooks/data_table.ipynb>data table notebook</a>'\n",
              "          + ' to learn more about interactive tables.';\n",
              "        element.innerHTML = '';\n",
              "        dataTable['output_type'] = 'display_data';\n",
              "        await google.colab.output.renderOutput(dataTable, element);\n",
              "        const docLink = document.createElement('div');\n",
              "        docLink.innerHTML = docLinkHtml;\n",
              "        element.appendChild(docLink);\n",
              "      }\n",
              "    </script>\n",
              "  </div>\n",
              "\n",
              "\n",
              "<div id=\"df-d9003ac6-b240-411a-b5db-2a6031618e60\">\n",
              "  <button class=\"colab-df-quickchart\" onclick=\"quickchart('df-d9003ac6-b240-411a-b5db-2a6031618e60')\"\n",
              "            title=\"Suggest charts.\"\n",
              "            style=\"display:none;\">\n",
              "\n",
              "<svg xmlns=\"http://www.w3.org/2000/svg\" height=\"24px\"viewBox=\"0 0 24 24\"\n",
              "     width=\"24px\">\n",
              "    <g>\n",
              "        <path d=\"M19 3H5c-1.1 0-2 .9-2 2v14c0 1.1.9 2 2 2h14c1.1 0 2-.9 2-2V5c0-1.1-.9-2-2-2zM9 17H7v-7h2v7zm4 0h-2V7h2v10zm4 0h-2v-4h2v4z\"/>\n",
              "    </g>\n",
              "</svg>\n",
              "  </button>\n",
              "\n",
              "<style>\n",
              "  .colab-df-quickchart {\n",
              "    background-color: #E8F0FE;\n",
              "    border: none;\n",
              "    border-radius: 50%;\n",
              "    cursor: pointer;\n",
              "    display: none;\n",
              "    fill: #1967D2;\n",
              "    height: 32px;\n",
              "    padding: 0 0 0 0;\n",
              "    width: 32px;\n",
              "  }\n",
              "\n",
              "  .colab-df-quickchart:hover {\n",
              "    background-color: #E2EBFA;\n",
              "    box-shadow: 0px 1px 2px rgba(60, 64, 67, 0.3), 0px 1px 3px 1px rgba(60, 64, 67, 0.15);\n",
              "    fill: #174EA6;\n",
              "  }\n",
              "\n",
              "  [theme=dark] .colab-df-quickchart {\n",
              "    background-color: #3B4455;\n",
              "    fill: #D2E3FC;\n",
              "  }\n",
              "\n",
              "  [theme=dark] .colab-df-quickchart:hover {\n",
              "    background-color: #434B5C;\n",
              "    box-shadow: 0px 1px 3px 1px rgba(0, 0, 0, 0.15);\n",
              "    filter: drop-shadow(0px 1px 2px rgba(0, 0, 0, 0.3));\n",
              "    fill: #FFFFFF;\n",
              "  }\n",
              "</style>\n",
              "\n",
              "  <script>\n",
              "    async function quickchart(key) {\n",
              "      const charts = await google.colab.kernel.invokeFunction(\n",
              "          'suggestCharts', [key], {});\n",
              "    }\n",
              "    (() => {\n",
              "      let quickchartButtonEl =\n",
              "        document.querySelector('#df-d9003ac6-b240-411a-b5db-2a6031618e60 button');\n",
              "      quickchartButtonEl.style.display =\n",
              "        google.colab.kernel.accessAllowed ? 'block' : 'none';\n",
              "    })();\n",
              "  </script>\n",
              "</div>\n",
              "    </div>\n",
              "  </div>\n"
            ]
          },
          "metadata": {},
          "execution_count": 186
        }
      ]
    },
    {
      "cell_type": "code",
      "source": [
        "df.head(3)"
      ],
      "metadata": {
        "colab": {
          "base_uri": "https://localhost:8080/",
          "height": 215
        },
        "id": "OPmTRT0RVJLf",
        "outputId": "15f7b603-dce7-4b88-f3ed-90910104070a"
      },
      "execution_count": 187,
      "outputs": [
        {
          "output_type": "execute_result",
          "data": {
            "text/plain": [
              "               s_index Категория_3го_уровня    Ozon_ID Артикул       День  \\\n",
              "0  2609022712022-06-02  Лампа автомобильная  260902271   25541 2022-06-02   \n",
              "1  2609022712022-06-03  Лампа автомобильная  260902271   25541 2022-06-03   \n",
              "2  2609022712022-06-07  Лампа автомобильная  260902271   25541 2022-06-07   \n",
              "\n",
              "   Посетители  Посетители_на_карточке_товара  Показы  \\\n",
              "0           1                              0       1   \n",
              "1           1                              0       1   \n",
              "2           1                              1       1   \n",
              "\n",
              "   Позиция_в_поиске_и_каталоге  В_корзину  Заказано  Отменено  Доставлено  \\\n",
              "0                         4584          0         0         0           0   \n",
              "1                         4584          0         0         0           0   \n",
              "2                         4584          0         0         0           0   \n",
              "\n",
              "   Возвращено  Оборот_в_месяц_целевой  Акции  Заказано_по_Акции  \\\n",
              "0           0                       0      0                  0   \n",
              "1           0                       0      0                  0   \n",
              "2           0                       0      0                  0   \n",
              "\n",
              "   Заказано_на_сумму_по_акции  Средний_чек  \n",
              "0                           0            0  \n",
              "1                           0            0  \n",
              "2                           0            0  "
            ],
            "text/html": [
              "\n",
              "  <div id=\"df-0a239da5-c20d-4abd-8ef4-623e12b74c19\" class=\"colab-df-container\">\n",
              "    <div>\n",
              "<style scoped>\n",
              "    .dataframe tbody tr th:only-of-type {\n",
              "        vertical-align: middle;\n",
              "    }\n",
              "\n",
              "    .dataframe tbody tr th {\n",
              "        vertical-align: top;\n",
              "    }\n",
              "\n",
              "    .dataframe thead th {\n",
              "        text-align: right;\n",
              "    }\n",
              "</style>\n",
              "<table border=\"1\" class=\"dataframe\">\n",
              "  <thead>\n",
              "    <tr style=\"text-align: right;\">\n",
              "      <th></th>\n",
              "      <th>s_index</th>\n",
              "      <th>Категория_3го_уровня</th>\n",
              "      <th>Ozon_ID</th>\n",
              "      <th>Артикул</th>\n",
              "      <th>День</th>\n",
              "      <th>Посетители</th>\n",
              "      <th>Посетители_на_карточке_товара</th>\n",
              "      <th>Показы</th>\n",
              "      <th>Позиция_в_поиске_и_каталоге</th>\n",
              "      <th>В_корзину</th>\n",
              "      <th>Заказано</th>\n",
              "      <th>Отменено</th>\n",
              "      <th>Доставлено</th>\n",
              "      <th>Возвращено</th>\n",
              "      <th>Оборот_в_месяц_целевой</th>\n",
              "      <th>Акции</th>\n",
              "      <th>Заказано_по_Акции</th>\n",
              "      <th>Заказано_на_сумму_по_акции</th>\n",
              "      <th>Средний_чек</th>\n",
              "    </tr>\n",
              "  </thead>\n",
              "  <tbody>\n",
              "    <tr>\n",
              "      <th>0</th>\n",
              "      <td>2609022712022-06-02</td>\n",
              "      <td>Лампа автомобильная</td>\n",
              "      <td>260902271</td>\n",
              "      <td>25541</td>\n",
              "      <td>2022-06-02</td>\n",
              "      <td>1</td>\n",
              "      <td>0</td>\n",
              "      <td>1</td>\n",
              "      <td>4584</td>\n",
              "      <td>0</td>\n",
              "      <td>0</td>\n",
              "      <td>0</td>\n",
              "      <td>0</td>\n",
              "      <td>0</td>\n",
              "      <td>0</td>\n",
              "      <td>0</td>\n",
              "      <td>0</td>\n",
              "      <td>0</td>\n",
              "      <td>0</td>\n",
              "    </tr>\n",
              "    <tr>\n",
              "      <th>1</th>\n",
              "      <td>2609022712022-06-03</td>\n",
              "      <td>Лампа автомобильная</td>\n",
              "      <td>260902271</td>\n",
              "      <td>25541</td>\n",
              "      <td>2022-06-03</td>\n",
              "      <td>1</td>\n",
              "      <td>0</td>\n",
              "      <td>1</td>\n",
              "      <td>4584</td>\n",
              "      <td>0</td>\n",
              "      <td>0</td>\n",
              "      <td>0</td>\n",
              "      <td>0</td>\n",
              "      <td>0</td>\n",
              "      <td>0</td>\n",
              "      <td>0</td>\n",
              "      <td>0</td>\n",
              "      <td>0</td>\n",
              "      <td>0</td>\n",
              "    </tr>\n",
              "    <tr>\n",
              "      <th>2</th>\n",
              "      <td>2609022712022-06-07</td>\n",
              "      <td>Лампа автомобильная</td>\n",
              "      <td>260902271</td>\n",
              "      <td>25541</td>\n",
              "      <td>2022-06-07</td>\n",
              "      <td>1</td>\n",
              "      <td>1</td>\n",
              "      <td>1</td>\n",
              "      <td>4584</td>\n",
              "      <td>0</td>\n",
              "      <td>0</td>\n",
              "      <td>0</td>\n",
              "      <td>0</td>\n",
              "      <td>0</td>\n",
              "      <td>0</td>\n",
              "      <td>0</td>\n",
              "      <td>0</td>\n",
              "      <td>0</td>\n",
              "      <td>0</td>\n",
              "    </tr>\n",
              "  </tbody>\n",
              "</table>\n",
              "</div>\n",
              "    <div class=\"colab-df-buttons\">\n",
              "\n",
              "  <div class=\"colab-df-container\">\n",
              "    <button class=\"colab-df-convert\" onclick=\"convertToInteractive('df-0a239da5-c20d-4abd-8ef4-623e12b74c19')\"\n",
              "            title=\"Convert this dataframe to an interactive table.\"\n",
              "            style=\"display:none;\">\n",
              "\n",
              "  <svg xmlns=\"http://www.w3.org/2000/svg\" height=\"24px\" viewBox=\"0 -960 960 960\">\n",
              "    <path d=\"M120-120v-720h720v720H120Zm60-500h600v-160H180v160Zm220 220h160v-160H400v160Zm0 220h160v-160H400v160ZM180-400h160v-160H180v160Zm440 0h160v-160H620v160ZM180-180h160v-160H180v160Zm440 0h160v-160H620v160Z\"/>\n",
              "  </svg>\n",
              "    </button>\n",
              "\n",
              "  <style>\n",
              "    .colab-df-container {\n",
              "      display:flex;\n",
              "      gap: 12px;\n",
              "    }\n",
              "\n",
              "    .colab-df-convert {\n",
              "      background-color: #E8F0FE;\n",
              "      border: none;\n",
              "      border-radius: 50%;\n",
              "      cursor: pointer;\n",
              "      display: none;\n",
              "      fill: #1967D2;\n",
              "      height: 32px;\n",
              "      padding: 0 0 0 0;\n",
              "      width: 32px;\n",
              "    }\n",
              "\n",
              "    .colab-df-convert:hover {\n",
              "      background-color: #E2EBFA;\n",
              "      box-shadow: 0px 1px 2px rgba(60, 64, 67, 0.3), 0px 1px 3px 1px rgba(60, 64, 67, 0.15);\n",
              "      fill: #174EA6;\n",
              "    }\n",
              "\n",
              "    .colab-df-buttons div {\n",
              "      margin-bottom: 4px;\n",
              "    }\n",
              "\n",
              "    [theme=dark] .colab-df-convert {\n",
              "      background-color: #3B4455;\n",
              "      fill: #D2E3FC;\n",
              "    }\n",
              "\n",
              "    [theme=dark] .colab-df-convert:hover {\n",
              "      background-color: #434B5C;\n",
              "      box-shadow: 0px 1px 3px 1px rgba(0, 0, 0, 0.15);\n",
              "      filter: drop-shadow(0px 1px 2px rgba(0, 0, 0, 0.3));\n",
              "      fill: #FFFFFF;\n",
              "    }\n",
              "  </style>\n",
              "\n",
              "    <script>\n",
              "      const buttonEl =\n",
              "        document.querySelector('#df-0a239da5-c20d-4abd-8ef4-623e12b74c19 button.colab-df-convert');\n",
              "      buttonEl.style.display =\n",
              "        google.colab.kernel.accessAllowed ? 'block' : 'none';\n",
              "\n",
              "      async function convertToInteractive(key) {\n",
              "        const element = document.querySelector('#df-0a239da5-c20d-4abd-8ef4-623e12b74c19');\n",
              "        const dataTable =\n",
              "          await google.colab.kernel.invokeFunction('convertToInteractive',\n",
              "                                                    [key], {});\n",
              "        if (!dataTable) return;\n",
              "\n",
              "        const docLinkHtml = 'Like what you see? Visit the ' +\n",
              "          '<a target=\"_blank\" href=https://colab.research.google.com/notebooks/data_table.ipynb>data table notebook</a>'\n",
              "          + ' to learn more about interactive tables.';\n",
              "        element.innerHTML = '';\n",
              "        dataTable['output_type'] = 'display_data';\n",
              "        await google.colab.output.renderOutput(dataTable, element);\n",
              "        const docLink = document.createElement('div');\n",
              "        docLink.innerHTML = docLinkHtml;\n",
              "        element.appendChild(docLink);\n",
              "      }\n",
              "    </script>\n",
              "  </div>\n",
              "\n",
              "\n",
              "<div id=\"df-548ec1c0-ad1a-44e5-84a2-2b72089740c2\">\n",
              "  <button class=\"colab-df-quickchart\" onclick=\"quickchart('df-548ec1c0-ad1a-44e5-84a2-2b72089740c2')\"\n",
              "            title=\"Suggest charts.\"\n",
              "            style=\"display:none;\">\n",
              "\n",
              "<svg xmlns=\"http://www.w3.org/2000/svg\" height=\"24px\"viewBox=\"0 0 24 24\"\n",
              "     width=\"24px\">\n",
              "    <g>\n",
              "        <path d=\"M19 3H5c-1.1 0-2 .9-2 2v14c0 1.1.9 2 2 2h14c1.1 0 2-.9 2-2V5c0-1.1-.9-2-2-2zM9 17H7v-7h2v7zm4 0h-2V7h2v10zm4 0h-2v-4h2v4z\"/>\n",
              "    </g>\n",
              "</svg>\n",
              "  </button>\n",
              "\n",
              "<style>\n",
              "  .colab-df-quickchart {\n",
              "    background-color: #E8F0FE;\n",
              "    border: none;\n",
              "    border-radius: 50%;\n",
              "    cursor: pointer;\n",
              "    display: none;\n",
              "    fill: #1967D2;\n",
              "    height: 32px;\n",
              "    padding: 0 0 0 0;\n",
              "    width: 32px;\n",
              "  }\n",
              "\n",
              "  .colab-df-quickchart:hover {\n",
              "    background-color: #E2EBFA;\n",
              "    box-shadow: 0px 1px 2px rgba(60, 64, 67, 0.3), 0px 1px 3px 1px rgba(60, 64, 67, 0.15);\n",
              "    fill: #174EA6;\n",
              "  }\n",
              "\n",
              "  [theme=dark] .colab-df-quickchart {\n",
              "    background-color: #3B4455;\n",
              "    fill: #D2E3FC;\n",
              "  }\n",
              "\n",
              "  [theme=dark] .colab-df-quickchart:hover {\n",
              "    background-color: #434B5C;\n",
              "    box-shadow: 0px 1px 3px 1px rgba(0, 0, 0, 0.15);\n",
              "    filter: drop-shadow(0px 1px 2px rgba(0, 0, 0, 0.3));\n",
              "    fill: #FFFFFF;\n",
              "  }\n",
              "</style>\n",
              "\n",
              "  <script>\n",
              "    async function quickchart(key) {\n",
              "      const charts = await google.colab.kernel.invokeFunction(\n",
              "          'suggestCharts', [key], {});\n",
              "    }\n",
              "    (() => {\n",
              "      let quickchartButtonEl =\n",
              "        document.querySelector('#df-548ec1c0-ad1a-44e5-84a2-2b72089740c2 button');\n",
              "      quickchartButtonEl.style.display =\n",
              "        google.colab.kernel.accessAllowed ? 'block' : 'none';\n",
              "    })();\n",
              "  </script>\n",
              "</div>\n",
              "    </div>\n",
              "  </div>\n"
            ]
          },
          "metadata": {},
          "execution_count": 187
        }
      ]
    },
    {
      "cell_type": "code",
      "source": [
        "df_svod = pd.merge(df,b, on='Ozon_ID', how='left')"
      ],
      "metadata": {
        "id": "xtZ2IpwTcK4r"
      },
      "execution_count": 188,
      "outputs": []
    },
    {
      "cell_type": "code",
      "source": [
        "float2int(df_svod)\n",
        "df_svod.head(3)"
      ],
      "metadata": {
        "colab": {
          "base_uri": "https://localhost:8080/",
          "height": 245
        },
        "id": "RzRCV5SrdOgS",
        "outputId": "f63356fd-c76f-4e4b-ec46-a00662475d80"
      },
      "execution_count": 190,
      "outputs": [
        {
          "output_type": "execute_result",
          "data": {
            "text/plain": [
              "               s_index Категория_3го_уровня    Ozon_ID Артикул       День  \\\n",
              "0  2609022712022-06-02  Лампа автомобильная  260902271   25541 2022-06-02   \n",
              "1  2609022712022-06-03  Лампа автомобильная  260902271   25541 2022-06-03   \n",
              "2  2609022712022-06-07  Лампа автомобильная  260902271   25541 2022-06-07   \n",
              "\n",
              "   Посетители  Посетители_на_карточке_товара  Показы  \\\n",
              "0           1                              0       1   \n",
              "1           1                              0       1   \n",
              "2           1                              1       1   \n",
              "\n",
              "   Позиция_в_поиске_и_каталоге  В_корзину  ...  Отменено  Доставлено  \\\n",
              "0                         4584          0  ...         0           0   \n",
              "1                         4584          0  ...         0           0   \n",
              "2                         4584          0  ...         0           0   \n",
              "\n",
              "   Возвращено  Оборот_в_месяц_целевой  Акции  Заказано_по_Акции  \\\n",
              "0           0                       0      0                  0   \n",
              "1           0                       0      0                  0   \n",
              "2           0                       0      0                  0   \n",
              "\n",
              "   Заказано_на_сумму_по_акции  Средний_чек  Контент_рейтинг  Текущая_цена  \n",
              "0                           0            0                0             0  \n",
              "1                           0            0                0             0  \n",
              "2                           0            0                0             0  \n",
              "\n",
              "[3 rows x 21 columns]"
            ],
            "text/html": [
              "\n",
              "  <div id=\"df-d4737b65-37bd-473d-98b4-b63144543b96\" class=\"colab-df-container\">\n",
              "    <div>\n",
              "<style scoped>\n",
              "    .dataframe tbody tr th:only-of-type {\n",
              "        vertical-align: middle;\n",
              "    }\n",
              "\n",
              "    .dataframe tbody tr th {\n",
              "        vertical-align: top;\n",
              "    }\n",
              "\n",
              "    .dataframe thead th {\n",
              "        text-align: right;\n",
              "    }\n",
              "</style>\n",
              "<table border=\"1\" class=\"dataframe\">\n",
              "  <thead>\n",
              "    <tr style=\"text-align: right;\">\n",
              "      <th></th>\n",
              "      <th>s_index</th>\n",
              "      <th>Категория_3го_уровня</th>\n",
              "      <th>Ozon_ID</th>\n",
              "      <th>Артикул</th>\n",
              "      <th>День</th>\n",
              "      <th>Посетители</th>\n",
              "      <th>Посетители_на_карточке_товара</th>\n",
              "      <th>Показы</th>\n",
              "      <th>Позиция_в_поиске_и_каталоге</th>\n",
              "      <th>В_корзину</th>\n",
              "      <th>...</th>\n",
              "      <th>Отменено</th>\n",
              "      <th>Доставлено</th>\n",
              "      <th>Возвращено</th>\n",
              "      <th>Оборот_в_месяц_целевой</th>\n",
              "      <th>Акции</th>\n",
              "      <th>Заказано_по_Акции</th>\n",
              "      <th>Заказано_на_сумму_по_акции</th>\n",
              "      <th>Средний_чек</th>\n",
              "      <th>Контент_рейтинг</th>\n",
              "      <th>Текущая_цена</th>\n",
              "    </tr>\n",
              "  </thead>\n",
              "  <tbody>\n",
              "    <tr>\n",
              "      <th>0</th>\n",
              "      <td>2609022712022-06-02</td>\n",
              "      <td>Лампа автомобильная</td>\n",
              "      <td>260902271</td>\n",
              "      <td>25541</td>\n",
              "      <td>2022-06-02</td>\n",
              "      <td>1</td>\n",
              "      <td>0</td>\n",
              "      <td>1</td>\n",
              "      <td>4584</td>\n",
              "      <td>0</td>\n",
              "      <td>...</td>\n",
              "      <td>0</td>\n",
              "      <td>0</td>\n",
              "      <td>0</td>\n",
              "      <td>0</td>\n",
              "      <td>0</td>\n",
              "      <td>0</td>\n",
              "      <td>0</td>\n",
              "      <td>0</td>\n",
              "      <td>0</td>\n",
              "      <td>0</td>\n",
              "    </tr>\n",
              "    <tr>\n",
              "      <th>1</th>\n",
              "      <td>2609022712022-06-03</td>\n",
              "      <td>Лампа автомобильная</td>\n",
              "      <td>260902271</td>\n",
              "      <td>25541</td>\n",
              "      <td>2022-06-03</td>\n",
              "      <td>1</td>\n",
              "      <td>0</td>\n",
              "      <td>1</td>\n",
              "      <td>4584</td>\n",
              "      <td>0</td>\n",
              "      <td>...</td>\n",
              "      <td>0</td>\n",
              "      <td>0</td>\n",
              "      <td>0</td>\n",
              "      <td>0</td>\n",
              "      <td>0</td>\n",
              "      <td>0</td>\n",
              "      <td>0</td>\n",
              "      <td>0</td>\n",
              "      <td>0</td>\n",
              "      <td>0</td>\n",
              "    </tr>\n",
              "    <tr>\n",
              "      <th>2</th>\n",
              "      <td>2609022712022-06-07</td>\n",
              "      <td>Лампа автомобильная</td>\n",
              "      <td>260902271</td>\n",
              "      <td>25541</td>\n",
              "      <td>2022-06-07</td>\n",
              "      <td>1</td>\n",
              "      <td>1</td>\n",
              "      <td>1</td>\n",
              "      <td>4584</td>\n",
              "      <td>0</td>\n",
              "      <td>...</td>\n",
              "      <td>0</td>\n",
              "      <td>0</td>\n",
              "      <td>0</td>\n",
              "      <td>0</td>\n",
              "      <td>0</td>\n",
              "      <td>0</td>\n",
              "      <td>0</td>\n",
              "      <td>0</td>\n",
              "      <td>0</td>\n",
              "      <td>0</td>\n",
              "    </tr>\n",
              "  </tbody>\n",
              "</table>\n",
              "<p>3 rows × 21 columns</p>\n",
              "</div>\n",
              "    <div class=\"colab-df-buttons\">\n",
              "\n",
              "  <div class=\"colab-df-container\">\n",
              "    <button class=\"colab-df-convert\" onclick=\"convertToInteractive('df-d4737b65-37bd-473d-98b4-b63144543b96')\"\n",
              "            title=\"Convert this dataframe to an interactive table.\"\n",
              "            style=\"display:none;\">\n",
              "\n",
              "  <svg xmlns=\"http://www.w3.org/2000/svg\" height=\"24px\" viewBox=\"0 -960 960 960\">\n",
              "    <path d=\"M120-120v-720h720v720H120Zm60-500h600v-160H180v160Zm220 220h160v-160H400v160Zm0 220h160v-160H400v160ZM180-400h160v-160H180v160Zm440 0h160v-160H620v160ZM180-180h160v-160H180v160Zm440 0h160v-160H620v160Z\"/>\n",
              "  </svg>\n",
              "    </button>\n",
              "\n",
              "  <style>\n",
              "    .colab-df-container {\n",
              "      display:flex;\n",
              "      gap: 12px;\n",
              "    }\n",
              "\n",
              "    .colab-df-convert {\n",
              "      background-color: #E8F0FE;\n",
              "      border: none;\n",
              "      border-radius: 50%;\n",
              "      cursor: pointer;\n",
              "      display: none;\n",
              "      fill: #1967D2;\n",
              "      height: 32px;\n",
              "      padding: 0 0 0 0;\n",
              "      width: 32px;\n",
              "    }\n",
              "\n",
              "    .colab-df-convert:hover {\n",
              "      background-color: #E2EBFA;\n",
              "      box-shadow: 0px 1px 2px rgba(60, 64, 67, 0.3), 0px 1px 3px 1px rgba(60, 64, 67, 0.15);\n",
              "      fill: #174EA6;\n",
              "    }\n",
              "\n",
              "    .colab-df-buttons div {\n",
              "      margin-bottom: 4px;\n",
              "    }\n",
              "\n",
              "    [theme=dark] .colab-df-convert {\n",
              "      background-color: #3B4455;\n",
              "      fill: #D2E3FC;\n",
              "    }\n",
              "\n",
              "    [theme=dark] .colab-df-convert:hover {\n",
              "      background-color: #434B5C;\n",
              "      box-shadow: 0px 1px 3px 1px rgba(0, 0, 0, 0.15);\n",
              "      filter: drop-shadow(0px 1px 2px rgba(0, 0, 0, 0.3));\n",
              "      fill: #FFFFFF;\n",
              "    }\n",
              "  </style>\n",
              "\n",
              "    <script>\n",
              "      const buttonEl =\n",
              "        document.querySelector('#df-d4737b65-37bd-473d-98b4-b63144543b96 button.colab-df-convert');\n",
              "      buttonEl.style.display =\n",
              "        google.colab.kernel.accessAllowed ? 'block' : 'none';\n",
              "\n",
              "      async function convertToInteractive(key) {\n",
              "        const element = document.querySelector('#df-d4737b65-37bd-473d-98b4-b63144543b96');\n",
              "        const dataTable =\n",
              "          await google.colab.kernel.invokeFunction('convertToInteractive',\n",
              "                                                    [key], {});\n",
              "        if (!dataTable) return;\n",
              "\n",
              "        const docLinkHtml = 'Like what you see? Visit the ' +\n",
              "          '<a target=\"_blank\" href=https://colab.research.google.com/notebooks/data_table.ipynb>data table notebook</a>'\n",
              "          + ' to learn more about interactive tables.';\n",
              "        element.innerHTML = '';\n",
              "        dataTable['output_type'] = 'display_data';\n",
              "        await google.colab.output.renderOutput(dataTable, element);\n",
              "        const docLink = document.createElement('div');\n",
              "        docLink.innerHTML = docLinkHtml;\n",
              "        element.appendChild(docLink);\n",
              "      }\n",
              "    </script>\n",
              "  </div>\n",
              "\n",
              "\n",
              "<div id=\"df-d146a76d-df1f-4a52-b25e-fb7410ffe25c\">\n",
              "  <button class=\"colab-df-quickchart\" onclick=\"quickchart('df-d146a76d-df1f-4a52-b25e-fb7410ffe25c')\"\n",
              "            title=\"Suggest charts.\"\n",
              "            style=\"display:none;\">\n",
              "\n",
              "<svg xmlns=\"http://www.w3.org/2000/svg\" height=\"24px\"viewBox=\"0 0 24 24\"\n",
              "     width=\"24px\">\n",
              "    <g>\n",
              "        <path d=\"M19 3H5c-1.1 0-2 .9-2 2v14c0 1.1.9 2 2 2h14c1.1 0 2-.9 2-2V5c0-1.1-.9-2-2-2zM9 17H7v-7h2v7zm4 0h-2V7h2v10zm4 0h-2v-4h2v4z\"/>\n",
              "    </g>\n",
              "</svg>\n",
              "  </button>\n",
              "\n",
              "<style>\n",
              "  .colab-df-quickchart {\n",
              "    background-color: #E8F0FE;\n",
              "    border: none;\n",
              "    border-radius: 50%;\n",
              "    cursor: pointer;\n",
              "    display: none;\n",
              "    fill: #1967D2;\n",
              "    height: 32px;\n",
              "    padding: 0 0 0 0;\n",
              "    width: 32px;\n",
              "  }\n",
              "\n",
              "  .colab-df-quickchart:hover {\n",
              "    background-color: #E2EBFA;\n",
              "    box-shadow: 0px 1px 2px rgba(60, 64, 67, 0.3), 0px 1px 3px 1px rgba(60, 64, 67, 0.15);\n",
              "    fill: #174EA6;\n",
              "  }\n",
              "\n",
              "  [theme=dark] .colab-df-quickchart {\n",
              "    background-color: #3B4455;\n",
              "    fill: #D2E3FC;\n",
              "  }\n",
              "\n",
              "  [theme=dark] .colab-df-quickchart:hover {\n",
              "    background-color: #434B5C;\n",
              "    box-shadow: 0px 1px 3px 1px rgba(0, 0, 0, 0.15);\n",
              "    filter: drop-shadow(0px 1px 2px rgba(0, 0, 0, 0.3));\n",
              "    fill: #FFFFFF;\n",
              "  }\n",
              "</style>\n",
              "\n",
              "  <script>\n",
              "    async function quickchart(key) {\n",
              "      const charts = await google.colab.kernel.invokeFunction(\n",
              "          'suggestCharts', [key], {});\n",
              "    }\n",
              "    (() => {\n",
              "      let quickchartButtonEl =\n",
              "        document.querySelector('#df-d146a76d-df1f-4a52-b25e-fb7410ffe25c button');\n",
              "      quickchartButtonEl.style.display =\n",
              "        google.colab.kernel.accessAllowed ? 'block' : 'none';\n",
              "    })();\n",
              "  </script>\n",
              "</div>\n",
              "    </div>\n",
              "  </div>\n"
            ]
          },
          "metadata": {},
          "execution_count": 190
        }
      ]
    },
    {
      "cell_type": "code",
      "source": [
        "df_svod.to_csv('/content/df_svod.csv')"
      ],
      "metadata": {
        "id": "cibbbhrCdlnS"
      },
      "execution_count": 191,
      "outputs": []
    },
    {
      "cell_type": "markdown",
      "source": [
        "###### Ozon/Performance/Трафареты"
      ],
      "metadata": {
        "id": "JKzGgmohwh7Y"
      }
    },
    {
      "cell_type": "code",
      "source": [
        "all_traf = pd.DataFrame()"
      ],
      "metadata": {
        "id": "r9IFtKGj_tC3"
      },
      "execution_count": 192,
      "outputs": []
    },
    {
      "cell_type": "code",
      "source": [
        "for i in traf_paths:\n",
        "  df = pd.read_csv(traf_paths[i], skiprows=[0], delimiter=';') #, skiprows=[0,2], usecols=['column1', 'column2']\n",
        "  print('*'*40)\n",
        "  print(f'df - {i}')\n",
        "  print(df.shape)\n",
        "  print(df.columns)\n",
        "  normal_col(df)\n",
        "  df.dropna(subset=['sku'], inplace=True) # удаляем строки с пустым ID\n",
        "  try:\n",
        "    cols = ['Название_товара', 'Цена_товара',\n",
        "          'CTR_%', 'Ср_цена_1000_показов']\n",
        "    df.drop(cols, axis=1, inplace=True)\n",
        "  except:\n",
        "    cols = ['Название_товара', 'Цена_товара','CTR_%','Ср_цена_клика']\n",
        "    df.drop(cols, axis=1, inplace=True)\n",
        "\n",
        "  df['sku'] = df['sku'].astype(int)\n",
        "  df.rename(columns={'sku': 'Ozon_ID'}, inplace=True)\n",
        "  df['День'] = pd.to_datetime(df['День'])\n",
        "  df['Ozon_ID'] = df['Ozon_ID'].astype(str)\n",
        "  df['Расход__с_НДС'] = df['Расход__с_НДС'].replace(',','.', regex=True)\n",
        "  df['Расход__с_НДС'] = df['Расход__с_НДС'].astype(float)\n",
        "  df['Выручка'] = df['Выручка'].replace(',','.', regex=True)\n",
        "  df['Выручка'] = df['Выручка'].astype(float)\n",
        "  df['Выручка_с_заказов_модели'] = df['Выручка_с_заказов_модели'].replace(',','.', regex=True)\n",
        "  df['Выручка_с_заказов_модели'] = df['Выручка_с_заказов_модели'].astype(float)\n",
        "  if df.shape[0] != 1:\n",
        "    all_traf = pd.concat([all_traf, df], ignore_index=True)"
      ],
      "metadata": {
        "id": "HfzCL0LeU_wt",
        "colab": {
          "base_uri": "https://localhost:8080/"
        },
        "outputId": "59e459d7-6ab9-4cfc-a82a-319c754d8e23"
      },
      "execution_count": 193,
      "outputs": [
        {
          "output_type": "stream",
          "name": "stdout",
          "text": [
            "****************************************\n",
            "df - 3264126\n",
            "(276, 13)\n",
            "Index(['День', 'sku', 'Название товара', 'Цена товара, ₽', 'Показы', 'Клики',\n",
            "       'CTR (%)', 'Ср. цена 1000 показов, ₽', 'Расход, ₽, с НДС', 'Заказы',\n",
            "       'Выручка, ₽', 'Заказы модели', 'Выручка с заказов модели, ₽'],\n",
            "      dtype='object')\n",
            "['День', 'sku', 'Название_товара', 'Цена_товара', 'Показы', 'Клики', 'CTR_%', 'Ср_цена_1000_показов', 'Расход__с_НДС', 'Заказы', 'Выручка', 'Заказы_модели', 'Выручка_с_заказов_модели']\n",
            "****************************************\n",
            "df - 3263861\n",
            "(255, 13)\n",
            "Index(['День', 'sku', 'Название товара', 'Цена товара, ₽', 'Показы', 'Клики',\n",
            "       'CTR (%)', 'Ср. цена 1000 показов, ₽', 'Расход, ₽, с НДС', 'Заказы',\n",
            "       'Выручка, ₽', 'Заказы модели', 'Выручка с заказов модели, ₽'],\n",
            "      dtype='object')\n",
            "['День', 'sku', 'Название_товара', 'Цена_товара', 'Показы', 'Клики', 'CTR_%', 'Ср_цена_1000_показов', 'Расход__с_НДС', 'Заказы', 'Выручка', 'Заказы_модели', 'Выручка_с_заказов_модели']\n",
            "****************************************\n",
            "df - 3264916\n",
            "(207, 13)\n",
            "Index(['День', 'sku', 'Название товара', 'Цена товара, ₽', 'Показы', 'Клики',\n",
            "       'CTR (%)', 'Ср. цена 1000 показов, ₽', 'Расход, ₽, с НДС', 'Заказы',\n",
            "       'Выручка, ₽', 'Заказы модели', 'Выручка с заказов модели, ₽'],\n",
            "      dtype='object')\n",
            "['День', 'sku', 'Название_товара', 'Цена_товара', 'Показы', 'Клики', 'CTR_%', 'Ср_цена_1000_показов', 'Расход__с_НДС', 'Заказы', 'Выручка', 'Заказы_модели', 'Выручка_с_заказов_модели']\n",
            "****************************************\n",
            "df - 3225062\n",
            "(311, 13)\n",
            "Index(['День', 'sku', 'Название товара', 'Цена товара, ₽', 'Показы', 'Клики',\n",
            "       'CTR (%)', 'Ср. цена 1000 показов, ₽', 'Расход, ₽, с НДС', 'Заказы',\n",
            "       'Выручка, ₽', 'Заказы модели', 'Выручка с заказов модели, ₽'],\n",
            "      dtype='object')\n",
            "['День', 'sku', 'Название_товара', 'Цена_товара', 'Показы', 'Клики', 'CTR_%', 'Ср_цена_1000_показов', 'Расход__с_НДС', 'Заказы', 'Выручка', 'Заказы_модели', 'Выручка_с_заказов_модели']\n",
            "****************************************\n",
            "df - 3225021\n",
            "(258, 13)\n",
            "Index(['День', 'sku', 'Название товара', 'Цена товара, ₽', 'Показы', 'Клики',\n",
            "       'CTR (%)', 'Ср. цена 1000 показов, ₽', 'Расход, ₽, с НДС', 'Заказы',\n",
            "       'Выручка, ₽', 'Заказы модели', 'Выручка с заказов модели, ₽'],\n",
            "      dtype='object')\n",
            "['День', 'sku', 'Название_товара', 'Цена_товара', 'Показы', 'Клики', 'CTR_%', 'Ср_цена_1000_показов', 'Расход__с_НДС', 'Заказы', 'Выручка', 'Заказы_модели', 'Выручка_с_заказов_модели']\n",
            "****************************************\n",
            "df - 3040774\n",
            "(150, 13)\n",
            "Index(['День', 'sku', 'Название товара', 'Цена товара, ₽', 'Показы', 'Клики',\n",
            "       'CTR (%)', 'Ср. цена 1000 показов, ₽', 'Расход, ₽, с НДС', 'Заказы',\n",
            "       'Выручка, ₽', 'Заказы модели', 'Выручка с заказов модели, ₽'],\n",
            "      dtype='object')\n",
            "['День', 'sku', 'Название_товара', 'Цена_товара', 'Показы', 'Клики', 'CTR_%', 'Ср_цена_1000_показов', 'Расход__с_НДС', 'Заказы', 'Выручка', 'Заказы_модели', 'Выручка_с_заказов_модели']\n",
            "****************************************\n",
            "df - 3265272\n",
            "(291, 13)\n",
            "Index(['День', 'sku', 'Название товара', 'Цена товара, ₽', 'Показы', 'Клики',\n",
            "       'CTR (%)', 'Ср. цена 1000 показов, ₽', 'Расход, ₽, с НДС', 'Заказы',\n",
            "       'Выручка, ₽', 'Заказы модели', 'Выручка с заказов модели, ₽'],\n",
            "      dtype='object')\n",
            "['День', 'sku', 'Название_товара', 'Цена_товара', 'Показы', 'Клики', 'CTR_%', 'Ср_цена_1000_показов', 'Расход__с_НДС', 'Заказы', 'Выручка', 'Заказы_модели', 'Выручка_с_заказов_модели']\n",
            "****************************************\n",
            "df - 2983852\n",
            "(111, 13)\n",
            "Index(['День', 'sku', 'Название товара', 'Цена товара, ₽', 'Показы', 'Клики',\n",
            "       'CTR (%)', 'Ср. цена 1000 показов, ₽', 'Расход, ₽, с НДС', 'Заказы',\n",
            "       'Выручка, ₽', 'Заказы модели', 'Выручка с заказов модели, ₽'],\n",
            "      dtype='object')\n",
            "['День', 'sku', 'Название_товара', 'Цена_товара', 'Показы', 'Клики', 'CTR_%', 'Ср_цена_1000_показов', 'Расход__с_НДС', 'Заказы', 'Выручка', 'Заказы_модели', 'Выручка_с_заказов_модели']\n",
            "****************************************\n",
            "df - 2651630_01.05.2023-31.05.2023\n",
            "(419, 13)\n",
            "Index(['День', 'sku', 'Название товара', 'Цена товара, ₽', 'Показы', 'Клики',\n",
            "       'CTR (%)', 'Ср. цена 1000 показов, ₽', 'Расход, ₽, с НДС', 'Заказы',\n",
            "       'Выручка, ₽', 'Заказы модели', 'Выручка с заказов модели, ₽'],\n",
            "      dtype='object')\n",
            "['День', 'sku', 'Название_товара', 'Цена_товара', 'Показы', 'Клики', 'CTR_%', 'Ср_цена_1000_показов', 'Расход__с_НДС', 'Заказы', 'Выручка', 'Заказы_модели', 'Выручка_с_заказов_модели']\n",
            "****************************************\n",
            "df - 2651630_07.03.2023-07.03.2023\n",
            "(26, 13)\n",
            "Index(['День', 'sku', 'Название товара', 'Цена товара, ₽', 'Показы', 'Клики',\n",
            "       'CTR (%)', 'Ср. цена 1000 показов, ₽', 'Расход, ₽, с НДС', 'Заказы',\n",
            "       'Выручка, ₽', 'Заказы модели', 'Выручка с заказов модели, ₽'],\n",
            "      dtype='object')\n",
            "['День', 'sku', 'Название_товара', 'Цена_товара', 'Показы', 'Клики', 'CTR_%', 'Ср_цена_1000_показов', 'Расход__с_НДС', 'Заказы', 'Выручка', 'Заказы_модели', 'Выручка_с_заказов_модели']\n",
            "****************************************\n",
            "df - 1616775_24.11.2022-24.01.2023\n",
            "(1, 13)\n",
            "Index(['День', 'sku', 'Название товара', 'Цена товара, ₽', 'Показы', 'Клики',\n",
            "       'CTR (%)', 'Ср. цена 1000 показов, ₽', 'Расход, ₽, с НДС', 'Заказы',\n",
            "       'Выручка, ₽', 'Заказы модели', 'Выручка с заказов модели, ₽'],\n",
            "      dtype='object')\n",
            "['День', 'sku', 'Название_товара', 'Цена_товара', 'Показы', 'Клики', 'CTR_%', 'Ср_цена_1000_показов', 'Расход__с_НДС', 'Заказы', 'Выручка', 'Заказы_модели', 'Выручка_с_заказов_модели']\n",
            "****************************************\n",
            "df - 1616775_27.05.2023-31.05.2023\n",
            "(1, 13)\n",
            "Index(['День', 'sku', 'Название товара', 'Цена товара, ₽', 'Показы', 'Клики',\n",
            "       'CTR (%)', 'Ср. цена 1000 показов, ₽', 'Расход, ₽, с НДС', 'Заказы',\n",
            "       'Выручка, ₽', 'Заказы модели', 'Выручка с заказов модели, ₽'],\n",
            "      dtype='object')\n",
            "['День', 'sku', 'Название_товара', 'Цена_товара', 'Показы', 'Клики', 'CTR_%', 'Ср_цена_1000_показов', 'Расход__с_НДС', 'Заказы', 'Выручка', 'Заказы_модели', 'Выручка_с_заказов_модели']\n"
          ]
        },
        {
          "output_type": "stream",
          "name": "stderr",
          "text": [
            "<ipython-input-7-06ccb71f2ffc>:19: FutureWarning: DataFrame.set_axis 'inplace' keyword is deprecated and will be removed in a future version. Use `obj = obj.set_axis(..., copy=False)` instead\n",
            "  df.set_axis(cols, axis=1, inplace=True)\n",
            "<ipython-input-193-5f4a22510bdf>:19: UserWarning: Parsing dates in DD/MM/YYYY format when dayfirst=False (the default) was specified. This may lead to inconsistently parsed dates! Specify a format to ensure consistent parsing.\n",
            "  df['День'] = pd.to_datetime(df['День'])\n",
            "<ipython-input-7-06ccb71f2ffc>:19: FutureWarning: DataFrame.set_axis 'inplace' keyword is deprecated and will be removed in a future version. Use `obj = obj.set_axis(..., copy=False)` instead\n",
            "  df.set_axis(cols, axis=1, inplace=True)\n",
            "<ipython-input-193-5f4a22510bdf>:19: UserWarning: Parsing dates in DD/MM/YYYY format when dayfirst=False (the default) was specified. This may lead to inconsistently parsed dates! Specify a format to ensure consistent parsing.\n",
            "  df['День'] = pd.to_datetime(df['День'])\n",
            "<ipython-input-7-06ccb71f2ffc>:19: FutureWarning: DataFrame.set_axis 'inplace' keyword is deprecated and will be removed in a future version. Use `obj = obj.set_axis(..., copy=False)` instead\n",
            "  df.set_axis(cols, axis=1, inplace=True)\n",
            "<ipython-input-193-5f4a22510bdf>:19: UserWarning: Parsing dates in DD/MM/YYYY format when dayfirst=False (the default) was specified. This may lead to inconsistently parsed dates! Specify a format to ensure consistent parsing.\n",
            "  df['День'] = pd.to_datetime(df['День'])\n",
            "<ipython-input-7-06ccb71f2ffc>:19: FutureWarning: DataFrame.set_axis 'inplace' keyword is deprecated and will be removed in a future version. Use `obj = obj.set_axis(..., copy=False)` instead\n",
            "  df.set_axis(cols, axis=1, inplace=True)\n",
            "<ipython-input-193-5f4a22510bdf>:19: UserWarning: Parsing dates in DD/MM/YYYY format when dayfirst=False (the default) was specified. This may lead to inconsistently parsed dates! Specify a format to ensure consistent parsing.\n",
            "  df['День'] = pd.to_datetime(df['День'])\n",
            "<ipython-input-7-06ccb71f2ffc>:19: FutureWarning: DataFrame.set_axis 'inplace' keyword is deprecated and will be removed in a future version. Use `obj = obj.set_axis(..., copy=False)` instead\n",
            "  df.set_axis(cols, axis=1, inplace=True)\n",
            "<ipython-input-193-5f4a22510bdf>:19: UserWarning: Parsing dates in DD/MM/YYYY format when dayfirst=False (the default) was specified. This may lead to inconsistently parsed dates! Specify a format to ensure consistent parsing.\n",
            "  df['День'] = pd.to_datetime(df['День'])\n",
            "<ipython-input-7-06ccb71f2ffc>:19: FutureWarning: DataFrame.set_axis 'inplace' keyword is deprecated and will be removed in a future version. Use `obj = obj.set_axis(..., copy=False)` instead\n",
            "  df.set_axis(cols, axis=1, inplace=True)\n",
            "<ipython-input-193-5f4a22510bdf>:19: UserWarning: Parsing dates in DD/MM/YYYY format when dayfirst=False (the default) was specified. This may lead to inconsistently parsed dates! Specify a format to ensure consistent parsing.\n",
            "  df['День'] = pd.to_datetime(df['День'])\n",
            "<ipython-input-7-06ccb71f2ffc>:19: FutureWarning: DataFrame.set_axis 'inplace' keyword is deprecated and will be removed in a future version. Use `obj = obj.set_axis(..., copy=False)` instead\n",
            "  df.set_axis(cols, axis=1, inplace=True)\n",
            "<ipython-input-193-5f4a22510bdf>:19: UserWarning: Parsing dates in DD/MM/YYYY format when dayfirst=False (the default) was specified. This may lead to inconsistently parsed dates! Specify a format to ensure consistent parsing.\n",
            "  df['День'] = pd.to_datetime(df['День'])\n",
            "<ipython-input-7-06ccb71f2ffc>:19: FutureWarning: DataFrame.set_axis 'inplace' keyword is deprecated and will be removed in a future version. Use `obj = obj.set_axis(..., copy=False)` instead\n",
            "  df.set_axis(cols, axis=1, inplace=True)\n",
            "<ipython-input-193-5f4a22510bdf>:19: UserWarning: Parsing dates in DD/MM/YYYY format when dayfirst=False (the default) was specified. This may lead to inconsistently parsed dates! Specify a format to ensure consistent parsing.\n",
            "  df['День'] = pd.to_datetime(df['День'])\n",
            "<ipython-input-7-06ccb71f2ffc>:19: FutureWarning: DataFrame.set_axis 'inplace' keyword is deprecated and will be removed in a future version. Use `obj = obj.set_axis(..., copy=False)` instead\n",
            "  df.set_axis(cols, axis=1, inplace=True)\n",
            "<ipython-input-193-5f4a22510bdf>:19: UserWarning: Parsing dates in DD/MM/YYYY format when dayfirst=False (the default) was specified. This may lead to inconsistently parsed dates! Specify a format to ensure consistent parsing.\n",
            "  df['День'] = pd.to_datetime(df['День'])\n",
            "<ipython-input-7-06ccb71f2ffc>:19: FutureWarning: DataFrame.set_axis 'inplace' keyword is deprecated and will be removed in a future version. Use `obj = obj.set_axis(..., copy=False)` instead\n",
            "  df.set_axis(cols, axis=1, inplace=True)\n",
            "<ipython-input-7-06ccb71f2ffc>:19: FutureWarning: DataFrame.set_axis 'inplace' keyword is deprecated and will be removed in a future version. Use `obj = obj.set_axis(..., copy=False)` instead\n",
            "  df.set_axis(cols, axis=1, inplace=True)\n",
            "<ipython-input-7-06ccb71f2ffc>:19: FutureWarning: DataFrame.set_axis 'inplace' keyword is deprecated and will be removed in a future version. Use `obj = obj.set_axis(..., copy=False)` instead\n",
            "  df.set_axis(cols, axis=1, inplace=True)\n",
            "<ipython-input-7-06ccb71f2ffc>:19: FutureWarning: DataFrame.set_axis 'inplace' keyword is deprecated and will be removed in a future version. Use `obj = obj.set_axis(..., copy=False)` instead\n",
            "  df.set_axis(cols, axis=1, inplace=True)\n"
          ]
        },
        {
          "output_type": "stream",
          "name": "stdout",
          "text": [
            "****************************************\n",
            "df - 1616775_23.09.2022-23.11.2022\n",
            "(333, 13)\n",
            "Index(['День', 'sku', 'Название товара', 'Цена товара, ₽', 'Показы', 'Клики',\n",
            "       'CTR (%)', 'Ср. цена 1000 показов, ₽', 'Расход, ₽, с НДС', 'Заказы',\n",
            "       'Выручка, ₽', 'Заказы модели', 'Выручка с заказов модели, ₽'],\n",
            "      dtype='object')\n",
            "['День', 'sku', 'Название_товара', 'Цена_товара', 'Показы', 'Клики', 'CTR_%', 'Ср_цена_1000_показов', 'Расход__с_НДС', 'Заказы', 'Выручка', 'Заказы_модели', 'Выручка_с_заказов_модели']\n",
            "****************************************\n",
            "df - 1616775_26.03.2023-26.05.2023\n",
            "(1, 13)\n",
            "Index(['День', 'sku', 'Название товара', 'Цена товара, ₽', 'Показы', 'Клики',\n",
            "       'CTR (%)', 'Ср. цена 1000 показов, ₽', 'Расход, ₽, с НДС', 'Заказы',\n",
            "       'Выручка, ₽', 'Заказы модели', 'Выручка с заказов модели, ₽'],\n",
            "      dtype='object')\n",
            "['День', 'sku', 'Название_товара', 'Цена_товара', 'Показы', 'Клики', 'CTR_%', 'Ср_цена_1000_показов', 'Расход__с_НДС', 'Заказы', 'Выручка', 'Заказы_модели', 'Выручка_с_заказов_модели']\n",
            "****************************************\n",
            "df - 1616775_25.01.2023-25.03.2023\n",
            "(1, 13)\n",
            "Index(['День', 'sku', 'Название товара', 'Цена товара, ₽', 'Показы', 'Клики',\n",
            "       'CTR (%)', 'Ср. цена 1000 показов, ₽', 'Расход, ₽, с НДС', 'Заказы',\n",
            "       'Выручка, ₽', 'Заказы модели', 'Выручка с заказов модели, ₽'],\n",
            "      dtype='object')\n",
            "['День', 'sku', 'Название_товара', 'Цена_товара', 'Показы', 'Клики', 'CTR_%', 'Ср_цена_1000_показов', 'Расход__с_НДС', 'Заказы', 'Выручка', 'Заказы_модели', 'Выручка_с_заказов_модели']\n",
            "****************************************\n",
            "df - 2651789_01.05.2023-31.05.2023\n",
            "(448, 13)\n",
            "Index(['День', 'sku', 'Название товара', 'Цена товара, ₽', 'Показы', 'Клики',\n",
            "       'CTR (%)', 'Ср. цена клика, ₽', 'Расход, ₽, с НДС', 'Заказы',\n",
            "       'Выручка, ₽', 'Заказы модели', 'Выручка с заказов модели, ₽'],\n",
            "      dtype='object')\n",
            "['День', 'sku', 'Название_товара', 'Цена_товара', 'Показы', 'Клики', 'CTR_%', 'Ср_цена_клика', 'Расход__с_НДС', 'Заказы', 'Выручка', 'Заказы_модели', 'Выручка_с_заказов_модели']\n",
            "****************************************\n",
            "df - 2651789_07.03.2023-30.04.2023\n",
            "(1078, 13)\n",
            "Index(['День', 'sku', 'Название товара', 'Цена товара, ₽', 'Показы', 'Клики',\n",
            "       'CTR (%)', 'Ср. цена клика, ₽', 'Расход, ₽, с НДС', 'Заказы',\n",
            "       'Выручка, ₽', 'Заказы модели', 'Выручка с заказов модели, ₽'],\n",
            "      dtype='object')\n",
            "['День', 'sku', 'Название_товара', 'Цена_товара', 'Показы', 'Клики', 'CTR_%', 'Ср_цена_клика', 'Расход__с_НДС', 'Заказы', 'Выручка', 'Заказы_модели', 'Выручка_с_заказов_модели']\n",
            "****************************************\n",
            "df - 1223100_26.02.2023-26.04.2023\n",
            "(1, 13)\n",
            "Index(['День', 'sku', 'Название товара', 'Цена товара, ₽', 'Показы', 'Клики',\n",
            "       'CTR (%)', 'Ср. цена 1000 показов, ₽', 'Расход, ₽, с НДС', 'Заказы',\n",
            "       'Выручка, ₽', 'Заказы модели', 'Выручка с заказов модели, ₽'],\n",
            "      dtype='object')\n",
            "['День', 'sku', 'Название_товара', 'Цена_товара', 'Показы', 'Клики', 'CTR_%', 'Ср_цена_1000_показов', 'Расход__с_НДС', 'Заказы', 'Выручка', 'Заказы_модели', 'Выручка_с_заказов_модели']\n",
            "****************************************\n",
            "df - 1223100_24.10.2022-24.12.2022\n",
            "(1, 13)\n",
            "Index(['День', 'sku', 'Название товара', 'Цена товара, ₽', 'Показы', 'Клики',\n",
            "       'CTR (%)', 'Ср. цена 1000 показов, ₽', 'Расход, ₽, с НДС', 'Заказы',\n",
            "       'Выручка, ₽', 'Заказы модели', 'Выручка с заказов модели, ₽'],\n",
            "      dtype='object')\n",
            "['День', 'sku', 'Название_товара', 'Цена_товара', 'Показы', 'Клики', 'CTR_%', 'Ср_цена_1000_показов', 'Расход__с_НДС', 'Заказы', 'Выручка', 'Заказы_модели', 'Выручка_с_заказов_модели']\n",
            "****************************************\n",
            "df - 1223100_22.06.2022-22.08.2022\n",
            "(11258, 13)\n",
            "Index(['День', 'sku', 'Название товара', 'Цена товара, ₽', 'Показы', 'Клики',\n",
            "       'CTR (%)', 'Ср. цена 1000 показов, ₽', 'Расход, ₽, с НДС', 'Заказы',\n",
            "       'Выручка, ₽', 'Заказы модели', 'Выручка с заказов модели, ₽'],\n",
            "      dtype='object')\n",
            "['День', 'sku', 'Название_товара', 'Цена_товара', 'Показы', 'Клики', 'CTR_%', 'Ср_цена_1000_показов', 'Расход__с_НДС', 'Заказы', 'Выручка', 'Заказы_модели', 'Выручка_с_заказов_модели']\n"
          ]
        },
        {
          "output_type": "stream",
          "name": "stderr",
          "text": [
            "<ipython-input-193-5f4a22510bdf>:19: UserWarning: Parsing dates in DD/MM/YYYY format when dayfirst=False (the default) was specified. This may lead to inconsistently parsed dates! Specify a format to ensure consistent parsing.\n",
            "  df['День'] = pd.to_datetime(df['День'])\n",
            "<ipython-input-7-06ccb71f2ffc>:19: FutureWarning: DataFrame.set_axis 'inplace' keyword is deprecated and will be removed in a future version. Use `obj = obj.set_axis(..., copy=False)` instead\n",
            "  df.set_axis(cols, axis=1, inplace=True)\n",
            "<ipython-input-7-06ccb71f2ffc>:19: FutureWarning: DataFrame.set_axis 'inplace' keyword is deprecated and will be removed in a future version. Use `obj = obj.set_axis(..., copy=False)` instead\n",
            "  df.set_axis(cols, axis=1, inplace=True)\n",
            "<ipython-input-7-06ccb71f2ffc>:19: FutureWarning: DataFrame.set_axis 'inplace' keyword is deprecated and will be removed in a future version. Use `obj = obj.set_axis(..., copy=False)` instead\n",
            "  df.set_axis(cols, axis=1, inplace=True)\n",
            "<ipython-input-193-5f4a22510bdf>:19: UserWarning: Parsing dates in DD/MM/YYYY format when dayfirst=False (the default) was specified. This may lead to inconsistently parsed dates! Specify a format to ensure consistent parsing.\n",
            "  df['День'] = pd.to_datetime(df['День'])\n",
            "<ipython-input-7-06ccb71f2ffc>:19: FutureWarning: DataFrame.set_axis 'inplace' keyword is deprecated and will be removed in a future version. Use `obj = obj.set_axis(..., copy=False)` instead\n",
            "  df.set_axis(cols, axis=1, inplace=True)\n",
            "<ipython-input-193-5f4a22510bdf>:19: UserWarning: Parsing dates in DD/MM/YYYY format when dayfirst=False (the default) was specified. This may lead to inconsistently parsed dates! Specify a format to ensure consistent parsing.\n",
            "  df['День'] = pd.to_datetime(df['День'])\n",
            "<ipython-input-7-06ccb71f2ffc>:19: FutureWarning: DataFrame.set_axis 'inplace' keyword is deprecated and will be removed in a future version. Use `obj = obj.set_axis(..., copy=False)` instead\n",
            "  df.set_axis(cols, axis=1, inplace=True)\n",
            "<ipython-input-7-06ccb71f2ffc>:19: FutureWarning: DataFrame.set_axis 'inplace' keyword is deprecated and will be removed in a future version. Use `obj = obj.set_axis(..., copy=False)` instead\n",
            "  df.set_axis(cols, axis=1, inplace=True)\n",
            "<ipython-input-7-06ccb71f2ffc>:19: FutureWarning: DataFrame.set_axis 'inplace' keyword is deprecated and will be removed in a future version. Use `obj = obj.set_axis(..., copy=False)` instead\n",
            "  df.set_axis(cols, axis=1, inplace=True)\n",
            "<ipython-input-193-5f4a22510bdf>:19: UserWarning: Parsing dates in DD/MM/YYYY format when dayfirst=False (the default) was specified. This may lead to inconsistently parsed dates! Specify a format to ensure consistent parsing.\n",
            "  df['День'] = pd.to_datetime(df['День'])\n"
          ]
        },
        {
          "output_type": "stream",
          "name": "stdout",
          "text": [
            "****************************************\n",
            "df - 1223100_27.04.2023-31.05.2023\n",
            "(1, 13)\n",
            "Index(['День', 'sku', 'Название товара', 'Цена товара, ₽', 'Показы', 'Клики',\n",
            "       'CTR (%)', 'Ср. цена 1000 показов, ₽', 'Расход, ₽, с НДС', 'Заказы',\n",
            "       'Выручка, ₽', 'Заказы модели', 'Выручка с заказов модели, ₽'],\n",
            "      dtype='object')\n",
            "['День', 'sku', 'Название_товара', 'Цена_товара', 'Показы', 'Клики', 'CTR_%', 'Ср_цена_1000_показов', 'Расход__с_НДС', 'Заказы', 'Выручка', 'Заказы_модели', 'Выручка_с_заказов_модели']\n",
            "****************************************\n",
            "df - 1223100_23.08.2022-23.10.2022\n",
            "(12015, 14)\n",
            "Index(['День', 'sku', 'Название товара', 'Цена товара, ₽', 'Показы', 'Клики',\n",
            "       'CTR (%)', 'Ср. цена 1000 показов, ₽', 'Расход, ₽, с НДС',\n",
            "       'Расход за минусом бонусов, ₽, с НДС', 'Заказы', 'Выручка, ₽',\n",
            "       'Заказы модели', 'Выручка с заказов модели, ₽'],\n",
            "      dtype='object')\n",
            "['День', 'sku', 'Название_товара', 'Цена_товара', 'Показы', 'Клики', 'CTR_%', 'Ср_цена_1000_показов', 'Расход__с_НДС', 'Расход_за_минусом_бонусов__с_НДС', 'Заказы', 'Выручка', 'Заказы_модели', 'Выручка_с_заказов_модели']\n",
            "****************************************\n",
            "df - 1615846_27.05.2023-31.05.2023\n",
            "(1, 13)\n",
            "Index(['День', 'sku', 'Название товара', 'Цена товара, ₽', 'Показы', 'Клики',\n",
            "       'CTR (%)', 'Ср. цена 1000 показов, ₽', 'Расход, ₽, с НДС', 'Заказы',\n",
            "       'Выручка, ₽', 'Заказы модели', 'Выручка с заказов модели, ₽'],\n",
            "      dtype='object')\n",
            "['День', 'sku', 'Название_товара', 'Цена_товара', 'Показы', 'Клики', 'CTR_%', 'Ср_цена_1000_показов', 'Расход__с_НДС', 'Заказы', 'Выручка', 'Заказы_модели', 'Выручка_с_заказов_модели']\n",
            "****************************************\n",
            "df - 1615846_26.03.2023-26.05.2023\n",
            "(1, 13)\n",
            "Index(['День', 'sku', 'Название товара', 'Цена товара, ₽', 'Показы', 'Клики',\n",
            "       'CTR (%)', 'Ср. цена 1000 показов, ₽', 'Расход, ₽, с НДС', 'Заказы',\n",
            "       'Выручка, ₽', 'Заказы модели', 'Выручка с заказов модели, ₽'],\n",
            "      dtype='object')\n",
            "['День', 'sku', 'Название_товара', 'Цена_товара', 'Показы', 'Клики', 'CTR_%', 'Ср_цена_1000_показов', 'Расход__с_НДС', 'Заказы', 'Выручка', 'Заказы_модели', 'Выручка_с_заказов_модели']\n"
          ]
        },
        {
          "output_type": "stream",
          "name": "stderr",
          "text": [
            "<ipython-input-7-06ccb71f2ffc>:19: FutureWarning: DataFrame.set_axis 'inplace' keyword is deprecated and will be removed in a future version. Use `obj = obj.set_axis(..., copy=False)` instead\n",
            "  df.set_axis(cols, axis=1, inplace=True)\n",
            "<ipython-input-7-06ccb71f2ffc>:19: FutureWarning: DataFrame.set_axis 'inplace' keyword is deprecated and will be removed in a future version. Use `obj = obj.set_axis(..., copy=False)` instead\n",
            "  df.set_axis(cols, axis=1, inplace=True)\n",
            "<ipython-input-193-5f4a22510bdf>:19: UserWarning: Parsing dates in DD/MM/YYYY format when dayfirst=False (the default) was specified. This may lead to inconsistently parsed dates! Specify a format to ensure consistent parsing.\n",
            "  df['День'] = pd.to_datetime(df['День'])\n",
            "<ipython-input-7-06ccb71f2ffc>:19: FutureWarning: DataFrame.set_axis 'inplace' keyword is deprecated and will be removed in a future version. Use `obj = obj.set_axis(..., copy=False)` instead\n",
            "  df.set_axis(cols, axis=1, inplace=True)\n",
            "<ipython-input-7-06ccb71f2ffc>:19: FutureWarning: DataFrame.set_axis 'inplace' keyword is deprecated and will be removed in a future version. Use `obj = obj.set_axis(..., copy=False)` instead\n",
            "  df.set_axis(cols, axis=1, inplace=True)\n"
          ]
        },
        {
          "output_type": "stream",
          "name": "stdout",
          "text": [
            "****************************************\n",
            "df - 1615846_23.09.2022-23.11.2022\n",
            "(26385, 13)\n",
            "Index(['День', 'sku', 'Название товара', 'Цена товара, ₽', 'Показы', 'Клики',\n",
            "       'CTR (%)', 'Ср. цена 1000 показов, ₽', 'Расход, ₽, с НДС', 'Заказы',\n",
            "       'Выручка, ₽', 'Заказы модели', 'Выручка с заказов модели, ₽'],\n",
            "      dtype='object')\n",
            "['День', 'sku', 'Название_товара', 'Цена_товара', 'Показы', 'Клики', 'CTR_%', 'Ср_цена_1000_показов', 'Расход__с_НДС', 'Заказы', 'Выручка', 'Заказы_модели', 'Выручка_с_заказов_модели']\n",
            "****************************************\n",
            "df - 1615846_24.11.2022-24.01.2023\n",
            "(1426, 13)\n",
            "Index(['День', 'sku', 'Название товара', 'Цена товара, ₽', 'Показы', 'Клики',\n",
            "       'CTR (%)', 'Ср. цена 1000 показов, ₽', 'Расход, ₽, с НДС', 'Заказы',\n",
            "       'Выручка, ₽', 'Заказы модели', 'Выручка с заказов модели, ₽'],\n",
            "      dtype='object')\n",
            "['День', 'sku', 'Название_товара', 'Цена_товара', 'Показы', 'Клики', 'CTR_%', 'Ср_цена_1000_показов', 'Расход__с_НДС', 'Заказы', 'Выручка', 'Заказы_модели', 'Выручка_с_заказов_модели']\n"
          ]
        },
        {
          "output_type": "stream",
          "name": "stderr",
          "text": [
            "<ipython-input-7-06ccb71f2ffc>:19: FutureWarning: DataFrame.set_axis 'inplace' keyword is deprecated and will be removed in a future version. Use `obj = obj.set_axis(..., copy=False)` instead\n",
            "  df.set_axis(cols, axis=1, inplace=True)\n",
            "<ipython-input-193-5f4a22510bdf>:19: UserWarning: Parsing dates in DD/MM/YYYY format when dayfirst=False (the default) was specified. This may lead to inconsistently parsed dates! Specify a format to ensure consistent parsing.\n",
            "  df['День'] = pd.to_datetime(df['День'])\n",
            "<ipython-input-7-06ccb71f2ffc>:19: FutureWarning: DataFrame.set_axis 'inplace' keyword is deprecated and will be removed in a future version. Use `obj = obj.set_axis(..., copy=False)` instead\n",
            "  df.set_axis(cols, axis=1, inplace=True)\n",
            "<ipython-input-193-5f4a22510bdf>:19: UserWarning: Parsing dates in DD/MM/YYYY format when dayfirst=False (the default) was specified. This may lead to inconsistently parsed dates! Specify a format to ensure consistent parsing.\n",
            "  df['День'] = pd.to_datetime(df['День'])\n"
          ]
        },
        {
          "output_type": "stream",
          "name": "stdout",
          "text": [
            "****************************************\n",
            "df - 1615846_25.01.2023-25.03.2023\n",
            "(1027, 13)\n",
            "Index(['День', 'sku', 'Название товара', 'Цена товара, ₽', 'Показы', 'Клики',\n",
            "       'CTR (%)', 'Ср. цена 1000 показов, ₽', 'Расход, ₽, с НДС', 'Заказы',\n",
            "       'Выручка, ₽', 'Заказы модели', 'Выручка с заказов модели, ₽'],\n",
            "      dtype='object')\n",
            "['День', 'sku', 'Название_товара', 'Цена_товара', 'Показы', 'Клики', 'CTR_%', 'Ср_цена_1000_показов', 'Расход__с_НДС', 'Заказы', 'Выручка', 'Заказы_модели', 'Выручка_с_заказов_модели']\n"
          ]
        },
        {
          "output_type": "stream",
          "name": "stderr",
          "text": [
            "<ipython-input-7-06ccb71f2ffc>:19: FutureWarning: DataFrame.set_axis 'inplace' keyword is deprecated and will be removed in a future version. Use `obj = obj.set_axis(..., copy=False)` instead\n",
            "  df.set_axis(cols, axis=1, inplace=True)\n",
            "<ipython-input-193-5f4a22510bdf>:19: UserWarning: Parsing dates in DD/MM/YYYY format when dayfirst=False (the default) was specified. This may lead to inconsistently parsed dates! Specify a format to ensure consistent parsing.\n",
            "  df['День'] = pd.to_datetime(df['День'])\n"
          ]
        }
      ]
    },
    {
      "cell_type": "code",
      "source": [
        "all_traf.drop(['Расход_за_минусом_бонусов__с_НДС'], axis=1, inplace=True)"
      ],
      "metadata": {
        "id": "zSJ5cwf3FmxP"
      },
      "execution_count": 194,
      "outputs": []
    },
    {
      "cell_type": "code",
      "source": [
        "all_traf['Трафареты_Количество_заказов'] = all_traf['Заказы']+all_traf['Заказы_модели']\n",
        "all_traf['Трафареты_Сумма_заказов'] = all_traf['Выручка']+all_traf['Выручка_с_заказов_модели']"
      ],
      "metadata": {
        "id": "_Vcn-G4ogVKC"
      },
      "execution_count": 195,
      "outputs": []
    },
    {
      "cell_type": "code",
      "source": [
        "col = {'Показы':'Трафареты_Охват',\n",
        "       'Клики':'Трафареты_Клики',\n",
        "       'Расход__с_НДС':'Трафареты_Расходы_всего'}\n",
        "all_traf.rename(columns=col, inplace=True)\n",
        "all_traf.drop(['Заказы','Выручка', 'Заказы_модели', 'Выручка_с_заказов_модели'], axis=1, inplace=True)"
      ],
      "metadata": {
        "id": "YEIMZGJffcjN"
      },
      "execution_count": 196,
      "outputs": []
    },
    {
      "cell_type": "code",
      "source": [
        "all_traf.columns"
      ],
      "metadata": {
        "colab": {
          "base_uri": "https://localhost:8080/"
        },
        "id": "7HH3JYHTfEDV",
        "outputId": "9194a50b-8e1e-45da-d781-08be1b51c6ed"
      },
      "execution_count": 197,
      "outputs": [
        {
          "output_type": "execute_result",
          "data": {
            "text/plain": [
              "Index(['День', 'Ozon_ID', 'Трафареты_Охват', 'Трафареты_Клики',\n",
              "       'Трафареты_Расходы_всего', 'Трафареты_Количество_заказов',\n",
              "       'Трафареты_Сумма_заказов'],\n",
              "      dtype='object')"
            ]
          },
          "metadata": {},
          "execution_count": 197
        }
      ]
    },
    {
      "cell_type": "code",
      "source": [
        "df = all_traf.copy()"
      ],
      "metadata": {
        "id": "M7FYw-YJGO2W"
      },
      "execution_count": 198,
      "outputs": []
    },
    {
      "cell_type": "code",
      "source": [
        "df.dtypes"
      ],
      "metadata": {
        "colab": {
          "base_uri": "https://localhost:8080/"
        },
        "id": "oeuCxoEQ9PDE",
        "outputId": "2fbdcbc4-d669-4a84-d9cd-d170ffaee8a2"
      },
      "execution_count": 199,
      "outputs": [
        {
          "output_type": "execute_result",
          "data": {
            "text/plain": [
              "День                            datetime64[ns]\n",
              "Ozon_ID                                 object\n",
              "Трафареты_Охват                        float64\n",
              "Трафареты_Клики                        float64\n",
              "Трафареты_Расходы_всего                float64\n",
              "Трафареты_Количество_заказов           float64\n",
              "Трафареты_Сумма_заказов                float64\n",
              "dtype: object"
            ]
          },
          "metadata": {},
          "execution_count": 199
        }
      ]
    },
    {
      "cell_type": "code",
      "source": [
        "float2int(df)"
      ],
      "metadata": {
        "id": "l_73a__eGWqP"
      },
      "execution_count": 200,
      "outputs": []
    },
    {
      "cell_type": "code",
      "source": [
        "get_index(df)"
      ],
      "metadata": {
        "id": "gYef-bMMjzfl"
      },
      "execution_count": 201,
      "outputs": []
    },
    {
      "cell_type": "code",
      "source": [
        "df.drop(['День','Ozon_ID'], axis=1, inplace=True)"
      ],
      "metadata": {
        "id": "S1Xv5LunkJ7-"
      },
      "execution_count": 202,
      "outputs": []
    },
    {
      "cell_type": "code",
      "source": [
        "df"
      ],
      "metadata": {
        "colab": {
          "base_uri": "https://localhost:8080/",
          "height": 0
        },
        "id": "m8ghARtSEDiJ",
        "outputId": "2d166dd2-e7ab-4c04-8b6d-538ad4cc03f9"
      },
      "execution_count": 203,
      "outputs": [
        {
          "output_type": "execute_result",
          "data": {
            "text/plain": [
              "       Трафареты_Охват  Трафареты_Клики  Трафареты_Расходы_всего  \\\n",
              "0                  219                9                        2   \n",
              "1                   71                1                        1   \n",
              "2                  432                5                        4   \n",
              "3                   74                1                        1   \n",
              "4                 1078               22                       11   \n",
              "...                ...              ...                      ...   \n",
              "56242              204                2                       31   \n",
              "56243              188                1                       31   \n",
              "56244              282                6                       54   \n",
              "56245              221                9                       38   \n",
              "56246              255                0                       43   \n",
              "\n",
              "       Трафареты_Количество_заказов  Трафареты_Сумма_заказов  \\\n",
              "0                                 0                        0   \n",
              "1                                 0                        0   \n",
              "2                                 0                        0   \n",
              "3                                 0                        0   \n",
              "4                                 0                        0   \n",
              "...                             ...                      ...   \n",
              "56242                             0                        0   \n",
              "56243                             0                        0   \n",
              "56244                             0                        0   \n",
              "56245                             0                        0   \n",
              "56246                             0                        0   \n",
              "\n",
              "                   s_index  \n",
              "0      5115723402023-03-05  \n",
              "1      5115723642023-03-05  \n",
              "2      5115725212023-03-05  \n",
              "3      5115728192023-03-05  \n",
              "4      5115730082023-03-05  \n",
              "...                    ...  \n",
              "56242  6647634252023-07-03  \n",
              "56243  6647732272023-07-03  \n",
              "56244  7264762712023-07-03  \n",
              "56245  7638314802023-07-03  \n",
              "56246  8001839362023-07-03  \n",
              "\n",
              "[56247 rows x 6 columns]"
            ],
            "text/html": [
              "\n",
              "  <div id=\"df-bcc5faf0-d6d3-4e5e-b625-8898b8338957\" class=\"colab-df-container\">\n",
              "    <div>\n",
              "<style scoped>\n",
              "    .dataframe tbody tr th:only-of-type {\n",
              "        vertical-align: middle;\n",
              "    }\n",
              "\n",
              "    .dataframe tbody tr th {\n",
              "        vertical-align: top;\n",
              "    }\n",
              "\n",
              "    .dataframe thead th {\n",
              "        text-align: right;\n",
              "    }\n",
              "</style>\n",
              "<table border=\"1\" class=\"dataframe\">\n",
              "  <thead>\n",
              "    <tr style=\"text-align: right;\">\n",
              "      <th></th>\n",
              "      <th>Трафареты_Охват</th>\n",
              "      <th>Трафареты_Клики</th>\n",
              "      <th>Трафареты_Расходы_всего</th>\n",
              "      <th>Трафареты_Количество_заказов</th>\n",
              "      <th>Трафареты_Сумма_заказов</th>\n",
              "      <th>s_index</th>\n",
              "    </tr>\n",
              "  </thead>\n",
              "  <tbody>\n",
              "    <tr>\n",
              "      <th>0</th>\n",
              "      <td>219</td>\n",
              "      <td>9</td>\n",
              "      <td>2</td>\n",
              "      <td>0</td>\n",
              "      <td>0</td>\n",
              "      <td>5115723402023-03-05</td>\n",
              "    </tr>\n",
              "    <tr>\n",
              "      <th>1</th>\n",
              "      <td>71</td>\n",
              "      <td>1</td>\n",
              "      <td>1</td>\n",
              "      <td>0</td>\n",
              "      <td>0</td>\n",
              "      <td>5115723642023-03-05</td>\n",
              "    </tr>\n",
              "    <tr>\n",
              "      <th>2</th>\n",
              "      <td>432</td>\n",
              "      <td>5</td>\n",
              "      <td>4</td>\n",
              "      <td>0</td>\n",
              "      <td>0</td>\n",
              "      <td>5115725212023-03-05</td>\n",
              "    </tr>\n",
              "    <tr>\n",
              "      <th>3</th>\n",
              "      <td>74</td>\n",
              "      <td>1</td>\n",
              "      <td>1</td>\n",
              "      <td>0</td>\n",
              "      <td>0</td>\n",
              "      <td>5115728192023-03-05</td>\n",
              "    </tr>\n",
              "    <tr>\n",
              "      <th>4</th>\n",
              "      <td>1078</td>\n",
              "      <td>22</td>\n",
              "      <td>11</td>\n",
              "      <td>0</td>\n",
              "      <td>0</td>\n",
              "      <td>5115730082023-03-05</td>\n",
              "    </tr>\n",
              "    <tr>\n",
              "      <th>...</th>\n",
              "      <td>...</td>\n",
              "      <td>...</td>\n",
              "      <td>...</td>\n",
              "      <td>...</td>\n",
              "      <td>...</td>\n",
              "      <td>...</td>\n",
              "    </tr>\n",
              "    <tr>\n",
              "      <th>56242</th>\n",
              "      <td>204</td>\n",
              "      <td>2</td>\n",
              "      <td>31</td>\n",
              "      <td>0</td>\n",
              "      <td>0</td>\n",
              "      <td>6647634252023-07-03</td>\n",
              "    </tr>\n",
              "    <tr>\n",
              "      <th>56243</th>\n",
              "      <td>188</td>\n",
              "      <td>1</td>\n",
              "      <td>31</td>\n",
              "      <td>0</td>\n",
              "      <td>0</td>\n",
              "      <td>6647732272023-07-03</td>\n",
              "    </tr>\n",
              "    <tr>\n",
              "      <th>56244</th>\n",
              "      <td>282</td>\n",
              "      <td>6</td>\n",
              "      <td>54</td>\n",
              "      <td>0</td>\n",
              "      <td>0</td>\n",
              "      <td>7264762712023-07-03</td>\n",
              "    </tr>\n",
              "    <tr>\n",
              "      <th>56245</th>\n",
              "      <td>221</td>\n",
              "      <td>9</td>\n",
              "      <td>38</td>\n",
              "      <td>0</td>\n",
              "      <td>0</td>\n",
              "      <td>7638314802023-07-03</td>\n",
              "    </tr>\n",
              "    <tr>\n",
              "      <th>56246</th>\n",
              "      <td>255</td>\n",
              "      <td>0</td>\n",
              "      <td>43</td>\n",
              "      <td>0</td>\n",
              "      <td>0</td>\n",
              "      <td>8001839362023-07-03</td>\n",
              "    </tr>\n",
              "  </tbody>\n",
              "</table>\n",
              "<p>56247 rows × 6 columns</p>\n",
              "</div>\n",
              "    <div class=\"colab-df-buttons\">\n",
              "\n",
              "  <div class=\"colab-df-container\">\n",
              "    <button class=\"colab-df-convert\" onclick=\"convertToInteractive('df-bcc5faf0-d6d3-4e5e-b625-8898b8338957')\"\n",
              "            title=\"Convert this dataframe to an interactive table.\"\n",
              "            style=\"display:none;\">\n",
              "\n",
              "  <svg xmlns=\"http://www.w3.org/2000/svg\" height=\"24px\" viewBox=\"0 -960 960 960\">\n",
              "    <path d=\"M120-120v-720h720v720H120Zm60-500h600v-160H180v160Zm220 220h160v-160H400v160Zm0 220h160v-160H400v160ZM180-400h160v-160H180v160Zm440 0h160v-160H620v160ZM180-180h160v-160H180v160Zm440 0h160v-160H620v160Z\"/>\n",
              "  </svg>\n",
              "    </button>\n",
              "\n",
              "  <style>\n",
              "    .colab-df-container {\n",
              "      display:flex;\n",
              "      gap: 12px;\n",
              "    }\n",
              "\n",
              "    .colab-df-convert {\n",
              "      background-color: #E8F0FE;\n",
              "      border: none;\n",
              "      border-radius: 50%;\n",
              "      cursor: pointer;\n",
              "      display: none;\n",
              "      fill: #1967D2;\n",
              "      height: 32px;\n",
              "      padding: 0 0 0 0;\n",
              "      width: 32px;\n",
              "    }\n",
              "\n",
              "    .colab-df-convert:hover {\n",
              "      background-color: #E2EBFA;\n",
              "      box-shadow: 0px 1px 2px rgba(60, 64, 67, 0.3), 0px 1px 3px 1px rgba(60, 64, 67, 0.15);\n",
              "      fill: #174EA6;\n",
              "    }\n",
              "\n",
              "    .colab-df-buttons div {\n",
              "      margin-bottom: 4px;\n",
              "    }\n",
              "\n",
              "    [theme=dark] .colab-df-convert {\n",
              "      background-color: #3B4455;\n",
              "      fill: #D2E3FC;\n",
              "    }\n",
              "\n",
              "    [theme=dark] .colab-df-convert:hover {\n",
              "      background-color: #434B5C;\n",
              "      box-shadow: 0px 1px 3px 1px rgba(0, 0, 0, 0.15);\n",
              "      filter: drop-shadow(0px 1px 2px rgba(0, 0, 0, 0.3));\n",
              "      fill: #FFFFFF;\n",
              "    }\n",
              "  </style>\n",
              "\n",
              "    <script>\n",
              "      const buttonEl =\n",
              "        document.querySelector('#df-bcc5faf0-d6d3-4e5e-b625-8898b8338957 button.colab-df-convert');\n",
              "      buttonEl.style.display =\n",
              "        google.colab.kernel.accessAllowed ? 'block' : 'none';\n",
              "\n",
              "      async function convertToInteractive(key) {\n",
              "        const element = document.querySelector('#df-bcc5faf0-d6d3-4e5e-b625-8898b8338957');\n",
              "        const dataTable =\n",
              "          await google.colab.kernel.invokeFunction('convertToInteractive',\n",
              "                                                    [key], {});\n",
              "        if (!dataTable) return;\n",
              "\n",
              "        const docLinkHtml = 'Like what you see? Visit the ' +\n",
              "          '<a target=\"_blank\" href=https://colab.research.google.com/notebooks/data_table.ipynb>data table notebook</a>'\n",
              "          + ' to learn more about interactive tables.';\n",
              "        element.innerHTML = '';\n",
              "        dataTable['output_type'] = 'display_data';\n",
              "        await google.colab.output.renderOutput(dataTable, element);\n",
              "        const docLink = document.createElement('div');\n",
              "        docLink.innerHTML = docLinkHtml;\n",
              "        element.appendChild(docLink);\n",
              "      }\n",
              "    </script>\n",
              "  </div>\n",
              "\n",
              "\n",
              "<div id=\"df-285e4201-8b99-4db0-9620-248a3fec7473\">\n",
              "  <button class=\"colab-df-quickchart\" onclick=\"quickchart('df-285e4201-8b99-4db0-9620-248a3fec7473')\"\n",
              "            title=\"Suggest charts.\"\n",
              "            style=\"display:none;\">\n",
              "\n",
              "<svg xmlns=\"http://www.w3.org/2000/svg\" height=\"24px\"viewBox=\"0 0 24 24\"\n",
              "     width=\"24px\">\n",
              "    <g>\n",
              "        <path d=\"M19 3H5c-1.1 0-2 .9-2 2v14c0 1.1.9 2 2 2h14c1.1 0 2-.9 2-2V5c0-1.1-.9-2-2-2zM9 17H7v-7h2v7zm4 0h-2V7h2v10zm4 0h-2v-4h2v4z\"/>\n",
              "    </g>\n",
              "</svg>\n",
              "  </button>\n",
              "\n",
              "<style>\n",
              "  .colab-df-quickchart {\n",
              "    background-color: #E8F0FE;\n",
              "    border: none;\n",
              "    border-radius: 50%;\n",
              "    cursor: pointer;\n",
              "    display: none;\n",
              "    fill: #1967D2;\n",
              "    height: 32px;\n",
              "    padding: 0 0 0 0;\n",
              "    width: 32px;\n",
              "  }\n",
              "\n",
              "  .colab-df-quickchart:hover {\n",
              "    background-color: #E2EBFA;\n",
              "    box-shadow: 0px 1px 2px rgba(60, 64, 67, 0.3), 0px 1px 3px 1px rgba(60, 64, 67, 0.15);\n",
              "    fill: #174EA6;\n",
              "  }\n",
              "\n",
              "  [theme=dark] .colab-df-quickchart {\n",
              "    background-color: #3B4455;\n",
              "    fill: #D2E3FC;\n",
              "  }\n",
              "\n",
              "  [theme=dark] .colab-df-quickchart:hover {\n",
              "    background-color: #434B5C;\n",
              "    box-shadow: 0px 1px 3px 1px rgba(0, 0, 0, 0.15);\n",
              "    filter: drop-shadow(0px 1px 2px rgba(0, 0, 0, 0.3));\n",
              "    fill: #FFFFFF;\n",
              "  }\n",
              "</style>\n",
              "\n",
              "  <script>\n",
              "    async function quickchart(key) {\n",
              "      const charts = await google.colab.kernel.invokeFunction(\n",
              "          'suggestCharts', [key], {});\n",
              "    }\n",
              "    (() => {\n",
              "      let quickchartButtonEl =\n",
              "        document.querySelector('#df-285e4201-8b99-4db0-9620-248a3fec7473 button');\n",
              "      quickchartButtonEl.style.display =\n",
              "        google.colab.kernel.accessAllowed ? 'block' : 'none';\n",
              "    })();\n",
              "  </script>\n",
              "</div>\n",
              "    </div>\n",
              "  </div>\n"
            ]
          },
          "metadata": {},
          "execution_count": 203
        }
      ]
    },
    {
      "cell_type": "code",
      "source": [
        "all_df['Трафареты'] = df.copy()"
      ],
      "metadata": {
        "id": "9XLQd-75EDdw"
      },
      "execution_count": 204,
      "outputs": []
    },
    {
      "cell_type": "markdown",
      "source": [
        "Добавляем к Сводному ДФ"
      ],
      "metadata": {
        "id": "s9XLhk5ijFkR"
      }
    },
    {
      "cell_type": "code",
      "source": [
        "df_svod = pd.merge(df_svod,df, on='s_index', how='left')"
      ],
      "metadata": {
        "id": "Be7hAgXyjKlk"
      },
      "execution_count": 205,
      "outputs": []
    },
    {
      "cell_type": "code",
      "source": [
        "df_svod"
      ],
      "metadata": {
        "colab": {
          "base_uri": "https://localhost:8080/",
          "height": 0
        },
        "id": "DmRPRGXbjdc3",
        "outputId": "4bd518b6-0166-4916-a362-f4babea4ac94"
      },
      "execution_count": 206,
      "outputs": [
        {
          "output_type": "execute_result",
          "data": {
            "text/plain": [
              "                    s_index Категория_3го_уровня    Ozon_ID Артикул  \\\n",
              "0       2609022712022-06-02  Лампа автомобильная  260902271   25541   \n",
              "1       2609022712022-06-03  Лампа автомобильная  260902271   25541   \n",
              "2       2609022712022-06-07  Лампа автомобильная  260902271   25541   \n",
              "3       2609022712022-06-08  Лампа автомобильная  260902271   25541   \n",
              "4       2609022712022-06-12  Лампа автомобильная  260902271   25541   \n",
              "...                     ...                  ...        ...     ...   \n",
              "254466  9660743052023-05-28  Лампа автомобильная  966074305   34599   \n",
              "254467  9660743052023-05-29  Лампа автомобильная  966074305   34599   \n",
              "254468  9660743052023-05-30  Лампа автомобильная  966074305   34599   \n",
              "254469  9660743052023-05-31  Лампа автомобильная  966074305   34599   \n",
              "254470  9660743082023-05-07  Лампа автомобильная  966074308   34599   \n",
              "\n",
              "             День  Посетители  Посетители_на_карточке_товара  Показы  \\\n",
              "0      2022-06-02           1                              0       1   \n",
              "1      2022-06-03           1                              0       1   \n",
              "2      2022-06-07           1                              1       1   \n",
              "3      2022-06-08           0                              0       0   \n",
              "4      2022-06-12           1                              0       1   \n",
              "...           ...         ...                            ...     ...   \n",
              "254466 2023-05-28          19                              0      19   \n",
              "254467 2023-05-29          26                              1      28   \n",
              "254468 2023-05-30          36                              3      43   \n",
              "254469 2023-05-31          21                              3      30   \n",
              "254470 2023-05-07           1                              1       1   \n",
              "\n",
              "        Позиция_в_поиске_и_каталоге  В_корзину  ...  Заказано_по_Акции  \\\n",
              "0                              4584          0  ...                  0   \n",
              "1                              4584          0  ...                  0   \n",
              "2                              4584          0  ...                  0   \n",
              "3                              4584          0  ...                  0   \n",
              "4                              4584          0  ...                  0   \n",
              "...                             ...        ...  ...                ...   \n",
              "254466                          132          0  ...                  0   \n",
              "254467                          155          0  ...                  0   \n",
              "254468                           59          0  ...                  0   \n",
              "254469                          144          1  ...                  0   \n",
              "254470                         4584          0  ...                  0   \n",
              "\n",
              "        Заказано_на_сумму_по_акции  Средний_чек  Контент_рейтинг  \\\n",
              "0                                0            0                0   \n",
              "1                                0            0                0   \n",
              "2                                0            0                0   \n",
              "3                                0            0                0   \n",
              "4                                0            0                0   \n",
              "...                            ...          ...              ...   \n",
              "254466                           0            0               40   \n",
              "254467                           0            0               40   \n",
              "254468                           0            0               40   \n",
              "254469                           0            0               40   \n",
              "254470                           0            0                0   \n",
              "\n",
              "        Текущая_цена  Трафареты_Охват  Трафареты_Клики  \\\n",
              "0                  0              NaN              NaN   \n",
              "1                  0              NaN              NaN   \n",
              "2                  0              NaN              NaN   \n",
              "3                  0              NaN              NaN   \n",
              "4                  0              NaN              NaN   \n",
              "...              ...              ...              ...   \n",
              "254466          1640              NaN              NaN   \n",
              "254467          1640              NaN              NaN   \n",
              "254468          1640              NaN              NaN   \n",
              "254469          1640              NaN              NaN   \n",
              "254470             0              NaN              NaN   \n",
              "\n",
              "        Трафареты_Расходы_всего  Трафареты_Количество_заказов  \\\n",
              "0                           NaN                           NaN   \n",
              "1                           NaN                           NaN   \n",
              "2                           NaN                           NaN   \n",
              "3                           NaN                           NaN   \n",
              "4                           NaN                           NaN   \n",
              "...                         ...                           ...   \n",
              "254466                      NaN                           NaN   \n",
              "254467                      NaN                           NaN   \n",
              "254468                      NaN                           NaN   \n",
              "254469                      NaN                           NaN   \n",
              "254470                      NaN                           NaN   \n",
              "\n",
              "        Трафареты_Сумма_заказов  \n",
              "0                           NaN  \n",
              "1                           NaN  \n",
              "2                           NaN  \n",
              "3                           NaN  \n",
              "4                           NaN  \n",
              "...                         ...  \n",
              "254466                      NaN  \n",
              "254467                      NaN  \n",
              "254468                      NaN  \n",
              "254469                      NaN  \n",
              "254470                      NaN  \n",
              "\n",
              "[254471 rows x 26 columns]"
            ],
            "text/html": [
              "\n",
              "  <div id=\"df-62a613cb-4ad6-4c70-966e-e7909eb0ddcb\" class=\"colab-df-container\">\n",
              "    <div>\n",
              "<style scoped>\n",
              "    .dataframe tbody tr th:only-of-type {\n",
              "        vertical-align: middle;\n",
              "    }\n",
              "\n",
              "    .dataframe tbody tr th {\n",
              "        vertical-align: top;\n",
              "    }\n",
              "\n",
              "    .dataframe thead th {\n",
              "        text-align: right;\n",
              "    }\n",
              "</style>\n",
              "<table border=\"1\" class=\"dataframe\">\n",
              "  <thead>\n",
              "    <tr style=\"text-align: right;\">\n",
              "      <th></th>\n",
              "      <th>s_index</th>\n",
              "      <th>Категория_3го_уровня</th>\n",
              "      <th>Ozon_ID</th>\n",
              "      <th>Артикул</th>\n",
              "      <th>День</th>\n",
              "      <th>Посетители</th>\n",
              "      <th>Посетители_на_карточке_товара</th>\n",
              "      <th>Показы</th>\n",
              "      <th>Позиция_в_поиске_и_каталоге</th>\n",
              "      <th>В_корзину</th>\n",
              "      <th>...</th>\n",
              "      <th>Заказано_по_Акции</th>\n",
              "      <th>Заказано_на_сумму_по_акции</th>\n",
              "      <th>Средний_чек</th>\n",
              "      <th>Контент_рейтинг</th>\n",
              "      <th>Текущая_цена</th>\n",
              "      <th>Трафареты_Охват</th>\n",
              "      <th>Трафареты_Клики</th>\n",
              "      <th>Трафареты_Расходы_всего</th>\n",
              "      <th>Трафареты_Количество_заказов</th>\n",
              "      <th>Трафареты_Сумма_заказов</th>\n",
              "    </tr>\n",
              "  </thead>\n",
              "  <tbody>\n",
              "    <tr>\n",
              "      <th>0</th>\n",
              "      <td>2609022712022-06-02</td>\n",
              "      <td>Лампа автомобильная</td>\n",
              "      <td>260902271</td>\n",
              "      <td>25541</td>\n",
              "      <td>2022-06-02</td>\n",
              "      <td>1</td>\n",
              "      <td>0</td>\n",
              "      <td>1</td>\n",
              "      <td>4584</td>\n",
              "      <td>0</td>\n",
              "      <td>...</td>\n",
              "      <td>0</td>\n",
              "      <td>0</td>\n",
              "      <td>0</td>\n",
              "      <td>0</td>\n",
              "      <td>0</td>\n",
              "      <td>NaN</td>\n",
              "      <td>NaN</td>\n",
              "      <td>NaN</td>\n",
              "      <td>NaN</td>\n",
              "      <td>NaN</td>\n",
              "    </tr>\n",
              "    <tr>\n",
              "      <th>1</th>\n",
              "      <td>2609022712022-06-03</td>\n",
              "      <td>Лампа автомобильная</td>\n",
              "      <td>260902271</td>\n",
              "      <td>25541</td>\n",
              "      <td>2022-06-03</td>\n",
              "      <td>1</td>\n",
              "      <td>0</td>\n",
              "      <td>1</td>\n",
              "      <td>4584</td>\n",
              "      <td>0</td>\n",
              "      <td>...</td>\n",
              "      <td>0</td>\n",
              "      <td>0</td>\n",
              "      <td>0</td>\n",
              "      <td>0</td>\n",
              "      <td>0</td>\n",
              "      <td>NaN</td>\n",
              "      <td>NaN</td>\n",
              "      <td>NaN</td>\n",
              "      <td>NaN</td>\n",
              "      <td>NaN</td>\n",
              "    </tr>\n",
              "    <tr>\n",
              "      <th>2</th>\n",
              "      <td>2609022712022-06-07</td>\n",
              "      <td>Лампа автомобильная</td>\n",
              "      <td>260902271</td>\n",
              "      <td>25541</td>\n",
              "      <td>2022-06-07</td>\n",
              "      <td>1</td>\n",
              "      <td>1</td>\n",
              "      <td>1</td>\n",
              "      <td>4584</td>\n",
              "      <td>0</td>\n",
              "      <td>...</td>\n",
              "      <td>0</td>\n",
              "      <td>0</td>\n",
              "      <td>0</td>\n",
              "      <td>0</td>\n",
              "      <td>0</td>\n",
              "      <td>NaN</td>\n",
              "      <td>NaN</td>\n",
              "      <td>NaN</td>\n",
              "      <td>NaN</td>\n",
              "      <td>NaN</td>\n",
              "    </tr>\n",
              "    <tr>\n",
              "      <th>3</th>\n",
              "      <td>2609022712022-06-08</td>\n",
              "      <td>Лампа автомобильная</td>\n",
              "      <td>260902271</td>\n",
              "      <td>25541</td>\n",
              "      <td>2022-06-08</td>\n",
              "      <td>0</td>\n",
              "      <td>0</td>\n",
              "      <td>0</td>\n",
              "      <td>4584</td>\n",
              "      <td>0</td>\n",
              "      <td>...</td>\n",
              "      <td>0</td>\n",
              "      <td>0</td>\n",
              "      <td>0</td>\n",
              "      <td>0</td>\n",
              "      <td>0</td>\n",
              "      <td>NaN</td>\n",
              "      <td>NaN</td>\n",
              "      <td>NaN</td>\n",
              "      <td>NaN</td>\n",
              "      <td>NaN</td>\n",
              "    </tr>\n",
              "    <tr>\n",
              "      <th>4</th>\n",
              "      <td>2609022712022-06-12</td>\n",
              "      <td>Лампа автомобильная</td>\n",
              "      <td>260902271</td>\n",
              "      <td>25541</td>\n",
              "      <td>2022-06-12</td>\n",
              "      <td>1</td>\n",
              "      <td>0</td>\n",
              "      <td>1</td>\n",
              "      <td>4584</td>\n",
              "      <td>0</td>\n",
              "      <td>...</td>\n",
              "      <td>0</td>\n",
              "      <td>0</td>\n",
              "      <td>0</td>\n",
              "      <td>0</td>\n",
              "      <td>0</td>\n",
              "      <td>NaN</td>\n",
              "      <td>NaN</td>\n",
              "      <td>NaN</td>\n",
              "      <td>NaN</td>\n",
              "      <td>NaN</td>\n",
              "    </tr>\n",
              "    <tr>\n",
              "      <th>...</th>\n",
              "      <td>...</td>\n",
              "      <td>...</td>\n",
              "      <td>...</td>\n",
              "      <td>...</td>\n",
              "      <td>...</td>\n",
              "      <td>...</td>\n",
              "      <td>...</td>\n",
              "      <td>...</td>\n",
              "      <td>...</td>\n",
              "      <td>...</td>\n",
              "      <td>...</td>\n",
              "      <td>...</td>\n",
              "      <td>...</td>\n",
              "      <td>...</td>\n",
              "      <td>...</td>\n",
              "      <td>...</td>\n",
              "      <td>...</td>\n",
              "      <td>...</td>\n",
              "      <td>...</td>\n",
              "      <td>...</td>\n",
              "      <td>...</td>\n",
              "    </tr>\n",
              "    <tr>\n",
              "      <th>254466</th>\n",
              "      <td>9660743052023-05-28</td>\n",
              "      <td>Лампа автомобильная</td>\n",
              "      <td>966074305</td>\n",
              "      <td>34599</td>\n",
              "      <td>2023-05-28</td>\n",
              "      <td>19</td>\n",
              "      <td>0</td>\n",
              "      <td>19</td>\n",
              "      <td>132</td>\n",
              "      <td>0</td>\n",
              "      <td>...</td>\n",
              "      <td>0</td>\n",
              "      <td>0</td>\n",
              "      <td>0</td>\n",
              "      <td>40</td>\n",
              "      <td>1640</td>\n",
              "      <td>NaN</td>\n",
              "      <td>NaN</td>\n",
              "      <td>NaN</td>\n",
              "      <td>NaN</td>\n",
              "      <td>NaN</td>\n",
              "    </tr>\n",
              "    <tr>\n",
              "      <th>254467</th>\n",
              "      <td>9660743052023-05-29</td>\n",
              "      <td>Лампа автомобильная</td>\n",
              "      <td>966074305</td>\n",
              "      <td>34599</td>\n",
              "      <td>2023-05-29</td>\n",
              "      <td>26</td>\n",
              "      <td>1</td>\n",
              "      <td>28</td>\n",
              "      <td>155</td>\n",
              "      <td>0</td>\n",
              "      <td>...</td>\n",
              "      <td>0</td>\n",
              "      <td>0</td>\n",
              "      <td>0</td>\n",
              "      <td>40</td>\n",
              "      <td>1640</td>\n",
              "      <td>NaN</td>\n",
              "      <td>NaN</td>\n",
              "      <td>NaN</td>\n",
              "      <td>NaN</td>\n",
              "      <td>NaN</td>\n",
              "    </tr>\n",
              "    <tr>\n",
              "      <th>254468</th>\n",
              "      <td>9660743052023-05-30</td>\n",
              "      <td>Лампа автомобильная</td>\n",
              "      <td>966074305</td>\n",
              "      <td>34599</td>\n",
              "      <td>2023-05-30</td>\n",
              "      <td>36</td>\n",
              "      <td>3</td>\n",
              "      <td>43</td>\n",
              "      <td>59</td>\n",
              "      <td>0</td>\n",
              "      <td>...</td>\n",
              "      <td>0</td>\n",
              "      <td>0</td>\n",
              "      <td>0</td>\n",
              "      <td>40</td>\n",
              "      <td>1640</td>\n",
              "      <td>NaN</td>\n",
              "      <td>NaN</td>\n",
              "      <td>NaN</td>\n",
              "      <td>NaN</td>\n",
              "      <td>NaN</td>\n",
              "    </tr>\n",
              "    <tr>\n",
              "      <th>254469</th>\n",
              "      <td>9660743052023-05-31</td>\n",
              "      <td>Лампа автомобильная</td>\n",
              "      <td>966074305</td>\n",
              "      <td>34599</td>\n",
              "      <td>2023-05-31</td>\n",
              "      <td>21</td>\n",
              "      <td>3</td>\n",
              "      <td>30</td>\n",
              "      <td>144</td>\n",
              "      <td>1</td>\n",
              "      <td>...</td>\n",
              "      <td>0</td>\n",
              "      <td>0</td>\n",
              "      <td>0</td>\n",
              "      <td>40</td>\n",
              "      <td>1640</td>\n",
              "      <td>NaN</td>\n",
              "      <td>NaN</td>\n",
              "      <td>NaN</td>\n",
              "      <td>NaN</td>\n",
              "      <td>NaN</td>\n",
              "    </tr>\n",
              "    <tr>\n",
              "      <th>254470</th>\n",
              "      <td>9660743082023-05-07</td>\n",
              "      <td>Лампа автомобильная</td>\n",
              "      <td>966074308</td>\n",
              "      <td>34599</td>\n",
              "      <td>2023-05-07</td>\n",
              "      <td>1</td>\n",
              "      <td>1</td>\n",
              "      <td>1</td>\n",
              "      <td>4584</td>\n",
              "      <td>0</td>\n",
              "      <td>...</td>\n",
              "      <td>0</td>\n",
              "      <td>0</td>\n",
              "      <td>0</td>\n",
              "      <td>0</td>\n",
              "      <td>0</td>\n",
              "      <td>NaN</td>\n",
              "      <td>NaN</td>\n",
              "      <td>NaN</td>\n",
              "      <td>NaN</td>\n",
              "      <td>NaN</td>\n",
              "    </tr>\n",
              "  </tbody>\n",
              "</table>\n",
              "<p>254471 rows × 26 columns</p>\n",
              "</div>\n",
              "    <div class=\"colab-df-buttons\">\n",
              "\n",
              "  <div class=\"colab-df-container\">\n",
              "    <button class=\"colab-df-convert\" onclick=\"convertToInteractive('df-62a613cb-4ad6-4c70-966e-e7909eb0ddcb')\"\n",
              "            title=\"Convert this dataframe to an interactive table.\"\n",
              "            style=\"display:none;\">\n",
              "\n",
              "  <svg xmlns=\"http://www.w3.org/2000/svg\" height=\"24px\" viewBox=\"0 -960 960 960\">\n",
              "    <path d=\"M120-120v-720h720v720H120Zm60-500h600v-160H180v160Zm220 220h160v-160H400v160Zm0 220h160v-160H400v160ZM180-400h160v-160H180v160Zm440 0h160v-160H620v160ZM180-180h160v-160H180v160Zm440 0h160v-160H620v160Z\"/>\n",
              "  </svg>\n",
              "    </button>\n",
              "\n",
              "  <style>\n",
              "    .colab-df-container {\n",
              "      display:flex;\n",
              "      gap: 12px;\n",
              "    }\n",
              "\n",
              "    .colab-df-convert {\n",
              "      background-color: #E8F0FE;\n",
              "      border: none;\n",
              "      border-radius: 50%;\n",
              "      cursor: pointer;\n",
              "      display: none;\n",
              "      fill: #1967D2;\n",
              "      height: 32px;\n",
              "      padding: 0 0 0 0;\n",
              "      width: 32px;\n",
              "    }\n",
              "\n",
              "    .colab-df-convert:hover {\n",
              "      background-color: #E2EBFA;\n",
              "      box-shadow: 0px 1px 2px rgba(60, 64, 67, 0.3), 0px 1px 3px 1px rgba(60, 64, 67, 0.15);\n",
              "      fill: #174EA6;\n",
              "    }\n",
              "\n",
              "    .colab-df-buttons div {\n",
              "      margin-bottom: 4px;\n",
              "    }\n",
              "\n",
              "    [theme=dark] .colab-df-convert {\n",
              "      background-color: #3B4455;\n",
              "      fill: #D2E3FC;\n",
              "    }\n",
              "\n",
              "    [theme=dark] .colab-df-convert:hover {\n",
              "      background-color: #434B5C;\n",
              "      box-shadow: 0px 1px 3px 1px rgba(0, 0, 0, 0.15);\n",
              "      filter: drop-shadow(0px 1px 2px rgba(0, 0, 0, 0.3));\n",
              "      fill: #FFFFFF;\n",
              "    }\n",
              "  </style>\n",
              "\n",
              "    <script>\n",
              "      const buttonEl =\n",
              "        document.querySelector('#df-62a613cb-4ad6-4c70-966e-e7909eb0ddcb button.colab-df-convert');\n",
              "      buttonEl.style.display =\n",
              "        google.colab.kernel.accessAllowed ? 'block' : 'none';\n",
              "\n",
              "      async function convertToInteractive(key) {\n",
              "        const element = document.querySelector('#df-62a613cb-4ad6-4c70-966e-e7909eb0ddcb');\n",
              "        const dataTable =\n",
              "          await google.colab.kernel.invokeFunction('convertToInteractive',\n",
              "                                                    [key], {});\n",
              "        if (!dataTable) return;\n",
              "\n",
              "        const docLinkHtml = 'Like what you see? Visit the ' +\n",
              "          '<a target=\"_blank\" href=https://colab.research.google.com/notebooks/data_table.ipynb>data table notebook</a>'\n",
              "          + ' to learn more about interactive tables.';\n",
              "        element.innerHTML = '';\n",
              "        dataTable['output_type'] = 'display_data';\n",
              "        await google.colab.output.renderOutput(dataTable, element);\n",
              "        const docLink = document.createElement('div');\n",
              "        docLink.innerHTML = docLinkHtml;\n",
              "        element.appendChild(docLink);\n",
              "      }\n",
              "    </script>\n",
              "  </div>\n",
              "\n",
              "\n",
              "<div id=\"df-409615ee-7ef2-4547-8858-345caa51d356\">\n",
              "  <button class=\"colab-df-quickchart\" onclick=\"quickchart('df-409615ee-7ef2-4547-8858-345caa51d356')\"\n",
              "            title=\"Suggest charts.\"\n",
              "            style=\"display:none;\">\n",
              "\n",
              "<svg xmlns=\"http://www.w3.org/2000/svg\" height=\"24px\"viewBox=\"0 0 24 24\"\n",
              "     width=\"24px\">\n",
              "    <g>\n",
              "        <path d=\"M19 3H5c-1.1 0-2 .9-2 2v14c0 1.1.9 2 2 2h14c1.1 0 2-.9 2-2V5c0-1.1-.9-2-2-2zM9 17H7v-7h2v7zm4 0h-2V7h2v10zm4 0h-2v-4h2v4z\"/>\n",
              "    </g>\n",
              "</svg>\n",
              "  </button>\n",
              "\n",
              "<style>\n",
              "  .colab-df-quickchart {\n",
              "    background-color: #E8F0FE;\n",
              "    border: none;\n",
              "    border-radius: 50%;\n",
              "    cursor: pointer;\n",
              "    display: none;\n",
              "    fill: #1967D2;\n",
              "    height: 32px;\n",
              "    padding: 0 0 0 0;\n",
              "    width: 32px;\n",
              "  }\n",
              "\n",
              "  .colab-df-quickchart:hover {\n",
              "    background-color: #E2EBFA;\n",
              "    box-shadow: 0px 1px 2px rgba(60, 64, 67, 0.3), 0px 1px 3px 1px rgba(60, 64, 67, 0.15);\n",
              "    fill: #174EA6;\n",
              "  }\n",
              "\n",
              "  [theme=dark] .colab-df-quickchart {\n",
              "    background-color: #3B4455;\n",
              "    fill: #D2E3FC;\n",
              "  }\n",
              "\n",
              "  [theme=dark] .colab-df-quickchart:hover {\n",
              "    background-color: #434B5C;\n",
              "    box-shadow: 0px 1px 3px 1px rgba(0, 0, 0, 0.15);\n",
              "    filter: drop-shadow(0px 1px 2px rgba(0, 0, 0, 0.3));\n",
              "    fill: #FFFFFF;\n",
              "  }\n",
              "</style>\n",
              "\n",
              "  <script>\n",
              "    async function quickchart(key) {\n",
              "      const charts = await google.colab.kernel.invokeFunction(\n",
              "          'suggestCharts', [key], {});\n",
              "    }\n",
              "    (() => {\n",
              "      let quickchartButtonEl =\n",
              "        document.querySelector('#df-409615ee-7ef2-4547-8858-345caa51d356 button');\n",
              "      quickchartButtonEl.style.display =\n",
              "        google.colab.kernel.accessAllowed ? 'block' : 'none';\n",
              "    })();\n",
              "  </script>\n",
              "</div>\n",
              "    </div>\n",
              "  </div>\n"
            ]
          },
          "metadata": {},
          "execution_count": 206
        }
      ]
    },
    {
      "cell_type": "markdown",
      "source": [
        "###### Ozon/Performance/ПВП"
      ],
      "metadata": {
        "id": "bV_YiJv7xEeZ"
      }
    },
    {
      "cell_type": "code",
      "source": [
        "all_pvp = pd.DataFrame()"
      ],
      "metadata": {
        "id": "uFYAiJy1bkDE"
      },
      "execution_count": 207,
      "outputs": []
    },
    {
      "cell_type": "code",
      "source": [
        "for i in pvp_paths:\n",
        "  df = pd.read_csv(pvp_paths[i], skiprows=[0], delimiter=';') #, skiprows=[0,2], usecols=['column1', 'column2']\n",
        "  print('*'*40)\n",
        "  print(f'df - {i}')\n",
        "  print(df.shape)\n",
        "  print(df.columns)\n",
        "  normal_col(df)\n",
        "  df.dropna(subset=['Ozon_ID'], inplace=True) # удаляем строки с пустым ID\n",
        "  try:\n",
        "    cols = ['Номер_заказа', 'ID_заказа','Ozon_ID_рекламируемого_товара',\n",
        "            'Наименование','Расход']\n",
        "    df.drop(cols, axis=1, inplace=True)\n",
        "  except:\n",
        "    # cols = ['Название_товара', 'Цена_товара','CTR','Ср_цена_клика']\n",
        "    # df.drop(cols, axis=1, inplace=True)\n",
        "    print('Шо-то тут не то')\n",
        "  df['Ozon_ID'] = df['Ozon_ID'].astype(int)\n",
        "  df['Дата'] = pd.to_datetime(df['Дата'])\n",
        "  df.rename(columns={'Дата': 'День'}, inplace=True)\n",
        "  df['Ozon_ID'] = df['Ozon_ID'].astype(str)\n",
        "  df['Ставка'] = df['Ставка'].replace(',','.', regex=True)\n",
        "  df['Ставка'] = df['Ставка'].astype(float)\n",
        "  df['Ставка_%'] = df['Ставка_%'].replace(',','.', regex=True)\n",
        "  df['Ставка_%'] = df['Ставка_%'].astype(float)\n",
        "  df['Стоимость'] = df['Стоимость'].replace(',','.', regex=True)\n",
        "  df['Стоимость'] = df['Стоимость'].astype(float)\n",
        "  df['Цена_продажи'] = df['Цена_продажи'].replace(',','.', regex=True)\n",
        "  df['Цена_продажи'] = df['Цена_продажи'].astype(float)\n",
        "  df['Количество'] = df['Количество'].astype(int)\n",
        "  if df.shape[0] > 1:\n",
        "    all_pvp = pd.concat([all_pvp, df], ignore_index=True)\n",
        "  print(df.dtypes)"
      ],
      "metadata": {
        "id": "6eOd8jwSLa_J"
      },
      "execution_count": null,
      "outputs": []
    },
    {
      "cell_type": "code",
      "source": [
        "df = all_pvp.copy()\n",
        "df.shape"
      ],
      "metadata": {
        "colab": {
          "base_uri": "https://localhost:8080/"
        },
        "id": "VgCM1cm_4Lgw",
        "outputId": "fc95c7e2-c2f7-452a-9f56-ec20b6aa4056"
      },
      "execution_count": 211,
      "outputs": [
        {
          "output_type": "execute_result",
          "data": {
            "text/plain": [
              "(3676, 8)"
            ]
          },
          "metadata": {},
          "execution_count": 211
        }
      ]
    },
    {
      "cell_type": "code",
      "source": [
        "df.head(3)"
      ],
      "metadata": {
        "colab": {
          "base_uri": "https://localhost:8080/",
          "height": 143
        },
        "id": "VrrYR1Qy4Qix",
        "outputId": "e0e5f923-ff9c-493b-b740-0a2f0996b2df"
      },
      "execution_count": 210,
      "outputs": [
        {
          "output_type": "execute_result",
          "data": {
            "text/plain": [
              "        День    Ozon_ID  Артикул  Количество  Цена_продажи  Стоимость  \\\n",
              "0 2023-04-21  930789187  34536.0           1        1590.0     1590.0   \n",
              "1 2023-05-16  931529058  34538.0           1        1640.0     1640.0   \n",
              "2 2022-11-23  275493676  29276.0           1        7751.0     7751.0   \n",
              "\n",
              "   Ставка_%  Ставка  \n",
              "0       8.0  127.20  \n",
              "1       8.0  131.20  \n",
              "2       5.0  387.55  "
            ],
            "text/html": [
              "\n",
              "  <div id=\"df-cce96467-49cb-47ef-a4e8-72f2d6a88fd9\" class=\"colab-df-container\">\n",
              "    <div>\n",
              "<style scoped>\n",
              "    .dataframe tbody tr th:only-of-type {\n",
              "        vertical-align: middle;\n",
              "    }\n",
              "\n",
              "    .dataframe tbody tr th {\n",
              "        vertical-align: top;\n",
              "    }\n",
              "\n",
              "    .dataframe thead th {\n",
              "        text-align: right;\n",
              "    }\n",
              "</style>\n",
              "<table border=\"1\" class=\"dataframe\">\n",
              "  <thead>\n",
              "    <tr style=\"text-align: right;\">\n",
              "      <th></th>\n",
              "      <th>День</th>\n",
              "      <th>Ozon_ID</th>\n",
              "      <th>Артикул</th>\n",
              "      <th>Количество</th>\n",
              "      <th>Цена_продажи</th>\n",
              "      <th>Стоимость</th>\n",
              "      <th>Ставка_%</th>\n",
              "      <th>Ставка</th>\n",
              "    </tr>\n",
              "  </thead>\n",
              "  <tbody>\n",
              "    <tr>\n",
              "      <th>0</th>\n",
              "      <td>2023-04-21</td>\n",
              "      <td>930789187</td>\n",
              "      <td>34536.0</td>\n",
              "      <td>1</td>\n",
              "      <td>1590.0</td>\n",
              "      <td>1590.0</td>\n",
              "      <td>8.0</td>\n",
              "      <td>127.20</td>\n",
              "    </tr>\n",
              "    <tr>\n",
              "      <th>1</th>\n",
              "      <td>2023-05-16</td>\n",
              "      <td>931529058</td>\n",
              "      <td>34538.0</td>\n",
              "      <td>1</td>\n",
              "      <td>1640.0</td>\n",
              "      <td>1640.0</td>\n",
              "      <td>8.0</td>\n",
              "      <td>131.20</td>\n",
              "    </tr>\n",
              "    <tr>\n",
              "      <th>2</th>\n",
              "      <td>2022-11-23</td>\n",
              "      <td>275493676</td>\n",
              "      <td>29276.0</td>\n",
              "      <td>1</td>\n",
              "      <td>7751.0</td>\n",
              "      <td>7751.0</td>\n",
              "      <td>5.0</td>\n",
              "      <td>387.55</td>\n",
              "    </tr>\n",
              "  </tbody>\n",
              "</table>\n",
              "</div>\n",
              "    <div class=\"colab-df-buttons\">\n",
              "\n",
              "  <div class=\"colab-df-container\">\n",
              "    <button class=\"colab-df-convert\" onclick=\"convertToInteractive('df-cce96467-49cb-47ef-a4e8-72f2d6a88fd9')\"\n",
              "            title=\"Convert this dataframe to an interactive table.\"\n",
              "            style=\"display:none;\">\n",
              "\n",
              "  <svg xmlns=\"http://www.w3.org/2000/svg\" height=\"24px\" viewBox=\"0 -960 960 960\">\n",
              "    <path d=\"M120-120v-720h720v720H120Zm60-500h600v-160H180v160Zm220 220h160v-160H400v160Zm0 220h160v-160H400v160ZM180-400h160v-160H180v160Zm440 0h160v-160H620v160ZM180-180h160v-160H180v160Zm440 0h160v-160H620v160Z\"/>\n",
              "  </svg>\n",
              "    </button>\n",
              "\n",
              "  <style>\n",
              "    .colab-df-container {\n",
              "      display:flex;\n",
              "      gap: 12px;\n",
              "    }\n",
              "\n",
              "    .colab-df-convert {\n",
              "      background-color: #E8F0FE;\n",
              "      border: none;\n",
              "      border-radius: 50%;\n",
              "      cursor: pointer;\n",
              "      display: none;\n",
              "      fill: #1967D2;\n",
              "      height: 32px;\n",
              "      padding: 0 0 0 0;\n",
              "      width: 32px;\n",
              "    }\n",
              "\n",
              "    .colab-df-convert:hover {\n",
              "      background-color: #E2EBFA;\n",
              "      box-shadow: 0px 1px 2px rgba(60, 64, 67, 0.3), 0px 1px 3px 1px rgba(60, 64, 67, 0.15);\n",
              "      fill: #174EA6;\n",
              "    }\n",
              "\n",
              "    .colab-df-buttons div {\n",
              "      margin-bottom: 4px;\n",
              "    }\n",
              "\n",
              "    [theme=dark] .colab-df-convert {\n",
              "      background-color: #3B4455;\n",
              "      fill: #D2E3FC;\n",
              "    }\n",
              "\n",
              "    [theme=dark] .colab-df-convert:hover {\n",
              "      background-color: #434B5C;\n",
              "      box-shadow: 0px 1px 3px 1px rgba(0, 0, 0, 0.15);\n",
              "      filter: drop-shadow(0px 1px 2px rgba(0, 0, 0, 0.3));\n",
              "      fill: #FFFFFF;\n",
              "    }\n",
              "  </style>\n",
              "\n",
              "    <script>\n",
              "      const buttonEl =\n",
              "        document.querySelector('#df-cce96467-49cb-47ef-a4e8-72f2d6a88fd9 button.colab-df-convert');\n",
              "      buttonEl.style.display =\n",
              "        google.colab.kernel.accessAllowed ? 'block' : 'none';\n",
              "\n",
              "      async function convertToInteractive(key) {\n",
              "        const element = document.querySelector('#df-cce96467-49cb-47ef-a4e8-72f2d6a88fd9');\n",
              "        const dataTable =\n",
              "          await google.colab.kernel.invokeFunction('convertToInteractive',\n",
              "                                                    [key], {});\n",
              "        if (!dataTable) return;\n",
              "\n",
              "        const docLinkHtml = 'Like what you see? Visit the ' +\n",
              "          '<a target=\"_blank\" href=https://colab.research.google.com/notebooks/data_table.ipynb>data table notebook</a>'\n",
              "          + ' to learn more about interactive tables.';\n",
              "        element.innerHTML = '';\n",
              "        dataTable['output_type'] = 'display_data';\n",
              "        await google.colab.output.renderOutput(dataTable, element);\n",
              "        const docLink = document.createElement('div');\n",
              "        docLink.innerHTML = docLinkHtml;\n",
              "        element.appendChild(docLink);\n",
              "      }\n",
              "    </script>\n",
              "  </div>\n",
              "\n",
              "\n",
              "<div id=\"df-0bb80fb8-499f-4186-a699-a3dc6dfc59fe\">\n",
              "  <button class=\"colab-df-quickchart\" onclick=\"quickchart('df-0bb80fb8-499f-4186-a699-a3dc6dfc59fe')\"\n",
              "            title=\"Suggest charts.\"\n",
              "            style=\"display:none;\">\n",
              "\n",
              "<svg xmlns=\"http://www.w3.org/2000/svg\" height=\"24px\"viewBox=\"0 0 24 24\"\n",
              "     width=\"24px\">\n",
              "    <g>\n",
              "        <path d=\"M19 3H5c-1.1 0-2 .9-2 2v14c0 1.1.9 2 2 2h14c1.1 0 2-.9 2-2V5c0-1.1-.9-2-2-2zM9 17H7v-7h2v7zm4 0h-2V7h2v10zm4 0h-2v-4h2v4z\"/>\n",
              "    </g>\n",
              "</svg>\n",
              "  </button>\n",
              "\n",
              "<style>\n",
              "  .colab-df-quickchart {\n",
              "    background-color: #E8F0FE;\n",
              "    border: none;\n",
              "    border-radius: 50%;\n",
              "    cursor: pointer;\n",
              "    display: none;\n",
              "    fill: #1967D2;\n",
              "    height: 32px;\n",
              "    padding: 0 0 0 0;\n",
              "    width: 32px;\n",
              "  }\n",
              "\n",
              "  .colab-df-quickchart:hover {\n",
              "    background-color: #E2EBFA;\n",
              "    box-shadow: 0px 1px 2px rgba(60, 64, 67, 0.3), 0px 1px 3px 1px rgba(60, 64, 67, 0.15);\n",
              "    fill: #174EA6;\n",
              "  }\n",
              "\n",
              "  [theme=dark] .colab-df-quickchart {\n",
              "    background-color: #3B4455;\n",
              "    fill: #D2E3FC;\n",
              "  }\n",
              "\n",
              "  [theme=dark] .colab-df-quickchart:hover {\n",
              "    background-color: #434B5C;\n",
              "    box-shadow: 0px 1px 3px 1px rgba(0, 0, 0, 0.15);\n",
              "    filter: drop-shadow(0px 1px 2px rgba(0, 0, 0, 0.3));\n",
              "    fill: #FFFFFF;\n",
              "  }\n",
              "</style>\n",
              "\n",
              "  <script>\n",
              "    async function quickchart(key) {\n",
              "      const charts = await google.colab.kernel.invokeFunction(\n",
              "          'suggestCharts', [key], {});\n",
              "    }\n",
              "    (() => {\n",
              "      let quickchartButtonEl =\n",
              "        document.querySelector('#df-0bb80fb8-499f-4186-a699-a3dc6dfc59fe button');\n",
              "      quickchartButtonEl.style.display =\n",
              "        google.colab.kernel.accessAllowed ? 'block' : 'none';\n",
              "    })();\n",
              "  </script>\n",
              "</div>\n",
              "    </div>\n",
              "  </div>\n"
            ]
          },
          "metadata": {},
          "execution_count": 210
        }
      ]
    },
    {
      "cell_type": "code",
      "source": [
        "col = {'Количество':'Продвижение_в_поиске_Количество_заказов',\n",
        "       'Стоимость':'Продвижение_в_поиске_Сумма_заказов',\n",
        "       'Ставка':'Продвижение_в_поиске_Ставка'}\n",
        "df.rename(columns=col, inplace=True)"
      ],
      "metadata": {
        "id": "085qxVjj4g9K"
      },
      "execution_count": 227,
      "outputs": []
    },
    {
      "cell_type": "code",
      "source": [
        "get_index(df)"
      ],
      "metadata": {
        "id": "w-5_Qjvi4gvv"
      },
      "execution_count": null,
      "outputs": []
    },
    {
      "cell_type": "code",
      "source": [
        "df.columns"
      ],
      "metadata": {
        "colab": {
          "base_uri": "https://localhost:8080/"
        },
        "id": "CppGHvPo4g2_",
        "outputId": "405d5d66-dfd9-4072-8d4d-73cee8ff8cb1"
      },
      "execution_count": 228,
      "outputs": [
        {
          "output_type": "execute_result",
          "data": {
            "text/plain": [
              "Index(['Продвижение_в_поиске_Количество_заказов', 'Цена_продажи',\n",
              "       'Продвижение_в_поиске_Сумма_заказов', 'Ставка_%',\n",
              "       'Продвижение_в_поиске_Ставка', 's_index'],\n",
              "      dtype='object')"
            ]
          },
          "metadata": {},
          "execution_count": 228
        }
      ]
    },
    {
      "cell_type": "code",
      "source": [
        "uniq_b = (df['Ozon_ID'].unique())\n",
        "uniq_s = (df_svod['Ozon_ID'].unique())\n",
        "w = []\n",
        "for i in uniq_b:\n",
        "  for j in uniq_s:\n",
        "    if i == j:\n",
        "      w.append(j)\n",
        "\n",
        "print(f'Уникальных в БазеПВП: {len(uniq_b)}')\n",
        "print(f'Уникальных в Своде: {len(uniq_s)}')\n",
        "print(f'Общих: {len(w)}')"
      ],
      "metadata": {
        "colab": {
          "base_uri": "https://localhost:8080/"
        },
        "id": "S4rPQuzS6gIY",
        "outputId": "d857a53b-7723-4eed-f351-5bd937603659"
      },
      "execution_count": 217,
      "outputs": [
        {
          "output_type": "stream",
          "name": "stdout",
          "text": [
            "Уникальных в БазеПВП: 429\n",
            "Уникальных в Своде: 1233\n",
            "Общих: 429\n"
          ]
        }
      ]
    },
    {
      "cell_type": "code",
      "source": [
        "col = ['День','Ozon_ID', 'Артикул']\n",
        "df.drop(columns = col, inplace=True)"
      ],
      "metadata": {
        "id": "TClZd3Kw52ie"
      },
      "execution_count": 218,
      "outputs": []
    },
    {
      "cell_type": "code",
      "source": [
        "float2int(df)"
      ],
      "metadata": {
        "id": "hvTHgCXr8fxB"
      },
      "execution_count": 231,
      "outputs": []
    },
    {
      "cell_type": "code",
      "source": [
        "df.head(3)"
      ],
      "metadata": {
        "colab": {
          "base_uri": "https://localhost:8080/",
          "height": 215
        },
        "id": "W0kFG7F27NnA",
        "outputId": "26c403bf-d7a8-40af-f28f-2d6efc47ca20"
      },
      "execution_count": 232,
      "outputs": [
        {
          "output_type": "execute_result",
          "data": {
            "text/plain": [
              "   Продвижение_в_поиске_Количество_заказов  Цена_продажи  \\\n",
              "0                                        1          1590   \n",
              "1                                        1          1640   \n",
              "2                                        1          7751   \n",
              "\n",
              "   Продвижение_в_поиске_Сумма_заказов  Ставка_%  Продвижение_в_поиске_Ставка  \\\n",
              "0                                1590         8                          127   \n",
              "1                                1640         8                          131   \n",
              "2                                7751         5                          388   \n",
              "\n",
              "               s_index  \n",
              "0  9307891872023-04-21  \n",
              "1  9315290582023-05-16  \n",
              "2  2754936762022-11-23  "
            ],
            "text/html": [
              "\n",
              "  <div id=\"df-597ceebe-e20c-434e-a0e2-26faab36b29e\" class=\"colab-df-container\">\n",
              "    <div>\n",
              "<style scoped>\n",
              "    .dataframe tbody tr th:only-of-type {\n",
              "        vertical-align: middle;\n",
              "    }\n",
              "\n",
              "    .dataframe tbody tr th {\n",
              "        vertical-align: top;\n",
              "    }\n",
              "\n",
              "    .dataframe thead th {\n",
              "        text-align: right;\n",
              "    }\n",
              "</style>\n",
              "<table border=\"1\" class=\"dataframe\">\n",
              "  <thead>\n",
              "    <tr style=\"text-align: right;\">\n",
              "      <th></th>\n",
              "      <th>Продвижение_в_поиске_Количество_заказов</th>\n",
              "      <th>Цена_продажи</th>\n",
              "      <th>Продвижение_в_поиске_Сумма_заказов</th>\n",
              "      <th>Ставка_%</th>\n",
              "      <th>Продвижение_в_поиске_Ставка</th>\n",
              "      <th>s_index</th>\n",
              "    </tr>\n",
              "  </thead>\n",
              "  <tbody>\n",
              "    <tr>\n",
              "      <th>0</th>\n",
              "      <td>1</td>\n",
              "      <td>1590</td>\n",
              "      <td>1590</td>\n",
              "      <td>8</td>\n",
              "      <td>127</td>\n",
              "      <td>9307891872023-04-21</td>\n",
              "    </tr>\n",
              "    <tr>\n",
              "      <th>1</th>\n",
              "      <td>1</td>\n",
              "      <td>1640</td>\n",
              "      <td>1640</td>\n",
              "      <td>8</td>\n",
              "      <td>131</td>\n",
              "      <td>9315290582023-05-16</td>\n",
              "    </tr>\n",
              "    <tr>\n",
              "      <th>2</th>\n",
              "      <td>1</td>\n",
              "      <td>7751</td>\n",
              "      <td>7751</td>\n",
              "      <td>5</td>\n",
              "      <td>388</td>\n",
              "      <td>2754936762022-11-23</td>\n",
              "    </tr>\n",
              "  </tbody>\n",
              "</table>\n",
              "</div>\n",
              "    <div class=\"colab-df-buttons\">\n",
              "\n",
              "  <div class=\"colab-df-container\">\n",
              "    <button class=\"colab-df-convert\" onclick=\"convertToInteractive('df-597ceebe-e20c-434e-a0e2-26faab36b29e')\"\n",
              "            title=\"Convert this dataframe to an interactive table.\"\n",
              "            style=\"display:none;\">\n",
              "\n",
              "  <svg xmlns=\"http://www.w3.org/2000/svg\" height=\"24px\" viewBox=\"0 -960 960 960\">\n",
              "    <path d=\"M120-120v-720h720v720H120Zm60-500h600v-160H180v160Zm220 220h160v-160H400v160Zm0 220h160v-160H400v160ZM180-400h160v-160H180v160Zm440 0h160v-160H620v160ZM180-180h160v-160H180v160Zm440 0h160v-160H620v160Z\"/>\n",
              "  </svg>\n",
              "    </button>\n",
              "\n",
              "  <style>\n",
              "    .colab-df-container {\n",
              "      display:flex;\n",
              "      gap: 12px;\n",
              "    }\n",
              "\n",
              "    .colab-df-convert {\n",
              "      background-color: #E8F0FE;\n",
              "      border: none;\n",
              "      border-radius: 50%;\n",
              "      cursor: pointer;\n",
              "      display: none;\n",
              "      fill: #1967D2;\n",
              "      height: 32px;\n",
              "      padding: 0 0 0 0;\n",
              "      width: 32px;\n",
              "    }\n",
              "\n",
              "    .colab-df-convert:hover {\n",
              "      background-color: #E2EBFA;\n",
              "      box-shadow: 0px 1px 2px rgba(60, 64, 67, 0.3), 0px 1px 3px 1px rgba(60, 64, 67, 0.15);\n",
              "      fill: #174EA6;\n",
              "    }\n",
              "\n",
              "    .colab-df-buttons div {\n",
              "      margin-bottom: 4px;\n",
              "    }\n",
              "\n",
              "    [theme=dark] .colab-df-convert {\n",
              "      background-color: #3B4455;\n",
              "      fill: #D2E3FC;\n",
              "    }\n",
              "\n",
              "    [theme=dark] .colab-df-convert:hover {\n",
              "      background-color: #434B5C;\n",
              "      box-shadow: 0px 1px 3px 1px rgba(0, 0, 0, 0.15);\n",
              "      filter: drop-shadow(0px 1px 2px rgba(0, 0, 0, 0.3));\n",
              "      fill: #FFFFFF;\n",
              "    }\n",
              "  </style>\n",
              "\n",
              "    <script>\n",
              "      const buttonEl =\n",
              "        document.querySelector('#df-597ceebe-e20c-434e-a0e2-26faab36b29e button.colab-df-convert');\n",
              "      buttonEl.style.display =\n",
              "        google.colab.kernel.accessAllowed ? 'block' : 'none';\n",
              "\n",
              "      async function convertToInteractive(key) {\n",
              "        const element = document.querySelector('#df-597ceebe-e20c-434e-a0e2-26faab36b29e');\n",
              "        const dataTable =\n",
              "          await google.colab.kernel.invokeFunction('convertToInteractive',\n",
              "                                                    [key], {});\n",
              "        if (!dataTable) return;\n",
              "\n",
              "        const docLinkHtml = 'Like what you see? Visit the ' +\n",
              "          '<a target=\"_blank\" href=https://colab.research.google.com/notebooks/data_table.ipynb>data table notebook</a>'\n",
              "          + ' to learn more about interactive tables.';\n",
              "        element.innerHTML = '';\n",
              "        dataTable['output_type'] = 'display_data';\n",
              "        await google.colab.output.renderOutput(dataTable, element);\n",
              "        const docLink = document.createElement('div');\n",
              "        docLink.innerHTML = docLinkHtml;\n",
              "        element.appendChild(docLink);\n",
              "      }\n",
              "    </script>\n",
              "  </div>\n",
              "\n",
              "\n",
              "<div id=\"df-17e4d17c-6367-44d0-bd94-798f54994a0c\">\n",
              "  <button class=\"colab-df-quickchart\" onclick=\"quickchart('df-17e4d17c-6367-44d0-bd94-798f54994a0c')\"\n",
              "            title=\"Suggest charts.\"\n",
              "            style=\"display:none;\">\n",
              "\n",
              "<svg xmlns=\"http://www.w3.org/2000/svg\" height=\"24px\"viewBox=\"0 0 24 24\"\n",
              "     width=\"24px\">\n",
              "    <g>\n",
              "        <path d=\"M19 3H5c-1.1 0-2 .9-2 2v14c0 1.1.9 2 2 2h14c1.1 0 2-.9 2-2V5c0-1.1-.9-2-2-2zM9 17H7v-7h2v7zm4 0h-2V7h2v10zm4 0h-2v-4h2v4z\"/>\n",
              "    </g>\n",
              "</svg>\n",
              "  </button>\n",
              "\n",
              "<style>\n",
              "  .colab-df-quickchart {\n",
              "    background-color: #E8F0FE;\n",
              "    border: none;\n",
              "    border-radius: 50%;\n",
              "    cursor: pointer;\n",
              "    display: none;\n",
              "    fill: #1967D2;\n",
              "    height: 32px;\n",
              "    padding: 0 0 0 0;\n",
              "    width: 32px;\n",
              "  }\n",
              "\n",
              "  .colab-df-quickchart:hover {\n",
              "    background-color: #E2EBFA;\n",
              "    box-shadow: 0px 1px 2px rgba(60, 64, 67, 0.3), 0px 1px 3px 1px rgba(60, 64, 67, 0.15);\n",
              "    fill: #174EA6;\n",
              "  }\n",
              "\n",
              "  [theme=dark] .colab-df-quickchart {\n",
              "    background-color: #3B4455;\n",
              "    fill: #D2E3FC;\n",
              "  }\n",
              "\n",
              "  [theme=dark] .colab-df-quickchart:hover {\n",
              "    background-color: #434B5C;\n",
              "    box-shadow: 0px 1px 3px 1px rgba(0, 0, 0, 0.15);\n",
              "    filter: drop-shadow(0px 1px 2px rgba(0, 0, 0, 0.3));\n",
              "    fill: #FFFFFF;\n",
              "  }\n",
              "</style>\n",
              "\n",
              "  <script>\n",
              "    async function quickchart(key) {\n",
              "      const charts = await google.colab.kernel.invokeFunction(\n",
              "          'suggestCharts', [key], {});\n",
              "    }\n",
              "    (() => {\n",
              "      let quickchartButtonEl =\n",
              "        document.querySelector('#df-17e4d17c-6367-44d0-bd94-798f54994a0c button');\n",
              "      quickchartButtonEl.style.display =\n",
              "        google.colab.kernel.accessAllowed ? 'block' : 'none';\n",
              "    })();\n",
              "  </script>\n",
              "</div>\n",
              "    </div>\n",
              "  </div>\n"
            ]
          },
          "metadata": {},
          "execution_count": 232
        }
      ]
    },
    {
      "cell_type": "code",
      "source": [
        "all_df['ПВП'] = df.copy()"
      ],
      "metadata": {
        "id": "8Pke3pHCeDm7"
      },
      "execution_count": 233,
      "outputs": []
    },
    {
      "cell_type": "code",
      "source": [
        "df_svod = pd.merge(df_svod,df, on='s_index', how='left')"
      ],
      "metadata": {
        "id": "czLBMc8I8rgD"
      },
      "execution_count": 234,
      "outputs": []
    },
    {
      "cell_type": "code",
      "source": [
        "float2int(df_svod)"
      ],
      "metadata": {
        "id": "dn4HGoaS9GmT"
      },
      "execution_count": 237,
      "outputs": []
    },
    {
      "cell_type": "code",
      "source": [
        "df_svod.head(4)"
      ],
      "metadata": {
        "colab": {
          "base_uri": "https://localhost:8080/",
          "height": 293
        },
        "id": "V_azqZsT818q",
        "outputId": "ada41e01-fc52-4939-efb9-e50c34d341fd"
      },
      "execution_count": 238,
      "outputs": [
        {
          "output_type": "execute_result",
          "data": {
            "text/plain": [
              "               s_index Категория_3го_уровня    Ozon_ID Артикул       День  \\\n",
              "0  2609022712022-06-02  Лампа автомобильная  260902271   25541 2022-06-02   \n",
              "1  2609022712022-06-03  Лампа автомобильная  260902271   25541 2022-06-03   \n",
              "2  2609022712022-06-07  Лампа автомобильная  260902271   25541 2022-06-07   \n",
              "3  2609022712022-06-08  Лампа автомобильная  260902271   25541 2022-06-08   \n",
              "\n",
              "   Посетители  Посетители_на_карточке_товара  Показы  \\\n",
              "0           1                              0       1   \n",
              "1           1                              0       1   \n",
              "2           1                              1       1   \n",
              "3           0                              0       0   \n",
              "\n",
              "   Позиция_в_поиске_и_каталоге  В_корзину  ...  Трафареты_Охват  \\\n",
              "0                         4584          0  ...                0   \n",
              "1                         4584          0  ...                0   \n",
              "2                         4584          0  ...                0   \n",
              "3                         4584          0  ...                0   \n",
              "\n",
              "   Трафареты_Клики  Трафареты_Расходы_всего  Трафареты_Количество_заказов  \\\n",
              "0                0                        0                             0   \n",
              "1                0                        0                             0   \n",
              "2                0                        0                             0   \n",
              "3                0                        0                             0   \n",
              "\n",
              "   Трафареты_Сумма_заказов  Продвижение_в_поиске_Количество_заказов  \\\n",
              "0                        0                                        0   \n",
              "1                        0                                        0   \n",
              "2                        0                                        0   \n",
              "3                        0                                        0   \n",
              "\n",
              "   Цена_продажи  Продвижение_в_поиске_Сумма_заказов  Ставка_%  \\\n",
              "0             0                                   0         0   \n",
              "1             0                                   0         0   \n",
              "2             0                                   0         0   \n",
              "3             0                                   0         0   \n",
              "\n",
              "   Продвижение_в_поиске_Ставка  \n",
              "0                            0  \n",
              "1                            0  \n",
              "2                            0  \n",
              "3                            0  \n",
              "\n",
              "[4 rows x 31 columns]"
            ],
            "text/html": [
              "\n",
              "  <div id=\"df-a3a91e38-7ca8-4acd-97e1-06098ae000b8\" class=\"colab-df-container\">\n",
              "    <div>\n",
              "<style scoped>\n",
              "    .dataframe tbody tr th:only-of-type {\n",
              "        vertical-align: middle;\n",
              "    }\n",
              "\n",
              "    .dataframe tbody tr th {\n",
              "        vertical-align: top;\n",
              "    }\n",
              "\n",
              "    .dataframe thead th {\n",
              "        text-align: right;\n",
              "    }\n",
              "</style>\n",
              "<table border=\"1\" class=\"dataframe\">\n",
              "  <thead>\n",
              "    <tr style=\"text-align: right;\">\n",
              "      <th></th>\n",
              "      <th>s_index</th>\n",
              "      <th>Категория_3го_уровня</th>\n",
              "      <th>Ozon_ID</th>\n",
              "      <th>Артикул</th>\n",
              "      <th>День</th>\n",
              "      <th>Посетители</th>\n",
              "      <th>Посетители_на_карточке_товара</th>\n",
              "      <th>Показы</th>\n",
              "      <th>Позиция_в_поиске_и_каталоге</th>\n",
              "      <th>В_корзину</th>\n",
              "      <th>...</th>\n",
              "      <th>Трафареты_Охват</th>\n",
              "      <th>Трафареты_Клики</th>\n",
              "      <th>Трафареты_Расходы_всего</th>\n",
              "      <th>Трафареты_Количество_заказов</th>\n",
              "      <th>Трафареты_Сумма_заказов</th>\n",
              "      <th>Продвижение_в_поиске_Количество_заказов</th>\n",
              "      <th>Цена_продажи</th>\n",
              "      <th>Продвижение_в_поиске_Сумма_заказов</th>\n",
              "      <th>Ставка_%</th>\n",
              "      <th>Продвижение_в_поиске_Ставка</th>\n",
              "    </tr>\n",
              "  </thead>\n",
              "  <tbody>\n",
              "    <tr>\n",
              "      <th>0</th>\n",
              "      <td>2609022712022-06-02</td>\n",
              "      <td>Лампа автомобильная</td>\n",
              "      <td>260902271</td>\n",
              "      <td>25541</td>\n",
              "      <td>2022-06-02</td>\n",
              "      <td>1</td>\n",
              "      <td>0</td>\n",
              "      <td>1</td>\n",
              "      <td>4584</td>\n",
              "      <td>0</td>\n",
              "      <td>...</td>\n",
              "      <td>0</td>\n",
              "      <td>0</td>\n",
              "      <td>0</td>\n",
              "      <td>0</td>\n",
              "      <td>0</td>\n",
              "      <td>0</td>\n",
              "      <td>0</td>\n",
              "      <td>0</td>\n",
              "      <td>0</td>\n",
              "      <td>0</td>\n",
              "    </tr>\n",
              "    <tr>\n",
              "      <th>1</th>\n",
              "      <td>2609022712022-06-03</td>\n",
              "      <td>Лампа автомобильная</td>\n",
              "      <td>260902271</td>\n",
              "      <td>25541</td>\n",
              "      <td>2022-06-03</td>\n",
              "      <td>1</td>\n",
              "      <td>0</td>\n",
              "      <td>1</td>\n",
              "      <td>4584</td>\n",
              "      <td>0</td>\n",
              "      <td>...</td>\n",
              "      <td>0</td>\n",
              "      <td>0</td>\n",
              "      <td>0</td>\n",
              "      <td>0</td>\n",
              "      <td>0</td>\n",
              "      <td>0</td>\n",
              "      <td>0</td>\n",
              "      <td>0</td>\n",
              "      <td>0</td>\n",
              "      <td>0</td>\n",
              "    </tr>\n",
              "    <tr>\n",
              "      <th>2</th>\n",
              "      <td>2609022712022-06-07</td>\n",
              "      <td>Лампа автомобильная</td>\n",
              "      <td>260902271</td>\n",
              "      <td>25541</td>\n",
              "      <td>2022-06-07</td>\n",
              "      <td>1</td>\n",
              "      <td>1</td>\n",
              "      <td>1</td>\n",
              "      <td>4584</td>\n",
              "      <td>0</td>\n",
              "      <td>...</td>\n",
              "      <td>0</td>\n",
              "      <td>0</td>\n",
              "      <td>0</td>\n",
              "      <td>0</td>\n",
              "      <td>0</td>\n",
              "      <td>0</td>\n",
              "      <td>0</td>\n",
              "      <td>0</td>\n",
              "      <td>0</td>\n",
              "      <td>0</td>\n",
              "    </tr>\n",
              "    <tr>\n",
              "      <th>3</th>\n",
              "      <td>2609022712022-06-08</td>\n",
              "      <td>Лампа автомобильная</td>\n",
              "      <td>260902271</td>\n",
              "      <td>25541</td>\n",
              "      <td>2022-06-08</td>\n",
              "      <td>0</td>\n",
              "      <td>0</td>\n",
              "      <td>0</td>\n",
              "      <td>4584</td>\n",
              "      <td>0</td>\n",
              "      <td>...</td>\n",
              "      <td>0</td>\n",
              "      <td>0</td>\n",
              "      <td>0</td>\n",
              "      <td>0</td>\n",
              "      <td>0</td>\n",
              "      <td>0</td>\n",
              "      <td>0</td>\n",
              "      <td>0</td>\n",
              "      <td>0</td>\n",
              "      <td>0</td>\n",
              "    </tr>\n",
              "  </tbody>\n",
              "</table>\n",
              "<p>4 rows × 31 columns</p>\n",
              "</div>\n",
              "    <div class=\"colab-df-buttons\">\n",
              "\n",
              "  <div class=\"colab-df-container\">\n",
              "    <button class=\"colab-df-convert\" onclick=\"convertToInteractive('df-a3a91e38-7ca8-4acd-97e1-06098ae000b8')\"\n",
              "            title=\"Convert this dataframe to an interactive table.\"\n",
              "            style=\"display:none;\">\n",
              "\n",
              "  <svg xmlns=\"http://www.w3.org/2000/svg\" height=\"24px\" viewBox=\"0 -960 960 960\">\n",
              "    <path d=\"M120-120v-720h720v720H120Zm60-500h600v-160H180v160Zm220 220h160v-160H400v160Zm0 220h160v-160H400v160ZM180-400h160v-160H180v160Zm440 0h160v-160H620v160ZM180-180h160v-160H180v160Zm440 0h160v-160H620v160Z\"/>\n",
              "  </svg>\n",
              "    </button>\n",
              "\n",
              "  <style>\n",
              "    .colab-df-container {\n",
              "      display:flex;\n",
              "      gap: 12px;\n",
              "    }\n",
              "\n",
              "    .colab-df-convert {\n",
              "      background-color: #E8F0FE;\n",
              "      border: none;\n",
              "      border-radius: 50%;\n",
              "      cursor: pointer;\n",
              "      display: none;\n",
              "      fill: #1967D2;\n",
              "      height: 32px;\n",
              "      padding: 0 0 0 0;\n",
              "      width: 32px;\n",
              "    }\n",
              "\n",
              "    .colab-df-convert:hover {\n",
              "      background-color: #E2EBFA;\n",
              "      box-shadow: 0px 1px 2px rgba(60, 64, 67, 0.3), 0px 1px 3px 1px rgba(60, 64, 67, 0.15);\n",
              "      fill: #174EA6;\n",
              "    }\n",
              "\n",
              "    .colab-df-buttons div {\n",
              "      margin-bottom: 4px;\n",
              "    }\n",
              "\n",
              "    [theme=dark] .colab-df-convert {\n",
              "      background-color: #3B4455;\n",
              "      fill: #D2E3FC;\n",
              "    }\n",
              "\n",
              "    [theme=dark] .colab-df-convert:hover {\n",
              "      background-color: #434B5C;\n",
              "      box-shadow: 0px 1px 3px 1px rgba(0, 0, 0, 0.15);\n",
              "      filter: drop-shadow(0px 1px 2px rgba(0, 0, 0, 0.3));\n",
              "      fill: #FFFFFF;\n",
              "    }\n",
              "  </style>\n",
              "\n",
              "    <script>\n",
              "      const buttonEl =\n",
              "        document.querySelector('#df-a3a91e38-7ca8-4acd-97e1-06098ae000b8 button.colab-df-convert');\n",
              "      buttonEl.style.display =\n",
              "        google.colab.kernel.accessAllowed ? 'block' : 'none';\n",
              "\n",
              "      async function convertToInteractive(key) {\n",
              "        const element = document.querySelector('#df-a3a91e38-7ca8-4acd-97e1-06098ae000b8');\n",
              "        const dataTable =\n",
              "          await google.colab.kernel.invokeFunction('convertToInteractive',\n",
              "                                                    [key], {});\n",
              "        if (!dataTable) return;\n",
              "\n",
              "        const docLinkHtml = 'Like what you see? Visit the ' +\n",
              "          '<a target=\"_blank\" href=https://colab.research.google.com/notebooks/data_table.ipynb>data table notebook</a>'\n",
              "          + ' to learn more about interactive tables.';\n",
              "        element.innerHTML = '';\n",
              "        dataTable['output_type'] = 'display_data';\n",
              "        await google.colab.output.renderOutput(dataTable, element);\n",
              "        const docLink = document.createElement('div');\n",
              "        docLink.innerHTML = docLinkHtml;\n",
              "        element.appendChild(docLink);\n",
              "      }\n",
              "    </script>\n",
              "  </div>\n",
              "\n",
              "\n",
              "<div id=\"df-47a8c5bd-f2ad-4ec9-88ff-b2ff78a82f0a\">\n",
              "  <button class=\"colab-df-quickchart\" onclick=\"quickchart('df-47a8c5bd-f2ad-4ec9-88ff-b2ff78a82f0a')\"\n",
              "            title=\"Suggest charts.\"\n",
              "            style=\"display:none;\">\n",
              "\n",
              "<svg xmlns=\"http://www.w3.org/2000/svg\" height=\"24px\"viewBox=\"0 0 24 24\"\n",
              "     width=\"24px\">\n",
              "    <g>\n",
              "        <path d=\"M19 3H5c-1.1 0-2 .9-2 2v14c0 1.1.9 2 2 2h14c1.1 0 2-.9 2-2V5c0-1.1-.9-2-2-2zM9 17H7v-7h2v7zm4 0h-2V7h2v10zm4 0h-2v-4h2v4z\"/>\n",
              "    </g>\n",
              "</svg>\n",
              "  </button>\n",
              "\n",
              "<style>\n",
              "  .colab-df-quickchart {\n",
              "    background-color: #E8F0FE;\n",
              "    border: none;\n",
              "    border-radius: 50%;\n",
              "    cursor: pointer;\n",
              "    display: none;\n",
              "    fill: #1967D2;\n",
              "    height: 32px;\n",
              "    padding: 0 0 0 0;\n",
              "    width: 32px;\n",
              "  }\n",
              "\n",
              "  .colab-df-quickchart:hover {\n",
              "    background-color: #E2EBFA;\n",
              "    box-shadow: 0px 1px 2px rgba(60, 64, 67, 0.3), 0px 1px 3px 1px rgba(60, 64, 67, 0.15);\n",
              "    fill: #174EA6;\n",
              "  }\n",
              "\n",
              "  [theme=dark] .colab-df-quickchart {\n",
              "    background-color: #3B4455;\n",
              "    fill: #D2E3FC;\n",
              "  }\n",
              "\n",
              "  [theme=dark] .colab-df-quickchart:hover {\n",
              "    background-color: #434B5C;\n",
              "    box-shadow: 0px 1px 3px 1px rgba(0, 0, 0, 0.15);\n",
              "    filter: drop-shadow(0px 1px 2px rgba(0, 0, 0, 0.3));\n",
              "    fill: #FFFFFF;\n",
              "  }\n",
              "</style>\n",
              "\n",
              "  <script>\n",
              "    async function quickchart(key) {\n",
              "      const charts = await google.colab.kernel.invokeFunction(\n",
              "          'suggestCharts', [key], {});\n",
              "    }\n",
              "    (() => {\n",
              "      let quickchartButtonEl =\n",
              "        document.querySelector('#df-47a8c5bd-f2ad-4ec9-88ff-b2ff78a82f0a button');\n",
              "      quickchartButtonEl.style.display =\n",
              "        google.colab.kernel.accessAllowed ? 'block' : 'none';\n",
              "    })();\n",
              "  </script>\n",
              "</div>\n",
              "    </div>\n",
              "  </div>\n"
            ]
          },
          "metadata": {},
          "execution_count": 238
        }
      ]
    },
    {
      "cell_type": "code",
      "source": [],
      "metadata": {
        "id": "mU1ZT-Kq9Fe7"
      },
      "execution_count": null,
      "outputs": []
    },
    {
      "cell_type": "markdown",
      "source": [
        "###### 'Ozon/Товары по категориям'"
      ],
      "metadata": {
        "id": "LUVDuP6Hkwi6"
      }
    },
    {
      "cell_type": "code",
      "source": [
        "all_cat = pd.DataFrame()"
      ],
      "metadata": {
        "id": "r7ixRFG6lAjK"
      },
      "execution_count": null,
      "outputs": []
    },
    {
      "cell_type": "code",
      "source": [
        "cat_paths['2023-06-05 Автомобильные лампы ксенон комплектующие']"
      ],
      "metadata": {
        "colab": {
          "base_uri": "https://localhost:8080/",
          "height": 36
        },
        "id": "4Efs7K2jlAVM",
        "outputId": "2c903c7c-9dcc-4346-acfb-149e4daaa562"
      },
      "execution_count": null,
      "outputs": [
        {
          "output_type": "execute_result",
          "data": {
            "text/plain": [
              "'/content/base_for_analiz/Ozon/Товары по категориям/2023-06-05 Автомобильные лампы ксенон комплектующие.xlsx'"
            ],
            "application/vnd.google.colaboratory.intrinsic+json": {
              "type": "string"
            }
          },
          "metadata": {},
          "execution_count": 208
        }
      ]
    },
    {
      "cell_type": "code",
      "source": [
        "for i in cat_paths:\n",
        "  df = pd.read_csv(cat_paths[i], skiprows=[0], delimiter=';') #, skiprows=[0,2], usecols=['column1', 'column2']\n",
        "  print('*'*40)\n",
        "  print(f'df - {i}')\n",
        "  print(df.shape)\n",
        "  print(df.columns)\n",
        "  normal_col(df)\n",
        "  df.dropna(subset=['Ozon_ID'], inplace=True) # удаляем строки с пустым ID\n",
        "  try:\n",
        "    cols = ['Номер_заказа', 'ID_заказа','Ozon_ID_рекламируемого_товара',\n",
        "            'Наименование','Расход']\n",
        "    df.drop(cols, axis=1, inplace=True)\n",
        "  except:\n",
        "    # cols = ['Название_товара', 'Цена_товара','CTR','Ср_цена_клика']\n",
        "    # df.drop(cols, axis=1, inplace=True)\n",
        "    print('Шо-то тут не то')\n",
        "  df['Ozon_ID'] = df['Ozon_ID'].astype(int)\n",
        "  df['Дата'] = pd.to_datetime(df['Дата'])\n",
        "  df.rename(columns={'Дата': 'День'}, inplace=True)\n",
        "  df['Ozon_ID'] = df['Ozon_ID'].astype(str)\n",
        "  df['Ставка'] = df['Ставка'].replace(',','.', regex=True)\n",
        "  df['Ставка'] = df['Ставка'].astype(float)\n",
        "  df['Ставка_%'] = df['Ставка_%'].replace(',','.', regex=True)\n",
        "  df['Ставка_%'] = df['Ставка_%'].astype(float)\n",
        "  df['Стоимость'] = df['Стоимость'].replace(',','.', regex=True)\n",
        "  df['Стоимость'] = df['Стоимость'].astype(float)\n",
        "  df['Цена_продажи'] = df['Цена_продажи'].replace(',','.', regex=True)\n",
        "  df['Цена_продажи'] = df['Цена_продажи'].astype(float)\n",
        "  df['Количество'] = df['Количество'].astype(int)\n",
        "  if df.shape[0] > 1:\n",
        "    all_pvp = pd.concat([all_pvp, df], ignore_index=True)\n",
        "  print(df.dtypes)"
      ],
      "metadata": {
        "id": "y7zHjxc1lIuQ"
      },
      "execution_count": null,
      "outputs": []
    },
    {
      "cell_type": "code",
      "source": [
        "df = pd.read_excel(cat_paths['2023-06-05 Автомобильные лампы ксенон комплектующие'], skiprows=[0,2]) #, skiprows=[0,2], usecols=['column1', 'column2']"
      ],
      "metadata": {
        "id": "jHcVrzVLk__b"
      },
      "execution_count": null,
      "outputs": []
    },
    {
      "cell_type": "code",
      "source": [
        "df.shape"
      ],
      "metadata": {
        "colab": {
          "base_uri": "https://localhost:8080/"
        },
        "id": "QsATMRxmly0C",
        "outputId": "c3d0a39a-0b6b-4241-f5d8-5452172d3912"
      },
      "execution_count": null,
      "outputs": [
        {
          "output_type": "execute_result",
          "data": {
            "text/plain": [
              "(22, 3)"
            ]
          },
          "metadata": {},
          "execution_count": 212
        }
      ]
    },
    {
      "cell_type": "code",
      "source": [
        "df.dtypes"
      ],
      "metadata": {
        "id": "pCp5DGoXlztK"
      },
      "execution_count": null,
      "outputs": []
    }
  ]
}