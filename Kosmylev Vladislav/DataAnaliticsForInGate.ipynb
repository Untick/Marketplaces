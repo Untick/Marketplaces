{
  "cells": [
    {
      "cell_type": "markdown",
      "metadata": {
        "id": "39zJTivLrXFV"
      },
      "source": [
        "### Подготовка"
      ]
    },
    {
      "cell_type": "markdown",
      "metadata": {
        "id": "h8t4xY95dpKS"
      },
      "source": [
        "**Загрузка библиотек:**\n",
        "\n",
        "https://drive.google.com/file/d/1-_LKbDsiq0dDbks7_JnBJVV7v2iWjSkd/view?usp=sharing"
      ]
    },
    {
      "cell_type": "code",
      "execution_count": null,
      "metadata": {
        "id": "ye9ErHpKBhhU"
      },
      "outputs": [],
      "source": [
        "import matplotlib.pyplot as plt           # Импорт модуля pyplot\n",
        "import numpy as np                        # Импорт библиотеки numpy\n",
        "import pandas as pd                       # для анализа табличных массивов данных\n",
        "import gdown, os, random                  # Стандартные библиотеки\n",
        "from google.colab import drive\n",
        "drive.mount('/content/drive')\n"
      ]
    },
    {
      "cell_type": "code",
      "execution_count": null,
      "metadata": {
        "id": "msAKu4-EaMV5"
      },
      "outputs": [],
      "source": [
        "!gdown --id '1-_LKbDsiq0dDbks7_JnBJVV7v2iWjSkd'\n",
        "!rm -r sample_data"
      ]
    },
    {
      "cell_type": "code",
      "source": [
        "!unzip -o /content/base_for_analiz.zip"
      ],
      "metadata": {
        "id": "EKfaxt-7Xwg7"
      },
      "execution_count": null,
      "outputs": []
    },
    {
      "cell_type": "code",
      "source": [
        "base = '/content/base_for_analiz/Ozon/База.csv'\n",
        "remove_list = [\"(при наличии)\",                 # список кусков текста для удаления из названий столбцов\n",
        "               \"(кроме Твери)\",\n",
        "               \"руб.\",\n",
        "               \"(перечеркнутая цена)\",\n",
        "               \",\",\n",
        "               \"%\",\n",
        "               \"с учетом скидки\",\n",
        "               \"на рыночную цену\"]"
      ],
      "metadata": {
        "id": "zOl6Onz7oKbY"
      },
      "execution_count": null,
      "outputs": []
    },
    {
      "cell_type": "code",
      "source": [
        "# Нормализуем заголовки столбцов\n",
        "def clean_header(header):\n",
        "\n",
        "    cleaned_header = header\n",
        "    cleaned_header = cleaned_header.replace('-', \"_\")\n",
        "    cleaned_header = cleaned_header.replace('\" ', '\"')\n",
        "    cleaned_header = cleaned_header.replace(' \"', '\"')\n",
        "\n",
        "    for item in remove_list:\n",
        "        cleaned_header = cleaned_header.replace(item, \"\")\n",
        "\n",
        "    cleaned_header = cleaned_header.replace('  ', '')\n",
        "    cleaned_header = cleaned_header.replace('_\"', '\"')\n",
        "    cleaned_header = cleaned_header.strip()  # удаление ведущих и концевых пробелов\n",
        "    cleaned_header = cleaned_header.replace(\" \", \"_\")  # замена оставшихся пробелов символом \"_\"\n",
        "    cleaned_header = cleaned_header.replace('_\"', '\"')\n",
        "\n",
        "    list_heads = cleaned_header.replace(';', ',')\n",
        "    list_heads = list_heads.replace('\"', '')\n",
        "    list_heads = list_heads.replace('_\"', '\"')\n",
        "    # print(header, \" --->  \", list_heads)\n",
        "\n",
        "    return cleaned_header\n",
        "\n",
        "def clean_csv(file_path):\n",
        "    with open(file_path, 'r', newline='') as file:\n",
        "        lines = file.readlines()\n",
        "        cleaned_headers = clean_header(lines[0]);  # применяем функцию clean_header к каждому заголовку\n",
        "        lines[0] = cleaned_headers + '\\n'\n",
        "        print(cleaned_headers)\n",
        "\n",
        "    with open(file_path, 'w', newline='') as file:\n",
        "        file.writelines(lines)\n",
        "\n",
        "    return cleaned_headers\n",
        "\n",
        "list_heads = clean_csv(base)\n"
      ],
      "metadata": {
        "colab": {
          "base_uri": "https://localhost:8080/"
        },
        "id": "e-dICTn-DCyZ",
        "outputId": "7e3a9ced-901d-41fa-b65f-c49c97930ed3"
      },
      "execution_count": null,
      "outputs": [
        {
          "output_type": "stream",
          "name": "stdout",
          "text": [
            "﻿\"Артикул\";\"Ozon_Product_ID\";\"FBO_OZON_SKU_ID\";\"FBS_OZON_SKU_ID\";\"Barcode\";\"Наименование_товара\";\"Контент_рейтинг\";\"Бренд\";\"Статус_товара\";\"Видимость_FBO\";\"Причины_скрытия_FBO\";\"Видимость_FBS\";\"Причины_скрытия_FBS\";\"Дата_создания\";\"Коммерческая_категория\";\"Объем_товара_л\";\"Объемный_вес_кг\";\"Доступно_на_складе_Ozon_шт\";\"Вывезти_и_нанести_КИЗшт\";\"Зарезервировано_шт\";\"Доступно_на_моих_складах_шт\";\"Зарезервировано_на_моих_складах_шт\";\"Текущая_цена\";\"Цена_до_скидки\";\"Цена_Premium\";\"Рыночная_цена\";\"Актуальная_ссылка\";\"Размер_НДС\"\n"
          ]
        }
      ]
    },
    {
      "cell_type": "code",
      "source": [
        "df = pd.read_csv('/content/base_for_analiz/Ozon/База.csv', sep=';')   #, encoding='cp1251' если выдаёт ошибку"
      ],
      "metadata": {
        "id": "nsYEmytAx3iq"
      },
      "execution_count": null,
      "outputs": []
    },
    {
      "cell_type": "code",
      "source": [
        "df.head(1)"
      ],
      "metadata": {
        "id": "T-QsBJlmx1Ev",
        "colab": {
          "base_uri": "https://localhost:8080/",
          "height": 209
        },
        "outputId": "3c129e90-0e8f-4524-83fd-4236cf39e18c"
      },
      "execution_count": null,
      "outputs": [
        {
          "output_type": "execute_result",
          "data": {
            "text/plain": [
              "  Артикул  Ozon_Product_ID  FBO_OZON_SKU_ID  FBS_OZON_SKU_ID        Barcode  \\\n",
              "0  '30273        105606938        298131117        298131122  2000000036618   \n",
              "\n",
              "                                 Наименование_товара  Контент_рейтинг Бренд  \\\n",
              "0  Плата B003809.2 заднего фонаря BMW X3 F25 (дра...             15.0   GNX   \n",
              "\n",
              "  Статус_товара Видимость_FBO  ... Вывезти_и_нанести_КИЗшт Зарезервировано_шт  \\\n",
              "0     Продается  Показывается  ...                       0                  0   \n",
              "\n",
              "  Доступно_на_моих_складах_шт Зарезервировано_на_моих_складах_шт Текущая_цена  \\\n",
              "0                          26                                  0       1200.0   \n",
              "\n",
              "  Цена_до_скидки Цена_Premium  Рыночная_цена  Актуальная_ссылка  Размер_НДС  \n",
              "0         1800.0          NaN            NaN                NaN          0%  \n",
              "\n",
              "[1 rows x 28 columns]"
            ],
            "text/html": [
              "\n",
              "\n",
              "  <div id=\"df-3dceef6c-9931-4a1e-9826-195332347561\">\n",
              "    <div class=\"colab-df-container\">\n",
              "      <div>\n",
              "<style scoped>\n",
              "    .dataframe tbody tr th:only-of-type {\n",
              "        vertical-align: middle;\n",
              "    }\n",
              "\n",
              "    .dataframe tbody tr th {\n",
              "        vertical-align: top;\n",
              "    }\n",
              "\n",
              "    .dataframe thead th {\n",
              "        text-align: right;\n",
              "    }\n",
              "</style>\n",
              "<table border=\"1\" class=\"dataframe\">\n",
              "  <thead>\n",
              "    <tr style=\"text-align: right;\">\n",
              "      <th></th>\n",
              "      <th>Артикул</th>\n",
              "      <th>Ozon_Product_ID</th>\n",
              "      <th>FBO_OZON_SKU_ID</th>\n",
              "      <th>FBS_OZON_SKU_ID</th>\n",
              "      <th>Barcode</th>\n",
              "      <th>Наименование_товара</th>\n",
              "      <th>Контент_рейтинг</th>\n",
              "      <th>Бренд</th>\n",
              "      <th>Статус_товара</th>\n",
              "      <th>Видимость_FBO</th>\n",
              "      <th>...</th>\n",
              "      <th>Вывезти_и_нанести_КИЗшт</th>\n",
              "      <th>Зарезервировано_шт</th>\n",
              "      <th>Доступно_на_моих_складах_шт</th>\n",
              "      <th>Зарезервировано_на_моих_складах_шт</th>\n",
              "      <th>Текущая_цена</th>\n",
              "      <th>Цена_до_скидки</th>\n",
              "      <th>Цена_Premium</th>\n",
              "      <th>Рыночная_цена</th>\n",
              "      <th>Актуальная_ссылка</th>\n",
              "      <th>Размер_НДС</th>\n",
              "    </tr>\n",
              "  </thead>\n",
              "  <tbody>\n",
              "    <tr>\n",
              "      <th>0</th>\n",
              "      <td>'30273</td>\n",
              "      <td>105606938</td>\n",
              "      <td>298131117</td>\n",
              "      <td>298131122</td>\n",
              "      <td>2000000036618</td>\n",
              "      <td>Плата B003809.2 заднего фонаря BMW X3 F25 (дра...</td>\n",
              "      <td>15.0</td>\n",
              "      <td>GNX</td>\n",
              "      <td>Продается</td>\n",
              "      <td>Показывается</td>\n",
              "      <td>...</td>\n",
              "      <td>0</td>\n",
              "      <td>0</td>\n",
              "      <td>26</td>\n",
              "      <td>0</td>\n",
              "      <td>1200.0</td>\n",
              "      <td>1800.0</td>\n",
              "      <td>NaN</td>\n",
              "      <td>NaN</td>\n",
              "      <td>NaN</td>\n",
              "      <td>0%</td>\n",
              "    </tr>\n",
              "  </tbody>\n",
              "</table>\n",
              "<p>1 rows × 28 columns</p>\n",
              "</div>\n",
              "      <button class=\"colab-df-convert\" onclick=\"convertToInteractive('df-3dceef6c-9931-4a1e-9826-195332347561')\"\n",
              "              title=\"Convert this dataframe to an interactive table.\"\n",
              "              style=\"display:none;\">\n",
              "\n",
              "  <svg xmlns=\"http://www.w3.org/2000/svg\" height=\"24px\"viewBox=\"0 0 24 24\"\n",
              "       width=\"24px\">\n",
              "    <path d=\"M0 0h24v24H0V0z\" fill=\"none\"/>\n",
              "    <path d=\"M18.56 5.44l.94 2.06.94-2.06 2.06-.94-2.06-.94-.94-2.06-.94 2.06-2.06.94zm-11 1L8.5 8.5l.94-2.06 2.06-.94-2.06-.94L8.5 2.5l-.94 2.06-2.06.94zm10 10l.94 2.06.94-2.06 2.06-.94-2.06-.94-.94-2.06-.94 2.06-2.06.94z\"/><path d=\"M17.41 7.96l-1.37-1.37c-.4-.4-.92-.59-1.43-.59-.52 0-1.04.2-1.43.59L10.3 9.45l-7.72 7.72c-.78.78-.78 2.05 0 2.83L4 21.41c.39.39.9.59 1.41.59.51 0 1.02-.2 1.41-.59l7.78-7.78 2.81-2.81c.8-.78.8-2.07 0-2.86zM5.41 20L4 18.59l7.72-7.72 1.47 1.35L5.41 20z\"/>\n",
              "  </svg>\n",
              "      </button>\n",
              "\n",
              "\n",
              "\n",
              "    <div id=\"df-70ad07bb-ee64-4aeb-86a2-970cf11ac39f\">\n",
              "      <button class=\"colab-df-quickchart\" onclick=\"quickchart('df-70ad07bb-ee64-4aeb-86a2-970cf11ac39f')\"\n",
              "              title=\"Suggest charts.\"\n",
              "              style=\"display:none;\">\n",
              "\n",
              "<svg xmlns=\"http://www.w3.org/2000/svg\" height=\"24px\"viewBox=\"0 0 24 24\"\n",
              "     width=\"24px\">\n",
              "    <g>\n",
              "        <path d=\"M19 3H5c-1.1 0-2 .9-2 2v14c0 1.1.9 2 2 2h14c1.1 0 2-.9 2-2V5c0-1.1-.9-2-2-2zM9 17H7v-7h2v7zm4 0h-2V7h2v10zm4 0h-2v-4h2v4z\"/>\n",
              "    </g>\n",
              "</svg>\n",
              "      </button>\n",
              "    </div>\n",
              "\n",
              "<style>\n",
              "  .colab-df-quickchart {\n",
              "    background-color: #E8F0FE;\n",
              "    border: none;\n",
              "    border-radius: 50%;\n",
              "    cursor: pointer;\n",
              "    display: none;\n",
              "    fill: #1967D2;\n",
              "    height: 32px;\n",
              "    padding: 0 0 0 0;\n",
              "    width: 32px;\n",
              "  }\n",
              "\n",
              "  .colab-df-quickchart:hover {\n",
              "    background-color: #E2EBFA;\n",
              "    box-shadow: 0px 1px 2px rgba(60, 64, 67, 0.3), 0px 1px 3px 1px rgba(60, 64, 67, 0.15);\n",
              "    fill: #174EA6;\n",
              "  }\n",
              "\n",
              "  [theme=dark] .colab-df-quickchart {\n",
              "    background-color: #3B4455;\n",
              "    fill: #D2E3FC;\n",
              "  }\n",
              "\n",
              "  [theme=dark] .colab-df-quickchart:hover {\n",
              "    background-color: #434B5C;\n",
              "    box-shadow: 0px 1px 3px 1px rgba(0, 0, 0, 0.15);\n",
              "    filter: drop-shadow(0px 1px 2px rgba(0, 0, 0, 0.3));\n",
              "    fill: #FFFFFF;\n",
              "  }\n",
              "</style>\n",
              "\n",
              "    <script>\n",
              "      async function quickchart(key) {\n",
              "        const containerElement = document.querySelector('#' + key);\n",
              "        const charts = await google.colab.kernel.invokeFunction(\n",
              "            'suggestCharts', [key], {});\n",
              "      }\n",
              "    </script>\n",
              "\n",
              "      <script>\n",
              "\n",
              "function displayQuickchartButton(domScope) {\n",
              "  let quickchartButtonEl =\n",
              "    domScope.querySelector('#df-70ad07bb-ee64-4aeb-86a2-970cf11ac39f button.colab-df-quickchart');\n",
              "  quickchartButtonEl.style.display =\n",
              "    google.colab.kernel.accessAllowed ? 'block' : 'none';\n",
              "}\n",
              "\n",
              "        displayQuickchartButton(document);\n",
              "      </script>\n",
              "      <style>\n",
              "    .colab-df-container {\n",
              "      display:flex;\n",
              "      flex-wrap:wrap;\n",
              "      gap: 12px;\n",
              "    }\n",
              "\n",
              "    .colab-df-convert {\n",
              "      background-color: #E8F0FE;\n",
              "      border: none;\n",
              "      border-radius: 50%;\n",
              "      cursor: pointer;\n",
              "      display: none;\n",
              "      fill: #1967D2;\n",
              "      height: 32px;\n",
              "      padding: 0 0 0 0;\n",
              "      width: 32px;\n",
              "    }\n",
              "\n",
              "    .colab-df-convert:hover {\n",
              "      background-color: #E2EBFA;\n",
              "      box-shadow: 0px 1px 2px rgba(60, 64, 67, 0.3), 0px 1px 3px 1px rgba(60, 64, 67, 0.15);\n",
              "      fill: #174EA6;\n",
              "    }\n",
              "\n",
              "    [theme=dark] .colab-df-convert {\n",
              "      background-color: #3B4455;\n",
              "      fill: #D2E3FC;\n",
              "    }\n",
              "\n",
              "    [theme=dark] .colab-df-convert:hover {\n",
              "      background-color: #434B5C;\n",
              "      box-shadow: 0px 1px 3px 1px rgba(0, 0, 0, 0.15);\n",
              "      filter: drop-shadow(0px 1px 2px rgba(0, 0, 0, 0.3));\n",
              "      fill: #FFFFFF;\n",
              "    }\n",
              "  </style>\n",
              "\n",
              "      <script>\n",
              "        const buttonEl =\n",
              "          document.querySelector('#df-3dceef6c-9931-4a1e-9826-195332347561 button.colab-df-convert');\n",
              "        buttonEl.style.display =\n",
              "          google.colab.kernel.accessAllowed ? 'block' : 'none';\n",
              "\n",
              "        async function convertToInteractive(key) {\n",
              "          const element = document.querySelector('#df-3dceef6c-9931-4a1e-9826-195332347561');\n",
              "          const dataTable =\n",
              "            await google.colab.kernel.invokeFunction('convertToInteractive',\n",
              "                                                     [key], {});\n",
              "          if (!dataTable) return;\n",
              "\n",
              "          const docLinkHtml = 'Like what you see? Visit the ' +\n",
              "            '<a target=\"_blank\" href=https://colab.research.google.com/notebooks/data_table.ipynb>data table notebook</a>'\n",
              "            + ' to learn more about interactive tables.';\n",
              "          element.innerHTML = '';\n",
              "          dataTable['output_type'] = 'display_data';\n",
              "          await google.colab.output.renderOutput(dataTable, element);\n",
              "          const docLink = document.createElement('div');\n",
              "          docLink.innerHTML = docLinkHtml;\n",
              "          element.appendChild(docLink);\n",
              "        }\n",
              "      </script>\n",
              "    </div>\n",
              "  </div>\n"
            ]
          },
          "metadata": {},
          "execution_count": 85
        }
      ]
    },
    {
      "cell_type": "code",
      "source": [
        "len(df)"
      ],
      "metadata": {
        "colab": {
          "base_uri": "https://localhost:8080/"
        },
        "id": "4vYPADB4nJoC",
        "outputId": "48a7026b-e24a-42c2-f8e6-ab800a19cd03"
      },
      "execution_count": null,
      "outputs": [
        {
          "output_type": "execute_result",
          "data": {
            "text/plain": [
              "1221"
            ]
          },
          "metadata": {},
          "execution_count": 86
        }
      ]
    },
    {
      "cell_type": "code",
      "source": [
        "df.columns"
      ],
      "metadata": {
        "colab": {
          "base_uri": "https://localhost:8080/"
        },
        "id": "GqVOXaEa3sD8",
        "outputId": "3dba2f9f-e369-4277-d79e-b6790971aaeb"
      },
      "execution_count": null,
      "outputs": [
        {
          "output_type": "execute_result",
          "data": {
            "text/plain": [
              "Index(['Артикул', 'Ozon_Product_ID', 'FBO_OZON_SKU_ID', 'FBS_OZON_SKU_ID',\n",
              "       'Barcode', 'Наименование_товара', 'Контент_рейтинг', 'Бренд',\n",
              "       'Статус_товара', 'Видимость_FBO', 'Причины_скрытия_FBO',\n",
              "       'Видимость_FBS', 'Причины_скрытия_FBS', 'Дата_создания',\n",
              "       'Коммерческая_категория', 'Объем_товара_л', 'Объемный_вес_кг',\n",
              "       'Доступно_на_складе_Ozon_шт', 'Вывезти_и_нанести_КИЗшт',\n",
              "       'Зарезервировано_шт', 'Доступно_на_моих_складах_шт',\n",
              "       'Зарезервировано_на_моих_складах_шт', 'Текущая_цена', 'Цена_до_скидки',\n",
              "       'Цена_Premium', 'Рыночная_цена', 'Актуальная_ссылка', 'Размер_НДС'],\n",
              "      dtype='object')"
            ]
          },
          "metadata": {},
          "execution_count": 87
        }
      ]
    },
    {
      "cell_type": "code",
      "source": [],
      "metadata": {
        "id": "4jPmsnb83r_0"
      },
      "execution_count": null,
      "outputs": []
    },
    {
      "cell_type": "markdown",
      "source": [
        "# Анализ данных"
      ],
      "metadata": {
        "id": "1uKIJxFvDabr"
      }
    },
    {
      "cell_type": "markdown",
      "source": [
        "## Подготовка Датафреймов для дальнейшего анализа"
      ],
      "metadata": {
        "id": "-3Yv2r3-DlUv"
      }
    },
    {
      "cell_type": "markdown",
      "source": [
        "### нормализуем таблицу **Base**"
      ],
      "metadata": {
        "id": "4CRqKzaR5gVt"
      }
    },
    {
      "cell_type": "code",
      "source": [
        "df.isna().mean().sort_values(ascending=False)  # Смотрим в каких столбца какой процент пропусков и можно ли их восполнить или удалить столбец, если он не информативен для обучения модели"
      ],
      "metadata": {
        "id": "tuFHjaPE8Pbp",
        "colab": {
          "base_uri": "https://localhost:8080/"
        },
        "outputId": "e92992dc-b836-4cb3-9bd0-29c03fb5b169"
      },
      "execution_count": null,
      "outputs": [
        {
          "output_type": "execute_result",
          "data": {
            "text/plain": [
              "Цена_Premium                          1.000000\n",
              "Причины_скрытия_FBO                   1.000000\n",
              "Причины_скрытия_FBS                   1.000000\n",
              "Актуальная_ссылка                     0.989353\n",
              "Рыночная_цена                         0.989353\n",
              "Цена_до_скидки                        0.117117\n",
              "Barcode                               0.035217\n",
              "Артикул                               0.000000\n",
              "Объемный_вес_кг                       0.000000\n",
              "Текущая_цена                          0.000000\n",
              "Зарезервировано_на_моих_складах_шт    0.000000\n",
              "Доступно_на_моих_складах_шт           0.000000\n",
              "Зарезервировано_шт                    0.000000\n",
              "Вывезти_и_нанести_КИЗшт               0.000000\n",
              "Доступно_на_складе_Ozon_шт            0.000000\n",
              "Коммерческая_категория                0.000000\n",
              "Объем_товара_л                        0.000000\n",
              "Ozon_Product_ID                       0.000000\n",
              "Дата_создания                         0.000000\n",
              "Видимость_FBS                         0.000000\n",
              "Видимость_FBO                         0.000000\n",
              "Статус_товара                         0.000000\n",
              "Бренд                                 0.000000\n",
              "Контент_рейтинг                       0.000000\n",
              "Наименование_товара                   0.000000\n",
              "FBS_OZON_SKU_ID                       0.000000\n",
              "FBO_OZON_SKU_ID                       0.000000\n",
              "Размер_НДС                            0.000000\n",
              "dtype: float64"
            ]
          },
          "metadata": {},
          "execution_count": 88
        }
      ]
    },
    {
      "cell_type": "code",
      "source": [
        "# Физически удаляем из файла (плохой вариант)\n",
        "# df.drop(df[df['Видимость_FBO'] == 'Скрыт'].index, inplace=True)\n",
        "# df.drop(df[df['Видимость_FBS'] == 'Скрыт'].index, inplace=True)\n",
        "# df1 = df.drop(df[df['Видимость_FBS'] == 'Скрыт'].index)\n",
        "# df1 = df1.drop(df1[df1['Видимость_FBO'] == 'Скрыт'].index).copy()\n",
        "df1 = df[df['Видимость_FBO'] != 'Скрыт'].copy()"
      ],
      "metadata": {
        "id": "bvC5JXhZ8PYj"
      },
      "execution_count": null,
      "outputs": []
    },
    {
      "cell_type": "code",
      "source": [
        "df = df1.copy()\n",
        "df.info()"
      ],
      "metadata": {
        "colab": {
          "base_uri": "https://localhost:8080/"
        },
        "id": "YpLdhhVuoI2M",
        "outputId": "f36a98c5-0447-48e1-9a76-26f77ca65d1a"
      },
      "execution_count": null,
      "outputs": [
        {
          "output_type": "stream",
          "name": "stdout",
          "text": [
            "<class 'pandas.core.frame.DataFrame'>\n",
            "Int64Index: 1221 entries, 0 to 1262\n",
            "Data columns (total 28 columns):\n",
            " #   Column                              Non-Null Count  Dtype  \n",
            "---  ------                              --------------  -----  \n",
            " 0   Артикул                             1221 non-null   object \n",
            " 1   Ozon_Product_ID                     1221 non-null   int64  \n",
            " 2   FBO_OZON_SKU_ID                     1221 non-null   int64  \n",
            " 3   FBS_OZON_SKU_ID                     1221 non-null   int64  \n",
            " 4   Barcode                             1178 non-null   object \n",
            " 5   Наименование_товара                 1221 non-null   object \n",
            " 6   Контент_рейтинг                     1221 non-null   float64\n",
            " 7   Бренд                               1221 non-null   object \n",
            " 8   Статус_товара                       1221 non-null   object \n",
            " 9   Видимость_FBO                       1221 non-null   object \n",
            " 10  Причины_скрытия_FBO                 0 non-null      object \n",
            " 11  Видимость_FBS                       1221 non-null   object \n",
            " 12  Причины_скрытия_FBS                 0 non-null      object \n",
            " 13  Дата_создания                       1221 non-null   object \n",
            " 14  Коммерческая_категория              1221 non-null   object \n",
            " 15  Объем_товара_л                      1221 non-null   object \n",
            " 16  Объемный_вес_кг                     1221 non-null   object \n",
            " 17  Доступно_на_складе_Ozon_шт          1221 non-null   int64  \n",
            " 18  Вывезти_и_нанести_КИЗшт             1221 non-null   int64  \n",
            " 19  Зарезервировано_шт                  1221 non-null   int64  \n",
            " 20  Доступно_на_моих_складах_шт         1221 non-null   int64  \n",
            " 21  Зарезервировано_на_моих_складах_шт  1221 non-null   int64  \n",
            " 22  Текущая_цена                        1221 non-null   float64\n",
            " 23  Цена_до_скидки                      1078 non-null   float64\n",
            " 24  Цена_Premium                        0 non-null      float64\n",
            " 25  Рыночная_цена                       13 non-null     float64\n",
            " 26  Актуальная_ссылка                   13 non-null     object \n",
            " 27  Размер_НДС                          1221 non-null   object \n",
            "dtypes: float64(5), int64(8), object(15)\n",
            "memory usage: 276.6+ KB\n"
          ]
        }
      ]
    },
    {
      "cell_type": "code",
      "source": [
        "с = df[df['Видимость_FBO'] == 'Скрыто']\n",
        "\n",
        "len(с)"
      ],
      "metadata": {
        "colab": {
          "base_uri": "https://localhost:8080/"
        },
        "id": "0cTuKoZTnjSZ",
        "outputId": "f3f68d64-5eb5-46af-afc9-d78b2acebd63"
      },
      "execution_count": null,
      "outputs": [
        {
          "output_type": "execute_result",
          "data": {
            "text/plain": [
              "0"
            ]
          },
          "metadata": {},
          "execution_count": 105
        }
      ]
    },
    {
      "cell_type": "code",
      "source": [
        "df['Доступно_на_складах'] = df['Доступно_на_складе_Ozon_шт']+df['Доступно_на_моих_складах_шт']"
      ],
      "metadata": {
        "id": "W3TsKXX9SGsl"
      },
      "execution_count": null,
      "outputs": []
    },
    {
      "cell_type": "code",
      "source": [
        "df.sort_values('Доступно_на_складах', ascending=False)"
      ],
      "metadata": {
        "id": "Ulxjz-qWWM0v"
      },
      "execution_count": null,
      "outputs": []
    },
    {
      "cell_type": "code",
      "source": [
        "df['Доступно_на_складах'].sum()"
      ],
      "metadata": {
        "colab": {
          "base_uri": "https://localhost:8080/"
        },
        "id": "yXl1ASV9NWI-",
        "outputId": "d413496a-d181-4eb0-9565-05641e19fd69"
      },
      "execution_count": null,
      "outputs": [
        {
          "output_type": "execute_result",
          "data": {
            "text/plain": [
              "24407"
            ]
          },
          "metadata": {},
          "execution_count": 107
        }
      ]
    },
    {
      "cell_type": "code",
      "source": [
        "df.isna().mean().sort_values(ascending=False)"
      ],
      "metadata": {
        "id": "9he_VL72OpQf",
        "colab": {
          "base_uri": "https://localhost:8080/"
        },
        "outputId": "b349df61-3a7b-4153-9c19-04e2aa4d2dcf"
      },
      "execution_count": null,
      "outputs": [
        {
          "output_type": "execute_result",
          "data": {
            "text/plain": [
              "Артикул                   0.0\n",
              "Ozon_Product_ID           0.0\n",
              "FBO_OZON_SKU_ID           0.0\n",
              "FBS_OZON_SKU_ID           0.0\n",
              "Наименование_товара       0.0\n",
              "Контент_рейтинг           0.0\n",
              "Бренд                     0.0\n",
              "Коммерческая_категория    0.0\n",
              "Текущая_цена              0.0\n",
              "Цена_до_скидки            0.0\n",
              "Доступно_на_складах       0.0\n",
              "dtype: float64"
            ]
          },
          "metadata": {},
          "execution_count": 112
        }
      ]
    },
    {
      "cell_type": "markdown",
      "source": [
        "**Удаляем колонки:**\n",
        "\n",
        "Barcode - 0.045922 - неинформативен\n",
        "\n",
        "Видимость_FBO -- неинформативен\n",
        "\n",
        "Причины_скрытия_FBO - 0.978622 - неинформативен\n",
        "\n",
        "Видимость_FBS -- неинформативен\n",
        "\n",
        "Причины_скрытия_FBS -- неинформативен\n",
        "\n",
        "Дата_создания -- неинформативен\n",
        "\n",
        "Объем_товара_л -- неинформативен\n",
        "\n",
        "Объемный_вес_кг -- неинформативен\n",
        "\n",
        "Вывезти_и_нанести_КИЗшт -- неинформативен\n",
        "\n",
        "Цена_Premium - 1.000000- пустой\n",
        "\n",
        "Рыночная_цена -- 0.988915 - Пустой\n",
        "\n",
        "Актуальная_ссылка -- 0.988915 -- неинформативен\n",
        "\n",
        "Размер_НДС_% -- неинформативен"
      ],
      "metadata": {
        "id": "rRytBY6VJgVf"
      }
    },
    {
      "cell_type": "code",
      "source": [
        "df = df[['Артикул', 'Ozon_Product_ID', 'FBO_OZON_SKU_ID', 'FBS_OZON_SKU_ID',\n",
        "       'Наименование_товара', 'Контент_рейтинг', 'Бренд',\n",
        "       'Коммерческая_категория','Текущая_цена', 'Цена_до_скидки', 'Доступно_на_складах']]\n",
        "df.head(1)\n"
      ],
      "metadata": {
        "id": "N5wFG9YH8Pix",
        "colab": {
          "base_uri": "https://localhost:8080/",
          "height": 179
        },
        "outputId": "36cc4117-ddf2-4238-eddc-dac4e651ae31"
      },
      "execution_count": null,
      "outputs": [
        {
          "output_type": "execute_result",
          "data": {
            "text/plain": [
              "  Артикул  Ozon_Product_ID  FBO_OZON_SKU_ID  FBS_OZON_SKU_ID  \\\n",
              "0  '30273        105606938        298131117        298131122   \n",
              "\n",
              "                                 Наименование_товара  Контент_рейтинг Бренд  \\\n",
              "0  Плата B003809.2 заднего фонаря BMW X3 F25 (дра...             15.0   GNX   \n",
              "\n",
              "   Коммерческая_категория  Текущая_цена  Цена_до_скидки  Доступно_на_складах  \n",
              "0  Фонарь задний для авто        1200.0          1800.0                   26  "
            ],
            "text/html": [
              "\n",
              "\n",
              "  <div id=\"df-7b18d7a4-74c5-4698-a0a1-4fd68881b0ef\">\n",
              "    <div class=\"colab-df-container\">\n",
              "      <div>\n",
              "<style scoped>\n",
              "    .dataframe tbody tr th:only-of-type {\n",
              "        vertical-align: middle;\n",
              "    }\n",
              "\n",
              "    .dataframe tbody tr th {\n",
              "        vertical-align: top;\n",
              "    }\n",
              "\n",
              "    .dataframe thead th {\n",
              "        text-align: right;\n",
              "    }\n",
              "</style>\n",
              "<table border=\"1\" class=\"dataframe\">\n",
              "  <thead>\n",
              "    <tr style=\"text-align: right;\">\n",
              "      <th></th>\n",
              "      <th>Артикул</th>\n",
              "      <th>Ozon_Product_ID</th>\n",
              "      <th>FBO_OZON_SKU_ID</th>\n",
              "      <th>FBS_OZON_SKU_ID</th>\n",
              "      <th>Наименование_товара</th>\n",
              "      <th>Контент_рейтинг</th>\n",
              "      <th>Бренд</th>\n",
              "      <th>Коммерческая_категория</th>\n",
              "      <th>Текущая_цена</th>\n",
              "      <th>Цена_до_скидки</th>\n",
              "      <th>Доступно_на_складах</th>\n",
              "    </tr>\n",
              "  </thead>\n",
              "  <tbody>\n",
              "    <tr>\n",
              "      <th>0</th>\n",
              "      <td>'30273</td>\n",
              "      <td>105606938</td>\n",
              "      <td>298131117</td>\n",
              "      <td>298131122</td>\n",
              "      <td>Плата B003809.2 заднего фонаря BMW X3 F25 (дра...</td>\n",
              "      <td>15.0</td>\n",
              "      <td>GNX</td>\n",
              "      <td>Фонарь задний для авто</td>\n",
              "      <td>1200.0</td>\n",
              "      <td>1800.0</td>\n",
              "      <td>26</td>\n",
              "    </tr>\n",
              "  </tbody>\n",
              "</table>\n",
              "</div>\n",
              "      <button class=\"colab-df-convert\" onclick=\"convertToInteractive('df-7b18d7a4-74c5-4698-a0a1-4fd68881b0ef')\"\n",
              "              title=\"Convert this dataframe to an interactive table.\"\n",
              "              style=\"display:none;\">\n",
              "\n",
              "  <svg xmlns=\"http://www.w3.org/2000/svg\" height=\"24px\"viewBox=\"0 0 24 24\"\n",
              "       width=\"24px\">\n",
              "    <path d=\"M0 0h24v24H0V0z\" fill=\"none\"/>\n",
              "    <path d=\"M18.56 5.44l.94 2.06.94-2.06 2.06-.94-2.06-.94-.94-2.06-.94 2.06-2.06.94zm-11 1L8.5 8.5l.94-2.06 2.06-.94-2.06-.94L8.5 2.5l-.94 2.06-2.06.94zm10 10l.94 2.06.94-2.06 2.06-.94-2.06-.94-.94-2.06-.94 2.06-2.06.94z\"/><path d=\"M17.41 7.96l-1.37-1.37c-.4-.4-.92-.59-1.43-.59-.52 0-1.04.2-1.43.59L10.3 9.45l-7.72 7.72c-.78.78-.78 2.05 0 2.83L4 21.41c.39.39.9.59 1.41.59.51 0 1.02-.2 1.41-.59l7.78-7.78 2.81-2.81c.8-.78.8-2.07 0-2.86zM5.41 20L4 18.59l7.72-7.72 1.47 1.35L5.41 20z\"/>\n",
              "  </svg>\n",
              "      </button>\n",
              "\n",
              "\n",
              "\n",
              "    <div id=\"df-fde404af-8e0d-4352-9293-08831c9c014f\">\n",
              "      <button class=\"colab-df-quickchart\" onclick=\"quickchart('df-fde404af-8e0d-4352-9293-08831c9c014f')\"\n",
              "              title=\"Suggest charts.\"\n",
              "              style=\"display:none;\">\n",
              "\n",
              "<svg xmlns=\"http://www.w3.org/2000/svg\" height=\"24px\"viewBox=\"0 0 24 24\"\n",
              "     width=\"24px\">\n",
              "    <g>\n",
              "        <path d=\"M19 3H5c-1.1 0-2 .9-2 2v14c0 1.1.9 2 2 2h14c1.1 0 2-.9 2-2V5c0-1.1-.9-2-2-2zM9 17H7v-7h2v7zm4 0h-2V7h2v10zm4 0h-2v-4h2v4z\"/>\n",
              "    </g>\n",
              "</svg>\n",
              "      </button>\n",
              "    </div>\n",
              "\n",
              "<style>\n",
              "  .colab-df-quickchart {\n",
              "    background-color: #E8F0FE;\n",
              "    border: none;\n",
              "    border-radius: 50%;\n",
              "    cursor: pointer;\n",
              "    display: none;\n",
              "    fill: #1967D2;\n",
              "    height: 32px;\n",
              "    padding: 0 0 0 0;\n",
              "    width: 32px;\n",
              "  }\n",
              "\n",
              "  .colab-df-quickchart:hover {\n",
              "    background-color: #E2EBFA;\n",
              "    box-shadow: 0px 1px 2px rgba(60, 64, 67, 0.3), 0px 1px 3px 1px rgba(60, 64, 67, 0.15);\n",
              "    fill: #174EA6;\n",
              "  }\n",
              "\n",
              "  [theme=dark] .colab-df-quickchart {\n",
              "    background-color: #3B4455;\n",
              "    fill: #D2E3FC;\n",
              "  }\n",
              "\n",
              "  [theme=dark] .colab-df-quickchart:hover {\n",
              "    background-color: #434B5C;\n",
              "    box-shadow: 0px 1px 3px 1px rgba(0, 0, 0, 0.15);\n",
              "    filter: drop-shadow(0px 1px 2px rgba(0, 0, 0, 0.3));\n",
              "    fill: #FFFFFF;\n",
              "  }\n",
              "</style>\n",
              "\n",
              "    <script>\n",
              "      async function quickchart(key) {\n",
              "        const containerElement = document.querySelector('#' + key);\n",
              "        const charts = await google.colab.kernel.invokeFunction(\n",
              "            'suggestCharts', [key], {});\n",
              "      }\n",
              "    </script>\n",
              "\n",
              "      <script>\n",
              "\n",
              "function displayQuickchartButton(domScope) {\n",
              "  let quickchartButtonEl =\n",
              "    domScope.querySelector('#df-fde404af-8e0d-4352-9293-08831c9c014f button.colab-df-quickchart');\n",
              "  quickchartButtonEl.style.display =\n",
              "    google.colab.kernel.accessAllowed ? 'block' : 'none';\n",
              "}\n",
              "\n",
              "        displayQuickchartButton(document);\n",
              "      </script>\n",
              "      <style>\n",
              "    .colab-df-container {\n",
              "      display:flex;\n",
              "      flex-wrap:wrap;\n",
              "      gap: 12px;\n",
              "    }\n",
              "\n",
              "    .colab-df-convert {\n",
              "      background-color: #E8F0FE;\n",
              "      border: none;\n",
              "      border-radius: 50%;\n",
              "      cursor: pointer;\n",
              "      display: none;\n",
              "      fill: #1967D2;\n",
              "      height: 32px;\n",
              "      padding: 0 0 0 0;\n",
              "      width: 32px;\n",
              "    }\n",
              "\n",
              "    .colab-df-convert:hover {\n",
              "      background-color: #E2EBFA;\n",
              "      box-shadow: 0px 1px 2px rgba(60, 64, 67, 0.3), 0px 1px 3px 1px rgba(60, 64, 67, 0.15);\n",
              "      fill: #174EA6;\n",
              "    }\n",
              "\n",
              "    [theme=dark] .colab-df-convert {\n",
              "      background-color: #3B4455;\n",
              "      fill: #D2E3FC;\n",
              "    }\n",
              "\n",
              "    [theme=dark] .colab-df-convert:hover {\n",
              "      background-color: #434B5C;\n",
              "      box-shadow: 0px 1px 3px 1px rgba(0, 0, 0, 0.15);\n",
              "      filter: drop-shadow(0px 1px 2px rgba(0, 0, 0, 0.3));\n",
              "      fill: #FFFFFF;\n",
              "    }\n",
              "  </style>\n",
              "\n",
              "      <script>\n",
              "        const buttonEl =\n",
              "          document.querySelector('#df-7b18d7a4-74c5-4698-a0a1-4fd68881b0ef button.colab-df-convert');\n",
              "        buttonEl.style.display =\n",
              "          google.colab.kernel.accessAllowed ? 'block' : 'none';\n",
              "\n",
              "        async function convertToInteractive(key) {\n",
              "          const element = document.querySelector('#df-7b18d7a4-74c5-4698-a0a1-4fd68881b0ef');\n",
              "          const dataTable =\n",
              "            await google.colab.kernel.invokeFunction('convertToInteractive',\n",
              "                                                     [key], {});\n",
              "          if (!dataTable) return;\n",
              "\n",
              "          const docLinkHtml = 'Like what you see? Visit the ' +\n",
              "            '<a target=\"_blank\" href=https://colab.research.google.com/notebooks/data_table.ipynb>data table notebook</a>'\n",
              "            + ' to learn more about interactive tables.';\n",
              "          element.innerHTML = '';\n",
              "          dataTable['output_type'] = 'display_data';\n",
              "          await google.colab.output.renderOutput(dataTable, element);\n",
              "          const docLink = document.createElement('div');\n",
              "          docLink.innerHTML = docLinkHtml;\n",
              "          element.appendChild(docLink);\n",
              "        }\n",
              "      </script>\n",
              "    </div>\n",
              "  </div>\n"
            ]
          },
          "metadata": {},
          "execution_count": 109
        }
      ]
    },
    {
      "cell_type": "code",
      "source": [
        "df.isna().mean().sort_values(ascending=False)"
      ],
      "metadata": {
        "id": "adQG8I0BQkR8",
        "colab": {
          "base_uri": "https://localhost:8080/"
        },
        "outputId": "8212a348-61ec-406d-9ed3-eb4d13fd1e6a"
      },
      "execution_count": null,
      "outputs": [
        {
          "output_type": "execute_result",
          "data": {
            "text/plain": [
              "Цена_до_скидки            0.117117\n",
              "Артикул                   0.000000\n",
              "Ozon_Product_ID           0.000000\n",
              "FBO_OZON_SKU_ID           0.000000\n",
              "FBS_OZON_SKU_ID           0.000000\n",
              "Наименование_товара       0.000000\n",
              "Контент_рейтинг           0.000000\n",
              "Бренд                     0.000000\n",
              "Коммерческая_категория    0.000000\n",
              "Текущая_цена              0.000000\n",
              "Доступно_на_складах       0.000000\n",
              "dtype: float64"
            ]
          },
          "metadata": {},
          "execution_count": 110
        }
      ]
    },
    {
      "cell_type": "code",
      "source": [
        "# Заполнение пустых значений в колонке 'Цена_до_скидки' значениями из колонки 'Текущая_цена'\n",
        "df['Цена_до_скидки'].fillna(df['Текущая_цена'], inplace=True) # Ругается (((\n",
        "#df1 = df['Цена_до_скидки'].fillna(df['Текущая_цена']).copy()"
      ],
      "metadata": {
        "id": "Mfj55r3Z8YtG"
      },
      "execution_count": null,
      "outputs": []
    },
    {
      "cell_type": "code",
      "source": [
        "# Преобразуем столбцы в тип данных 'float64'\n",
        "# columns_to_convert = ['Контент_рейтинг', 'Столбец2', 'Столбец3']\n",
        "# df[columns_to_convert] = df[columns_to_convert].astype(float)\n",
        "df['Контент_рейтинг'] = df['Контент_рейтинг'].replace('Рассчитываем',\"'0.0\", regex=True)\n",
        "df['Контент_рейтинг'] = df['Контент_рейтинг'].replace(\"'\",\"\", regex=True).astype(float)"
      ],
      "metadata": {
        "id": "XYeuqANMvYvJ"
      },
      "execution_count": null,
      "outputs": []
    },
    {
      "cell_type": "code",
      "source": [
        "df.describe()"
      ],
      "metadata": {
        "id": "bShMrFwkoV7m",
        "colab": {
          "base_uri": "https://localhost:8080/",
          "height": 300
        },
        "outputId": "9f228a4f-83bf-4030-f614-01aecc8321ae"
      },
      "execution_count": null,
      "outputs": [
        {
          "output_type": "execute_result",
          "data": {
            "text/plain": [
              "       Ozon_Product_ID  FBO_OZON_SKU_ID  FBS_OZON_SKU_ID  Контент_рейтинг  \\\n",
              "count     1.221000e+03     1.221000e+03     1.221000e+03      1221.000000   \n",
              "mean      2.665260e+08     5.659539e+08     5.659539e+08        10.425880   \n",
              "std       6.282560e+07     1.121405e+08     1.121405e+08         9.677316   \n",
              "min       7.262091e+07     2.609120e+08     2.609120e+08         0.000000   \n",
              "25%       2.390137e+08     5.106758e+08     5.106758e+08         0.000000   \n",
              "50%       2.396318e+08     5.115767e+08     5.115767e+08        15.000000   \n",
              "75%       2.785884e+08     5.797315e+08     5.797315e+08        15.000000   \n",
              "max       5.088050e+08     9.660743e+08     9.660743e+08        52.500000   \n",
              "\n",
              "       Текущая_цена  Цена_до_скидки  Доступно_на_складах  \n",
              "count   1221.000000     1221.000000          1221.000000  \n",
              "mean    4416.705160     7143.097461            19.989353  \n",
              "std     3864.440634     6048.612305            50.847481  \n",
              "min      198.000000      198.000000             0.000000  \n",
              "25%     1639.000000     2831.000000             0.000000  \n",
              "50%     3707.000000     6000.000000             3.000000  \n",
              "75%     5500.000000     9100.000000            22.000000  \n",
              "max    40100.000000    55000.000000           873.000000  "
            ],
            "text/html": [
              "\n",
              "\n",
              "  <div id=\"df-ae85d269-340f-41bf-92d0-367ec9efa121\">\n",
              "    <div class=\"colab-df-container\">\n",
              "      <div>\n",
              "<style scoped>\n",
              "    .dataframe tbody tr th:only-of-type {\n",
              "        vertical-align: middle;\n",
              "    }\n",
              "\n",
              "    .dataframe tbody tr th {\n",
              "        vertical-align: top;\n",
              "    }\n",
              "\n",
              "    .dataframe thead th {\n",
              "        text-align: right;\n",
              "    }\n",
              "</style>\n",
              "<table border=\"1\" class=\"dataframe\">\n",
              "  <thead>\n",
              "    <tr style=\"text-align: right;\">\n",
              "      <th></th>\n",
              "      <th>Ozon_Product_ID</th>\n",
              "      <th>FBO_OZON_SKU_ID</th>\n",
              "      <th>FBS_OZON_SKU_ID</th>\n",
              "      <th>Контент_рейтинг</th>\n",
              "      <th>Текущая_цена</th>\n",
              "      <th>Цена_до_скидки</th>\n",
              "      <th>Доступно_на_складах</th>\n",
              "    </tr>\n",
              "  </thead>\n",
              "  <tbody>\n",
              "    <tr>\n",
              "      <th>count</th>\n",
              "      <td>1.221000e+03</td>\n",
              "      <td>1.221000e+03</td>\n",
              "      <td>1.221000e+03</td>\n",
              "      <td>1221.000000</td>\n",
              "      <td>1221.000000</td>\n",
              "      <td>1221.000000</td>\n",
              "      <td>1221.000000</td>\n",
              "    </tr>\n",
              "    <tr>\n",
              "      <th>mean</th>\n",
              "      <td>2.665260e+08</td>\n",
              "      <td>5.659539e+08</td>\n",
              "      <td>5.659539e+08</td>\n",
              "      <td>10.425880</td>\n",
              "      <td>4416.705160</td>\n",
              "      <td>7143.097461</td>\n",
              "      <td>19.989353</td>\n",
              "    </tr>\n",
              "    <tr>\n",
              "      <th>std</th>\n",
              "      <td>6.282560e+07</td>\n",
              "      <td>1.121405e+08</td>\n",
              "      <td>1.121405e+08</td>\n",
              "      <td>9.677316</td>\n",
              "      <td>3864.440634</td>\n",
              "      <td>6048.612305</td>\n",
              "      <td>50.847481</td>\n",
              "    </tr>\n",
              "    <tr>\n",
              "      <th>min</th>\n",
              "      <td>7.262091e+07</td>\n",
              "      <td>2.609120e+08</td>\n",
              "      <td>2.609120e+08</td>\n",
              "      <td>0.000000</td>\n",
              "      <td>198.000000</td>\n",
              "      <td>198.000000</td>\n",
              "      <td>0.000000</td>\n",
              "    </tr>\n",
              "    <tr>\n",
              "      <th>25%</th>\n",
              "      <td>2.390137e+08</td>\n",
              "      <td>5.106758e+08</td>\n",
              "      <td>5.106758e+08</td>\n",
              "      <td>0.000000</td>\n",
              "      <td>1639.000000</td>\n",
              "      <td>2831.000000</td>\n",
              "      <td>0.000000</td>\n",
              "    </tr>\n",
              "    <tr>\n",
              "      <th>50%</th>\n",
              "      <td>2.396318e+08</td>\n",
              "      <td>5.115767e+08</td>\n",
              "      <td>5.115767e+08</td>\n",
              "      <td>15.000000</td>\n",
              "      <td>3707.000000</td>\n",
              "      <td>6000.000000</td>\n",
              "      <td>3.000000</td>\n",
              "    </tr>\n",
              "    <tr>\n",
              "      <th>75%</th>\n",
              "      <td>2.785884e+08</td>\n",
              "      <td>5.797315e+08</td>\n",
              "      <td>5.797315e+08</td>\n",
              "      <td>15.000000</td>\n",
              "      <td>5500.000000</td>\n",
              "      <td>9100.000000</td>\n",
              "      <td>22.000000</td>\n",
              "    </tr>\n",
              "    <tr>\n",
              "      <th>max</th>\n",
              "      <td>5.088050e+08</td>\n",
              "      <td>9.660743e+08</td>\n",
              "      <td>9.660743e+08</td>\n",
              "      <td>52.500000</td>\n",
              "      <td>40100.000000</td>\n",
              "      <td>55000.000000</td>\n",
              "      <td>873.000000</td>\n",
              "    </tr>\n",
              "  </tbody>\n",
              "</table>\n",
              "</div>\n",
              "      <button class=\"colab-df-convert\" onclick=\"convertToInteractive('df-ae85d269-340f-41bf-92d0-367ec9efa121')\"\n",
              "              title=\"Convert this dataframe to an interactive table.\"\n",
              "              style=\"display:none;\">\n",
              "\n",
              "  <svg xmlns=\"http://www.w3.org/2000/svg\" height=\"24px\"viewBox=\"0 0 24 24\"\n",
              "       width=\"24px\">\n",
              "    <path d=\"M0 0h24v24H0V0z\" fill=\"none\"/>\n",
              "    <path d=\"M18.56 5.44l.94 2.06.94-2.06 2.06-.94-2.06-.94-.94-2.06-.94 2.06-2.06.94zm-11 1L8.5 8.5l.94-2.06 2.06-.94-2.06-.94L8.5 2.5l-.94 2.06-2.06.94zm10 10l.94 2.06.94-2.06 2.06-.94-2.06-.94-.94-2.06-.94 2.06-2.06.94z\"/><path d=\"M17.41 7.96l-1.37-1.37c-.4-.4-.92-.59-1.43-.59-.52 0-1.04.2-1.43.59L10.3 9.45l-7.72 7.72c-.78.78-.78 2.05 0 2.83L4 21.41c.39.39.9.59 1.41.59.51 0 1.02-.2 1.41-.59l7.78-7.78 2.81-2.81c.8-.78.8-2.07 0-2.86zM5.41 20L4 18.59l7.72-7.72 1.47 1.35L5.41 20z\"/>\n",
              "  </svg>\n",
              "      </button>\n",
              "\n",
              "\n",
              "\n",
              "    <div id=\"df-c67cf4ee-4207-4293-9172-967399f72a7b\">\n",
              "      <button class=\"colab-df-quickchart\" onclick=\"quickchart('df-c67cf4ee-4207-4293-9172-967399f72a7b')\"\n",
              "              title=\"Suggest charts.\"\n",
              "              style=\"display:none;\">\n",
              "\n",
              "<svg xmlns=\"http://www.w3.org/2000/svg\" height=\"24px\"viewBox=\"0 0 24 24\"\n",
              "     width=\"24px\">\n",
              "    <g>\n",
              "        <path d=\"M19 3H5c-1.1 0-2 .9-2 2v14c0 1.1.9 2 2 2h14c1.1 0 2-.9 2-2V5c0-1.1-.9-2-2-2zM9 17H7v-7h2v7zm4 0h-2V7h2v10zm4 0h-2v-4h2v4z\"/>\n",
              "    </g>\n",
              "</svg>\n",
              "      </button>\n",
              "    </div>\n",
              "\n",
              "<style>\n",
              "  .colab-df-quickchart {\n",
              "    background-color: #E8F0FE;\n",
              "    border: none;\n",
              "    border-radius: 50%;\n",
              "    cursor: pointer;\n",
              "    display: none;\n",
              "    fill: #1967D2;\n",
              "    height: 32px;\n",
              "    padding: 0 0 0 0;\n",
              "    width: 32px;\n",
              "  }\n",
              "\n",
              "  .colab-df-quickchart:hover {\n",
              "    background-color: #E2EBFA;\n",
              "    box-shadow: 0px 1px 2px rgba(60, 64, 67, 0.3), 0px 1px 3px 1px rgba(60, 64, 67, 0.15);\n",
              "    fill: #174EA6;\n",
              "  }\n",
              "\n",
              "  [theme=dark] .colab-df-quickchart {\n",
              "    background-color: #3B4455;\n",
              "    fill: #D2E3FC;\n",
              "  }\n",
              "\n",
              "  [theme=dark] .colab-df-quickchart:hover {\n",
              "    background-color: #434B5C;\n",
              "    box-shadow: 0px 1px 3px 1px rgba(0, 0, 0, 0.15);\n",
              "    filter: drop-shadow(0px 1px 2px rgba(0, 0, 0, 0.3));\n",
              "    fill: #FFFFFF;\n",
              "  }\n",
              "</style>\n",
              "\n",
              "    <script>\n",
              "      async function quickchart(key) {\n",
              "        const containerElement = document.querySelector('#' + key);\n",
              "        const charts = await google.colab.kernel.invokeFunction(\n",
              "            'suggestCharts', [key], {});\n",
              "      }\n",
              "    </script>\n",
              "\n",
              "      <script>\n",
              "\n",
              "function displayQuickchartButton(domScope) {\n",
              "  let quickchartButtonEl =\n",
              "    domScope.querySelector('#df-c67cf4ee-4207-4293-9172-967399f72a7b button.colab-df-quickchart');\n",
              "  quickchartButtonEl.style.display =\n",
              "    google.colab.kernel.accessAllowed ? 'block' : 'none';\n",
              "}\n",
              "\n",
              "        displayQuickchartButton(document);\n",
              "      </script>\n",
              "      <style>\n",
              "    .colab-df-container {\n",
              "      display:flex;\n",
              "      flex-wrap:wrap;\n",
              "      gap: 12px;\n",
              "    }\n",
              "\n",
              "    .colab-df-convert {\n",
              "      background-color: #E8F0FE;\n",
              "      border: none;\n",
              "      border-radius: 50%;\n",
              "      cursor: pointer;\n",
              "      display: none;\n",
              "      fill: #1967D2;\n",
              "      height: 32px;\n",
              "      padding: 0 0 0 0;\n",
              "      width: 32px;\n",
              "    }\n",
              "\n",
              "    .colab-df-convert:hover {\n",
              "      background-color: #E2EBFA;\n",
              "      box-shadow: 0px 1px 2px rgba(60, 64, 67, 0.3), 0px 1px 3px 1px rgba(60, 64, 67, 0.15);\n",
              "      fill: #174EA6;\n",
              "    }\n",
              "\n",
              "    [theme=dark] .colab-df-convert {\n",
              "      background-color: #3B4455;\n",
              "      fill: #D2E3FC;\n",
              "    }\n",
              "\n",
              "    [theme=dark] .colab-df-convert:hover {\n",
              "      background-color: #434B5C;\n",
              "      box-shadow: 0px 1px 3px 1px rgba(0, 0, 0, 0.15);\n",
              "      filter: drop-shadow(0px 1px 2px rgba(0, 0, 0, 0.3));\n",
              "      fill: #FFFFFF;\n",
              "    }\n",
              "  </style>\n",
              "\n",
              "      <script>\n",
              "        const buttonEl =\n",
              "          document.querySelector('#df-ae85d269-340f-41bf-92d0-367ec9efa121 button.colab-df-convert');\n",
              "        buttonEl.style.display =\n",
              "          google.colab.kernel.accessAllowed ? 'block' : 'none';\n",
              "\n",
              "        async function convertToInteractive(key) {\n",
              "          const element = document.querySelector('#df-ae85d269-340f-41bf-92d0-367ec9efa121');\n",
              "          const dataTable =\n",
              "            await google.colab.kernel.invokeFunction('convertToInteractive',\n",
              "                                                     [key], {});\n",
              "          if (!dataTable) return;\n",
              "\n",
              "          const docLinkHtml = 'Like what you see? Visit the ' +\n",
              "            '<a target=\"_blank\" href=https://colab.research.google.com/notebooks/data_table.ipynb>data table notebook</a>'\n",
              "            + ' to learn more about interactive tables.';\n",
              "          element.innerHTML = '';\n",
              "          dataTable['output_type'] = 'display_data';\n",
              "          await google.colab.output.renderOutput(dataTable, element);\n",
              "          const docLink = document.createElement('div');\n",
              "          docLink.innerHTML = docLinkHtml;\n",
              "          element.appendChild(docLink);\n",
              "        }\n",
              "      </script>\n",
              "    </div>\n",
              "  </div>\n"
            ]
          },
          "metadata": {},
          "execution_count": 113
        }
      ]
    },
    {
      "cell_type": "code",
      "source": [
        "df.info()"
      ],
      "metadata": {
        "id": "lEamM4hNuRGO",
        "colab": {
          "base_uri": "https://localhost:8080/"
        },
        "outputId": "55ee17db-f52e-4ca0-c38a-d5b2405b80e0"
      },
      "execution_count": null,
      "outputs": [
        {
          "output_type": "stream",
          "name": "stdout",
          "text": [
            "<class 'pandas.core.frame.DataFrame'>\n",
            "Int64Index: 1221 entries, 0 to 1262\n",
            "Data columns (total 11 columns):\n",
            " #   Column                  Non-Null Count  Dtype  \n",
            "---  ------                  --------------  -----  \n",
            " 0   Артикул                 1221 non-null   object \n",
            " 1   Ozon_Product_ID         1221 non-null   int64  \n",
            " 2   FBO_OZON_SKU_ID         1221 non-null   int64  \n",
            " 3   FBS_OZON_SKU_ID         1221 non-null   int64  \n",
            " 4   Наименование_товара     1221 non-null   object \n",
            " 5   Контент_рейтинг         1221 non-null   float64\n",
            " 6   Бренд                   1221 non-null   object \n",
            " 7   Коммерческая_категория  1221 non-null   object \n",
            " 8   Текущая_цена            1221 non-null   float64\n",
            " 9   Цена_до_скидки          1221 non-null   float64\n",
            " 10  Доступно_на_складах     1221 non-null   int64  \n",
            "dtypes: float64(3), int64(4), object(4)\n",
            "memory usage: 114.5+ KB\n"
          ]
        }
      ]
    },
    {
      "cell_type": "code",
      "source": [
        "cols = ['FBS_OZON_SKU_ID', 'FBO_OZON_SKU_ID', 'Артикул', 'Ozon_Product_ID']\n",
        "for col in cols:\n",
        "  nonuniq = df[df.duplicated(subset=col)][col]\n",
        "  print(f'Не уникальных значений В колонке {col} - {nonuniq.count()}')"
      ],
      "metadata": {
        "id": "Jd0UGqQ4uRB4",
        "colab": {
          "base_uri": "https://localhost:8080/"
        },
        "outputId": "119dc97e-3c09-4e34-da88-fed3d5cf302f"
      },
      "execution_count": null,
      "outputs": [
        {
          "output_type": "stream",
          "name": "stdout",
          "text": [
            "Не уникальных значений В колонке FBS_OZON_SKU_ID - 0\n",
            "Не уникальных значений В колонке FBO_OZON_SKU_ID - 0\n",
            "Не уникальных значений В колонке Артикул - 0\n",
            "Не уникальных значений В колонке Ozon_Product_ID - 0\n"
          ]
        }
      ]
    },
    {
      "cell_type": "code",
      "source": [
        "# Выгружаем готовый ДФ  в отдельный файл\n",
        "df.to_csv('base-done.csv', index=False)"
      ],
      "metadata": {
        "id": "oSuA0AGi8PVW"
      },
      "execution_count": null,
      "outputs": []
    },
    {
      "cell_type": "code",
      "source": [
        "!ls"
      ],
      "metadata": {
        "id": "igFn7pIBLq8r",
        "colab": {
          "base_uri": "https://localhost:8080/"
        },
        "outputId": "85c701e2-a229-471d-923e-8d77b9ca250a"
      },
      "execution_count": null,
      "outputs": [
        {
          "output_type": "stream",
          "name": "stdout",
          "text": [
            "base-done.csv  base_for_analiz\tbase_for_analiz.zip\n"
          ]
        }
      ]
    },
    {
      "cell_type": "markdown",
      "source": [
        "### нормализуем таблицу **/content/base_for_analiz/Ozon/Аналитика Графики 01.06.2022-31.05.2023.xlsx**"
      ],
      "metadata": {
        "id": "_z8JbiN75whQ"
      }
    },
    {
      "cell_type": "code",
      "source": [
        "xls = '/content/base_for_analiz/Ozon/Аналитика Графики 01.06.2022-31.05.2023.xlsx'"
      ],
      "metadata": {
        "id": "SeMlYXh4LuRJ"
      },
      "execution_count": null,
      "outputs": []
    },
    {
      "cell_type": "code",
      "source": [
        "df = pd.read_excel(xls)   #, encoding='cp1251' если выдаёт ошибку"
      ],
      "metadata": {
        "id": "pInsxpr3LuRj"
      },
      "execution_count": null,
      "outputs": []
    },
    {
      "cell_type": "code",
      "source": [
        "import re\n",
        "\n",
        "def clean_column_names(df):\n",
        "    cleaned_columns = []\n",
        "\n",
        "    for column in df.columns:\n",
        "        cleaned_column = re.sub(r\"[^\\w\\s]\", \"\", column)  # Оставляем только буквы, цифры и пробелы\n",
        "        cleaned_column = cleaned_column.replace(\" \", \"_\")  # Заменяем пробелы на \"_\"\n",
        "        cleaned_columns.append(cleaned_column)\n",
        "\n",
        "    df.columns = cleaned_columns\n",
        "    return df\n"
      ],
      "metadata": {
        "id": "Z-Nfz8nucO7C"
      },
      "execution_count": null,
      "outputs": []
    },
    {
      "cell_type": "code",
      "source": [
        "df = clean_column_names(df)\n",
        "df.columns"
      ],
      "metadata": {
        "colab": {
          "base_uri": "https://localhost:8080/"
        },
        "id": "17852uFQcdbj",
        "outputId": "0a586811-237d-407e-d82c-7ff956fa220c"
      },
      "execution_count": null,
      "outputs": [
        {
          "output_type": "execute_result",
          "data": {
            "text/plain": [
              "Index(['Категория_3го_уровня', 'Товары', 'Модель', 'Ozon_ID', 'Артикул',\n",
              "       'День', 'Уникальные_посетители_всего',\n",
              "       'Уникальные_посетители_с_просмотром_карточки_товара', 'Показы_всего',\n",
              "       'Показы_на_карточке_товара', 'Показы_в_поиске_и_каталоге',\n",
              "       'Позиция_в_поиске_и_каталоге', 'В_корзину_всего', 'Заказано_товаров',\n",
              "       'Отменено_товаров', 'Доставлено_за_выбранный_период',\n",
              "       'Возвращено_товаров', 'Заказано_на_сумму',\n",
              "       'Отправления_с_премиумподпиской_принятые_в_обработку'],\n",
              "      dtype='object')"
            ]
          },
          "metadata": {},
          "execution_count": 121
        }
      ]
    },
    {
      "cell_type": "code",
      "source": [
        "# Убираем колонгку 'Отправления_с_премиумподпиской_принятые_в_обработку'\n",
        "df = df[['Категория_3го_уровня', 'Товары', 'Модель', 'Ozon_ID', 'Артикул',\n",
        "       'День', 'Уникальные_посетители_всего',\n",
        "       'Уникальные_посетители_с_просмотром_карточки_товара', 'Показы_всего',\n",
        "       'Показы_на_карточке_товара', 'Показы_в_поиске_и_каталоге',\n",
        "       'Позиция_в_поиске_и_каталоге', 'В_корзину_всего', 'Заказано_товаров',\n",
        "       'Отменено_товаров', 'Доставлено_за_выбранный_период',\n",
        "       'Возвращено_товаров', 'Заказано_на_сумму']]"
      ],
      "metadata": {
        "id": "K63hAmHOhvR0"
      },
      "execution_count": null,
      "outputs": []
    },
    {
      "cell_type": "code",
      "source": [
        "import re\n",
        "\n",
        "def clean_column_names(df):\n",
        "    cleaned_columns = []\n",
        "\n",
        "    for column in df.columns:\n",
        "        cleaned_column = re.sub(r\"[^\\w\\s]\", \"\", column)  # Оставляем только буквы, цифры и пробелы\n",
        "        cleaned_column = cleaned_column.replace(\" \", \"_\")  # Заменяем пробелы на \"_\"\n",
        "        cleaned_columns.append(cleaned_column)\n",
        "\n",
        "    df.columns = cleaned_columns\n",
        "    return df\n"
      ],
      "metadata": {
        "id": "xaNK_j9SCASY"
      },
      "execution_count": null,
      "outputs": []
    },
    {
      "cell_type": "code",
      "source": [
        "df = clean_column_names(df)\n",
        "df.columns"
      ],
      "metadata": {
        "colab": {
          "base_uri": "https://localhost:8080/"
        },
        "outputId": "0a586811-237d-407e-d82c-7ff956fa220c",
        "id": "g4LSILZfCASn"
      },
      "execution_count": null,
      "outputs": [
        {
          "output_type": "execute_result",
          "data": {
            "text/plain": [
              "Index(['Категория_3го_уровня', 'Товары', 'Модель', 'Ozon_ID', 'Артикул',\n",
              "       'День', 'Уникальные_посетители_всего',\n",
              "       'Уникальные_посетители_с_просмотром_карточки_товара', 'Показы_всего',\n",
              "       'Показы_на_карточке_товара', 'Показы_в_поиске_и_каталоге',\n",
              "       'Позиция_в_поиске_и_каталоге', 'В_корзину_всего', 'Заказано_товаров',\n",
              "       'Отменено_товаров', 'Доставлено_за_выбранный_период',\n",
              "       'Возвращено_товаров', 'Заказано_на_сумму',\n",
              "       'Отправления_с_премиумподпиской_принятые_в_обработку'],\n",
              "      dtype='object')"
            ]
          },
          "metadata": {},
          "execution_count": 121
        }
      ]
    },
    {
      "cell_type": "code",
      "source": [
        "# Убираем колонгку 'Отправления_с_премиумподпиской_принятые_в_обработку'\n",
        "df = df[['Категория_3го_уровня', 'Товары', 'Модель', 'Ozon_ID', 'Артикул',\n",
        "       'День', 'Уникальные_посетители_всего',\n",
        "       'Уникальные_посетители_с_просмотром_карточки_товара', 'Показы_всего',\n",
        "       'Показы_на_карточке_товара', 'Показы_в_поиске_и_каталоге',\n",
        "       'Позиция_в_поиске_и_каталоге', 'В_корзину_всего', 'Заказано_товаров',\n",
        "       'Отменено_товаров', 'Доставлено_за_выбранный_период',\n",
        "       'Возвращено_товаров', 'Заказано_на_сумму']]"
      ],
      "metadata": {
        "id": "k5Fv8wwICASo"
      },
      "execution_count": null,
      "outputs": []
    },
    {
      "cell_type": "code",
      "source": [
        "df['День'] = pd.to_datetime(df['День'], format='%Y.%m.%d')\n",
        "\n",
        "# Преобразуем столбец 'date' в нужный формат 'dd.mm.yyyy'\n",
        "# df['День'] = df['День'].dt.strftime('%d.%m.%Y')\n",
        "\n",
        "# df['День'] = pd.to_datetime(df['День'], format='%d.%m.%Y')\n",
        "df['Позиция_в_поиске_и_каталоге'] = df['Позиция_в_поиске_и_каталоге'].replace(',','.', regex=True)\n",
        "df['Позиция_в_поиске_и_каталоге'] = df['Позиция_в_поиске_и_каталоге'].astype(float)\n",
        "df['Ozon_ID'] = df['Ozon_ID'].astype(str)"
      ],
      "metadata": {
        "id": "vM1sVPCCLuRl"
      },
      "execution_count": null,
      "outputs": []
    },
    {
      "cell_type": "code",
      "source": [
        "df.dtypes\n"
      ],
      "metadata": {
        "colab": {
          "base_uri": "https://localhost:8080/"
        },
        "id": "cFjdZUIeoKUS",
        "outputId": "d1f7f3ca-d180-4c6f-e7dd-6a1ff5efcc6d"
      },
      "execution_count": null,
      "outputs": [
        {
          "output_type": "execute_result",
          "data": {
            "text/plain": [
              "Категория_3го_уровня                                           object\n",
              "Товары                                                         object\n",
              "Модель                                                         object\n",
              "Ozon_ID                                                        object\n",
              "Артикул                                                        object\n",
              "День                                                   datetime64[ns]\n",
              "Уникальные_посетители_всего                                     int64\n",
              "Уникальные_посетители_с_просмотром_карточки_товара              int64\n",
              "Показы_всего                                                    int64\n",
              "Показы_на_карточке_товара                                       int64\n",
              "Показы_в_поиске_и_каталоге                                      int64\n",
              "Позиция_в_поиске_и_каталоге                                   float64\n",
              "В_корзину_всего                                                 int64\n",
              "Заказано_товаров                                                int64\n",
              "Отменено_товаров                                                int64\n",
              "Доставлено_за_выбранный_период                                  int64\n",
              "Возвращено_товаров                                              int64\n",
              "Заказано_на_сумму                                               int64\n",
              "Отправления_с_премиумподпиской_принятые_в_обработку             int64\n",
              "dtype: object"
            ]
          },
          "metadata": {},
          "execution_count": 124
        }
      ]
    },
    {
      "cell_type": "code",
      "source": [
        "df.head()"
      ],
      "metadata": {
        "colab": {
          "base_uri": "https://localhost:8080/",
          "height": 444
        },
        "id": "LVov_Bngjkhs",
        "outputId": "6591a6c2-acc3-46f0-e05e-5b492a965b22"
      },
      "execution_count": null,
      "outputs": [
        {
          "output_type": "execute_result",
          "data": {
            "text/plain": [
              "        Категория_3го_уровня                         Товары  \\\n",
              "0  Разное автопринадлежности  Светодиодная подсветка салона   \n",
              "1  Разное автопринадлежности  Светодиодная подсветка салона   \n",
              "2  Разное автопринадлежности  Светодиодная подсветка салона   \n",
              "3  Разное автопринадлежности  Светодиодная подсветка салона   \n",
              "4  Разное автопринадлежности  Светодиодная подсветка салона   \n",
              "\n",
              "                          Модель    Ozon_ID Артикул       День  \\\n",
              "0  Светодиодная подсветка салона  882353426   34414 2023-03-03   \n",
              "1  Светодиодная подсветка салона  882353426   34414 2023-03-05   \n",
              "2  Светодиодная подсветка салона  882353427   34414 2023-03-05   \n",
              "3  Светодиодная подсветка салона  882353427   34414 2023-03-06   \n",
              "4  Светодиодная подсветка салона  882353427   34414 2023-03-07   \n",
              "\n",
              "   Уникальные_посетители_всего  \\\n",
              "0                            1   \n",
              "1                            1   \n",
              "2                           65   \n",
              "3                           85   \n",
              "4                           44   \n",
              "\n",
              "   Уникальные_посетители_с_просмотром_карточки_товара  Показы_всего  \\\n",
              "0                                                  1              6   \n",
              "1                                                  0              2   \n",
              "2                                                  3             69   \n",
              "3                                                  3            109   \n",
              "4                                                  2             50   \n",
              "\n",
              "   Показы_на_карточке_товара  Показы_в_поиске_и_каталоге  \\\n",
              "0                          1                           4   \n",
              "1                          0                           2   \n",
              "2                          3                          40   \n",
              "3                          3                          46   \n",
              "4                          2                          37   \n",
              "\n",
              "   Позиция_в_поиске_и_каталоге  В_корзину_всего  Заказано_товаров  \\\n",
              "0                         1.00                0                 0   \n",
              "1                         1.00                0                 0   \n",
              "2                       110.33                0                 0   \n",
              "3                       103.43                0                 0   \n",
              "4                        97.14                0                 0   \n",
              "\n",
              "   Отменено_товаров  Доставлено_за_выбранный_период  Возвращено_товаров  \\\n",
              "0                 0                               0                   0   \n",
              "1                 0                               0                   0   \n",
              "2                 0                               0                   0   \n",
              "3                 0                               0                   0   \n",
              "4                 0                               0                   0   \n",
              "\n",
              "   Заказано_на_сумму  Отправления_с_премиумподпиской_принятые_в_обработку  \n",
              "0                  0                                                  0    \n",
              "1                  0                                                  0    \n",
              "2                  0                                                  0    \n",
              "3                  0                                                  0    \n",
              "4                  0                                                  0    "
            ],
            "text/html": [
              "\n",
              "\n",
              "  <div id=\"df-d54e1838-ae0f-486d-9993-ed0a4dfc2e24\">\n",
              "    <div class=\"colab-df-container\">\n",
              "      <div>\n",
              "<style scoped>\n",
              "    .dataframe tbody tr th:only-of-type {\n",
              "        vertical-align: middle;\n",
              "    }\n",
              "\n",
              "    .dataframe tbody tr th {\n",
              "        vertical-align: top;\n",
              "    }\n",
              "\n",
              "    .dataframe thead th {\n",
              "        text-align: right;\n",
              "    }\n",
              "</style>\n",
              "<table border=\"1\" class=\"dataframe\">\n",
              "  <thead>\n",
              "    <tr style=\"text-align: right;\">\n",
              "      <th></th>\n",
              "      <th>Категория_3го_уровня</th>\n",
              "      <th>Товары</th>\n",
              "      <th>Модель</th>\n",
              "      <th>Ozon_ID</th>\n",
              "      <th>Артикул</th>\n",
              "      <th>День</th>\n",
              "      <th>Уникальные_посетители_всего</th>\n",
              "      <th>Уникальные_посетители_с_просмотром_карточки_товара</th>\n",
              "      <th>Показы_всего</th>\n",
              "      <th>Показы_на_карточке_товара</th>\n",
              "      <th>Показы_в_поиске_и_каталоге</th>\n",
              "      <th>Позиция_в_поиске_и_каталоге</th>\n",
              "      <th>В_корзину_всего</th>\n",
              "      <th>Заказано_товаров</th>\n",
              "      <th>Отменено_товаров</th>\n",
              "      <th>Доставлено_за_выбранный_период</th>\n",
              "      <th>Возвращено_товаров</th>\n",
              "      <th>Заказано_на_сумму</th>\n",
              "      <th>Отправления_с_премиумподпиской_принятые_в_обработку</th>\n",
              "    </tr>\n",
              "  </thead>\n",
              "  <tbody>\n",
              "    <tr>\n",
              "      <th>0</th>\n",
              "      <td>Разное автопринадлежности</td>\n",
              "      <td>Светодиодная подсветка салона</td>\n",
              "      <td>Светодиодная подсветка салона</td>\n",
              "      <td>882353426</td>\n",
              "      <td>34414</td>\n",
              "      <td>2023-03-03</td>\n",
              "      <td>1</td>\n",
              "      <td>1</td>\n",
              "      <td>6</td>\n",
              "      <td>1</td>\n",
              "      <td>4</td>\n",
              "      <td>1.00</td>\n",
              "      <td>0</td>\n",
              "      <td>0</td>\n",
              "      <td>0</td>\n",
              "      <td>0</td>\n",
              "      <td>0</td>\n",
              "      <td>0</td>\n",
              "      <td>0</td>\n",
              "    </tr>\n",
              "    <tr>\n",
              "      <th>1</th>\n",
              "      <td>Разное автопринадлежности</td>\n",
              "      <td>Светодиодная подсветка салона</td>\n",
              "      <td>Светодиодная подсветка салона</td>\n",
              "      <td>882353426</td>\n",
              "      <td>34414</td>\n",
              "      <td>2023-03-05</td>\n",
              "      <td>1</td>\n",
              "      <td>0</td>\n",
              "      <td>2</td>\n",
              "      <td>0</td>\n",
              "      <td>2</td>\n",
              "      <td>1.00</td>\n",
              "      <td>0</td>\n",
              "      <td>0</td>\n",
              "      <td>0</td>\n",
              "      <td>0</td>\n",
              "      <td>0</td>\n",
              "      <td>0</td>\n",
              "      <td>0</td>\n",
              "    </tr>\n",
              "    <tr>\n",
              "      <th>2</th>\n",
              "      <td>Разное автопринадлежности</td>\n",
              "      <td>Светодиодная подсветка салона</td>\n",
              "      <td>Светодиодная подсветка салона</td>\n",
              "      <td>882353427</td>\n",
              "      <td>34414</td>\n",
              "      <td>2023-03-05</td>\n",
              "      <td>65</td>\n",
              "      <td>3</td>\n",
              "      <td>69</td>\n",
              "      <td>3</td>\n",
              "      <td>40</td>\n",
              "      <td>110.33</td>\n",
              "      <td>0</td>\n",
              "      <td>0</td>\n",
              "      <td>0</td>\n",
              "      <td>0</td>\n",
              "      <td>0</td>\n",
              "      <td>0</td>\n",
              "      <td>0</td>\n",
              "    </tr>\n",
              "    <tr>\n",
              "      <th>3</th>\n",
              "      <td>Разное автопринадлежности</td>\n",
              "      <td>Светодиодная подсветка салона</td>\n",
              "      <td>Светодиодная подсветка салона</td>\n",
              "      <td>882353427</td>\n",
              "      <td>34414</td>\n",
              "      <td>2023-03-06</td>\n",
              "      <td>85</td>\n",
              "      <td>3</td>\n",
              "      <td>109</td>\n",
              "      <td>3</td>\n",
              "      <td>46</td>\n",
              "      <td>103.43</td>\n",
              "      <td>0</td>\n",
              "      <td>0</td>\n",
              "      <td>0</td>\n",
              "      <td>0</td>\n",
              "      <td>0</td>\n",
              "      <td>0</td>\n",
              "      <td>0</td>\n",
              "    </tr>\n",
              "    <tr>\n",
              "      <th>4</th>\n",
              "      <td>Разное автопринадлежности</td>\n",
              "      <td>Светодиодная подсветка салона</td>\n",
              "      <td>Светодиодная подсветка салона</td>\n",
              "      <td>882353427</td>\n",
              "      <td>34414</td>\n",
              "      <td>2023-03-07</td>\n",
              "      <td>44</td>\n",
              "      <td>2</td>\n",
              "      <td>50</td>\n",
              "      <td>2</td>\n",
              "      <td>37</td>\n",
              "      <td>97.14</td>\n",
              "      <td>0</td>\n",
              "      <td>0</td>\n",
              "      <td>0</td>\n",
              "      <td>0</td>\n",
              "      <td>0</td>\n",
              "      <td>0</td>\n",
              "      <td>0</td>\n",
              "    </tr>\n",
              "  </tbody>\n",
              "</table>\n",
              "</div>\n",
              "      <button class=\"colab-df-convert\" onclick=\"convertToInteractive('df-d54e1838-ae0f-486d-9993-ed0a4dfc2e24')\"\n",
              "              title=\"Convert this dataframe to an interactive table.\"\n",
              "              style=\"display:none;\">\n",
              "\n",
              "  <svg xmlns=\"http://www.w3.org/2000/svg\" height=\"24px\"viewBox=\"0 0 24 24\"\n",
              "       width=\"24px\">\n",
              "    <path d=\"M0 0h24v24H0V0z\" fill=\"none\"/>\n",
              "    <path d=\"M18.56 5.44l.94 2.06.94-2.06 2.06-.94-2.06-.94-.94-2.06-.94 2.06-2.06.94zm-11 1L8.5 8.5l.94-2.06 2.06-.94-2.06-.94L8.5 2.5l-.94 2.06-2.06.94zm10 10l.94 2.06.94-2.06 2.06-.94-2.06-.94-.94-2.06-.94 2.06-2.06.94z\"/><path d=\"M17.41 7.96l-1.37-1.37c-.4-.4-.92-.59-1.43-.59-.52 0-1.04.2-1.43.59L10.3 9.45l-7.72 7.72c-.78.78-.78 2.05 0 2.83L4 21.41c.39.39.9.59 1.41.59.51 0 1.02-.2 1.41-.59l7.78-7.78 2.81-2.81c.8-.78.8-2.07 0-2.86zM5.41 20L4 18.59l7.72-7.72 1.47 1.35L5.41 20z\"/>\n",
              "  </svg>\n",
              "      </button>\n",
              "\n",
              "\n",
              "\n",
              "    <div id=\"df-b8b11e30-3e3a-412b-8195-f4fc668cedd1\">\n",
              "      <button class=\"colab-df-quickchart\" onclick=\"quickchart('df-b8b11e30-3e3a-412b-8195-f4fc668cedd1')\"\n",
              "              title=\"Suggest charts.\"\n",
              "              style=\"display:none;\">\n",
              "\n",
              "<svg xmlns=\"http://www.w3.org/2000/svg\" height=\"24px\"viewBox=\"0 0 24 24\"\n",
              "     width=\"24px\">\n",
              "    <g>\n",
              "        <path d=\"M19 3H5c-1.1 0-2 .9-2 2v14c0 1.1.9 2 2 2h14c1.1 0 2-.9 2-2V5c0-1.1-.9-2-2-2zM9 17H7v-7h2v7zm4 0h-2V7h2v10zm4 0h-2v-4h2v4z\"/>\n",
              "    </g>\n",
              "</svg>\n",
              "      </button>\n",
              "    </div>\n",
              "\n",
              "<style>\n",
              "  .colab-df-quickchart {\n",
              "    background-color: #E8F0FE;\n",
              "    border: none;\n",
              "    border-radius: 50%;\n",
              "    cursor: pointer;\n",
              "    display: none;\n",
              "    fill: #1967D2;\n",
              "    height: 32px;\n",
              "    padding: 0 0 0 0;\n",
              "    width: 32px;\n",
              "  }\n",
              "\n",
              "  .colab-df-quickchart:hover {\n",
              "    background-color: #E2EBFA;\n",
              "    box-shadow: 0px 1px 2px rgba(60, 64, 67, 0.3), 0px 1px 3px 1px rgba(60, 64, 67, 0.15);\n",
              "    fill: #174EA6;\n",
              "  }\n",
              "\n",
              "  [theme=dark] .colab-df-quickchart {\n",
              "    background-color: #3B4455;\n",
              "    fill: #D2E3FC;\n",
              "  }\n",
              "\n",
              "  [theme=dark] .colab-df-quickchart:hover {\n",
              "    background-color: #434B5C;\n",
              "    box-shadow: 0px 1px 3px 1px rgba(0, 0, 0, 0.15);\n",
              "    filter: drop-shadow(0px 1px 2px rgba(0, 0, 0, 0.3));\n",
              "    fill: #FFFFFF;\n",
              "  }\n",
              "</style>\n",
              "\n",
              "    <script>\n",
              "      async function quickchart(key) {\n",
              "        const containerElement = document.querySelector('#' + key);\n",
              "        const charts = await google.colab.kernel.invokeFunction(\n",
              "            'suggestCharts', [key], {});\n",
              "      }\n",
              "    </script>\n",
              "\n",
              "      <script>\n",
              "\n",
              "function displayQuickchartButton(domScope) {\n",
              "  let quickchartButtonEl =\n",
              "    domScope.querySelector('#df-b8b11e30-3e3a-412b-8195-f4fc668cedd1 button.colab-df-quickchart');\n",
              "  quickchartButtonEl.style.display =\n",
              "    google.colab.kernel.accessAllowed ? 'block' : 'none';\n",
              "}\n",
              "\n",
              "        displayQuickchartButton(document);\n",
              "      </script>\n",
              "      <style>\n",
              "    .colab-df-container {\n",
              "      display:flex;\n",
              "      flex-wrap:wrap;\n",
              "      gap: 12px;\n",
              "    }\n",
              "\n",
              "    .colab-df-convert {\n",
              "      background-color: #E8F0FE;\n",
              "      border: none;\n",
              "      border-radius: 50%;\n",
              "      cursor: pointer;\n",
              "      display: none;\n",
              "      fill: #1967D2;\n",
              "      height: 32px;\n",
              "      padding: 0 0 0 0;\n",
              "      width: 32px;\n",
              "    }\n",
              "\n",
              "    .colab-df-convert:hover {\n",
              "      background-color: #E2EBFA;\n",
              "      box-shadow: 0px 1px 2px rgba(60, 64, 67, 0.3), 0px 1px 3px 1px rgba(60, 64, 67, 0.15);\n",
              "      fill: #174EA6;\n",
              "    }\n",
              "\n",
              "    [theme=dark] .colab-df-convert {\n",
              "      background-color: #3B4455;\n",
              "      fill: #D2E3FC;\n",
              "    }\n",
              "\n",
              "    [theme=dark] .colab-df-convert:hover {\n",
              "      background-color: #434B5C;\n",
              "      box-shadow: 0px 1px 3px 1px rgba(0, 0, 0, 0.15);\n",
              "      filter: drop-shadow(0px 1px 2px rgba(0, 0, 0, 0.3));\n",
              "      fill: #FFFFFF;\n",
              "    }\n",
              "  </style>\n",
              "\n",
              "      <script>\n",
              "        const buttonEl =\n",
              "          document.querySelector('#df-d54e1838-ae0f-486d-9993-ed0a4dfc2e24 button.colab-df-convert');\n",
              "        buttonEl.style.display =\n",
              "          google.colab.kernel.accessAllowed ? 'block' : 'none';\n",
              "\n",
              "        async function convertToInteractive(key) {\n",
              "          const element = document.querySelector('#df-d54e1838-ae0f-486d-9993-ed0a4dfc2e24');\n",
              "          const dataTable =\n",
              "            await google.colab.kernel.invokeFunction('convertToInteractive',\n",
              "                                                     [key], {});\n",
              "          if (!dataTable) return;\n",
              "\n",
              "          const docLinkHtml = 'Like what you see? Visit the ' +\n",
              "            '<a target=\"_blank\" href=https://colab.research.google.com/notebooks/data_table.ipynb>data table notebook</a>'\n",
              "            + ' to learn more about interactive tables.';\n",
              "          element.innerHTML = '';\n",
              "          dataTable['output_type'] = 'display_data';\n",
              "          await google.colab.output.renderOutput(dataTable, element);\n",
              "          const docLink = document.createElement('div');\n",
              "          docLink.innerHTML = docLinkHtml;\n",
              "          element.appendChild(docLink);\n",
              "        }\n",
              "      </script>\n",
              "    </div>\n",
              "  </div>\n"
            ]
          },
          "metadata": {},
          "execution_count": 125
        }
      ]
    },
    {
      "cell_type": "code",
      "source": [
        "df.isna().mean().sort_values(ascending=False)"
      ],
      "metadata": {
        "colab": {
          "base_uri": "https://localhost:8080/"
        },
        "id": "ukKYFsUK7dCM",
        "outputId": "98a806c5-fd91-437e-8ff8-f675098317e8"
      },
      "execution_count": null,
      "outputs": [
        {
          "output_type": "execute_result",
          "data": {
            "text/plain": [
              "Модель                                                 0.170117\n",
              "Категория_3го_уровня                                   0.000000\n",
              "Показы_в_поиске_и_каталоге                             0.000000\n",
              "Заказано_на_сумму                                      0.000000\n",
              "Возвращено_товаров                                     0.000000\n",
              "Доставлено_за_выбранный_период                         0.000000\n",
              "Отменено_товаров                                       0.000000\n",
              "Заказано_товаров                                       0.000000\n",
              "В_корзину_всего                                        0.000000\n",
              "Позиция_в_поиске_и_каталоге                            0.000000\n",
              "Показы_на_карточке_товара                              0.000000\n",
              "Товары                                                 0.000000\n",
              "Показы_всего                                           0.000000\n",
              "Уникальные_посетители_с_просмотром_карточки_товара     0.000000\n",
              "Уникальные_посетители_всего                            0.000000\n",
              "День                                                   0.000000\n",
              "Артикул                                                0.000000\n",
              "Ozon_ID                                                0.000000\n",
              "Отправления_с_премиумподпиской_принятые_в_обработку    0.000000\n",
              "dtype: float64"
            ]
          },
          "metadata": {},
          "execution_count": 126
        }
      ]
    },
    {
      "cell_type": "code",
      "source": [
        "# Выгружаем готовый ДФ  в отдельный файл\n",
        "df.to_csv('grafik-done.csv', index=False)"
      ],
      "metadata": {
        "id": "z1QmvGvU8oFj"
      },
      "execution_count": null,
      "outputs": []
    },
    {
      "cell_type": "markdown",
      "source": [
        "### Подготовка Датафрейма \"/content/base_for_analiz/Ozon/Аналитика Акции 01.06.2022-31.05.2023.xlsx\""
      ],
      "metadata": {
        "id": "zfi_Ted-9bn9"
      }
    },
    {
      "cell_type": "code",
      "source": [
        "xls = '/content/base_for_analiz/Ozon/Аналитика Акции 01.06.2022-31.05.2023.xlsx'\n",
        "df = pd.read_excel(xls)   #, encoding='cp1251' если выдаёт ошибку"
      ],
      "metadata": {
        "id": "u9SyaDne9a0t"
      },
      "execution_count": null,
      "outputs": []
    },
    {
      "cell_type": "code",
      "source": [
        "df.isna().mean().sort_values(ascending=False)"
      ],
      "metadata": {
        "colab": {
          "base_uri": "https://localhost:8080/"
        },
        "id": "GJh89nNLANpg",
        "outputId": "a3902d45-9088-424b-bdfe-c0188dd481d5"
      },
      "execution_count": null,
      "outputs": [
        {
          "output_type": "execute_result",
          "data": {
            "text/plain": [
              "Акции                                                    0.851619\n",
              "Модель                                                   0.163113\n",
              "Категория 3-го уровня                                    0.000000\n",
              "Показы в поиске и каталоге                               0.000000\n",
              "Заказано на сумму по акции                               0.000000\n",
              "Заказано товаров по акции                                0.000000\n",
              "Заказано на сумму                                        0.000000\n",
              "Доставлено (за выбранный период)                         0.000000\n",
              "Заказано товаров                                         0.000000\n",
              "В корзину, всего                                         0.000000\n",
              "Позиция в поиске и каталоге                              0.000000\n",
              "Показы на карточке товара                                0.000000\n",
              "Товары                                                   0.000000\n",
              "Показы, всего                                            0.000000\n",
              "Уникальные посетители с просмотром карточки товара       0.000000\n",
              "Уникальные посетители, всего                             0.000000\n",
              "День                                                     0.000000\n",
              "Артикул                                                  0.000000\n",
              "Ozon ID                                                  0.000000\n",
              "Отправления с премиум-подпиской, принятые в обработку    0.000000\n",
              "dtype: float64"
            ]
          },
          "metadata": {},
          "execution_count": 135
        }
      ]
    },
    {
      "cell_type": "code",
      "source": [
        "import re\n",
        "\n",
        "def clean_column_names(df):\n",
        "    cleaned_columns = []\n",
        "\n",
        "    for column in df.columns:\n",
        "        cleaned_column = re.sub(r\"[^\\w\\s]\", \"\", column)  # Оставляем только буквы, цифры и пробелы\n",
        "        cleaned_column = cleaned_column.replace(\" \", \"_\")  # Заменяем пробелы на \"_\"\n",
        "        cleaned_columns.append(cleaned_column)\n",
        "\n",
        "    df.columns = cleaned_columns\n",
        "    return df\n"
      ],
      "metadata": {
        "id": "nXcuQLmkCFad"
      },
      "execution_count": null,
      "outputs": []
    },
    {
      "cell_type": "code",
      "source": [
        "df = clean_column_names(df)\n",
        "df.columns"
      ],
      "metadata": {
        "colab": {
          "base_uri": "https://localhost:8080/"
        },
        "outputId": "0db04bdb-63a0-4b6c-f0b2-8a191e3ab3ae",
        "id": "Zmdr44XCCFas"
      },
      "execution_count": null,
      "outputs": [
        {
          "output_type": "execute_result",
          "data": {
            "text/plain": [
              "Index(['Категория_3го_уровня', 'Товары', 'Модель', 'Ozon_ID', 'Артикул',\n",
              "       'Акции', 'День', 'Уникальные_посетители_всего',\n",
              "       'Уникальные_посетители_с_просмотром_карточки_товара', 'Показы_всего',\n",
              "       'Показы_на_карточке_товара', 'Показы_в_поиске_и_каталоге',\n",
              "       'Позиция_в_поиске_и_каталоге', 'В_корзину_всего', 'Заказано_товаров',\n",
              "       'Доставлено_за_выбранный_период', 'Заказано_на_сумму',\n",
              "       'Заказано_товаров_по_акции', 'Заказано_на_сумму_по_акции',\n",
              "       'Отправления_с_премиумподпиской_принятые_в_обработку'],\n",
              "      dtype='object')"
            ]
          },
          "metadata": {},
          "execution_count": 137
        }
      ]
    },
    {
      "cell_type": "code",
      "source": [
        "# Убираем колонгку 'Отправления_с_премиумподпиской_принятые_в_обработку'\n",
        "df = df[['Категория_3го_уровня', 'Товары', 'Модель', 'Ozon_ID', 'Артикул',\n",
        "       'Акции', 'День', 'Уникальные_посетители_всего',\n",
        "       'Уникальные_посетители_с_просмотром_карточки_товара', 'Показы_всего',\n",
        "       'Показы_на_карточке_товара', 'Показы_в_поиске_и_каталоге',\n",
        "       'Позиция_в_поиске_и_каталоге', 'В_корзину_всего', 'Заказано_товаров',\n",
        "       'Доставлено_за_выбранный_период', 'Заказано_на_сумму',\n",
        "       'Заказано_товаров_по_акции', 'Заказано_на_сумму_по_акции']]"
      ],
      "metadata": {
        "id": "Io5B3q86CFat"
      },
      "execution_count": null,
      "outputs": []
    },
    {
      "cell_type": "code",
      "source": [
        "df['День'] = pd.to_datetime(df['День'], format='%Y.%m.%d')"
      ],
      "metadata": {
        "id": "8u0gfOC2BgAn"
      },
      "execution_count": null,
      "outputs": []
    },
    {
      "cell_type": "code",
      "source": [
        "df.dtypes"
      ],
      "metadata": {
        "colab": {
          "base_uri": "https://localhost:8080/"
        },
        "id": "x0If8PXwBUmA",
        "outputId": "812d96f2-19ad-4a87-cbed-6097c70d1de2"
      },
      "execution_count": null,
      "outputs": [
        {
          "output_type": "execute_result",
          "data": {
            "text/plain": [
              "Категория_3го_уровня                                          object\n",
              "Товары                                                        object\n",
              "Модель                                                        object\n",
              "Ozon_ID                                                        int64\n",
              "Артикул                                                        int64\n",
              "Акции                                                         object\n",
              "День                                                  datetime64[ns]\n",
              "Уникальные_посетители_всего                                    int64\n",
              "Уникальные_посетители_с_просмотром_карточки_товара             int64\n",
              "Показы_всего                                                   int64\n",
              "Показы_на_карточке_товара                                      int64\n",
              "Показы_в_поиске_и_каталоге                                     int64\n",
              "Позиция_в_поиске_и_каталоге                                   object\n",
              "В_корзину_всего                                                int64\n",
              "Заказано_товаров                                               int64\n",
              "Доставлено_за_выбранный_период                                 int64\n",
              "Заказано_на_сумму                                              int64\n",
              "Заказано_товаров_по_акции                                      int64\n",
              "Заказано_на_сумму_по_акции                                     int64\n",
              "dtype: object"
            ]
          },
          "metadata": {},
          "execution_count": 139
        }
      ]
    }
  ],
  "metadata": {
    "colab": {
      "provenance": []
    },
    "kernelspec": {
      "display_name": "Python 3",
      "name": "python3"
    },
    "language_info": {
      "codemirror_mode": {
        "name": "ipython",
        "version": 3
      },
      "file_extension": ".py",
      "mimetype": "text/x-python",
      "name": "python",
      "nbconvert_exporter": "python",
      "pygments_lexer": "ipython3",
      "version": "3.11.0"
    }
  },
  "nbformat": 4,
  "nbformat_minor": 0
}