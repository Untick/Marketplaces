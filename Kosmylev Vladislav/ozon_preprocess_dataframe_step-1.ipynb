{
  "cells": [
    {
      "cell_type": "markdown",
      "metadata": {
        "id": "view-in-github",
        "colab_type": "text"
      },
      "source": [
        "<a href=\"https://colab.research.google.com/gist/VladYourich/5002730d3c313a89fd2853ae5c49b0c5/dataanaliticsforingate.ipynb\" target=\"_parent\"><img src=\"https://colab.research.google.com/assets/colab-badge.svg\" alt=\"Open In Colab\"/></a>"
      ]
    },
    {
      "cell_type": "markdown",
      "metadata": {
        "id": "39zJTivLrXFV"
      },
      "source": [
        "### Подготовка"
      ]
    },
    {
      "cell_type": "markdown",
      "metadata": {
        "id": "h8t4xY95dpKS"
      },
      "source": [
        "**Загрузка библиотек:**\n",
        "\n",
        "https://drive.google.com/file/d/1-_LKbDsiq0dDbks7_JnBJVV7v2iWjSkd/view?usp=sharing"
      ]
    },
    {
      "cell_type": "code",
      "source": [
        "!pip install phik"
      ],
      "metadata": {
        "id": "0oD0SeVX1dCO"
      },
      "execution_count": null,
      "outputs": []
    },
    {
      "cell_type": "code",
      "execution_count": null,
      "metadata": {
        "id": "ye9ErHpKBhhU"
      },
      "outputs": [],
      "source": [
        "import matplotlib.pyplot as plt           # Импорт модуля pyplot\n",
        "import numpy as np                        # Импорт библиотеки numpy\n",
        "import pandas as pd                       # для анализа табличных массивов данных\n",
        "import gdown, os, random                  # Стандартные библиотеки\n",
        "import seaborn as sns\n",
        "import phik\n",
        "from phik.report import plot_correlation_matrix\n",
        "from phik import report"
      ]
    },
    {
      "cell_type": "code",
      "source": [
        "# from google.colab import drive\n",
        "# drive.mount('/content/drive')"
      ],
      "metadata": {
        "id": "oECsaPhMq3yp"
      },
      "execution_count": null,
      "outputs": []
    },
    {
      "cell_type": "code",
      "execution_count": null,
      "metadata": {
        "id": "msAKu4-EaMV5",
        "colab": {
          "base_uri": "https://localhost:8080/"
        },
        "outputId": "1170d211-fdbf-4544-cf63-bc7818e29c0c"
      },
      "outputs": [
        {
          "output_type": "stream",
          "name": "stdout",
          "text": [
            "/usr/local/lib/python3.10/dist-packages/gdown/cli.py:121: FutureWarning: Option `--id` was deprecated in version 4.3.1 and will be removed in 5.0. You don't need to pass it anymore to use a file ID.\n",
            "  warnings.warn(\n",
            "Downloading...\n",
            "From: https://drive.google.com/uc?id=1-_LKbDsiq0dDbks7_JnBJVV7v2iWjSkd\n",
            "To: /content/base_for_analiz.zip\n",
            "100% 88.5M/88.5M [00:01<00:00, 78.4MB/s]\n"
          ]
        }
      ],
      "source": [
        "!gdown --id '1-_LKbDsiq0dDbks7_JnBJVV7v2iWjSkd'\n",
        "!rm -r sample_data"
      ]
    },
    {
      "cell_type": "code",
      "source": [
        "!unzip -o /content/base_for_analiz.zip"
      ],
      "metadata": {
        "id": "EKfaxt-7Xwg7"
      },
      "execution_count": null,
      "outputs": []
    },
    {
      "cell_type": "code",
      "source": [
        "base = '/content/base_for_analiz/Ozon/База.csv'\n",
        "remove_list = [\"(при наличии)\",                 # список кусков текста для удаления из названий столбцов\n",
        "               \"(кроме Твери)\",\n",
        "               \"руб.\",\n",
        "               \"(перечеркнутая цена)\",\n",
        "               \",\",\n",
        "               \"%\",\n",
        "               \"с учетом скидки\",\n",
        "               \"на рыночную цену\"]"
      ],
      "metadata": {
        "id": "zOl6Onz7oKbY"
      },
      "execution_count": null,
      "outputs": []
    },
    {
      "cell_type": "code",
      "source": [
        "# Нормализуем заголовки столбцов\n",
        "def clean_header(header):\n",
        "\n",
        "    cleaned_header = header\n",
        "    cleaned_header = cleaned_header.replace('-', \"_\")\n",
        "    cleaned_header = cleaned_header.replace('\" ', '\"')\n",
        "    cleaned_header = cleaned_header.replace(' \"', '\"')\n",
        "\n",
        "    for item in remove_list:\n",
        "        cleaned_header = cleaned_header.replace(item, \"\")\n",
        "\n",
        "    cleaned_header = cleaned_header.replace('  ', '')\n",
        "    cleaned_header = cleaned_header.replace('_\"', '\"')\n",
        "    cleaned_header = cleaned_header.strip()  # удаление ведущих и концевых пробелов\n",
        "    cleaned_header = cleaned_header.replace(\" \", \"_\")  # замена оставшихся пробелов символом \"_\"\n",
        "    cleaned_header = cleaned_header.replace('_\"', '\"')\n",
        "\n",
        "    list_heads = cleaned_header.replace(';', ',')\n",
        "    list_heads = list_heads.replace('\"', '')\n",
        "    list_heads = list_heads.replace('_\"', '\"')\n",
        "    # print(header, \" --->  \", list_heads)\n",
        "\n",
        "    return cleaned_header\n",
        "\n",
        "def clean_csv(file_path):\n",
        "    with open(file_path, 'r', newline='') as file:\n",
        "        lines = file.readlines()\n",
        "        cleaned_headers = clean_header(lines[0]);  # применяем функцию clean_header к каждому заголовку\n",
        "        lines[0] = cleaned_headers + '\\n'\n",
        "        print(cleaned_headers)\n",
        "\n",
        "    with open(file_path, 'w', newline='') as file:\n",
        "        file.writelines(lines)\n",
        "\n",
        "    return cleaned_headers\n",
        "\n",
        "list_heads = clean_csv(base)\n"
      ],
      "metadata": {
        "colab": {
          "base_uri": "https://localhost:8080/"
        },
        "id": "e-dICTn-DCyZ",
        "outputId": "a8db1df8-d9de-4f1b-e769-ebec0f07e4c4"
      },
      "execution_count": null,
      "outputs": [
        {
          "output_type": "stream",
          "name": "stdout",
          "text": [
            "﻿\"Артикул\";\"Ozon_Product_ID\";\"FBO_OZON_SKU_ID\";\"FBS_OZON_SKU_ID\";\"Barcode\";\"Наименование_товара\";\"Контент_рейтинг\";\"Бренд\";\"Статус_товара\";\"Видимость_FBO\";\"Причины_скрытия_FBO\";\"Видимость_FBS\";\"Причины_скрытия_FBS\";\"Дата_создания\";\"Коммерческая_категория\";\"Объем_товара_л\";\"Объемный_вес_кг\";\"Доступно_на_складе_Ozon_шт\";\"Вывезти_и_нанести_КИЗшт\";\"Зарезервировано_шт\";\"Доступно_на_моих_складах_шт\";\"Зарезервировано_на_моих_складах_шт\";\"Текущая_цена\";\"Цена_до_скидки\";\"Цена_Premium\";\"Рыночная_цена\";\"Актуальная_ссылка\";\"Размер_НДС\"\n"
          ]
        }
      ]
    },
    {
      "cell_type": "code",
      "source": [
        "df = pd.read_csv('/content/base_for_analiz/Ozon/База.csv', sep=';')   #, encoding='cp1251' если выдаёт ошибку"
      ],
      "metadata": {
        "id": "nsYEmytAx3iq"
      },
      "execution_count": null,
      "outputs": []
    },
    {
      "cell_type": "code",
      "source": [
        "df.head(1)"
      ],
      "metadata": {
        "id": "T-QsBJlmx1Ev",
        "colab": {
          "base_uri": "https://localhost:8080/",
          "height": 209
        },
        "outputId": "c1dd7e56-daa7-422d-ddaf-01e778663f77"
      },
      "execution_count": null,
      "outputs": [
        {
          "output_type": "execute_result",
          "data": {
            "text/plain": [
              "  Артикул  Ozon_Product_ID  FBO_OZON_SKU_ID  FBS_OZON_SKU_ID        Barcode  \\\n",
              "0  '30273        105606938        298131117        298131122  2000000036618   \n",
              "\n",
              "                                 Наименование_товара Контент_рейтинг Бренд  \\\n",
              "0  Плата B003809.2 заднего фонаря BMW X3 F25 (дра...             '15   GNX   \n",
              "\n",
              "  Статус_товара Видимость_FBO  ... Вывезти_и_нанести_КИЗшт Зарезервировано_шт  \\\n",
              "0     Продается  Показывается  ...                       0                  0   \n",
              "\n",
              "  Доступно_на_моих_складах_шт Зарезервировано_на_моих_складах_шт Текущая_цена  \\\n",
              "0                          26                                  0       1200.0   \n",
              "\n",
              "  Цена_до_скидки Цена_Premium  Рыночная_цена  Актуальная_ссылка  Размер_НДС  \n",
              "0         1800.0          NaN            NaN                NaN          0%  \n",
              "\n",
              "[1 rows x 28 columns]"
            ],
            "text/html": [
              "\n",
              "\n",
              "  <div id=\"df-6bc4b18a-f69c-4574-9243-06569d16f33d\">\n",
              "    <div class=\"colab-df-container\">\n",
              "      <div>\n",
              "<style scoped>\n",
              "    .dataframe tbody tr th:only-of-type {\n",
              "        vertical-align: middle;\n",
              "    }\n",
              "\n",
              "    .dataframe tbody tr th {\n",
              "        vertical-align: top;\n",
              "    }\n",
              "\n",
              "    .dataframe thead th {\n",
              "        text-align: right;\n",
              "    }\n",
              "</style>\n",
              "<table border=\"1\" class=\"dataframe\">\n",
              "  <thead>\n",
              "    <tr style=\"text-align: right;\">\n",
              "      <th></th>\n",
              "      <th>Артикул</th>\n",
              "      <th>Ozon_Product_ID</th>\n",
              "      <th>FBO_OZON_SKU_ID</th>\n",
              "      <th>FBS_OZON_SKU_ID</th>\n",
              "      <th>Barcode</th>\n",
              "      <th>Наименование_товара</th>\n",
              "      <th>Контент_рейтинг</th>\n",
              "      <th>Бренд</th>\n",
              "      <th>Статус_товара</th>\n",
              "      <th>Видимость_FBO</th>\n",
              "      <th>...</th>\n",
              "      <th>Вывезти_и_нанести_КИЗшт</th>\n",
              "      <th>Зарезервировано_шт</th>\n",
              "      <th>Доступно_на_моих_складах_шт</th>\n",
              "      <th>Зарезервировано_на_моих_складах_шт</th>\n",
              "      <th>Текущая_цена</th>\n",
              "      <th>Цена_до_скидки</th>\n",
              "      <th>Цена_Premium</th>\n",
              "      <th>Рыночная_цена</th>\n",
              "      <th>Актуальная_ссылка</th>\n",
              "      <th>Размер_НДС</th>\n",
              "    </tr>\n",
              "  </thead>\n",
              "  <tbody>\n",
              "    <tr>\n",
              "      <th>0</th>\n",
              "      <td>'30273</td>\n",
              "      <td>105606938</td>\n",
              "      <td>298131117</td>\n",
              "      <td>298131122</td>\n",
              "      <td>2000000036618</td>\n",
              "      <td>Плата B003809.2 заднего фонаря BMW X3 F25 (дра...</td>\n",
              "      <td>'15</td>\n",
              "      <td>GNX</td>\n",
              "      <td>Продается</td>\n",
              "      <td>Показывается</td>\n",
              "      <td>...</td>\n",
              "      <td>0</td>\n",
              "      <td>0</td>\n",
              "      <td>26</td>\n",
              "      <td>0</td>\n",
              "      <td>1200.0</td>\n",
              "      <td>1800.0</td>\n",
              "      <td>NaN</td>\n",
              "      <td>NaN</td>\n",
              "      <td>NaN</td>\n",
              "      <td>0%</td>\n",
              "    </tr>\n",
              "  </tbody>\n",
              "</table>\n",
              "<p>1 rows × 28 columns</p>\n",
              "</div>\n",
              "      <button class=\"colab-df-convert\" onclick=\"convertToInteractive('df-6bc4b18a-f69c-4574-9243-06569d16f33d')\"\n",
              "              title=\"Convert this dataframe to an interactive table.\"\n",
              "              style=\"display:none;\">\n",
              "\n",
              "  <svg xmlns=\"http://www.w3.org/2000/svg\" height=\"24px\"viewBox=\"0 0 24 24\"\n",
              "       width=\"24px\">\n",
              "    <path d=\"M0 0h24v24H0V0z\" fill=\"none\"/>\n",
              "    <path d=\"M18.56 5.44l.94 2.06.94-2.06 2.06-.94-2.06-.94-.94-2.06-.94 2.06-2.06.94zm-11 1L8.5 8.5l.94-2.06 2.06-.94-2.06-.94L8.5 2.5l-.94 2.06-2.06.94zm10 10l.94 2.06.94-2.06 2.06-.94-2.06-.94-.94-2.06-.94 2.06-2.06.94z\"/><path d=\"M17.41 7.96l-1.37-1.37c-.4-.4-.92-.59-1.43-.59-.52 0-1.04.2-1.43.59L10.3 9.45l-7.72 7.72c-.78.78-.78 2.05 0 2.83L4 21.41c.39.39.9.59 1.41.59.51 0 1.02-.2 1.41-.59l7.78-7.78 2.81-2.81c.8-.78.8-2.07 0-2.86zM5.41 20L4 18.59l7.72-7.72 1.47 1.35L5.41 20z\"/>\n",
              "  </svg>\n",
              "      </button>\n",
              "\n",
              "\n",
              "\n",
              "    <div id=\"df-98e6a48f-82ce-467e-983e-bf56df5d31d5\">\n",
              "      <button class=\"colab-df-quickchart\" onclick=\"quickchart('df-98e6a48f-82ce-467e-983e-bf56df5d31d5')\"\n",
              "              title=\"Suggest charts.\"\n",
              "              style=\"display:none;\">\n",
              "\n",
              "<svg xmlns=\"http://www.w3.org/2000/svg\" height=\"24px\"viewBox=\"0 0 24 24\"\n",
              "     width=\"24px\">\n",
              "    <g>\n",
              "        <path d=\"M19 3H5c-1.1 0-2 .9-2 2v14c0 1.1.9 2 2 2h14c1.1 0 2-.9 2-2V5c0-1.1-.9-2-2-2zM9 17H7v-7h2v7zm4 0h-2V7h2v10zm4 0h-2v-4h2v4z\"/>\n",
              "    </g>\n",
              "</svg>\n",
              "      </button>\n",
              "    </div>\n",
              "\n",
              "<style>\n",
              "  .colab-df-quickchart {\n",
              "    background-color: #E8F0FE;\n",
              "    border: none;\n",
              "    border-radius: 50%;\n",
              "    cursor: pointer;\n",
              "    display: none;\n",
              "    fill: #1967D2;\n",
              "    height: 32px;\n",
              "    padding: 0 0 0 0;\n",
              "    width: 32px;\n",
              "  }\n",
              "\n",
              "  .colab-df-quickchart:hover {\n",
              "    background-color: #E2EBFA;\n",
              "    box-shadow: 0px 1px 2px rgba(60, 64, 67, 0.3), 0px 1px 3px 1px rgba(60, 64, 67, 0.15);\n",
              "    fill: #174EA6;\n",
              "  }\n",
              "\n",
              "  [theme=dark] .colab-df-quickchart {\n",
              "    background-color: #3B4455;\n",
              "    fill: #D2E3FC;\n",
              "  }\n",
              "\n",
              "  [theme=dark] .colab-df-quickchart:hover {\n",
              "    background-color: #434B5C;\n",
              "    box-shadow: 0px 1px 3px 1px rgba(0, 0, 0, 0.15);\n",
              "    filter: drop-shadow(0px 1px 2px rgba(0, 0, 0, 0.3));\n",
              "    fill: #FFFFFF;\n",
              "  }\n",
              "</style>\n",
              "\n",
              "    <script>\n",
              "      async function quickchart(key) {\n",
              "        const containerElement = document.querySelector('#' + key);\n",
              "        const charts = await google.colab.kernel.invokeFunction(\n",
              "            'suggestCharts', [key], {});\n",
              "      }\n",
              "    </script>\n",
              "\n",
              "      <script>\n",
              "\n",
              "function displayQuickchartButton(domScope) {\n",
              "  let quickchartButtonEl =\n",
              "    domScope.querySelector('#df-98e6a48f-82ce-467e-983e-bf56df5d31d5 button.colab-df-quickchart');\n",
              "  quickchartButtonEl.style.display =\n",
              "    google.colab.kernel.accessAllowed ? 'block' : 'none';\n",
              "}\n",
              "\n",
              "        displayQuickchartButton(document);\n",
              "      </script>\n",
              "      <style>\n",
              "    .colab-df-container {\n",
              "      display:flex;\n",
              "      flex-wrap:wrap;\n",
              "      gap: 12px;\n",
              "    }\n",
              "\n",
              "    .colab-df-convert {\n",
              "      background-color: #E8F0FE;\n",
              "      border: none;\n",
              "      border-radius: 50%;\n",
              "      cursor: pointer;\n",
              "      display: none;\n",
              "      fill: #1967D2;\n",
              "      height: 32px;\n",
              "      padding: 0 0 0 0;\n",
              "      width: 32px;\n",
              "    }\n",
              "\n",
              "    .colab-df-convert:hover {\n",
              "      background-color: #E2EBFA;\n",
              "      box-shadow: 0px 1px 2px rgba(60, 64, 67, 0.3), 0px 1px 3px 1px rgba(60, 64, 67, 0.15);\n",
              "      fill: #174EA6;\n",
              "    }\n",
              "\n",
              "    [theme=dark] .colab-df-convert {\n",
              "      background-color: #3B4455;\n",
              "      fill: #D2E3FC;\n",
              "    }\n",
              "\n",
              "    [theme=dark] .colab-df-convert:hover {\n",
              "      background-color: #434B5C;\n",
              "      box-shadow: 0px 1px 3px 1px rgba(0, 0, 0, 0.15);\n",
              "      filter: drop-shadow(0px 1px 2px rgba(0, 0, 0, 0.3));\n",
              "      fill: #FFFFFF;\n",
              "    }\n",
              "  </style>\n",
              "\n",
              "      <script>\n",
              "        const buttonEl =\n",
              "          document.querySelector('#df-6bc4b18a-f69c-4574-9243-06569d16f33d button.colab-df-convert');\n",
              "        buttonEl.style.display =\n",
              "          google.colab.kernel.accessAllowed ? 'block' : 'none';\n",
              "\n",
              "        async function convertToInteractive(key) {\n",
              "          const element = document.querySelector('#df-6bc4b18a-f69c-4574-9243-06569d16f33d');\n",
              "          const dataTable =\n",
              "            await google.colab.kernel.invokeFunction('convertToInteractive',\n",
              "                                                     [key], {});\n",
              "          if (!dataTable) return;\n",
              "\n",
              "          const docLinkHtml = 'Like what you see? Visit the ' +\n",
              "            '<a target=\"_blank\" href=https://colab.research.google.com/notebooks/data_table.ipynb>data table notebook</a>'\n",
              "            + ' to learn more about interactive tables.';\n",
              "          element.innerHTML = '';\n",
              "          dataTable['output_type'] = 'display_data';\n",
              "          await google.colab.output.renderOutput(dataTable, element);\n",
              "          const docLink = document.createElement('div');\n",
              "          docLink.innerHTML = docLinkHtml;\n",
              "          element.appendChild(docLink);\n",
              "        }\n",
              "      </script>\n",
              "    </div>\n",
              "  </div>\n"
            ]
          },
          "metadata": {},
          "execution_count": 33
        }
      ]
    },
    {
      "cell_type": "code",
      "source": [
        "len(df)"
      ],
      "metadata": {
        "colab": {
          "base_uri": "https://localhost:8080/"
        },
        "id": "4vYPADB4nJoC",
        "outputId": "77c00bd6-fe82-4d1e-e19e-300fb39db7f3"
      },
      "execution_count": null,
      "outputs": [
        {
          "output_type": "execute_result",
          "data": {
            "text/plain": [
              "1263"
            ]
          },
          "metadata": {},
          "execution_count": 10
        }
      ]
    },
    {
      "cell_type": "code",
      "source": [
        "df.columns"
      ],
      "metadata": {
        "colab": {
          "base_uri": "https://localhost:8080/"
        },
        "id": "GqVOXaEa3sD8",
        "outputId": "ad8f2fd1-f571-4c3a-9a18-00e2202672f2"
      },
      "execution_count": null,
      "outputs": [
        {
          "output_type": "execute_result",
          "data": {
            "text/plain": [
              "Index(['Артикул', 'Ozon_Product_ID', 'FBO_OZON_SKU_ID', 'FBS_OZON_SKU_ID',\n",
              "       'Barcode', 'Наименование_товара', 'Контент_рейтинг', 'Бренд',\n",
              "       'Статус_товара', 'Видимость_FBO', 'Причины_скрытия_FBO',\n",
              "       'Видимость_FBS', 'Причины_скрытия_FBS', 'Дата_создания',\n",
              "       'Коммерческая_категория', 'Объем_товара_л', 'Объемный_вес_кг',\n",
              "       'Доступно_на_складе_Ozon_шт', 'Вывезти_и_нанести_КИЗшт',\n",
              "       'Зарезервировано_шт', 'Доступно_на_моих_складах_шт',\n",
              "       'Зарезервировано_на_моих_складах_шт', 'Текущая_цена', 'Цена_до_скидки',\n",
              "       'Цена_Premium', 'Рыночная_цена', 'Актуальная_ссылка', 'Размер_НДС'],\n",
              "      dtype='object')"
            ]
          },
          "metadata": {},
          "execution_count": 34
        }
      ]
    },
    {
      "cell_type": "markdown",
      "source": [
        "# Анализ данных"
      ],
      "metadata": {
        "id": "1uKIJxFvDabr"
      }
    },
    {
      "cell_type": "markdown",
      "source": [
        "## Подготовка Датафреймов для дальнейшего анализа"
      ],
      "metadata": {
        "id": "-3Yv2r3-DlUv"
      }
    },
    {
      "cell_type": "markdown",
      "source": [
        "### нормализуем таблицу **Base**"
      ],
      "metadata": {
        "id": "4CRqKzaR5gVt"
      }
    },
    {
      "cell_type": "code",
      "source": [
        "df.isna().mean().sort_values(ascending=False)  # Смотрим в каких столбца какой процент пропусков и можно ли их восполнить или удалить столбец, если он не информативен для обучения модели"
      ],
      "metadata": {
        "id": "tuFHjaPE8Pbp",
        "colab": {
          "base_uri": "https://localhost:8080/"
        },
        "outputId": "2bf96a69-80f6-4676-b951-6ac9252d0c4c"
      },
      "execution_count": null,
      "outputs": [
        {
          "output_type": "execute_result",
          "data": {
            "text/plain": [
              "Цена_Premium                          1.000000\n",
              "Актуальная_ссылка                     0.988915\n",
              "Рыночная_цена                         0.988915\n",
              "Причины_скрытия_FBS                   0.984165\n",
              "Причины_скрытия_FBO                   0.978622\n",
              "Цена_до_скидки                        0.125891\n",
              "Barcode                               0.045922\n",
              "Текущая_цена                          0.004751\n",
              "Бренд                                 0.003959\n",
              "Артикул                               0.000000\n",
              "Объемный_вес_кг                       0.000000\n",
              "Зарезервировано_на_моих_складах_шт    0.000000\n",
              "Доступно_на_моих_складах_шт           0.000000\n",
              "Зарезервировано_шт                    0.000000\n",
              "Вывезти_и_нанести_КИЗшт               0.000000\n",
              "Доступно_на_складе_Ozon_шт            0.000000\n",
              "Коммерческая_категория                0.000000\n",
              "Объем_товара_л                        0.000000\n",
              "Ozon_Product_ID                       0.000000\n",
              "Дата_создания                         0.000000\n",
              "Видимость_FBS                         0.000000\n",
              "Видимость_FBO                         0.000000\n",
              "Статус_товара                         0.000000\n",
              "Контент_рейтинг                       0.000000\n",
              "Наименование_товара                   0.000000\n",
              "FBS_OZON_SKU_ID                       0.000000\n",
              "FBO_OZON_SKU_ID                       0.000000\n",
              "Размер_НДС                            0.000000\n",
              "dtype: float64"
            ]
          },
          "metadata": {},
          "execution_count": 35
        }
      ]
    },
    {
      "cell_type": "code",
      "source": [
        "# Физически удаляем из файла (плохой вариант)\n",
        "# df.drop(df[df['Видимость_FBO'] == 'Скрыт'].index, inplace=True)\n",
        "# df.drop(df[df['Видимость_FBS'] == 'Скрыт'].index, inplace=True)\n",
        "# df1 = df.drop(df[df['Видимость_FBS'] == 'Скрыт'].index)\n",
        "# df1 = df1.drop(df1[df1['Видимость_FBO'] == 'Скрыт'].index).copy()\n",
        "df1 = df[df['Видимость_FBO'] != 'Скрыт'].copy()"
      ],
      "metadata": {
        "id": "bvC5JXhZ8PYj"
      },
      "execution_count": null,
      "outputs": []
    },
    {
      "cell_type": "code",
      "source": [
        "df = df1.copy()\n",
        "df.info()"
      ],
      "metadata": {
        "id": "YpLdhhVuoI2M",
        "colab": {
          "base_uri": "https://localhost:8080/"
        },
        "outputId": "6e0a161f-8cde-4c65-9afb-4608199fb700"
      },
      "execution_count": null,
      "outputs": [
        {
          "output_type": "stream",
          "name": "stdout",
          "text": [
            "<class 'pandas.core.frame.DataFrame'>\n",
            "Int64Index: 1221 entries, 0 to 1262\n",
            "Data columns (total 28 columns):\n",
            " #   Column                              Non-Null Count  Dtype  \n",
            "---  ------                              --------------  -----  \n",
            " 0   Артикул                             1221 non-null   object \n",
            " 1   Ozon_Product_ID                     1221 non-null   int64  \n",
            " 2   FBO_OZON_SKU_ID                     1221 non-null   int64  \n",
            " 3   FBS_OZON_SKU_ID                     1221 non-null   int64  \n",
            " 4   Barcode                             1178 non-null   object \n",
            " 5   Наименование_товара                 1221 non-null   object \n",
            " 6   Контент_рейтинг                     1221 non-null   object \n",
            " 7   Бренд                               1221 non-null   object \n",
            " 8   Статус_товара                       1221 non-null   object \n",
            " 9   Видимость_FBO                       1221 non-null   object \n",
            " 10  Причины_скрытия_FBO                 0 non-null      object \n",
            " 11  Видимость_FBS                       1221 non-null   object \n",
            " 12  Причины_скрытия_FBS                 0 non-null      object \n",
            " 13  Дата_создания                       1221 non-null   object \n",
            " 14  Коммерческая_категория              1221 non-null   object \n",
            " 15  Объем_товара_л                      1221 non-null   object \n",
            " 16  Объемный_вес_кг                     1221 non-null   object \n",
            " 17  Доступно_на_складе_Ozon_шт          1221 non-null   int64  \n",
            " 18  Вывезти_и_нанести_КИЗшт             1221 non-null   int64  \n",
            " 19  Зарезервировано_шт                  1221 non-null   int64  \n",
            " 20  Доступно_на_моих_складах_шт         1221 non-null   int64  \n",
            " 21  Зарезервировано_на_моих_складах_шт  1221 non-null   int64  \n",
            " 22  Текущая_цена                        1221 non-null   float64\n",
            " 23  Цена_до_скидки                      1078 non-null   float64\n",
            " 24  Цена_Premium                        0 non-null      float64\n",
            " 25  Рыночная_цена                       13 non-null     float64\n",
            " 26  Актуальная_ссылка                   13 non-null     object \n",
            " 27  Размер_НДС                          1221 non-null   object \n",
            "dtypes: float64(4), int64(8), object(16)\n",
            "memory usage: 276.6+ KB\n"
          ]
        }
      ]
    },
    {
      "cell_type": "code",
      "source": [
        "#df['Доступно_на_складах'] = df['Доступно_на_складе_Ozon_шт']+df['Доступно_на_моих_складах_шт']"
      ],
      "metadata": {
        "id": "W3TsKXX9SGsl"
      },
      "execution_count": null,
      "outputs": []
    },
    {
      "cell_type": "code",
      "source": [
        "#df.sort_values('Доступно_на_складах', ascending=False)"
      ],
      "metadata": {
        "id": "Ulxjz-qWWM0v"
      },
      "execution_count": null,
      "outputs": []
    },
    {
      "cell_type": "code",
      "source": [
        "#df['Доступно_на_складах'].sum()"
      ],
      "metadata": {
        "id": "yXl1ASV9NWI-"
      },
      "execution_count": null,
      "outputs": []
    },
    {
      "cell_type": "code",
      "source": [
        "df.isna().mean().sort_values(ascending=False)"
      ],
      "metadata": {
        "id": "9he_VL72OpQf"
      },
      "execution_count": null,
      "outputs": []
    },
    {
      "cell_type": "markdown",
      "source": [
        "**Удаляем колонки:**\n",
        "\n",
        "Barcode - 0.045922 - неинформативен\n",
        "\n",
        "Видимость_FBO -- неинформативен\n",
        "\n",
        "Причины_скрытия_FBO - 0.978622 - неинформативен\n",
        "\n",
        "Видимость_FBS -- неинформативен\n",
        "\n",
        "Причины_скрытия_FBS -- неинформативен\n",
        "\n",
        "Дата_создания -- неинформативен\n",
        "\n",
        "Объем_товара_л -- неинформативен\n",
        "\n",
        "Объемный_вес_кг -- неинформативен\n",
        "\n",
        "Вывезти_и_нанести_КИЗшт -- неинформативен\n",
        "\n",
        "Цена_Premium - 1.000000- пустой\n",
        "\n",
        "Рыночная_цена -- 0.988915 - Пустой\n",
        "\n",
        "Актуальная_ссылка -- 0.988915 -- неинформативен\n",
        "\n",
        "Размер_НДС_% -- неинформативен"
      ],
      "metadata": {
        "id": "rRytBY6VJgVf"
      }
    },
    {
      "cell_type": "code",
      "source": [
        "df = df[['Ozon_Product_ID','Наименование_товара', 'Контент_рейтинг',\n",
        "       'Коммерческая_категория','Текущая_цена', 'Цена_до_скидки']]\n",
        "df.set_axis(['Ozon_ID','Товары', 'Контент_рейтинг','Коммерческая_категория','Текущая_цена', 'Цена_до_скидки'], axis=1, inplace=True)\n",
        "df.head(1)\n"
      ],
      "metadata": {
        "id": "N5wFG9YH8Pix",
        "colab": {
          "base_uri": "https://localhost:8080/",
          "height": 214
        },
        "outputId": "e4b85029-ce07-4716-c124-4e700cc19b5f"
      },
      "execution_count": null,
      "outputs": [
        {
          "output_type": "stream",
          "name": "stderr",
          "text": [
            "<ipython-input-39-5bee12cf36b8>:3: FutureWarning: DataFrame.set_axis 'inplace' keyword is deprecated and will be removed in a future version. Use `obj = obj.set_axis(..., copy=False)` instead\n",
            "  df.set_axis(['Ozon_ID','Товары', 'Контент_рейтинг','Коммерческая_категория','Текущая_цена', 'Цена_до_скидки'], axis=1, inplace=True)\n"
          ]
        },
        {
          "output_type": "execute_result",
          "data": {
            "text/plain": [
              "     Ozon_ID                                             Товары  \\\n",
              "0  105606938  Плата B003809.2 заднего фонаря BMW X3 F25 (дра...   \n",
              "\n",
              "  Контент_рейтинг  Коммерческая_категория  Текущая_цена  Цена_до_скидки  \n",
              "0             '15  Фонарь задний для авто        1200.0          1800.0  "
            ],
            "text/html": [
              "\n",
              "\n",
              "  <div id=\"df-4e471245-93f4-46c7-9c6f-bf8db6bab966\">\n",
              "    <div class=\"colab-df-container\">\n",
              "      <div>\n",
              "<style scoped>\n",
              "    .dataframe tbody tr th:only-of-type {\n",
              "        vertical-align: middle;\n",
              "    }\n",
              "\n",
              "    .dataframe tbody tr th {\n",
              "        vertical-align: top;\n",
              "    }\n",
              "\n",
              "    .dataframe thead th {\n",
              "        text-align: right;\n",
              "    }\n",
              "</style>\n",
              "<table border=\"1\" class=\"dataframe\">\n",
              "  <thead>\n",
              "    <tr style=\"text-align: right;\">\n",
              "      <th></th>\n",
              "      <th>Ozon_ID</th>\n",
              "      <th>Товары</th>\n",
              "      <th>Контент_рейтинг</th>\n",
              "      <th>Коммерческая_категория</th>\n",
              "      <th>Текущая_цена</th>\n",
              "      <th>Цена_до_скидки</th>\n",
              "    </tr>\n",
              "  </thead>\n",
              "  <tbody>\n",
              "    <tr>\n",
              "      <th>0</th>\n",
              "      <td>105606938</td>\n",
              "      <td>Плата B003809.2 заднего фонаря BMW X3 F25 (дра...</td>\n",
              "      <td>'15</td>\n",
              "      <td>Фонарь задний для авто</td>\n",
              "      <td>1200.0</td>\n",
              "      <td>1800.0</td>\n",
              "    </tr>\n",
              "  </tbody>\n",
              "</table>\n",
              "</div>\n",
              "      <button class=\"colab-df-convert\" onclick=\"convertToInteractive('df-4e471245-93f4-46c7-9c6f-bf8db6bab966')\"\n",
              "              title=\"Convert this dataframe to an interactive table.\"\n",
              "              style=\"display:none;\">\n",
              "\n",
              "  <svg xmlns=\"http://www.w3.org/2000/svg\" height=\"24px\"viewBox=\"0 0 24 24\"\n",
              "       width=\"24px\">\n",
              "    <path d=\"M0 0h24v24H0V0z\" fill=\"none\"/>\n",
              "    <path d=\"M18.56 5.44l.94 2.06.94-2.06 2.06-.94-2.06-.94-.94-2.06-.94 2.06-2.06.94zm-11 1L8.5 8.5l.94-2.06 2.06-.94-2.06-.94L8.5 2.5l-.94 2.06-2.06.94zm10 10l.94 2.06.94-2.06 2.06-.94-2.06-.94-.94-2.06-.94 2.06-2.06.94z\"/><path d=\"M17.41 7.96l-1.37-1.37c-.4-.4-.92-.59-1.43-.59-.52 0-1.04.2-1.43.59L10.3 9.45l-7.72 7.72c-.78.78-.78 2.05 0 2.83L4 21.41c.39.39.9.59 1.41.59.51 0 1.02-.2 1.41-.59l7.78-7.78 2.81-2.81c.8-.78.8-2.07 0-2.86zM5.41 20L4 18.59l7.72-7.72 1.47 1.35L5.41 20z\"/>\n",
              "  </svg>\n",
              "      </button>\n",
              "\n",
              "\n",
              "\n",
              "    <div id=\"df-afcbe071-04da-401c-8e35-daac76c9b03c\">\n",
              "      <button class=\"colab-df-quickchart\" onclick=\"quickchart('df-afcbe071-04da-401c-8e35-daac76c9b03c')\"\n",
              "              title=\"Suggest charts.\"\n",
              "              style=\"display:none;\">\n",
              "\n",
              "<svg xmlns=\"http://www.w3.org/2000/svg\" height=\"24px\"viewBox=\"0 0 24 24\"\n",
              "     width=\"24px\">\n",
              "    <g>\n",
              "        <path d=\"M19 3H5c-1.1 0-2 .9-2 2v14c0 1.1.9 2 2 2h14c1.1 0 2-.9 2-2V5c0-1.1-.9-2-2-2zM9 17H7v-7h2v7zm4 0h-2V7h2v10zm4 0h-2v-4h2v4z\"/>\n",
              "    </g>\n",
              "</svg>\n",
              "      </button>\n",
              "    </div>\n",
              "\n",
              "<style>\n",
              "  .colab-df-quickchart {\n",
              "    background-color: #E8F0FE;\n",
              "    border: none;\n",
              "    border-radius: 50%;\n",
              "    cursor: pointer;\n",
              "    display: none;\n",
              "    fill: #1967D2;\n",
              "    height: 32px;\n",
              "    padding: 0 0 0 0;\n",
              "    width: 32px;\n",
              "  }\n",
              "\n",
              "  .colab-df-quickchart:hover {\n",
              "    background-color: #E2EBFA;\n",
              "    box-shadow: 0px 1px 2px rgba(60, 64, 67, 0.3), 0px 1px 3px 1px rgba(60, 64, 67, 0.15);\n",
              "    fill: #174EA6;\n",
              "  }\n",
              "\n",
              "  [theme=dark] .colab-df-quickchart {\n",
              "    background-color: #3B4455;\n",
              "    fill: #D2E3FC;\n",
              "  }\n",
              "\n",
              "  [theme=dark] .colab-df-quickchart:hover {\n",
              "    background-color: #434B5C;\n",
              "    box-shadow: 0px 1px 3px 1px rgba(0, 0, 0, 0.15);\n",
              "    filter: drop-shadow(0px 1px 2px rgba(0, 0, 0, 0.3));\n",
              "    fill: #FFFFFF;\n",
              "  }\n",
              "</style>\n",
              "\n",
              "    <script>\n",
              "      async function quickchart(key) {\n",
              "        const containerElement = document.querySelector('#' + key);\n",
              "        const charts = await google.colab.kernel.invokeFunction(\n",
              "            'suggestCharts', [key], {});\n",
              "      }\n",
              "    </script>\n",
              "\n",
              "      <script>\n",
              "\n",
              "function displayQuickchartButton(domScope) {\n",
              "  let quickchartButtonEl =\n",
              "    domScope.querySelector('#df-afcbe071-04da-401c-8e35-daac76c9b03c button.colab-df-quickchart');\n",
              "  quickchartButtonEl.style.display =\n",
              "    google.colab.kernel.accessAllowed ? 'block' : 'none';\n",
              "}\n",
              "\n",
              "        displayQuickchartButton(document);\n",
              "      </script>\n",
              "      <style>\n",
              "    .colab-df-container {\n",
              "      display:flex;\n",
              "      flex-wrap:wrap;\n",
              "      gap: 12px;\n",
              "    }\n",
              "\n",
              "    .colab-df-convert {\n",
              "      background-color: #E8F0FE;\n",
              "      border: none;\n",
              "      border-radius: 50%;\n",
              "      cursor: pointer;\n",
              "      display: none;\n",
              "      fill: #1967D2;\n",
              "      height: 32px;\n",
              "      padding: 0 0 0 0;\n",
              "      width: 32px;\n",
              "    }\n",
              "\n",
              "    .colab-df-convert:hover {\n",
              "      background-color: #E2EBFA;\n",
              "      box-shadow: 0px 1px 2px rgba(60, 64, 67, 0.3), 0px 1px 3px 1px rgba(60, 64, 67, 0.15);\n",
              "      fill: #174EA6;\n",
              "    }\n",
              "\n",
              "    [theme=dark] .colab-df-convert {\n",
              "      background-color: #3B4455;\n",
              "      fill: #D2E3FC;\n",
              "    }\n",
              "\n",
              "    [theme=dark] .colab-df-convert:hover {\n",
              "      background-color: #434B5C;\n",
              "      box-shadow: 0px 1px 3px 1px rgba(0, 0, 0, 0.15);\n",
              "      filter: drop-shadow(0px 1px 2px rgba(0, 0, 0, 0.3));\n",
              "      fill: #FFFFFF;\n",
              "    }\n",
              "  </style>\n",
              "\n",
              "      <script>\n",
              "        const buttonEl =\n",
              "          document.querySelector('#df-4e471245-93f4-46c7-9c6f-bf8db6bab966 button.colab-df-convert');\n",
              "        buttonEl.style.display =\n",
              "          google.colab.kernel.accessAllowed ? 'block' : 'none';\n",
              "\n",
              "        async function convertToInteractive(key) {\n",
              "          const element = document.querySelector('#df-4e471245-93f4-46c7-9c6f-bf8db6bab966');\n",
              "          const dataTable =\n",
              "            await google.colab.kernel.invokeFunction('convertToInteractive',\n",
              "                                                     [key], {});\n",
              "          if (!dataTable) return;\n",
              "\n",
              "          const docLinkHtml = 'Like what you see? Visit the ' +\n",
              "            '<a target=\"_blank\" href=https://colab.research.google.com/notebooks/data_table.ipynb>data table notebook</a>'\n",
              "            + ' to learn more about interactive tables.';\n",
              "          element.innerHTML = '';\n",
              "          dataTable['output_type'] = 'display_data';\n",
              "          await google.colab.output.renderOutput(dataTable, element);\n",
              "          const docLink = document.createElement('div');\n",
              "          docLink.innerHTML = docLinkHtml;\n",
              "          element.appendChild(docLink);\n",
              "        }\n",
              "      </script>\n",
              "    </div>\n",
              "  </div>\n"
            ]
          },
          "metadata": {},
          "execution_count": 39
        }
      ]
    },
    {
      "cell_type": "code",
      "source": [
        "df.isna().mean().sort_values(ascending=False)"
      ],
      "metadata": {
        "id": "adQG8I0BQkR8",
        "colab": {
          "base_uri": "https://localhost:8080/"
        },
        "outputId": "7edc0805-3691-43b9-b6f3-5c84c5b4b199"
      },
      "execution_count": null,
      "outputs": [
        {
          "output_type": "execute_result",
          "data": {
            "text/plain": [
              "Цена_до_скидки            0.117117\n",
              "Ozon_ID                   0.000000\n",
              "Товары                    0.000000\n",
              "Контент_рейтинг           0.000000\n",
              "Коммерческая_категория    0.000000\n",
              "Текущая_цена              0.000000\n",
              "dtype: float64"
            ]
          },
          "metadata": {},
          "execution_count": 40
        }
      ]
    },
    {
      "cell_type": "code",
      "source": [
        "# Заполнение пустых значений в колонке 'Цена_до_скидки' значениями из колонки 'Текущая_цена'\n",
        "df['Цена_до_скидки'].fillna(df['Текущая_цена'], inplace=True)\n",
        "#df1 = df['Цена_до_скидки'].fillna(df['Текущая_цена']).copy()\n",
        "#df['Цена_до_скидки'] = np.where(pd.notna(df['Цена_до_скидки']), df['Текущая_цена'], df['Цена_до_скидки'])"
      ],
      "metadata": {
        "id": "Mfj55r3Z8YtG"
      },
      "execution_count": null,
      "outputs": []
    },
    {
      "cell_type": "code",
      "source": [
        "df['Ozon_ID'] = df['Ozon_ID'].astype(str)"
      ],
      "metadata": {
        "id": "SU7q1-xDSQJo"
      },
      "execution_count": null,
      "outputs": []
    },
    {
      "cell_type": "code",
      "source": [
        "# Преобразуем столбцы в тип данных 'float64'\n",
        "# columns_to_convert = ['Контент_рейтинг', 'Столбец2', 'Столбец3']\n",
        "# df[columns_to_convert] = df[columns_to_convert].astype(float)\n",
        "df['Контент_рейтинг'] = df['Контент_рейтинг'].replace('Рассчитываем',\"'0.0\", regex=True)\n",
        "df['Контент_рейтинг'] = df['Контент_рейтинг'].replace(\"'\",\"\", regex=True).astype(float)"
      ],
      "metadata": {
        "id": "XYeuqANMvYvJ"
      },
      "execution_count": null,
      "outputs": []
    },
    {
      "cell_type": "code",
      "source": [
        "df.describe()\n"
      ],
      "metadata": {
        "id": "bShMrFwkoV7m"
      },
      "execution_count": null,
      "outputs": []
    },
    {
      "cell_type": "code",
      "source": [
        "df.info()"
      ],
      "metadata": {
        "id": "lEamM4hNuRGO"
      },
      "execution_count": null,
      "outputs": []
    },
    {
      "cell_type": "code",
      "source": [
        "cols = ['Ozon_ID']\n",
        "for col in cols:\n",
        "  nonuniq = df[df.duplicated(subset=col)][col]\n",
        "  print(f'Не уникальных значений В колонке {col} - {nonuniq.count()}')"
      ],
      "metadata": {
        "id": "Jd0UGqQ4uRB4",
        "colab": {
          "base_uri": "https://localhost:8080/"
        },
        "outputId": "c2a5b846-0aba-4ce4-815f-070d2e45e48c"
      },
      "execution_count": null,
      "outputs": [
        {
          "output_type": "stream",
          "name": "stdout",
          "text": [
            "Не уникальных значений В колонке Ozon_ID - 0\n"
          ]
        }
      ]
    },
    {
      "cell_type": "code",
      "source": [
        "df['Товары'] = df['Товары'].replace(\"&quot;\",\"\", regex=True)\n",
        "df['Товары'] = df['Товары'].replace(\"&apos;\",\"\", regex=True)"
      ],
      "metadata": {
        "id": "PlTa6mpnJUuu"
      },
      "execution_count": null,
      "outputs": []
    },
    {
      "cell_type": "code",
      "source": [
        "# Выгружаем готовый ДФ  в отдельный файл\n",
        "df.to_csv('base-done.csv', sep=';', index=False)\n",
        "df_base = df.copy()"
      ],
      "metadata": {
        "id": "oSuA0AGi8PVW"
      },
      "execution_count": null,
      "outputs": []
    },
    {
      "cell_type": "code",
      "source": [
        "!ls"
      ],
      "metadata": {
        "id": "igFn7pIBLq8r"
      },
      "execution_count": null,
      "outputs": []
    },
    {
      "cell_type": "markdown",
      "source": [
        "### нормализуем таблицу **/content/base_for_analiz/Ozon/Аналитика Графики 01.06.2022-31.05.2023.xlsx**"
      ],
      "metadata": {
        "id": "_z8JbiN75whQ"
      }
    },
    {
      "cell_type": "code",
      "source": [
        "xls = '/content/base_for_analiz/Ozon/Аналитика Графики 01.06.2022-31.05.2023.xlsx'"
      ],
      "metadata": {
        "id": "SeMlYXh4LuRJ"
      },
      "execution_count": null,
      "outputs": []
    },
    {
      "cell_type": "code",
      "source": [
        "df = pd.read_excel(xls)   #, encoding='cp1251' если выдаёт ошибку"
      ],
      "metadata": {
        "id": "pInsxpr3LuRj"
      },
      "execution_count": null,
      "outputs": []
    },
    {
      "cell_type": "code",
      "source": [
        "import re\n",
        "\n",
        "def clean_column_names(df):\n",
        "    cleaned_columns = []\n",
        "\n",
        "    for column in df.columns:\n",
        "        cleaned_column = re.sub(r\"[^\\w\\s]\", \"\", column)  # Оставляем только буквы, цифры и пробелы\n",
        "        cleaned_column = cleaned_column.replace(\" \", \"_\")  # Заменяем пробелы на \"_\"\n",
        "        cleaned_columns.append(cleaned_column)\n",
        "\n",
        "    df.columns = cleaned_columns\n",
        "    return df\n"
      ],
      "metadata": {
        "id": "Z-Nfz8nucO7C"
      },
      "execution_count": null,
      "outputs": []
    },
    {
      "cell_type": "code",
      "source": [
        "df = clean_column_names(df)\n",
        "df.columns"
      ],
      "metadata": {
        "colab": {
          "base_uri": "https://localhost:8080/"
        },
        "outputId": "941e9732-23ec-4695-8e52-1322d25951e2",
        "id": "g4LSILZfCASn"
      },
      "execution_count": null,
      "outputs": [
        {
          "output_type": "execute_result",
          "data": {
            "text/plain": [
              "Index(['Категория_3го_уровня', 'Товары', 'Модель', 'Ozon_ID', 'Артикул',\n",
              "       'День', 'Уникальные_посетители_всего',\n",
              "       'Уникальные_посетители_с_просмотром_карточки_товара', 'Показы_всего',\n",
              "       'Показы_на_карточке_товара', 'Показы_в_поиске_и_каталоге',\n",
              "       'Позиция_в_поиске_и_каталоге', 'В_корзину_всего', 'Заказано_товаров',\n",
              "       'Отменено_товаров', 'Доставлено_за_выбранный_период',\n",
              "       'Возвращено_товаров', 'Заказано_на_сумму',\n",
              "       'Отправления_с_премиумподпиской_принятые_в_обработку'],\n",
              "      dtype='object')"
            ]
          },
          "metadata": {},
          "execution_count": 55
        }
      ]
    },
    {
      "cell_type": "code",
      "source": [
        "# Убираем колонки\n",
        "df = df[['Категория_3го_уровня', 'Ozon_ID', 'День','Показы_всего',\n",
        "       'Показы_на_карточке_товара', 'Показы_в_поиске_и_каталоге',\n",
        "       'Позиция_в_поиске_и_каталоге', 'Заказано_товаров']]"
      ],
      "metadata": {
        "id": "k5Fv8wwICASo"
      },
      "execution_count": null,
      "outputs": []
    },
    {
      "cell_type": "code",
      "source": [
        "df['День'] = pd.to_datetime(df['День'])\n",
        "\n",
        "# Преобразуем столбец 'date' в нужный формат 'dd.mm.yyyy'\n",
        "# df['День'] = df['День'].dt.strftime('%d.%m.%Y')\n",
        "\n",
        "# df['День'] = pd.to_datetime(df['День'], format='%d.%m.%Y')\n",
        "df['Позиция_в_поиске_и_каталоге'] = df['Позиция_в_поиске_и_каталоге'].replace(',','.', regex=True)\n",
        "df['Позиция_в_поиске_и_каталоге'] = df['Позиция_в_поиске_и_каталоге'].astype(float)\n",
        "df['Ozon_ID'] = df['Ozon_ID'].astype(str)"
      ],
      "metadata": {
        "id": "vM1sVPCCLuRl",
        "colab": {
          "base_uri": "https://localhost:8080/"
        },
        "outputId": "96745286-b7d0-46b1-a3ff-d607bf5bfbcd"
      },
      "execution_count": null,
      "outputs": [
        {
          "output_type": "stream",
          "name": "stderr",
          "text": [
            "<ipython-input-57-b0b8ef48b187>:1: SettingWithCopyWarning: \n",
            "A value is trying to be set on a copy of a slice from a DataFrame.\n",
            "Try using .loc[row_indexer,col_indexer] = value instead\n",
            "\n",
            "See the caveats in the documentation: https://pandas.pydata.org/pandas-docs/stable/user_guide/indexing.html#returning-a-view-versus-a-copy\n",
            "  df['День'] = pd.to_datetime(df['День'])\n"
          ]
        }
      ]
    },
    {
      "cell_type": "code",
      "source": [
        "df.dtypes\n"
      ],
      "metadata": {
        "colab": {
          "base_uri": "https://localhost:8080/"
        },
        "id": "cFjdZUIeoKUS",
        "outputId": "044b3b8b-51e8-4039-f304-efacdffeb745"
      },
      "execution_count": null,
      "outputs": [
        {
          "output_type": "execute_result",
          "data": {
            "text/plain": [
              "Категория_3го_уровня                   object\n",
              "Ozon_ID                                object\n",
              "День                           datetime64[ns]\n",
              "Показы_всего                            int64\n",
              "Показы_на_карточке_товара               int64\n",
              "Показы_в_поиске_и_каталоге              int64\n",
              "Позиция_в_поиске_и_каталоге           float64\n",
              "Заказано_товаров                        int64\n",
              "dtype: object"
            ]
          },
          "metadata": {},
          "execution_count": 58
        }
      ]
    },
    {
      "cell_type": "code",
      "source": [
        "df.head()"
      ],
      "metadata": {
        "id": "LVov_Bngjkhs"
      },
      "execution_count": null,
      "outputs": []
    },
    {
      "cell_type": "code",
      "source": [
        "df.isna().mean().sort_values(ascending=False)"
      ],
      "metadata": {
        "colab": {
          "base_uri": "https://localhost:8080/"
        },
        "id": "ukKYFsUK7dCM",
        "outputId": "de8ac1e1-839a-4e45-ad4b-0d54ece9ae12"
      },
      "execution_count": null,
      "outputs": [
        {
          "output_type": "execute_result",
          "data": {
            "text/plain": [
              "Категория_3го_уровня           0.0\n",
              "Ozon_ID                        0.0\n",
              "День                           0.0\n",
              "Показы_всего                   0.0\n",
              "Показы_на_карточке_товара      0.0\n",
              "Показы_в_поиске_и_каталоге     0.0\n",
              "Позиция_в_поиске_и_каталоге    0.0\n",
              "Заказано_товаров               0.0\n",
              "dtype: float64"
            ]
          },
          "metadata": {},
          "execution_count": 59
        }
      ]
    },
    {
      "cell_type": "code",
      "source": [
        "# Выгружаем готовый ДФ  в отдельный файл\n",
        "df.to_csv('grafik-done.csv', sep=';', index=False)\n",
        "df_graf = df.copy()"
      ],
      "metadata": {
        "id": "z1QmvGvU8oFj"
      },
      "execution_count": null,
      "outputs": []
    },
    {
      "cell_type": "markdown",
      "source": [
        "### Подготовка Датафрейма \"/content/base_for_analiz/Ozon/Аналитика Акции 01.06.2022-31.05.2023.xlsx\""
      ],
      "metadata": {
        "id": "zfi_Ted-9bn9"
      }
    },
    {
      "cell_type": "code",
      "source": [
        "xls = '/content/base_for_analiz/Ozon/Аналитика Акции 01.06.2022-31.05.2023.xlsx'\n",
        "df = pd.read_excel(xls)   #, encoding='cp1251' если выдаёт ошибку"
      ],
      "metadata": {
        "id": "u9SyaDne9a0t"
      },
      "execution_count": null,
      "outputs": []
    },
    {
      "cell_type": "code",
      "source": [
        "import re\n",
        "\n",
        "def clean_column_names(df):\n",
        "    cleaned_columns = []\n",
        "\n",
        "    for column in df.columns:\n",
        "        cleaned_column = re.sub(r\"[^\\w\\s]\", \"\", column)  # Оставляем только буквы, цифры и пробелы\n",
        "        cleaned_column = cleaned_column.replace(\" \", \"_\")  # Заменяем пробелы на \"_\"\n",
        "        cleaned_columns.append(cleaned_column)\n",
        "\n",
        "    df.columns = cleaned_columns\n",
        "    return df\n"
      ],
      "metadata": {
        "id": "nXcuQLmkCFad"
      },
      "execution_count": null,
      "outputs": []
    },
    {
      "cell_type": "code",
      "source": [
        "df = clean_column_names(df)\n",
        "df.columns"
      ],
      "metadata": {
        "colab": {
          "base_uri": "https://localhost:8080/"
        },
        "outputId": "2c225e5c-c052-46c9-b019-9cd0df4717cf",
        "id": "Zmdr44XCCFas"
      },
      "execution_count": null,
      "outputs": [
        {
          "output_type": "execute_result",
          "data": {
            "text/plain": [
              "Index(['Категория_3го_уровня', 'Товары', 'Модель', 'Ozon_ID', 'Артикул',\n",
              "       'Акции', 'День', 'Уникальные_посетители_всего',\n",
              "       'Уникальные_посетители_с_просмотром_карточки_товара', 'Показы_всего',\n",
              "       'Показы_на_карточке_товара', 'Показы_в_поиске_и_каталоге',\n",
              "       'Позиция_в_поиске_и_каталоге', 'В_корзину_всего', 'Заказано_товаров',\n",
              "       'Доставлено_за_выбранный_период', 'Заказано_на_сумму',\n",
              "       'Заказано_товаров_по_акции', 'Заказано_на_сумму_по_акции',\n",
              "       'Отправления_с_премиумподпиской_принятые_в_обработку'],\n",
              "      dtype='object')"
            ]
          },
          "metadata": {},
          "execution_count": 64
        }
      ]
    },
    {
      "cell_type": "code",
      "source": [
        "df.isna().mean().sort_values(ascending=False)"
      ],
      "metadata": {
        "colab": {
          "base_uri": "https://localhost:8080/"
        },
        "id": "GJh89nNLANpg",
        "outputId": "5a5b8aaa-e865-40ef-9403-100323024c45"
      },
      "execution_count": null,
      "outputs": [
        {
          "output_type": "execute_result",
          "data": {
            "text/plain": [
              "Акции                                                    0.851619\n",
              "Модель                                                   0.163113\n",
              "Категория 3-го уровня                                    0.000000\n",
              "Показы в поиске и каталоге                               0.000000\n",
              "Заказано на сумму по акции                               0.000000\n",
              "Заказано товаров по акции                                0.000000\n",
              "Заказано на сумму                                        0.000000\n",
              "Доставлено (за выбранный период)                         0.000000\n",
              "Заказано товаров                                         0.000000\n",
              "В корзину, всего                                         0.000000\n",
              "Позиция в поиске и каталоге                              0.000000\n",
              "Показы на карточке товара                                0.000000\n",
              "Товары                                                   0.000000\n",
              "Показы, всего                                            0.000000\n",
              "Уникальные посетители с просмотром карточки товара       0.000000\n",
              "Уникальные посетители, всего                             0.000000\n",
              "День                                                     0.000000\n",
              "Артикул                                                  0.000000\n",
              "Ozon ID                                                  0.000000\n",
              "Отправления с премиум-подпиской, принятые в обработку    0.000000\n",
              "dtype: float64"
            ]
          },
          "metadata": {},
          "execution_count": 63
        }
      ]
    },
    {
      "cell_type": "code",
      "source": [
        "# Убираем колонгку 'Отправления_с_премиумподпиской_принятые_в_обработку'\n",
        "df = df[['Категория_3го_уровня', 'Ozon_ID','Акции', 'День','Показы_всего',\n",
        "       'Показы_на_карточке_товара', 'Показы_в_поиске_и_каталоге',\n",
        "       'Позиция_в_поиске_и_каталоге', 'Заказано_товаров']]"
      ],
      "metadata": {
        "id": "Io5B3q86CFat"
      },
      "execution_count": null,
      "outputs": []
    },
    {
      "cell_type": "code",
      "source": [
        "df['День'] = pd.to_datetime(df['День'])"
      ],
      "metadata": {
        "id": "8u0gfOC2BgAn",
        "colab": {
          "base_uri": "https://localhost:8080/"
        },
        "outputId": "16dd3fee-7f53-426b-db39-15cf0a22f4ef"
      },
      "execution_count": null,
      "outputs": [
        {
          "output_type": "stream",
          "name": "stderr",
          "text": [
            "<ipython-input-67-7fc45faf84dc>:1: SettingWithCopyWarning: \n",
            "A value is trying to be set on a copy of a slice from a DataFrame.\n",
            "Try using .loc[row_indexer,col_indexer] = value instead\n",
            "\n",
            "See the caveats in the documentation: https://pandas.pydata.org/pandas-docs/stable/user_guide/indexing.html#returning-a-view-versus-a-copy\n",
            "  df['День'] = pd.to_datetime(df['День'])\n"
          ]
        }
      ]
    },
    {
      "cell_type": "code",
      "source": [
        "df['Ozon_ID'] = df['Ozon_ID'].astype(str)\n",
        "#df['Артикул'] = df['Артикул'].astype(str) # удалили его\n",
        "df['Позиция_в_поиске_и_каталоге'] = df['Позиция_в_поиске_и_каталоге'].replace(',','.', regex=True)\n",
        "df['Позиция_в_поиске_и_каталоге'] = df['Позиция_в_поиске_и_каталоге'].astype(float)"
      ],
      "metadata": {
        "id": "RGRGwvxeuiUB"
      },
      "execution_count": null,
      "outputs": []
    },
    {
      "cell_type": "code",
      "source": [
        "df.columns"
      ],
      "metadata": {
        "colab": {
          "base_uri": "https://localhost:8080/"
        },
        "id": "weKv-WVBWDsx",
        "outputId": "b434ac45-18a6-4706-8c5e-9b0d4987da8c"
      },
      "execution_count": null,
      "outputs": [
        {
          "output_type": "execute_result",
          "data": {
            "text/plain": [
              "Index(['Категория_3го_уровня', 'Ozon_ID', 'Акции', 'День', 'Показы_всего',\n",
              "       'Показы_на_карточке_товара', 'Показы_в_поиске_и_каталоге',\n",
              "       'Позиция_в_поиске_и_каталоге', 'Заказано_товаров'],\n",
              "      dtype='object')"
            ]
          },
          "metadata": {},
          "execution_count": 66
        }
      ]
    },
    {
      "cell_type": "code",
      "source": [
        "df.dtypes"
      ],
      "metadata": {
        "colab": {
          "base_uri": "https://localhost:8080/"
        },
        "id": "x0If8PXwBUmA",
        "outputId": "3a34f5bc-7ef3-4d7e-9014-5f549ea7bb6c"
      },
      "execution_count": null,
      "outputs": [
        {
          "output_type": "execute_result",
          "data": {
            "text/plain": [
              "Категория_3го_уровня                   object\n",
              "Ozon_ID                                object\n",
              "Акции                                  object\n",
              "День                           datetime64[ns]\n",
              "Показы_всего                            int64\n",
              "Показы_на_карточке_товара               int64\n",
              "Показы_в_поиске_и_каталоге              int64\n",
              "Позиция_в_поиске_и_каталоге           float64\n",
              "Заказано_товаров                        int64\n",
              "dtype: object"
            ]
          },
          "metadata": {},
          "execution_count": 69
        }
      ]
    },
    {
      "cell_type": "code",
      "source": [
        "df['Акции'] = np.where(pd.notna(df['Акции']), 1, 0)"
      ],
      "metadata": {
        "id": "cEGXAPGxrkLf"
      },
      "execution_count": null,
      "outputs": []
    },
    {
      "cell_type": "code",
      "source": [
        "df.isna().mean().sort_values(ascending=False)"
      ],
      "metadata": {
        "colab": {
          "base_uri": "https://localhost:8080/"
        },
        "id": "qys6qKxLWPkS",
        "outputId": "a616c1c6-80a6-484b-9457-6881e1ce919e"
      },
      "execution_count": null,
      "outputs": [
        {
          "output_type": "execute_result",
          "data": {
            "text/plain": [
              "Категория_3го_уровня           0.0\n",
              "Ozon_ID                        0.0\n",
              "Акции                          0.0\n",
              "День                           0.0\n",
              "Показы_всего                   0.0\n",
              "Показы_на_карточке_товара      0.0\n",
              "Показы_в_поиске_и_каталоге     0.0\n",
              "Позиция_в_поиске_и_каталоге    0.0\n",
              "Заказано_товаров               0.0\n",
              "dtype: float64"
            ]
          },
          "metadata": {},
          "execution_count": 73
        }
      ]
    },
    {
      "cell_type": "code",
      "source": [
        "# Выгружаем готовый ДФ  в отдельный файл\n",
        "df.to_csv('action-done.csv', sep=';', index=False)\n",
        "df_act = df.copy()"
      ],
      "metadata": {
        "id": "gWx8eGBXu_Sf"
      },
      "execution_count": null,
      "outputs": []
    },
    {
      "cell_type": "markdown",
      "source": [
        "## Соединяем таблицы"
      ],
      "metadata": {
        "id": "ibQebCqWvM6a"
      }
    },
    {
      "cell_type": "markdown",
      "source": [
        "### Подготовка, загрузка готовых датафреймов"
      ],
      "metadata": {
        "id": "tVja5H8WwviX"
      }
    },
    {
      "cell_type": "code",
      "source": [
        "from google.colab import drive\n",
        "drive.mount('/content/drive')"
      ],
      "metadata": {
        "id": "i4W4tNAiutOz",
        "colab": {
          "base_uri": "https://localhost:8080/"
        },
        "outputId": "9be8a70b-dab3-4176-cc50-9b2ee25daf59"
      },
      "execution_count": null,
      "outputs": [
        {
          "output_type": "stream",
          "name": "stdout",
          "text": [
            "Drive already mounted at /content/drive; to attempt to forcibly remount, call drive.mount(\"/content/drive\", force_remount=True).\n"
          ]
        }
      ]
    },
    {
      "cell_type": "code",
      "source": [
        "!gdown --id '10_sxSEQmVfegRMp4WB9coY7b_SDCHmzT' # ozon.zip\n",
        "#!gdown --id '1Q76V4eNcATnnQ9CrZ-PR2EDbzVJ6Wdnl' # action-done.csv\n",
        "#!gdown --id '1-3CUQ5ecLG5ycFcugO1MpZtpRNw3Jr4n' # grafik-done.csv\n",
        "#!gdown --id '1-2qKjA7Z_DMGg6eqT5GBW2oRwN7Ax_zD' # base-done.csv"
      ],
      "metadata": {
        "id": "LhIWsA22wgqL",
        "colab": {
          "base_uri": "https://localhost:8080/"
        },
        "outputId": "7398edbd-8729-4def-f930-cd4d27717dcf"
      },
      "execution_count": null,
      "outputs": [
        {
          "output_type": "stream",
          "name": "stdout",
          "text": [
            "/usr/local/lib/python3.10/dist-packages/gdown/cli.py:121: FutureWarning: Option `--id` was deprecated in version 4.3.1 and will be removed in 5.0. You don't need to pass it anymore to use a file ID.\n",
            "  warnings.warn(\n",
            "Downloading...\n",
            "From: https://drive.google.com/uc?id=10_sxSEQmVfegRMp4WB9coY7b_SDCHmzT\n",
            "To: /content/ozon.zip\n",
            "100% 4.20M/4.20M [00:00<00:00, 184MB/s]\n"
          ]
        }
      ]
    },
    {
      "cell_type": "code",
      "source": [
        "!unzip -o /content/ozon.zip"
      ],
      "metadata": {
        "colab": {
          "base_uri": "https://localhost:8080/"
        },
        "id": "L3Ycv-3lwNCO",
        "outputId": "63be1477-72e5-4d0e-f104-f52e2067b43d"
      },
      "execution_count": null,
      "outputs": [
        {
          "output_type": "stream",
          "name": "stdout",
          "text": [
            "Archive:  /content/ozon.zip\n",
            "  inflating: action-done.csv         \n",
            "  inflating: base-done.csv           \n",
            "  inflating: grafik-done.csv         \n",
            "  inflating: dict_category.json      \n"
          ]
        }
      ]
    },
    {
      "cell_type": "code",
      "source": [
        "!rm -r sample_data"
      ],
      "metadata": {
        "colab": {
          "base_uri": "https://localhost:8080/"
        },
        "id": "qiJ17GvgwRhg",
        "outputId": "a84a5585-671e-4b64-fcc8-0287e29def59"
      },
      "execution_count": null,
      "outputs": [
        {
          "output_type": "stream",
          "name": "stdout",
          "text": [
            "rm: cannot remove 'sample_data': No such file or directory\n"
          ]
        }
      ]
    },
    {
      "cell_type": "code",
      "source": [
        "#df_baseb = pd.read_csv('/content/base-done.csv', sep=';') # Base бесполезен для анализа. убираем его\n",
        "df_graf = pd.read_csv('/content/grafik-done.csv', sep=';')\n",
        "df_act = pd.read_csv('/content/action-done.csv', sep=';')"
      ],
      "metadata": {
        "id": "5XSS9RbgvmFG"
      },
      "execution_count": null,
      "outputs": []
    },
    {
      "cell_type": "markdown",
      "source": [
        "#### Объединяем и анализируем"
      ],
      "metadata": {
        "id": "n5lsknWjN-yo"
      }
    },
    {
      "cell_type": "code",
      "source": [
        "df_graf.dtypes"
      ],
      "metadata": {
        "colab": {
          "base_uri": "https://localhost:8080/"
        },
        "id": "dQozkcYHtqYa",
        "outputId": "b5189a90-aa19-404d-c565-2a884c9f0195"
      },
      "execution_count": null,
      "outputs": [
        {
          "output_type": "execute_result",
          "data": {
            "text/plain": [
              "Категория_3го_уровня            object\n",
              "Ozon_ID                          int64\n",
              "День                            object\n",
              "Показы_всего                     int64\n",
              "Показы_на_карточке_товара        int64\n",
              "Показы_в_поиске_и_каталоге       int64\n",
              "Позиция_в_поиске_и_каталоге    float64\n",
              "Заказано_товаров                 int64\n",
              "dtype: object"
            ]
          },
          "metadata": {},
          "execution_count": 278
        }
      ]
    },
    {
      "cell_type": "code",
      "source": [
        "df_act.dtypes"
      ],
      "metadata": {
        "colab": {
          "base_uri": "https://localhost:8080/"
        },
        "id": "fzSPg0SPty6g",
        "outputId": "695de3e3-473d-4b6b-b8c4-1fe2ea04771d"
      },
      "execution_count": null,
      "outputs": [
        {
          "output_type": "execute_result",
          "data": {
            "text/plain": [
              "Категория_3го_уровня            object\n",
              "Ozon_ID                          int64\n",
              "Акции                            int64\n",
              "День                            object\n",
              "Показы_всего                     int64\n",
              "Показы_на_карточке_товара        int64\n",
              "Показы_в_поиске_и_каталоге       int64\n",
              "Позиция_в_поиске_и_каталоге    float64\n",
              "Заказано_товаров                 int64\n",
              "dtype: object"
            ]
          },
          "metadata": {},
          "execution_count": 279
        }
      ]
    },
    {
      "cell_type": "code",
      "source": [
        "# unique_df_act = set(df_act['Ozon_ID'].unique())\n",
        "# unique_df_graf = set(df_graf['Ozon_ID'].unique())\n",
        "#unique_df_base = set(df_base['Ozon_ID'].unique())  # Base бесполезен для анализа\n",
        "# common_act2graf = unique_df_act.intersection(unique_df_graf)\n",
        "#common_base2graf = unique_df_base.intersection(unique_df_graf)\n",
        "# print(common_act2graf)\n",
        "# print(len(common_act2graf))\n",
        "# print('------------------')\n",
        "# print('Общие коды в Base и Graf',len(common_base2graf))\n",
        "# print(common_base2graf)\n",
        "# print('------------------')\n",
        "# print(unique_df_base)\n",
        "# print(len(unique_df_base))"
      ],
      "metadata": {
        "id": "3sWQ7z8NbJuY"
      },
      "execution_count": null,
      "outputs": []
    },
    {
      "cell_type": "markdown",
      "source": [
        "Общих Уникальных позиций в объединенном датафрейме будет - 852\n",
        "в БАЗЕ - 1221"
      ],
      "metadata": {
        "id": "GUBuj0ZY6EfN"
      }
    },
    {
      "cell_type": "code",
      "source": [
        "u_g = df_graf[['Ozon_ID','День']]\n",
        "print('Уникальных позиций в Графиках: ', len(u_g['Ozon_ID'].unique()))\n",
        "u_a = df_act[['Ozon_ID','День']]\n",
        "print('Уникальных позиций в Графиках: ', len(u_a['Ozon_ID'].unique()))\n"
      ],
      "metadata": {
        "colab": {
          "base_uri": "https://localhost:8080/"
        },
        "id": "jKy56TZrEb9K",
        "outputId": "9cc82580-bd1b-4e3a-8f9b-d757b95bb4d0"
      },
      "execution_count": null,
      "outputs": [
        {
          "output_type": "stream",
          "name": "stdout",
          "text": [
            "Уникальных позиций в Графиках:  1233\n",
            "Уникальных позиций в Графиках:  878\n"
          ]
        }
      ]
    },
    {
      "cell_type": "code",
      "source": [
        "# Проверяем Общие значения в Графиках и Акциях\n",
        "mga = pd.merge(u_g,u_a, on=['Ozon_ID','День'], how='inner')\n",
        "print('Всего строк по совпадающим ID: ', len(mga))\n",
        "print(mga.columns)"
      ],
      "metadata": {
        "colab": {
          "base_uri": "https://localhost:8080/"
        },
        "id": "ful-uy8F5InV",
        "outputId": "baa84a5e-9b90-4f87-9b28-3e614a0d01e1"
      },
      "execution_count": null,
      "outputs": [
        {
          "output_type": "stream",
          "name": "stdout",
          "text": [
            "Всего строк по совпадающим ID:  241301\n",
            "Index(['Ozon_ID', 'День'], dtype='object')\n"
          ]
        }
      ]
    },
    {
      "cell_type": "code",
      "source": [
        "# Общие значения в Графиках и Акциях\n",
        "merge_ga = pd.merge(df_graf,df_act, on=['Ozon_ID','День'], how='inner')\n",
        "print(merge_ga.columns)"
      ],
      "metadata": {
        "colab": {
          "base_uri": "https://localhost:8080/"
        },
        "id": "3L3DDZdM8ctn",
        "outputId": "fc386141-6f43-4dba-f830-9f030e3190ef"
      },
      "execution_count": null,
      "outputs": [
        {
          "output_type": "stream",
          "name": "stdout",
          "text": [
            "Index(['Категория_3го_уровня_x', 'Ozon_ID', 'День', 'Показы_всего_x',\n",
            "       'Показы_на_карточке_товара_x', 'Показы_в_поиске_и_каталоге_x',\n",
            "       'Позиция_в_поиске_и_каталоге_x', 'Заказано_товаров_x',\n",
            "       'Категория_3го_уровня_y', 'Акции', 'Показы_всего_y',\n",
            "       'Показы_на_карточке_товара_y', 'Показы_в_поиске_и_каталоге_y',\n",
            "       'Позиция_в_поиске_и_каталоге_y', 'Заказано_товаров_y'],\n",
            "      dtype='object')\n"
          ]
        }
      ]
    },
    {
      "cell_type": "code",
      "source": [
        "# Транформируем категории в соответствующие числовые значения\n",
        "from sklearn.preprocessing import LabelEncoder\n",
        "label_encoder = LabelEncoder()\n",
        "merge_ga['Категория_3го_уровня'] = label_encoder.fit_transform(merge_ga['Категория_3го_уровня_x'])\n",
        "unique_categories_encoded = merge_ga['Категория_3го_уровня'].unique()\n",
        "# Преобразование каждого элемента списка в int\n",
        "unique_categories_encoded = [int(x) for x in unique_categories_encoded]\n",
        "unique_categories = merge_ga['Категория_3го_уровня_x'].unique()\n",
        "print(unique_categories_encoded, unique_categories)\n",
        "print('------------------')\n",
        "dict_category = dict(zip(unique_categories_encoded, unique_categories))\n",
        "dict_category"
      ],
      "metadata": {
        "colab": {
          "base_uri": "https://localhost:8080/"
        },
        "id": "AaYAwR796bwM",
        "outputId": "eff818f4-dc03-4bf4-f9ad-a7ace1df8843"
      },
      "execution_count": null,
      "outputs": [
        {
          "output_type": "stream",
          "name": "stdout",
          "text": [
            "[5, 7, 1, 4, 3, 0, 2, 8, 6] ['Разное автопринадлежности' 'Фара автомобильная' 'Другое'\n",
            " 'Лампа автомобильная' 'Комплектующие светодиодной лампы для авто'\n",
            " 'Автохимия - Герметик, клей' 'Комплектующие для ксеноновых фар'\n",
            " 'Фонарь задний для авто' 'Светодиодный модуль']\n",
            "------------------\n"
          ]
        },
        {
          "output_type": "execute_result",
          "data": {
            "text/plain": [
              "{5: 'Разное автопринадлежности',\n",
              " 7: 'Фара автомобильная',\n",
              " 1: 'Другое',\n",
              " 4: 'Лампа автомобильная',\n",
              " 3: 'Комплектующие светодиодной лампы для авто',\n",
              " 0: 'Автохимия - Герметик, клей',\n",
              " 2: 'Комплектующие для ксеноновых фар',\n",
              " 8: 'Фонарь задний для авто',\n",
              " 6: 'Светодиодный модуль'}"
            ]
          },
          "metadata": {},
          "execution_count": 284
        }
      ]
    },
    {
      "cell_type": "code",
      "source": [
        "import json\n",
        "\n",
        "# Сохранение словаря в файл JSON на будущее, когда придётся преобразовать коды в названия категорий\n",
        "def save_dict_to_json(dictionary, filename):\n",
        "    with open(filename, 'w') as file:\n",
        "        json.dump(dictionary, file)\n",
        "\n",
        "# Загрузка словаря из файла JSON\n",
        "def load_dict_from_json(filename):\n",
        "    with open(filename, 'r') as file:\n",
        "        dictionary = json.load(file)\n",
        "    return dictionary\n",
        "\n",
        "\n",
        "# Сохранение словаря в файл JSON\n",
        "save_dict_to_json(dict_category, 'dict_category.json')\n",
        "save_dict_to_json(dict_category, '/content/drive/MyDrive/AI-EDU/dict_category.json')\n",
        "# Загрузка словаря из файла JSON\n",
        "loaded_dict = load_dict_from_json('dict_category.json')\n",
        "\n",
        "loaded_dict"
      ],
      "metadata": {
        "colab": {
          "base_uri": "https://localhost:8080/"
        },
        "id": "PNr7xnODZ7dS",
        "outputId": "c127b9f1-7836-47ac-90b6-880bc0e56ff3"
      },
      "execution_count": null,
      "outputs": [
        {
          "output_type": "execute_result",
          "data": {
            "text/plain": [
              "{'5': 'Разное автопринадлежности',\n",
              " '7': 'Фара автомобильная',\n",
              " '1': 'Другое',\n",
              " '4': 'Лампа автомобильная',\n",
              " '3': 'Комплектующие светодиодной лампы для авто',\n",
              " '0': 'Автохимия - Герметик, клей',\n",
              " '2': 'Комплектующие для ксеноновых фар',\n",
              " '8': 'Фонарь задний для авто',\n",
              " '6': 'Светодиодный модуль'}"
            ]
          },
          "metadata": {},
          "execution_count": 285
        }
      ]
    },
    {
      "cell_type": "code",
      "source": [
        "df = merge_ga.copy()"
      ],
      "metadata": {
        "id": "UGIixtjnb0KS"
      },
      "execution_count": null,
      "outputs": []
    },
    {
      "cell_type": "code",
      "source": [
        "# Колонка ДЕНЬ снова стала тип Object после загрузки. Меняем на Datetime\n",
        "df['День'] = pd.to_datetime(df['День'])"
      ],
      "metadata": {
        "id": "_NT24WBOcT0S"
      },
      "execution_count": null,
      "outputs": []
    },
    {
      "cell_type": "code",
      "source": [
        "df.dtypes"
      ],
      "metadata": {
        "id": "uEwqj6kjbJc2",
        "colab": {
          "base_uri": "https://localhost:8080/"
        },
        "outputId": "c644bf78-6254-4ef5-883b-fb3c7bb46cfc"
      },
      "execution_count": null,
      "outputs": [
        {
          "output_type": "execute_result",
          "data": {
            "text/plain": [
              "Категория_3го_уровня_x                   object\n",
              "Ozon_ID                                   int64\n",
              "День                             datetime64[ns]\n",
              "Показы_всего_x                            int64\n",
              "Показы_на_карточке_товара_x               int64\n",
              "Показы_в_поиске_и_каталоге_x              int64\n",
              "Позиция_в_поиске_и_каталоге_x           float64\n",
              "Заказано_товаров_x                        int64\n",
              "Категория_3го_уровня_y                   object\n",
              "Акции                                     int64\n",
              "Показы_всего_y                            int64\n",
              "Показы_на_карточке_товара_y               int64\n",
              "Показы_в_поиске_и_каталоге_y              int64\n",
              "Позиция_в_поиске_и_каталоге_y           float64\n",
              "Заказано_товаров_y                        int64\n",
              "Категория_3го_уровня                      int64\n",
              "dtype: object"
            ]
          },
          "metadata": {},
          "execution_count": 288
        }
      ]
    },
    {
      "cell_type": "code",
      "source": [
        "df.columns"
      ],
      "metadata": {
        "colab": {
          "base_uri": "https://localhost:8080/"
        },
        "id": "F3TH0iwP7GBK",
        "outputId": "6fc6c0a8-a8ec-4597-ad97-86f4e19799d9"
      },
      "execution_count": null,
      "outputs": [
        {
          "output_type": "execute_result",
          "data": {
            "text/plain": [
              "Index(['Категория_3го_уровня_x', 'Ozon_ID', 'День', 'Показы_всего_x',\n",
              "       'Показы_на_карточке_товара_x', 'Показы_в_поиске_и_каталоге_x',\n",
              "       'Позиция_в_поиске_и_каталоге_x', 'Заказано_товаров_x',\n",
              "       'Категория_3го_уровня_y', 'Акции', 'Показы_всего_y',\n",
              "       'Показы_на_карточке_товара_y', 'Показы_в_поиске_и_каталоге_y',\n",
              "       'Позиция_в_поиске_и_каталоге_y', 'Заказано_товаров_y',\n",
              "       'Категория_3го_уровня'],\n",
              "      dtype='object')"
            ]
          },
          "metadata": {},
          "execution_count": 289
        }
      ]
    },
    {
      "cell_type": "code",
      "source": [
        "# уьираем лишние колонки\n",
        "df = df[['Категория_3го_уровня_x', 'Ozon_ID', 'День', 'Показы_всего_x',\n",
        "      'Показы_на_карточке_товара_x', 'Показы_в_поиске_и_каталоге_x',\n",
        "      'Позиция_в_поиске_и_каталоге_x', 'Заказано_товаров_x',\n",
        "      'Категория_3го_уровня_y', 'Акции', 'Показы_всего_y',\n",
        "      'Показы_на_карточке_товара_y', 'Показы_в_поиске_и_каталоге_y',\n",
        "      'Позиция_в_поиске_и_каталоге_y', 'Заказано_товаров_y']]"
      ],
      "metadata": {
        "id": "MSM7fkXqW8Gi"
      },
      "execution_count": null,
      "outputs": []
    },
    {
      "cell_type": "markdown",
      "source": [
        "Теперь нужно прийти к основному составу колонок значимых для построения нейронки.\n",
        "видятся 2 гипотезы объединения значений:\n",
        "1. СЛОЖИТЬ значения числовых колонок, предполагая, что они независимы\n",
        "2. Выбрать МАКСИМАЛЬНОЕ значение, предполагая, что меньшее входит в большее\n",
        "\n",
        "Реализуем оба варианта и сохраним для экспериментов в одном датафрейме"
      ],
      "metadata": {
        "id": "oUSAachph1wM"
      }
    },
    {
      "cell_type": "code",
      "source": [
        "df_backup = df.copy() # делаем бакап"
      ],
      "metadata": {
        "id": "XfReJbS4jp_u"
      },
      "execution_count": null,
      "outputs": []
    },
    {
      "cell_type": "code",
      "source": [
        "df = df_backup.copy()"
      ],
      "metadata": {
        "id": "HDsNOAGiwMP0"
      },
      "execution_count": null,
      "outputs": []
    },
    {
      "cell_type": "code",
      "source": [
        "# реализуем 1 гипотизу\n",
        "df['Показы_всего_1'] = df['Показы_всего_x'] + df['Показы_всего_y']\n",
        "df['Показы_всего_2'] = df[['Показы_всего_x','Показы_всего_y']].max(axis=1)\n",
        "\n",
        "df['Показы_на_карточке_товара_1'] = df['Показы_на_карточке_товара_x'] + df['Показы_на_карточке_товара_y']\n",
        "df['Показы_на_карточке_товара_2'] = df[['Показы_на_карточке_товара_x','Показы_на_карточке_товара_y']].max(axis=1)\n",
        "\n",
        "df['Показы_в_поиске_и_каталоге_1'] = df['Показы_в_поиске_и_каталоге_x'] + df['Показы_в_поиске_и_каталоге_y']\n",
        "df['Показы_в_поиске_и_каталоге_2'] = df[['Показы_в_поиске_и_каталоге_x','Показы_в_поиске_и_каталоге_y']].max(axis=1)\n",
        "\n",
        "# Позицию в поиске складывать нельзя, поэтому показываем минимальную (хотя, это и не совсем правильно)\n",
        "df['Позиция_в_поиске_и_каталоге'] = df[['Позиция_в_поиске_и_каталоге_x','Позиция_в_поиске_и_каталоге_y']].min(axis=1)\n",
        "\n",
        "df['Заказано_товаров_1'] = df['Заказано_товаров_x'] + df['Заказано_товаров_y']\n",
        "df['Заказано_товаров_2'] = df[['Заказано_товаров_x','Заказано_товаров_y']].max(axis=1)"
      ],
      "metadata": {
        "id": "IU_qFBqDhh01"
      },
      "execution_count": null,
      "outputs": []
    },
    {
      "cell_type": "code",
      "source": [
        "df.dtypes"
      ],
      "metadata": {
        "id": "tqADKbi0gYfz",
        "colab": {
          "base_uri": "https://localhost:8080/"
        },
        "outputId": "95dcc90b-cede-4c5d-a74e-2ff4b35ff525"
      },
      "execution_count": null,
      "outputs": [
        {
          "output_type": "execute_result",
          "data": {
            "text/plain": [
              "Категория_3го_уровня_x                   object\n",
              "Ozon_ID                                   int64\n",
              "День                             datetime64[ns]\n",
              "Показы_всего_x                            int64\n",
              "Показы_на_карточке_товара_x               int64\n",
              "Показы_в_поиске_и_каталоге_x              int64\n",
              "Позиция_в_поиске_и_каталоге_x           float64\n",
              "Заказано_товаров_x                        int64\n",
              "Категория_3го_уровня_y                   object\n",
              "Акции                                     int64\n",
              "Показы_всего_y                            int64\n",
              "Показы_на_карточке_товара_y               int64\n",
              "Показы_в_поиске_и_каталоге_y              int64\n",
              "Позиция_в_поиске_и_каталоге_y           float64\n",
              "Заказано_товаров_y                        int64\n",
              "Показы_всего_1                            int64\n",
              "Показы_всего_2                            int64\n",
              "Показы_на_карточке_товара_1               int64\n",
              "Показы_на_карточке_товара_2               int64\n",
              "Показы_в_поиске_и_каталоге_1              int64\n",
              "Показы_в_поиске_и_каталоге_2              int64\n",
              "Позиция_в_поиске_и_каталоге             float64\n",
              "Заказано_товаров_1                        int64\n",
              "Заказано_товаров_2                        int64\n",
              "dtype: object"
            ]
          },
          "metadata": {},
          "execution_count": 294
        }
      ]
    },
    {
      "cell_type": "code",
      "source": [
        "def kill_columns():\n",
        "  # Цикл для удаления столбцов\n",
        "  for column in df.columns:\n",
        "      if '_x' in column or '_y' in column:\n",
        "          df.drop(column, axis=1, inplace=True)\n",
        "\n",
        "kill_columns()"
      ],
      "metadata": {
        "id": "-FSYlrKVtx0f"
      },
      "execution_count": null,
      "outputs": []
    },
    {
      "cell_type": "code",
      "source": [
        "df.columns"
      ],
      "metadata": {
        "colab": {
          "base_uri": "https://localhost:8080/"
        },
        "id": "jA3rj_1ZuO0a",
        "outputId": "341a90a0-e08e-42d7-c59d-a5faf198bf65"
      },
      "execution_count": null,
      "outputs": [
        {
          "output_type": "execute_result",
          "data": {
            "text/plain": [
              "Index(['Ozon_ID', 'День', 'Акции', 'Показы_всего_1', 'Показы_всего_2',\n",
              "       'Показы_на_карточке_товара_1', 'Показы_на_карточке_товара_2',\n",
              "       'Показы_в_поиске_и_каталоге_1', 'Показы_в_поиске_и_каталоге_2',\n",
              "       'Позиция_в_поиске_и_каталоге', 'Заказано_товаров_1',\n",
              "       'Заказано_товаров_2'],\n",
              "      dtype='object')"
            ]
          },
          "metadata": {},
          "execution_count": 296
        }
      ]
    },
    {
      "cell_type": "code",
      "source": [
        "df.head(3)\n"
      ],
      "metadata": {
        "colab": {
          "base_uri": "https://localhost:8080/",
          "height": 259
        },
        "id": "BEqdEPjyu4gz",
        "outputId": "a231b93d-4db5-4caf-d604-a29dd9879e82"
      },
      "execution_count": null,
      "outputs": [
        {
          "output_type": "execute_result",
          "data": {
            "text/plain": [
              "     Ozon_ID       День  Акции  Показы_всего_1  Показы_всего_2  \\\n",
              "0  882353427 2023-03-05      0             138              69   \n",
              "1  882353427 2023-03-06      0             218             109   \n",
              "2  882353427 2023-03-07      0             100              50   \n",
              "\n",
              "   Показы_на_карточке_товара_1  Показы_на_карточке_товара_2  \\\n",
              "0                            6                            3   \n",
              "1                            6                            3   \n",
              "2                            4                            2   \n",
              "\n",
              "   Показы_в_поиске_и_каталоге_1  Показы_в_поиске_и_каталоге_2  \\\n",
              "0                            80                            40   \n",
              "1                            92                            46   \n",
              "2                            74                            37   \n",
              "\n",
              "   Позиция_в_поиске_и_каталоге  Заказано_товаров_1  Заказано_товаров_2  \n",
              "0                       110.33                   0                   0  \n",
              "1                       103.43                   0                   0  \n",
              "2                        97.14                   0                   0  "
            ],
            "text/html": [
              "\n",
              "\n",
              "  <div id=\"df-784d8457-2ef6-4a1c-842f-c0fa44f6fa8e\">\n",
              "    <div class=\"colab-df-container\">\n",
              "      <div>\n",
              "<style scoped>\n",
              "    .dataframe tbody tr th:only-of-type {\n",
              "        vertical-align: middle;\n",
              "    }\n",
              "\n",
              "    .dataframe tbody tr th {\n",
              "        vertical-align: top;\n",
              "    }\n",
              "\n",
              "    .dataframe thead th {\n",
              "        text-align: right;\n",
              "    }\n",
              "</style>\n",
              "<table border=\"1\" class=\"dataframe\">\n",
              "  <thead>\n",
              "    <tr style=\"text-align: right;\">\n",
              "      <th></th>\n",
              "      <th>Ozon_ID</th>\n",
              "      <th>День</th>\n",
              "      <th>Акции</th>\n",
              "      <th>Показы_всего_1</th>\n",
              "      <th>Показы_всего_2</th>\n",
              "      <th>Показы_на_карточке_товара_1</th>\n",
              "      <th>Показы_на_карточке_товара_2</th>\n",
              "      <th>Показы_в_поиске_и_каталоге_1</th>\n",
              "      <th>Показы_в_поиске_и_каталоге_2</th>\n",
              "      <th>Позиция_в_поиске_и_каталоге</th>\n",
              "      <th>Заказано_товаров_1</th>\n",
              "      <th>Заказано_товаров_2</th>\n",
              "    </tr>\n",
              "  </thead>\n",
              "  <tbody>\n",
              "    <tr>\n",
              "      <th>0</th>\n",
              "      <td>882353427</td>\n",
              "      <td>2023-03-05</td>\n",
              "      <td>0</td>\n",
              "      <td>138</td>\n",
              "      <td>69</td>\n",
              "      <td>6</td>\n",
              "      <td>3</td>\n",
              "      <td>80</td>\n",
              "      <td>40</td>\n",
              "      <td>110.33</td>\n",
              "      <td>0</td>\n",
              "      <td>0</td>\n",
              "    </tr>\n",
              "    <tr>\n",
              "      <th>1</th>\n",
              "      <td>882353427</td>\n",
              "      <td>2023-03-06</td>\n",
              "      <td>0</td>\n",
              "      <td>218</td>\n",
              "      <td>109</td>\n",
              "      <td>6</td>\n",
              "      <td>3</td>\n",
              "      <td>92</td>\n",
              "      <td>46</td>\n",
              "      <td>103.43</td>\n",
              "      <td>0</td>\n",
              "      <td>0</td>\n",
              "    </tr>\n",
              "    <tr>\n",
              "      <th>2</th>\n",
              "      <td>882353427</td>\n",
              "      <td>2023-03-07</td>\n",
              "      <td>0</td>\n",
              "      <td>100</td>\n",
              "      <td>50</td>\n",
              "      <td>4</td>\n",
              "      <td>2</td>\n",
              "      <td>74</td>\n",
              "      <td>37</td>\n",
              "      <td>97.14</td>\n",
              "      <td>0</td>\n",
              "      <td>0</td>\n",
              "    </tr>\n",
              "  </tbody>\n",
              "</table>\n",
              "</div>\n",
              "      <button class=\"colab-df-convert\" onclick=\"convertToInteractive('df-784d8457-2ef6-4a1c-842f-c0fa44f6fa8e')\"\n",
              "              title=\"Convert this dataframe to an interactive table.\"\n",
              "              style=\"display:none;\">\n",
              "\n",
              "  <svg xmlns=\"http://www.w3.org/2000/svg\" height=\"24px\"viewBox=\"0 0 24 24\"\n",
              "       width=\"24px\">\n",
              "    <path d=\"M0 0h24v24H0V0z\" fill=\"none\"/>\n",
              "    <path d=\"M18.56 5.44l.94 2.06.94-2.06 2.06-.94-2.06-.94-.94-2.06-.94 2.06-2.06.94zm-11 1L8.5 8.5l.94-2.06 2.06-.94-2.06-.94L8.5 2.5l-.94 2.06-2.06.94zm10 10l.94 2.06.94-2.06 2.06-.94-2.06-.94-.94-2.06-.94 2.06-2.06.94z\"/><path d=\"M17.41 7.96l-1.37-1.37c-.4-.4-.92-.59-1.43-.59-.52 0-1.04.2-1.43.59L10.3 9.45l-7.72 7.72c-.78.78-.78 2.05 0 2.83L4 21.41c.39.39.9.59 1.41.59.51 0 1.02-.2 1.41-.59l7.78-7.78 2.81-2.81c.8-.78.8-2.07 0-2.86zM5.41 20L4 18.59l7.72-7.72 1.47 1.35L5.41 20z\"/>\n",
              "  </svg>\n",
              "      </button>\n",
              "\n",
              "\n",
              "\n",
              "    <div id=\"df-386324fa-950e-4326-875a-bba0535a4607\">\n",
              "      <button class=\"colab-df-quickchart\" onclick=\"quickchart('df-386324fa-950e-4326-875a-bba0535a4607')\"\n",
              "              title=\"Suggest charts.\"\n",
              "              style=\"display:none;\">\n",
              "\n",
              "<svg xmlns=\"http://www.w3.org/2000/svg\" height=\"24px\"viewBox=\"0 0 24 24\"\n",
              "     width=\"24px\">\n",
              "    <g>\n",
              "        <path d=\"M19 3H5c-1.1 0-2 .9-2 2v14c0 1.1.9 2 2 2h14c1.1 0 2-.9 2-2V5c0-1.1-.9-2-2-2zM9 17H7v-7h2v7zm4 0h-2V7h2v10zm4 0h-2v-4h2v4z\"/>\n",
              "    </g>\n",
              "</svg>\n",
              "      </button>\n",
              "    </div>\n",
              "\n",
              "<style>\n",
              "  .colab-df-quickchart {\n",
              "    background-color: #E8F0FE;\n",
              "    border: none;\n",
              "    border-radius: 50%;\n",
              "    cursor: pointer;\n",
              "    display: none;\n",
              "    fill: #1967D2;\n",
              "    height: 32px;\n",
              "    padding: 0 0 0 0;\n",
              "    width: 32px;\n",
              "  }\n",
              "\n",
              "  .colab-df-quickchart:hover {\n",
              "    background-color: #E2EBFA;\n",
              "    box-shadow: 0px 1px 2px rgba(60, 64, 67, 0.3), 0px 1px 3px 1px rgba(60, 64, 67, 0.15);\n",
              "    fill: #174EA6;\n",
              "  }\n",
              "\n",
              "  [theme=dark] .colab-df-quickchart {\n",
              "    background-color: #3B4455;\n",
              "    fill: #D2E3FC;\n",
              "  }\n",
              "\n",
              "  [theme=dark] .colab-df-quickchart:hover {\n",
              "    background-color: #434B5C;\n",
              "    box-shadow: 0px 1px 3px 1px rgba(0, 0, 0, 0.15);\n",
              "    filter: drop-shadow(0px 1px 2px rgba(0, 0, 0, 0.3));\n",
              "    fill: #FFFFFF;\n",
              "  }\n",
              "</style>\n",
              "\n",
              "    <script>\n",
              "      async function quickchart(key) {\n",
              "        const containerElement = document.querySelector('#' + key);\n",
              "        const charts = await google.colab.kernel.invokeFunction(\n",
              "            'suggestCharts', [key], {});\n",
              "      }\n",
              "    </script>\n",
              "\n",
              "      <script>\n",
              "\n",
              "function displayQuickchartButton(domScope) {\n",
              "  let quickchartButtonEl =\n",
              "    domScope.querySelector('#df-386324fa-950e-4326-875a-bba0535a4607 button.colab-df-quickchart');\n",
              "  quickchartButtonEl.style.display =\n",
              "    google.colab.kernel.accessAllowed ? 'block' : 'none';\n",
              "}\n",
              "\n",
              "        displayQuickchartButton(document);\n",
              "      </script>\n",
              "      <style>\n",
              "    .colab-df-container {\n",
              "      display:flex;\n",
              "      flex-wrap:wrap;\n",
              "      gap: 12px;\n",
              "    }\n",
              "\n",
              "    .colab-df-convert {\n",
              "      background-color: #E8F0FE;\n",
              "      border: none;\n",
              "      border-radius: 50%;\n",
              "      cursor: pointer;\n",
              "      display: none;\n",
              "      fill: #1967D2;\n",
              "      height: 32px;\n",
              "      padding: 0 0 0 0;\n",
              "      width: 32px;\n",
              "    }\n",
              "\n",
              "    .colab-df-convert:hover {\n",
              "      background-color: #E2EBFA;\n",
              "      box-shadow: 0px 1px 2px rgba(60, 64, 67, 0.3), 0px 1px 3px 1px rgba(60, 64, 67, 0.15);\n",
              "      fill: #174EA6;\n",
              "    }\n",
              "\n",
              "    [theme=dark] .colab-df-convert {\n",
              "      background-color: #3B4455;\n",
              "      fill: #D2E3FC;\n",
              "    }\n",
              "\n",
              "    [theme=dark] .colab-df-convert:hover {\n",
              "      background-color: #434B5C;\n",
              "      box-shadow: 0px 1px 3px 1px rgba(0, 0, 0, 0.15);\n",
              "      filter: drop-shadow(0px 1px 2px rgba(0, 0, 0, 0.3));\n",
              "      fill: #FFFFFF;\n",
              "    }\n",
              "  </style>\n",
              "\n",
              "      <script>\n",
              "        const buttonEl =\n",
              "          document.querySelector('#df-784d8457-2ef6-4a1c-842f-c0fa44f6fa8e button.colab-df-convert');\n",
              "        buttonEl.style.display =\n",
              "          google.colab.kernel.accessAllowed ? 'block' : 'none';\n",
              "\n",
              "        async function convertToInteractive(key) {\n",
              "          const element = document.querySelector('#df-784d8457-2ef6-4a1c-842f-c0fa44f6fa8e');\n",
              "          const dataTable =\n",
              "            await google.colab.kernel.invokeFunction('convertToInteractive',\n",
              "                                                     [key], {});\n",
              "          if (!dataTable) return;\n",
              "\n",
              "          const docLinkHtml = 'Like what you see? Visit the ' +\n",
              "            '<a target=\"_blank\" href=https://colab.research.google.com/notebooks/data_table.ipynb>data table notebook</a>'\n",
              "            + ' to learn more about interactive tables.';\n",
              "          element.innerHTML = '';\n",
              "          dataTable['output_type'] = 'display_data';\n",
              "          await google.colab.output.renderOutput(dataTable, element);\n",
              "          const docLink = document.createElement('div');\n",
              "          docLink.innerHTML = docLinkHtml;\n",
              "          element.appendChild(docLink);\n",
              "        }\n",
              "      </script>\n",
              "    </div>\n",
              "  </div>\n"
            ]
          },
          "metadata": {},
          "execution_count": 297
        }
      ]
    },
    {
      "cell_type": "code",
      "source": [
        "#df['Акции'] = np.where(pd.notna(df['Акции']), 1, 0)"
      ],
      "metadata": {
        "id": "3PIGRoU5ufLY"
      },
      "execution_count": null,
      "outputs": []
    },
    {
      "cell_type": "code",
      "source": [
        "#df.to_csv('/content/drive/MyDrive/AI-EDU/act_graf-done.csv', sep=';', index=False)\n",
        "df.to_csv('/content/act_graf-done.csv', sep=';', index=False)"
      ],
      "metadata": {
        "id": "SwIvy09ruejy"
      },
      "execution_count": null,
      "outputs": []
    },
    {
      "cell_type": "code",
      "source": [
        "df.to_csv('/content/drive/MyDrive/AI-EDU/act_graf-done.csv', sep=';', index=False)"
      ],
      "metadata": {
        "id": "I7ijV9VYMbT3"
      },
      "execution_count": null,
      "outputs": []
    },
    {
      "cell_type": "markdown",
      "source": [
        "### разделим датафрейм на 2 для визуализации"
      ],
      "metadata": {
        "id": "7Y2iUEhMxtci"
      }
    },
    {
      "cell_type": "code",
      "source": [
        "#df.fillna(0, inplace=True)  # Заполнение пропущенных значений нулями\n",
        "#df = df.query('Заказано_товаров_1 != 0 and Заказано_товаров_2 != 0')  # Удаление строк с нулевыми значениями\n",
        "#print(len(df))\n",
        "# Проверяем сколько у нас позиций с заказами и средний заказ весь период\n",
        "df.groupby('Ozon_ID',dropna=False)[['Заказано_товаров_1', 'Заказано_товаров_2']].agg(['count','mean']).sort_values(by=('Заказано_товаров_1', 'mean'),ascending=False)"
      ],
      "metadata": {
        "colab": {
          "base_uri": "https://localhost:8080/",
          "height": 486
        },
        "id": "JNIyjKfa-u1n",
        "outputId": "284502e1-0b01-45bf-c0a8-6795a2e60168"
      },
      "execution_count": null,
      "outputs": [
        {
          "output_type": "execute_result",
          "data": {
            "text/plain": [
              "          Заказано_товаров_1           Заказано_товаров_2          \n",
              "                       count      mean              count      mean\n",
              "Ozon_ID                                                            \n",
              "800183940                189  2.603175                189  1.301587\n",
              "556497014                368  2.516304                368  1.263587\n",
              "510826421                368  2.266304                368  1.133152\n",
              "664763425                288  1.402778                288  0.701389\n",
              "664763420                302  1.105960                302  0.552980\n",
              "...                      ...       ...                ...       ...\n",
              "500442674                311  0.000000                311  0.000000\n",
              "522646688                344  0.000000                344  0.000000\n",
              "597896699                335  0.000000                335  0.000000\n",
              "500443288                328  0.000000                328  0.000000\n",
              "510663285                328  0.000000                328  0.000000\n",
              "\n",
              "[878 rows x 4 columns]"
            ],
            "text/html": [
              "\n",
              "\n",
              "  <div id=\"df-4237966b-51d4-44d8-bc7d-3b84ad7d5fec\">\n",
              "    <div class=\"colab-df-container\">\n",
              "      <div>\n",
              "<style scoped>\n",
              "    .dataframe tbody tr th:only-of-type {\n",
              "        vertical-align: middle;\n",
              "    }\n",
              "\n",
              "    .dataframe tbody tr th {\n",
              "        vertical-align: top;\n",
              "    }\n",
              "\n",
              "    .dataframe thead tr th {\n",
              "        text-align: left;\n",
              "    }\n",
              "\n",
              "    .dataframe thead tr:last-of-type th {\n",
              "        text-align: right;\n",
              "    }\n",
              "</style>\n",
              "<table border=\"1\" class=\"dataframe\">\n",
              "  <thead>\n",
              "    <tr>\n",
              "      <th></th>\n",
              "      <th colspan=\"2\" halign=\"left\">Заказано_товаров_1</th>\n",
              "      <th colspan=\"2\" halign=\"left\">Заказано_товаров_2</th>\n",
              "    </tr>\n",
              "    <tr>\n",
              "      <th></th>\n",
              "      <th>count</th>\n",
              "      <th>mean</th>\n",
              "      <th>count</th>\n",
              "      <th>mean</th>\n",
              "    </tr>\n",
              "    <tr>\n",
              "      <th>Ozon_ID</th>\n",
              "      <th></th>\n",
              "      <th></th>\n",
              "      <th></th>\n",
              "      <th></th>\n",
              "    </tr>\n",
              "  </thead>\n",
              "  <tbody>\n",
              "    <tr>\n",
              "      <th>800183940</th>\n",
              "      <td>189</td>\n",
              "      <td>2.603175</td>\n",
              "      <td>189</td>\n",
              "      <td>1.301587</td>\n",
              "    </tr>\n",
              "    <tr>\n",
              "      <th>556497014</th>\n",
              "      <td>368</td>\n",
              "      <td>2.516304</td>\n",
              "      <td>368</td>\n",
              "      <td>1.263587</td>\n",
              "    </tr>\n",
              "    <tr>\n",
              "      <th>510826421</th>\n",
              "      <td>368</td>\n",
              "      <td>2.266304</td>\n",
              "      <td>368</td>\n",
              "      <td>1.133152</td>\n",
              "    </tr>\n",
              "    <tr>\n",
              "      <th>664763425</th>\n",
              "      <td>288</td>\n",
              "      <td>1.402778</td>\n",
              "      <td>288</td>\n",
              "      <td>0.701389</td>\n",
              "    </tr>\n",
              "    <tr>\n",
              "      <th>664763420</th>\n",
              "      <td>302</td>\n",
              "      <td>1.105960</td>\n",
              "      <td>302</td>\n",
              "      <td>0.552980</td>\n",
              "    </tr>\n",
              "    <tr>\n",
              "      <th>...</th>\n",
              "      <td>...</td>\n",
              "      <td>...</td>\n",
              "      <td>...</td>\n",
              "      <td>...</td>\n",
              "    </tr>\n",
              "    <tr>\n",
              "      <th>500442674</th>\n",
              "      <td>311</td>\n",
              "      <td>0.000000</td>\n",
              "      <td>311</td>\n",
              "      <td>0.000000</td>\n",
              "    </tr>\n",
              "    <tr>\n",
              "      <th>522646688</th>\n",
              "      <td>344</td>\n",
              "      <td>0.000000</td>\n",
              "      <td>344</td>\n",
              "      <td>0.000000</td>\n",
              "    </tr>\n",
              "    <tr>\n",
              "      <th>597896699</th>\n",
              "      <td>335</td>\n",
              "      <td>0.000000</td>\n",
              "      <td>335</td>\n",
              "      <td>0.000000</td>\n",
              "    </tr>\n",
              "    <tr>\n",
              "      <th>500443288</th>\n",
              "      <td>328</td>\n",
              "      <td>0.000000</td>\n",
              "      <td>328</td>\n",
              "      <td>0.000000</td>\n",
              "    </tr>\n",
              "    <tr>\n",
              "      <th>510663285</th>\n",
              "      <td>328</td>\n",
              "      <td>0.000000</td>\n",
              "      <td>328</td>\n",
              "      <td>0.000000</td>\n",
              "    </tr>\n",
              "  </tbody>\n",
              "</table>\n",
              "<p>878 rows × 4 columns</p>\n",
              "</div>\n",
              "      <button class=\"colab-df-convert\" onclick=\"convertToInteractive('df-4237966b-51d4-44d8-bc7d-3b84ad7d5fec')\"\n",
              "              title=\"Convert this dataframe to an interactive table.\"\n",
              "              style=\"display:none;\">\n",
              "\n",
              "  <svg xmlns=\"http://www.w3.org/2000/svg\" height=\"24px\"viewBox=\"0 0 24 24\"\n",
              "       width=\"24px\">\n",
              "    <path d=\"M0 0h24v24H0V0z\" fill=\"none\"/>\n",
              "    <path d=\"M18.56 5.44l.94 2.06.94-2.06 2.06-.94-2.06-.94-.94-2.06-.94 2.06-2.06.94zm-11 1L8.5 8.5l.94-2.06 2.06-.94-2.06-.94L8.5 2.5l-.94 2.06-2.06.94zm10 10l.94 2.06.94-2.06 2.06-.94-2.06-.94-.94-2.06-.94 2.06-2.06.94z\"/><path d=\"M17.41 7.96l-1.37-1.37c-.4-.4-.92-.59-1.43-.59-.52 0-1.04.2-1.43.59L10.3 9.45l-7.72 7.72c-.78.78-.78 2.05 0 2.83L4 21.41c.39.39.9.59 1.41.59.51 0 1.02-.2 1.41-.59l7.78-7.78 2.81-2.81c.8-.78.8-2.07 0-2.86zM5.41 20L4 18.59l7.72-7.72 1.47 1.35L5.41 20z\"/>\n",
              "  </svg>\n",
              "      </button>\n",
              "\n",
              "\n",
              "\n",
              "    <div id=\"df-9fad7fd6-c024-48d6-839a-fd27451ee2ca\">\n",
              "      <button class=\"colab-df-quickchart\" onclick=\"quickchart('df-9fad7fd6-c024-48d6-839a-fd27451ee2ca')\"\n",
              "              title=\"Suggest charts.\"\n",
              "              style=\"display:none;\">\n",
              "\n",
              "<svg xmlns=\"http://www.w3.org/2000/svg\" height=\"24px\"viewBox=\"0 0 24 24\"\n",
              "     width=\"24px\">\n",
              "    <g>\n",
              "        <path d=\"M19 3H5c-1.1 0-2 .9-2 2v14c0 1.1.9 2 2 2h14c1.1 0 2-.9 2-2V5c0-1.1-.9-2-2-2zM9 17H7v-7h2v7zm4 0h-2V7h2v10zm4 0h-2v-4h2v4z\"/>\n",
              "    </g>\n",
              "</svg>\n",
              "      </button>\n",
              "    </div>\n",
              "\n",
              "<style>\n",
              "  .colab-df-quickchart {\n",
              "    background-color: #E8F0FE;\n",
              "    border: none;\n",
              "    border-radius: 50%;\n",
              "    cursor: pointer;\n",
              "    display: none;\n",
              "    fill: #1967D2;\n",
              "    height: 32px;\n",
              "    padding: 0 0 0 0;\n",
              "    width: 32px;\n",
              "  }\n",
              "\n",
              "  .colab-df-quickchart:hover {\n",
              "    background-color: #E2EBFA;\n",
              "    box-shadow: 0px 1px 2px rgba(60, 64, 67, 0.3), 0px 1px 3px 1px rgba(60, 64, 67, 0.15);\n",
              "    fill: #174EA6;\n",
              "  }\n",
              "\n",
              "  [theme=dark] .colab-df-quickchart {\n",
              "    background-color: #3B4455;\n",
              "    fill: #D2E3FC;\n",
              "  }\n",
              "\n",
              "  [theme=dark] .colab-df-quickchart:hover {\n",
              "    background-color: #434B5C;\n",
              "    box-shadow: 0px 1px 3px 1px rgba(0, 0, 0, 0.15);\n",
              "    filter: drop-shadow(0px 1px 2px rgba(0, 0, 0, 0.3));\n",
              "    fill: #FFFFFF;\n",
              "  }\n",
              "</style>\n",
              "\n",
              "    <script>\n",
              "      async function quickchart(key) {\n",
              "        const containerElement = document.querySelector('#' + key);\n",
              "        const charts = await google.colab.kernel.invokeFunction(\n",
              "            'suggestCharts', [key], {});\n",
              "      }\n",
              "    </script>\n",
              "\n",
              "      <script>\n",
              "\n",
              "function displayQuickchartButton(domScope) {\n",
              "  let quickchartButtonEl =\n",
              "    domScope.querySelector('#df-9fad7fd6-c024-48d6-839a-fd27451ee2ca button.colab-df-quickchart');\n",
              "  quickchartButtonEl.style.display =\n",
              "    google.colab.kernel.accessAllowed ? 'block' : 'none';\n",
              "}\n",
              "\n",
              "        displayQuickchartButton(document);\n",
              "      </script>\n",
              "      <style>\n",
              "    .colab-df-container {\n",
              "      display:flex;\n",
              "      flex-wrap:wrap;\n",
              "      gap: 12px;\n",
              "    }\n",
              "\n",
              "    .colab-df-convert {\n",
              "      background-color: #E8F0FE;\n",
              "      border: none;\n",
              "      border-radius: 50%;\n",
              "      cursor: pointer;\n",
              "      display: none;\n",
              "      fill: #1967D2;\n",
              "      height: 32px;\n",
              "      padding: 0 0 0 0;\n",
              "      width: 32px;\n",
              "    }\n",
              "\n",
              "    .colab-df-convert:hover {\n",
              "      background-color: #E2EBFA;\n",
              "      box-shadow: 0px 1px 2px rgba(60, 64, 67, 0.3), 0px 1px 3px 1px rgba(60, 64, 67, 0.15);\n",
              "      fill: #174EA6;\n",
              "    }\n",
              "\n",
              "    [theme=dark] .colab-df-convert {\n",
              "      background-color: #3B4455;\n",
              "      fill: #D2E3FC;\n",
              "    }\n",
              "\n",
              "    [theme=dark] .colab-df-convert:hover {\n",
              "      background-color: #434B5C;\n",
              "      box-shadow: 0px 1px 3px 1px rgba(0, 0, 0, 0.15);\n",
              "      filter: drop-shadow(0px 1px 2px rgba(0, 0, 0, 0.3));\n",
              "      fill: #FFFFFF;\n",
              "    }\n",
              "  </style>\n",
              "\n",
              "      <script>\n",
              "        const buttonEl =\n",
              "          document.querySelector('#df-4237966b-51d4-44d8-bc7d-3b84ad7d5fec button.colab-df-convert');\n",
              "        buttonEl.style.display =\n",
              "          google.colab.kernel.accessAllowed ? 'block' : 'none';\n",
              "\n",
              "        async function convertToInteractive(key) {\n",
              "          const element = document.querySelector('#df-4237966b-51d4-44d8-bc7d-3b84ad7d5fec');\n",
              "          const dataTable =\n",
              "            await google.colab.kernel.invokeFunction('convertToInteractive',\n",
              "                                                     [key], {});\n",
              "          if (!dataTable) return;\n",
              "\n",
              "          const docLinkHtml = 'Like what you see? Visit the ' +\n",
              "            '<a target=\"_blank\" href=https://colab.research.google.com/notebooks/data_table.ipynb>data table notebook</a>'\n",
              "            + ' to learn more about interactive tables.';\n",
              "          element.innerHTML = '';\n",
              "          dataTable['output_type'] = 'display_data';\n",
              "          await google.colab.output.renderOutput(dataTable, element);\n",
              "          const docLink = document.createElement('div');\n",
              "          docLink.innerHTML = docLinkHtml;\n",
              "          element.appendChild(docLink);\n",
              "        }\n",
              "      </script>\n",
              "    </div>\n",
              "  </div>\n"
            ]
          },
          "metadata": {},
          "execution_count": 301
        }
      ]
    },
    {
      "cell_type": "code",
      "source": [
        "# Гипотеза 1: Проверяем сколько у нас позиций с заказами и средний заказ за весь период\n",
        "df.groupby(['Ozon_ID','Акции'])[['Заказано_товаров_1']].agg(['count','mean']).sort_values(by=('Заказано_товаров_1', 'mean'),ascending=False).head(15)\n"
      ],
      "metadata": {
        "colab": {
          "base_uri": "https://localhost:8080/",
          "height": 582
        },
        "id": "05oLkJX4D0fE",
        "outputId": "0ce684dd-700a-4694-9db8-5c31a1803af9"
      },
      "execution_count": null,
      "outputs": [
        {
          "output_type": "execute_result",
          "data": {
            "text/plain": [
              "                Заказано_товаров_1          \n",
              "                             count      mean\n",
              "Ozon_ID   Акции                             \n",
              "800183940 1                     39  5.948718\n",
              "556497014 1                     87  3.862069\n",
              "664763420 1                     55  2.581818\n",
              "510826421 1                     58  2.517241\n",
              "800183936 1                     48  2.375000\n",
              "510826421 0                    310  2.219355\n",
              "556497014 0                    281  2.099644\n",
              "260919692 1                     62  2.096774\n",
              "664773227 1                     43  2.046512\n",
              "511572185 1                      2  2.000000\n",
              "511572010 1                     45  2.000000\n",
              "664763759 1                     22  2.000000\n",
              "511572364 1                     73  1.835616\n",
              "800183940 0                    150  1.733333\n",
              "763831480 1                     82  1.609756"
            ],
            "text/html": [
              "\n",
              "\n",
              "  <div id=\"df-d11ff471-9881-4fc0-95f7-7cb4d62e2af7\">\n",
              "    <div class=\"colab-df-container\">\n",
              "      <div>\n",
              "<style scoped>\n",
              "    .dataframe tbody tr th:only-of-type {\n",
              "        vertical-align: middle;\n",
              "    }\n",
              "\n",
              "    .dataframe tbody tr th {\n",
              "        vertical-align: top;\n",
              "    }\n",
              "\n",
              "    .dataframe thead tr th {\n",
              "        text-align: left;\n",
              "    }\n",
              "\n",
              "    .dataframe thead tr:last-of-type th {\n",
              "        text-align: right;\n",
              "    }\n",
              "</style>\n",
              "<table border=\"1\" class=\"dataframe\">\n",
              "  <thead>\n",
              "    <tr>\n",
              "      <th></th>\n",
              "      <th></th>\n",
              "      <th colspan=\"2\" halign=\"left\">Заказано_товаров_1</th>\n",
              "    </tr>\n",
              "    <tr>\n",
              "      <th></th>\n",
              "      <th></th>\n",
              "      <th>count</th>\n",
              "      <th>mean</th>\n",
              "    </tr>\n",
              "    <tr>\n",
              "      <th>Ozon_ID</th>\n",
              "      <th>Акции</th>\n",
              "      <th></th>\n",
              "      <th></th>\n",
              "    </tr>\n",
              "  </thead>\n",
              "  <tbody>\n",
              "    <tr>\n",
              "      <th>800183940</th>\n",
              "      <th>1</th>\n",
              "      <td>39</td>\n",
              "      <td>5.948718</td>\n",
              "    </tr>\n",
              "    <tr>\n",
              "      <th>556497014</th>\n",
              "      <th>1</th>\n",
              "      <td>87</td>\n",
              "      <td>3.862069</td>\n",
              "    </tr>\n",
              "    <tr>\n",
              "      <th>664763420</th>\n",
              "      <th>1</th>\n",
              "      <td>55</td>\n",
              "      <td>2.581818</td>\n",
              "    </tr>\n",
              "    <tr>\n",
              "      <th>510826421</th>\n",
              "      <th>1</th>\n",
              "      <td>58</td>\n",
              "      <td>2.517241</td>\n",
              "    </tr>\n",
              "    <tr>\n",
              "      <th>800183936</th>\n",
              "      <th>1</th>\n",
              "      <td>48</td>\n",
              "      <td>2.375000</td>\n",
              "    </tr>\n",
              "    <tr>\n",
              "      <th>510826421</th>\n",
              "      <th>0</th>\n",
              "      <td>310</td>\n",
              "      <td>2.219355</td>\n",
              "    </tr>\n",
              "    <tr>\n",
              "      <th>556497014</th>\n",
              "      <th>0</th>\n",
              "      <td>281</td>\n",
              "      <td>2.099644</td>\n",
              "    </tr>\n",
              "    <tr>\n",
              "      <th>260919692</th>\n",
              "      <th>1</th>\n",
              "      <td>62</td>\n",
              "      <td>2.096774</td>\n",
              "    </tr>\n",
              "    <tr>\n",
              "      <th>664773227</th>\n",
              "      <th>1</th>\n",
              "      <td>43</td>\n",
              "      <td>2.046512</td>\n",
              "    </tr>\n",
              "    <tr>\n",
              "      <th>511572185</th>\n",
              "      <th>1</th>\n",
              "      <td>2</td>\n",
              "      <td>2.000000</td>\n",
              "    </tr>\n",
              "    <tr>\n",
              "      <th>511572010</th>\n",
              "      <th>1</th>\n",
              "      <td>45</td>\n",
              "      <td>2.000000</td>\n",
              "    </tr>\n",
              "    <tr>\n",
              "      <th>664763759</th>\n",
              "      <th>1</th>\n",
              "      <td>22</td>\n",
              "      <td>2.000000</td>\n",
              "    </tr>\n",
              "    <tr>\n",
              "      <th>511572364</th>\n",
              "      <th>1</th>\n",
              "      <td>73</td>\n",
              "      <td>1.835616</td>\n",
              "    </tr>\n",
              "    <tr>\n",
              "      <th>800183940</th>\n",
              "      <th>0</th>\n",
              "      <td>150</td>\n",
              "      <td>1.733333</td>\n",
              "    </tr>\n",
              "    <tr>\n",
              "      <th>763831480</th>\n",
              "      <th>1</th>\n",
              "      <td>82</td>\n",
              "      <td>1.609756</td>\n",
              "    </tr>\n",
              "  </tbody>\n",
              "</table>\n",
              "</div>\n",
              "      <button class=\"colab-df-convert\" onclick=\"convertToInteractive('df-d11ff471-9881-4fc0-95f7-7cb4d62e2af7')\"\n",
              "              title=\"Convert this dataframe to an interactive table.\"\n",
              "              style=\"display:none;\">\n",
              "\n",
              "  <svg xmlns=\"http://www.w3.org/2000/svg\" height=\"24px\"viewBox=\"0 0 24 24\"\n",
              "       width=\"24px\">\n",
              "    <path d=\"M0 0h24v24H0V0z\" fill=\"none\"/>\n",
              "    <path d=\"M18.56 5.44l.94 2.06.94-2.06 2.06-.94-2.06-.94-.94-2.06-.94 2.06-2.06.94zm-11 1L8.5 8.5l.94-2.06 2.06-.94-2.06-.94L8.5 2.5l-.94 2.06-2.06.94zm10 10l.94 2.06.94-2.06 2.06-.94-2.06-.94-.94-2.06-.94 2.06-2.06.94z\"/><path d=\"M17.41 7.96l-1.37-1.37c-.4-.4-.92-.59-1.43-.59-.52 0-1.04.2-1.43.59L10.3 9.45l-7.72 7.72c-.78.78-.78 2.05 0 2.83L4 21.41c.39.39.9.59 1.41.59.51 0 1.02-.2 1.41-.59l7.78-7.78 2.81-2.81c.8-.78.8-2.07 0-2.86zM5.41 20L4 18.59l7.72-7.72 1.47 1.35L5.41 20z\"/>\n",
              "  </svg>\n",
              "      </button>\n",
              "\n",
              "\n",
              "\n",
              "    <div id=\"df-c44da3ff-e4cc-4773-b961-d87696b90089\">\n",
              "      <button class=\"colab-df-quickchart\" onclick=\"quickchart('df-c44da3ff-e4cc-4773-b961-d87696b90089')\"\n",
              "              title=\"Suggest charts.\"\n",
              "              style=\"display:none;\">\n",
              "\n",
              "<svg xmlns=\"http://www.w3.org/2000/svg\" height=\"24px\"viewBox=\"0 0 24 24\"\n",
              "     width=\"24px\">\n",
              "    <g>\n",
              "        <path d=\"M19 3H5c-1.1 0-2 .9-2 2v14c0 1.1.9 2 2 2h14c1.1 0 2-.9 2-2V5c0-1.1-.9-2-2-2zM9 17H7v-7h2v7zm4 0h-2V7h2v10zm4 0h-2v-4h2v4z\"/>\n",
              "    </g>\n",
              "</svg>\n",
              "      </button>\n",
              "    </div>\n",
              "\n",
              "<style>\n",
              "  .colab-df-quickchart {\n",
              "    background-color: #E8F0FE;\n",
              "    border: none;\n",
              "    border-radius: 50%;\n",
              "    cursor: pointer;\n",
              "    display: none;\n",
              "    fill: #1967D2;\n",
              "    height: 32px;\n",
              "    padding: 0 0 0 0;\n",
              "    width: 32px;\n",
              "  }\n",
              "\n",
              "  .colab-df-quickchart:hover {\n",
              "    background-color: #E2EBFA;\n",
              "    box-shadow: 0px 1px 2px rgba(60, 64, 67, 0.3), 0px 1px 3px 1px rgba(60, 64, 67, 0.15);\n",
              "    fill: #174EA6;\n",
              "  }\n",
              "\n",
              "  [theme=dark] .colab-df-quickchart {\n",
              "    background-color: #3B4455;\n",
              "    fill: #D2E3FC;\n",
              "  }\n",
              "\n",
              "  [theme=dark] .colab-df-quickchart:hover {\n",
              "    background-color: #434B5C;\n",
              "    box-shadow: 0px 1px 3px 1px rgba(0, 0, 0, 0.15);\n",
              "    filter: drop-shadow(0px 1px 2px rgba(0, 0, 0, 0.3));\n",
              "    fill: #FFFFFF;\n",
              "  }\n",
              "</style>\n",
              "\n",
              "    <script>\n",
              "      async function quickchart(key) {\n",
              "        const containerElement = document.querySelector('#' + key);\n",
              "        const charts = await google.colab.kernel.invokeFunction(\n",
              "            'suggestCharts', [key], {});\n",
              "      }\n",
              "    </script>\n",
              "\n",
              "      <script>\n",
              "\n",
              "function displayQuickchartButton(domScope) {\n",
              "  let quickchartButtonEl =\n",
              "    domScope.querySelector('#df-c44da3ff-e4cc-4773-b961-d87696b90089 button.colab-df-quickchart');\n",
              "  quickchartButtonEl.style.display =\n",
              "    google.colab.kernel.accessAllowed ? 'block' : 'none';\n",
              "}\n",
              "\n",
              "        displayQuickchartButton(document);\n",
              "      </script>\n",
              "      <style>\n",
              "    .colab-df-container {\n",
              "      display:flex;\n",
              "      flex-wrap:wrap;\n",
              "      gap: 12px;\n",
              "    }\n",
              "\n",
              "    .colab-df-convert {\n",
              "      background-color: #E8F0FE;\n",
              "      border: none;\n",
              "      border-radius: 50%;\n",
              "      cursor: pointer;\n",
              "      display: none;\n",
              "      fill: #1967D2;\n",
              "      height: 32px;\n",
              "      padding: 0 0 0 0;\n",
              "      width: 32px;\n",
              "    }\n",
              "\n",
              "    .colab-df-convert:hover {\n",
              "      background-color: #E2EBFA;\n",
              "      box-shadow: 0px 1px 2px rgba(60, 64, 67, 0.3), 0px 1px 3px 1px rgba(60, 64, 67, 0.15);\n",
              "      fill: #174EA6;\n",
              "    }\n",
              "\n",
              "    [theme=dark] .colab-df-convert {\n",
              "      background-color: #3B4455;\n",
              "      fill: #D2E3FC;\n",
              "    }\n",
              "\n",
              "    [theme=dark] .colab-df-convert:hover {\n",
              "      background-color: #434B5C;\n",
              "      box-shadow: 0px 1px 3px 1px rgba(0, 0, 0, 0.15);\n",
              "      filter: drop-shadow(0px 1px 2px rgba(0, 0, 0, 0.3));\n",
              "      fill: #FFFFFF;\n",
              "    }\n",
              "  </style>\n",
              "\n",
              "      <script>\n",
              "        const buttonEl =\n",
              "          document.querySelector('#df-d11ff471-9881-4fc0-95f7-7cb4d62e2af7 button.colab-df-convert');\n",
              "        buttonEl.style.display =\n",
              "          google.colab.kernel.accessAllowed ? 'block' : 'none';\n",
              "\n",
              "        async function convertToInteractive(key) {\n",
              "          const element = document.querySelector('#df-d11ff471-9881-4fc0-95f7-7cb4d62e2af7');\n",
              "          const dataTable =\n",
              "            await google.colab.kernel.invokeFunction('convertToInteractive',\n",
              "                                                     [key], {});\n",
              "          if (!dataTable) return;\n",
              "\n",
              "          const docLinkHtml = 'Like what you see? Visit the ' +\n",
              "            '<a target=\"_blank\" href=https://colab.research.google.com/notebooks/data_table.ipynb>data table notebook</a>'\n",
              "            + ' to learn more about interactive tables.';\n",
              "          element.innerHTML = '';\n",
              "          dataTable['output_type'] = 'display_data';\n",
              "          await google.colab.output.renderOutput(dataTable, element);\n",
              "          const docLink = document.createElement('div');\n",
              "          docLink.innerHTML = docLinkHtml;\n",
              "          element.appendChild(docLink);\n",
              "        }\n",
              "      </script>\n",
              "    </div>\n",
              "  </div>\n"
            ]
          },
          "metadata": {},
          "execution_count": 302
        }
      ]
    },
    {
      "cell_type": "markdown",
      "source": [
        "Вывод:"
      ],
      "metadata": {
        "id": "uIPRVL1TFlez"
      }
    },
    {
      "cell_type": "code",
      "source": [
        "len(df)"
      ],
      "metadata": {
        "colab": {
          "base_uri": "https://localhost:8080/"
        },
        "id": "NfwFuTI3Nka0",
        "outputId": "2aadd6c4-940a-4d88-ad19-7b9ef5f6c019"
      },
      "execution_count": null,
      "outputs": [
        {
          "output_type": "execute_result",
          "data": {
            "text/plain": [
              "241301"
            ]
          },
          "metadata": {},
          "execution_count": 303
        }
      ]
    },
    {
      "cell_type": "code",
      "source": [
        "# Гипотеза 2: Проверяем сколько у нас позиций с заказами и средний заказ за весь период\n",
        "df.groupby(['Ozon_ID','Акции'])[['Заказано_товаров_2']].agg(['count','mean']).sort_values(by=('Заказано_товаров_2', 'mean'),ascending=False)\n"
      ],
      "metadata": {
        "colab": {
          "base_uri": "https://localhost:8080/",
          "height": 486
        },
        "id": "_8cdgpPyF88g",
        "outputId": "6a360188-521c-43a1-cd32-7ac5696ce9a7"
      },
      "execution_count": null,
      "outputs": [
        {
          "output_type": "execute_result",
          "data": {
            "text/plain": [
              "                Заказано_товаров_2          \n",
              "                             count      mean\n",
              "Ozon_ID   Акции                             \n",
              "800183940 1                     39  2.974359\n",
              "556497014 1                     87  1.931034\n",
              "664763420 1                     55  1.290909\n",
              "510826421 1                     58  1.258621\n",
              "800183936 1                     48  1.187500\n",
              "...                            ...       ...\n",
              "522647043 0                    236  0.000000\n",
              "522647045 0                    302  0.000000\n",
              "          1                     50  0.000000\n",
              "500439886 1                     39  0.000000\n",
              "512115649 0                    295  0.000000\n",
              "\n",
              "[1756 rows x 2 columns]"
            ],
            "text/html": [
              "\n",
              "\n",
              "  <div id=\"df-859d01e2-54d3-4c77-94b2-10ab0450643f\">\n",
              "    <div class=\"colab-df-container\">\n",
              "      <div>\n",
              "<style scoped>\n",
              "    .dataframe tbody tr th:only-of-type {\n",
              "        vertical-align: middle;\n",
              "    }\n",
              "\n",
              "    .dataframe tbody tr th {\n",
              "        vertical-align: top;\n",
              "    }\n",
              "\n",
              "    .dataframe thead tr th {\n",
              "        text-align: left;\n",
              "    }\n",
              "\n",
              "    .dataframe thead tr:last-of-type th {\n",
              "        text-align: right;\n",
              "    }\n",
              "</style>\n",
              "<table border=\"1\" class=\"dataframe\">\n",
              "  <thead>\n",
              "    <tr>\n",
              "      <th></th>\n",
              "      <th></th>\n",
              "      <th colspan=\"2\" halign=\"left\">Заказано_товаров_2</th>\n",
              "    </tr>\n",
              "    <tr>\n",
              "      <th></th>\n",
              "      <th></th>\n",
              "      <th>count</th>\n",
              "      <th>mean</th>\n",
              "    </tr>\n",
              "    <tr>\n",
              "      <th>Ozon_ID</th>\n",
              "      <th>Акции</th>\n",
              "      <th></th>\n",
              "      <th></th>\n",
              "    </tr>\n",
              "  </thead>\n",
              "  <tbody>\n",
              "    <tr>\n",
              "      <th>800183940</th>\n",
              "      <th>1</th>\n",
              "      <td>39</td>\n",
              "      <td>2.974359</td>\n",
              "    </tr>\n",
              "    <tr>\n",
              "      <th>556497014</th>\n",
              "      <th>1</th>\n",
              "      <td>87</td>\n",
              "      <td>1.931034</td>\n",
              "    </tr>\n",
              "    <tr>\n",
              "      <th>664763420</th>\n",
              "      <th>1</th>\n",
              "      <td>55</td>\n",
              "      <td>1.290909</td>\n",
              "    </tr>\n",
              "    <tr>\n",
              "      <th>510826421</th>\n",
              "      <th>1</th>\n",
              "      <td>58</td>\n",
              "      <td>1.258621</td>\n",
              "    </tr>\n",
              "    <tr>\n",
              "      <th>800183936</th>\n",
              "      <th>1</th>\n",
              "      <td>48</td>\n",
              "      <td>1.187500</td>\n",
              "    </tr>\n",
              "    <tr>\n",
              "      <th>...</th>\n",
              "      <th>...</th>\n",
              "      <td>...</td>\n",
              "      <td>...</td>\n",
              "    </tr>\n",
              "    <tr>\n",
              "      <th>522647043</th>\n",
              "      <th>0</th>\n",
              "      <td>236</td>\n",
              "      <td>0.000000</td>\n",
              "    </tr>\n",
              "    <tr>\n",
              "      <th rowspan=\"2\" valign=\"top\">522647045</th>\n",
              "      <th>0</th>\n",
              "      <td>302</td>\n",
              "      <td>0.000000</td>\n",
              "    </tr>\n",
              "    <tr>\n",
              "      <th>1</th>\n",
              "      <td>50</td>\n",
              "      <td>0.000000</td>\n",
              "    </tr>\n",
              "    <tr>\n",
              "      <th>500439886</th>\n",
              "      <th>1</th>\n",
              "      <td>39</td>\n",
              "      <td>0.000000</td>\n",
              "    </tr>\n",
              "    <tr>\n",
              "      <th>512115649</th>\n",
              "      <th>0</th>\n",
              "      <td>295</td>\n",
              "      <td>0.000000</td>\n",
              "    </tr>\n",
              "  </tbody>\n",
              "</table>\n",
              "<p>1756 rows × 2 columns</p>\n",
              "</div>\n",
              "      <button class=\"colab-df-convert\" onclick=\"convertToInteractive('df-859d01e2-54d3-4c77-94b2-10ab0450643f')\"\n",
              "              title=\"Convert this dataframe to an interactive table.\"\n",
              "              style=\"display:none;\">\n",
              "\n",
              "  <svg xmlns=\"http://www.w3.org/2000/svg\" height=\"24px\"viewBox=\"0 0 24 24\"\n",
              "       width=\"24px\">\n",
              "    <path d=\"M0 0h24v24H0V0z\" fill=\"none\"/>\n",
              "    <path d=\"M18.56 5.44l.94 2.06.94-2.06 2.06-.94-2.06-.94-.94-2.06-.94 2.06-2.06.94zm-11 1L8.5 8.5l.94-2.06 2.06-.94-2.06-.94L8.5 2.5l-.94 2.06-2.06.94zm10 10l.94 2.06.94-2.06 2.06-.94-2.06-.94-.94-2.06-.94 2.06-2.06.94z\"/><path d=\"M17.41 7.96l-1.37-1.37c-.4-.4-.92-.59-1.43-.59-.52 0-1.04.2-1.43.59L10.3 9.45l-7.72 7.72c-.78.78-.78 2.05 0 2.83L4 21.41c.39.39.9.59 1.41.59.51 0 1.02-.2 1.41-.59l7.78-7.78 2.81-2.81c.8-.78.8-2.07 0-2.86zM5.41 20L4 18.59l7.72-7.72 1.47 1.35L5.41 20z\"/>\n",
              "  </svg>\n",
              "      </button>\n",
              "\n",
              "\n",
              "\n",
              "    <div id=\"df-eba641b8-d3e6-4dbc-b9f4-0dc82b05d208\">\n",
              "      <button class=\"colab-df-quickchart\" onclick=\"quickchart('df-eba641b8-d3e6-4dbc-b9f4-0dc82b05d208')\"\n",
              "              title=\"Suggest charts.\"\n",
              "              style=\"display:none;\">\n",
              "\n",
              "<svg xmlns=\"http://www.w3.org/2000/svg\" height=\"24px\"viewBox=\"0 0 24 24\"\n",
              "     width=\"24px\">\n",
              "    <g>\n",
              "        <path d=\"M19 3H5c-1.1 0-2 .9-2 2v14c0 1.1.9 2 2 2h14c1.1 0 2-.9 2-2V5c0-1.1-.9-2-2-2zM9 17H7v-7h2v7zm4 0h-2V7h2v10zm4 0h-2v-4h2v4z\"/>\n",
              "    </g>\n",
              "</svg>\n",
              "      </button>\n",
              "    </div>\n",
              "\n",
              "<style>\n",
              "  .colab-df-quickchart {\n",
              "    background-color: #E8F0FE;\n",
              "    border: none;\n",
              "    border-radius: 50%;\n",
              "    cursor: pointer;\n",
              "    display: none;\n",
              "    fill: #1967D2;\n",
              "    height: 32px;\n",
              "    padding: 0 0 0 0;\n",
              "    width: 32px;\n",
              "  }\n",
              "\n",
              "  .colab-df-quickchart:hover {\n",
              "    background-color: #E2EBFA;\n",
              "    box-shadow: 0px 1px 2px rgba(60, 64, 67, 0.3), 0px 1px 3px 1px rgba(60, 64, 67, 0.15);\n",
              "    fill: #174EA6;\n",
              "  }\n",
              "\n",
              "  [theme=dark] .colab-df-quickchart {\n",
              "    background-color: #3B4455;\n",
              "    fill: #D2E3FC;\n",
              "  }\n",
              "\n",
              "  [theme=dark] .colab-df-quickchart:hover {\n",
              "    background-color: #434B5C;\n",
              "    box-shadow: 0px 1px 3px 1px rgba(0, 0, 0, 0.15);\n",
              "    filter: drop-shadow(0px 1px 2px rgba(0, 0, 0, 0.3));\n",
              "    fill: #FFFFFF;\n",
              "  }\n",
              "</style>\n",
              "\n",
              "    <script>\n",
              "      async function quickchart(key) {\n",
              "        const containerElement = document.querySelector('#' + key);\n",
              "        const charts = await google.colab.kernel.invokeFunction(\n",
              "            'suggestCharts', [key], {});\n",
              "      }\n",
              "    </script>\n",
              "\n",
              "      <script>\n",
              "\n",
              "function displayQuickchartButton(domScope) {\n",
              "  let quickchartButtonEl =\n",
              "    domScope.querySelector('#df-eba641b8-d3e6-4dbc-b9f4-0dc82b05d208 button.colab-df-quickchart');\n",
              "  quickchartButtonEl.style.display =\n",
              "    google.colab.kernel.accessAllowed ? 'block' : 'none';\n",
              "}\n",
              "\n",
              "        displayQuickchartButton(document);\n",
              "      </script>\n",
              "      <style>\n",
              "    .colab-df-container {\n",
              "      display:flex;\n",
              "      flex-wrap:wrap;\n",
              "      gap: 12px;\n",
              "    }\n",
              "\n",
              "    .colab-df-convert {\n",
              "      background-color: #E8F0FE;\n",
              "      border: none;\n",
              "      border-radius: 50%;\n",
              "      cursor: pointer;\n",
              "      display: none;\n",
              "      fill: #1967D2;\n",
              "      height: 32px;\n",
              "      padding: 0 0 0 0;\n",
              "      width: 32px;\n",
              "    }\n",
              "\n",
              "    .colab-df-convert:hover {\n",
              "      background-color: #E2EBFA;\n",
              "      box-shadow: 0px 1px 2px rgba(60, 64, 67, 0.3), 0px 1px 3px 1px rgba(60, 64, 67, 0.15);\n",
              "      fill: #174EA6;\n",
              "    }\n",
              "\n",
              "    [theme=dark] .colab-df-convert {\n",
              "      background-color: #3B4455;\n",
              "      fill: #D2E3FC;\n",
              "    }\n",
              "\n",
              "    [theme=dark] .colab-df-convert:hover {\n",
              "      background-color: #434B5C;\n",
              "      box-shadow: 0px 1px 3px 1px rgba(0, 0, 0, 0.15);\n",
              "      filter: drop-shadow(0px 1px 2px rgba(0, 0, 0, 0.3));\n",
              "      fill: #FFFFFF;\n",
              "    }\n",
              "  </style>\n",
              "\n",
              "      <script>\n",
              "        const buttonEl =\n",
              "          document.querySelector('#df-859d01e2-54d3-4c77-94b2-10ab0450643f button.colab-df-convert');\n",
              "        buttonEl.style.display =\n",
              "          google.colab.kernel.accessAllowed ? 'block' : 'none';\n",
              "\n",
              "        async function convertToInteractive(key) {\n",
              "          const element = document.querySelector('#df-859d01e2-54d3-4c77-94b2-10ab0450643f');\n",
              "          const dataTable =\n",
              "            await google.colab.kernel.invokeFunction('convertToInteractive',\n",
              "                                                     [key], {});\n",
              "          if (!dataTable) return;\n",
              "\n",
              "          const docLinkHtml = 'Like what you see? Visit the ' +\n",
              "            '<a target=\"_blank\" href=https://colab.research.google.com/notebooks/data_table.ipynb>data table notebook</a>'\n",
              "            + ' to learn more about interactive tables.';\n",
              "          element.innerHTML = '';\n",
              "          dataTable['output_type'] = 'display_data';\n",
              "          await google.colab.output.renderOutput(dataTable, element);\n",
              "          const docLink = document.createElement('div');\n",
              "          docLink.innerHTML = docLinkHtml;\n",
              "          element.appendChild(docLink);\n",
              "        }\n",
              "      </script>\n",
              "    </div>\n",
              "  </div>\n"
            ]
          },
          "metadata": {},
          "execution_count": 261
        }
      ]
    },
    {
      "cell_type": "code",
      "source": [
        "df.to_csv('/content/drive/MyDrive/AI-EDU/act_graf-done.csv', sep=';', index=False)"
      ],
      "metadata": {
        "id": "S-3MGOls6Ws5"
      },
      "execution_count": null,
      "outputs": []
    },
    {
      "cell_type": "code",
      "source": [
        "df1 = df.copy()\n",
        "df2 = df.copy()"
      ],
      "metadata": {
        "id": "a563yzHLSv1p"
      },
      "execution_count": null,
      "outputs": []
    },
    {
      "cell_type": "code",
      "source": [
        "def kill_columns2(df_,gip):\n",
        "  # Цикл для удаления столбцов\n",
        "  for column in df.columns:\n",
        "      if gip in column:\n",
        "          df_.drop(column, axis=1, inplace=True)\n",
        "  return df_.copy()\n"
      ],
      "metadata": {
        "id": "JLJvdBDxx47F"
      },
      "execution_count": null,
      "outputs": []
    },
    {
      "cell_type": "code",
      "source": [
        "df1.columns"
      ],
      "metadata": {
        "colab": {
          "base_uri": "https://localhost:8080/"
        },
        "id": "k2g1P682P48H",
        "outputId": "fba0b79d-f4bc-400b-c1bb-d9d75b6ad15a"
      },
      "execution_count": null,
      "outputs": [
        {
          "output_type": "execute_result",
          "data": {
            "text/plain": [
              "Index(['Ozon_ID', 'День', 'Акции', 'Показы_всего_1', 'Показы_всего_2',\n",
              "       'Показы_на_карточке_товара_1', 'Показы_на_карточке_товара_2',\n",
              "       'Показы_в_поиске_и_каталоге_1', 'Показы_в_поиске_и_каталоге_2',\n",
              "       'Позиция_в_поиске_и_каталоге', 'Заказано_товаров_1',\n",
              "       'Заказано_товаров_2'],\n",
              "      dtype='object')"
            ]
          },
          "metadata": {},
          "execution_count": 306
        }
      ]
    },
    {
      "cell_type": "code",
      "source": [
        "df1 = kill_columns2(df1,'_2')"
      ],
      "metadata": {
        "id": "w6y07-TgCFXJ"
      },
      "execution_count": null,
      "outputs": []
    },
    {
      "cell_type": "code",
      "source": [
        "df1.columns"
      ],
      "metadata": {
        "colab": {
          "base_uri": "https://localhost:8080/"
        },
        "id": "KbXR1ADpQBCt",
        "outputId": "53728421-d83b-4767-d967-1727f49bea1f"
      },
      "execution_count": null,
      "outputs": [
        {
          "output_type": "execute_result",
          "data": {
            "text/plain": [
              "Index(['Ozon_ID', 'День', 'Акции', 'Показы_всего_1',\n",
              "       'Показы_на_карточке_товара_1', 'Показы_в_поиске_и_каталоге_1',\n",
              "       'Позиция_в_поиске_и_каталоге', 'Заказано_товаров_1'],\n",
              "      dtype='object')"
            ]
          },
          "metadata": {},
          "execution_count": 311
        }
      ]
    },
    {
      "cell_type": "code",
      "source": [
        "df2 = kill_columns2(df2,'_1')"
      ],
      "metadata": {
        "id": "tJu7K6EETw8A"
      },
      "execution_count": null,
      "outputs": []
    },
    {
      "cell_type": "code",
      "source": [
        "df2.columns"
      ],
      "metadata": {
        "colab": {
          "base_uri": "https://localhost:8080/"
        },
        "id": "YQ2YB21aSejx",
        "outputId": "8a7da462-dbfe-4e7d-db0b-014c60ce5315"
      },
      "execution_count": null,
      "outputs": [
        {
          "output_type": "execute_result",
          "data": {
            "text/plain": [
              "Index(['Ozon_ID', 'День', 'Акции', 'Показы_всего_2',\n",
              "       'Показы_на_карточке_товара_2', 'Показы_в_поиске_и_каталоге_2',\n",
              "       'Позиция_в_поиске_и_каталоге', 'Заказано_товаров_2'],\n",
              "      dtype='object')"
            ]
          },
          "metadata": {},
          "execution_count": 314
        }
      ]
    },
    {
      "cell_type": "markdown",
      "source": [
        "## Корреляции"
      ],
      "metadata": {
        "id": "6pnHsoE3Xrwy"
      }
    },
    {
      "cell_type": "code",
      "source": [
        "phik_overview = df1.phik_matrix()"
      ],
      "metadata": {
        "id": "RobqJJb76Jop"
      },
      "execution_count": null,
      "outputs": []
    },
    {
      "cell_type": "code",
      "source": [
        "sns.heatmap(phik_overview)"
      ],
      "metadata": {
        "id": "1X9OG2tz6QAU",
        "colab": {
          "base_uri": "https://localhost:8080/",
          "height": 672
        },
        "outputId": "75a839ab-d080-4e76-ef55-80ef245cda9f"
      },
      "execution_count": null,
      "outputs": [
        {
          "output_type": "execute_result",
          "data": {
            "text/plain": [
              "<Axes: >"
            ]
          },
          "metadata": {},
          "execution_count": 319
        },
        {
          "output_type": "display_data",
          "data": {
            "text/plain": [
              "<Figure size 640x480 with 2 Axes>"
            ],
            "image/png": "[encoded data removed]"
          },
          "metadata": {}
        }
      ]
    },
    {
      "cell_type": "code",
      "source": [
        "columns = ['Показы_всего_1', 'Показы_на_карточке_товара_1', 'Показы_в_поиске_и_каталоге_1', 'Позиция_в_поиске_и_каталоге', 'Заказано_товаров_1']\n",
        "phik_overview = df2.phik_matrix(df2[columns], method='phi', normalize=True) # так и не понял, почему ошибка"
      ],
      "metadata": {
        "id": "9_2iopP_U0KQ"
      },
      "execution_count": null,
      "outputs": []
    },
    {
      "cell_type": "code",
      "source": [
        "sns.heatmap(phik_overview)"
      ],
      "metadata": {
        "id": "81yOslbRUw5I"
      },
      "execution_count": null,
      "outputs": []
    }
  ],
  "metadata": {
    "colab": {
      "provenance": [],
      "collapsed_sections": [
        "39zJTivLrXFV",
        "_z8JbiN75whQ",
        "zfi_Ted-9bn9"
      ],
      "name": "data_analitics_for_ingate_step-1.ipynb",
      "include_colab_link": true
    },
    "kernelspec": {
      "display_name": "Python 3",
      "name": "python3"
    },
    "language_info": {
      "codemirror_mode": {
        "name": "ipython",
        "version": 3
      },
      "file_extension": ".py",
      "mimetype": "text/x-python",
      "name": "python",
      "nbconvert_exporter": "python",
      "pygments_lexer": "ipython3",
      "version": "3.11.0"
    },
    "accelerator": "TPU"
  },
  "nbformat": 4,
  "nbformat_minor": 0
}