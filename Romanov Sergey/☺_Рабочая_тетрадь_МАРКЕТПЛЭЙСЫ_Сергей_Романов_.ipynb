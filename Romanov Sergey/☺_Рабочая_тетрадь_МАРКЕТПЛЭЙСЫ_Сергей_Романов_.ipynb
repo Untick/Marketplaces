{
  "nbformat": 4,
  "nbformat_minor": 0,
  "metadata": {
    "colab": {
      "provenance": [],
      "authorship_tag": "ABX9TyM6xt74dWfWaJexPY2Xx+sU",
      "include_colab_link": true
    },
    "kernelspec": {
      "name": "python3",
      "display_name": "Python 3"
    },
    "language_info": {
      "name": "python"
    }
  },
  "cells": [
    {
      "cell_type": "markdown",
      "metadata": {
        "id": "view-in-github",
        "colab_type": "text"
      },
      "source": [
        "<a href=\"https://colab.research.google.com/github/Untick/Marketplaces/blob/Romanov-Sergey-branch/Romanov%20Sergey/%E2%98%BA_%D0%A0%D0%B0%D0%B1%D0%BE%D1%87%D0%B0%D1%8F_%D1%82%D0%B5%D1%82%D1%80%D0%B0%D0%B4%D1%8C_%D0%9C%D0%90%D0%A0%D0%9A%D0%95%D0%A2%D0%9F%D0%9B%D0%AD%D0%99%D0%A1%D0%AB_%D0%A1%D0%B5%D1%80%D0%B3%D0%B5%D0%B9_%D0%A0%D0%BE%D0%BC%D0%B0%D0%BD%D0%BE%D0%B2_.ipynb\" target=\"_parent\"><img src=\"https://colab.research.google.com/assets/colab-badge.svg\" alt=\"Open In Colab\"/></a>"
      ]
    },
    {
      "cell_type": "code",
      "execution_count": null,
      "metadata": {
        "id": "aKCqsS_a28EI"
      },
      "outputs": [],
      "source": []
    }
  ]
}